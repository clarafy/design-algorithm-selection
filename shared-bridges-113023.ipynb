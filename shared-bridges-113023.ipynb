{
 "cells": [
  {
   "cell_type": "code",
   "execution_count": 1,
   "id": "3a7bf811",
   "metadata": {},
   "outputs": [
    {
     "name": "stdout",
     "output_type": "stream",
     "text": [
      "True\n"
     ]
    },
    {
     "name": "stderr",
     "output_type": "stream",
     "text": [
      "2023-12-15 21:54:38.697170: I tensorflow/tsl/cuda/cudart_stub.cc:28] Could not find cuda drivers on your machine, GPU will not be used.\n",
      "2023-12-15 21:54:38.744920: E tensorflow/compiler/xla/stream_executor/cuda/cuda_dnn.cc:9342] Unable to register cuDNN factory: Attempting to register factory for plugin cuDNN when one has already been registered\n",
      "2023-12-15 21:54:38.744945: E tensorflow/compiler/xla/stream_executor/cuda/cuda_fft.cc:609] Unable to register cuFFT factory: Attempting to register factory for plugin cuFFT when one has already been registered\n",
      "2023-12-15 21:54:38.744975: E tensorflow/compiler/xla/stream_executor/cuda/cuda_blas.cc:1518] Unable to register cuBLAS factory: Attempting to register factory for plugin cuBLAS when one has already been registered\n",
      "2023-12-15 21:54:38.753783: I tensorflow/core/platform/cpu_feature_guard.cc:182] This TensorFlow binary is optimized to use available CPU instructions in performance-critical operations.\n",
      "To enable the following instructions: AVX2 FMA, in other operations, rebuild TensorFlow with the appropriate compiler flags.\n",
      "2023-12-15 21:54:40.960784: W tensorflow/compiler/tf2tensorrt/utils/py_utils.cc:38] TF-TRT Warning: Could not find TensorRT\n"
     ]
    },
    {
     "data": {
      "application/javascript": [
       "if (!(\"Notification\" in window)) {\n",
       "    alert(\"This browser does not support desktop notifications, so the %%notify magic will not work.\");\n",
       "} else if (Notification.permission !== 'granted' && Notification.permission !== 'denied') {\n",
       "    Notification.requestPermission(function (permission) {\n",
       "        if(!('permission' in Notification)) {\n",
       "            Notification.permission = permission;\n",
       "        }\n",
       "    })\n",
       "}\n"
      ],
      "text/plain": [
       "<IPython.core.display.Javascript object>"
      ]
     },
     "metadata": {},
     "output_type": "display_data"
    }
   ],
   "source": [
    "from importlib import reload\n",
    "import os\n",
    "from time import time\n",
    "\n",
    "import numpy as np\n",
    "import scipy as sc\n",
    "import pandas as pd\n",
    "from sklearn.neighbors import KernelDensity\n",
    "from sklearn.decomposition import PCA\n",
    "from statsmodels.stats.weightstats import _zstat_generic\n",
    "\n",
    "import torch\n",
    "print(torch.cuda.is_available())\n",
    "\n",
    "import pprint\n",
    "import editdistance\n",
    "\n",
    "import utils\n",
    "import tdre\n",
    "import shifts\n",
    "import viennarna_shifts as vshifts\n",
    "import calibrate as cal\n",
    "\n",
    "\n",
    "import flexs\n",
    "import flexs.utils.sequence_utils as s_utils\n",
    "\n",
    "import matplotlib.pyplot as plt\n",
    "import seaborn as sns\n",
    "import matplotlib\n",
    "\n",
    "import jupyternotify\n",
    "ip = get_ipython()\n",
    "ip.register_magics(jupyternotify.JupyterNotifyMagics)"
   ]
  },
  {
   "cell_type": "code",
   "execution_count": 45,
   "id": "b2fce8b1",
   "metadata": {},
   "outputs": [
    {
     "name": "stdout",
     "output_type": "stream",
     "text": [
      "Problem has sequence length 50\n",
      "Loading waymarks in the following order for k = 0, 1, ... where k = 0 is the target design distribution.\n",
      "[0.01, 0.05, 0.1, 0.2, 0.3, 0.4, 0.5]\n",
      "Loading from /data/wongfanc/dre-data/data/112823/L50_RNA1/trial0/seed4-n5000-nmut4-threshold0.01.npz\n",
      "Loading from /data/wongfanc/dre-data/data/112823/L50_RNA1/trial0/seed4-n5000-nmut4-threshold0.05.npz\n",
      "Loading from /data/wongfanc/dre-data/data/112823/L50_RNA1/trial0/seed4-n5000-nmut4-threshold0.1.npz\n",
      "Loading from /data/wongfanc/dre-data/data/112823/L50_RNA1/trial0/seed4-n5000-nmut4-threshold0.2.npz\n",
      "Loading from /data/wongfanc/dre-data/data/112823/L50_RNA1/trial0/seed4-n5000-nmut4-threshold0.3.npz\n",
      "Loading from /data/wongfanc/dre-data/data/112823/L50_RNA1/trial0/seed4-n5000-nmut4-threshold0.4.npz\n",
      "Loading from /data/wongfanc/dre-data/data/112823/L50_RNA1/trial0/seed4-n5000-nmut4-threshold0.5.npz\n",
      "(8, 5000, 200)\n",
      "X_m1xnxd is shape (8, 5000, 200). 7 waymarks provided\n"
     ]
    },
    {
     "name": "stderr",
     "output_type": "stream",
     "text": [
      "100%|██████████████████████████████████████████████████████████████████████████████████████████████████████████████████████████████████████████████████████| 1000/1000 [00:02<00:00, 349.54it/s]\n"
     ]
    },
    {
     "name": "stdout",
     "output_type": "stream",
     "text": [
      "Done fitting bridge 1 / 7 (2 s).\n"
     ]
    },
    {
     "name": "stderr",
     "output_type": "stream",
     "text": [
      "100%|██████████████████████████████████████████████████████████████████████████████████████████████████████████████████████████████████████████████████████| 1000/1000 [00:02<00:00, 349.63it/s]\n"
     ]
    },
    {
     "name": "stdout",
     "output_type": "stream",
     "text": [
      "Done fitting bridge 2 / 7 (5 s).\n"
     ]
    },
    {
     "name": "stderr",
     "output_type": "stream",
     "text": [
      "100%|██████████████████████████████████████████████████████████████████████████████████████████████████████████████████████████████████████████████████████| 1000/1000 [00:02<00:00, 346.58it/s]\n"
     ]
    },
    {
     "name": "stdout",
     "output_type": "stream",
     "text": [
      "Done fitting bridge 3 / 7 (8 s).\n"
     ]
    },
    {
     "name": "stderr",
     "output_type": "stream",
     "text": [
      "100%|██████████████████████████████████████████████████████████████████████████████████████████████████████████████████████████████████████████████████████| 1000/1000 [00:02<00:00, 350.17it/s]\n"
     ]
    },
    {
     "name": "stdout",
     "output_type": "stream",
     "text": [
      "Done fitting bridge 4 / 7 (11 s).\n"
     ]
    },
    {
     "name": "stderr",
     "output_type": "stream",
     "text": [
      "100%|██████████████████████████████████████████████████████████████████████████████████████████████████████████████████████████████████████████████████████| 1000/1000 [00:02<00:00, 349.95it/s]\n"
     ]
    },
    {
     "name": "stdout",
     "output_type": "stream",
     "text": [
      "Done fitting bridge 5 / 7 (14 s).\n"
     ]
    },
    {
     "name": "stderr",
     "output_type": "stream",
     "text": [
      "100%|██████████████████████████████████████████████████████████████████████████████████████████████████████████████████████████████████████████████████████| 1000/1000 [00:02<00:00, 346.82it/s]\n"
     ]
    },
    {
     "name": "stdout",
     "output_type": "stream",
     "text": [
      "Done fitting bridge 6 / 7 (17 s).\n"
     ]
    },
    {
     "name": "stderr",
     "output_type": "stream",
     "text": [
      "100%|██████████████████████████████████████████████████████████████████████████████████████████████████████████████████████████████████████████████████████| 1000/1000 [00:02<00:00, 346.78it/s]"
     ]
    },
    {
     "name": "stdout",
     "output_type": "stream",
     "text": [
      "Done fitting bridge 7 / 7 (20 s).\n"
     ]
    },
    {
     "name": "stderr",
     "output_type": "stream",
     "text": [
      "\n"
     ]
    },
    {
     "data": {
      "application/javascript": [
       "$(document).ready(\n",
       "    function() {\n",
       "        function appendUniqueDiv(){\n",
       "            // append a div with our uuid so we can check that it's already\n",
       "            // been sent and avoid duplicates on page reload\n",
       "            var notifiedDiv = document.createElement(\"div\")\n",
       "            notifiedDiv.id = \"f88edfa5-c828-4aa0-bd78-1f7b3e6edc4e\"\n",
       "            element.append(notifiedDiv)\n",
       "        }\n",
       "\n",
       "        // only send notifications if the pageload is complete; this will\n",
       "        // help stop extra notifications when a saved notebook is loaded,\n",
       "        // which during testing gives us state \"interactive\", not \"complete\"\n",
       "        if (document.readyState === 'complete') {\n",
       "            // check for the div that signifies that the notification\n",
       "            // was already sent\n",
       "            if (document.getElementById(\"f88edfa5-c828-4aa0-bd78-1f7b3e6edc4e\") === null) {\n",
       "                var notificationPayload = {\"requireInteraction\": false, \"icon\": \"/static/base/images/favicon.ico\", \"body\": \"Cell execution has finished!\"};\n",
       "                if (Notification.permission !== 'denied') {\n",
       "                    if (Notification.permission !== 'granted') { \n",
       "                        Notification.requestPermission(function (permission) {\n",
       "                            if(!('permission' in Notification)) {\n",
       "                                Notification.permission = permission\n",
       "                            }\n",
       "                        })\n",
       "                    }\n",
       "                    if (Notification.permission === 'granted') {\n",
       "                    var notification = new Notification(\"Jupyter Notebook\", notificationPayload)\n",
       "                    appendUniqueDiv()\n",
       "                    notification.onclick = function () {\n",
       "                        window.focus();\n",
       "                        this.close();\n",
       "                        };\n",
       "                    } \n",
       "                }     \n",
       "            }\n",
       "        }\n",
       "    }\n",
       ")\n"
      ],
      "text/plain": [
       "<IPython.core.display.Javascript object>"
      ]
     },
     "metadata": {},
     "output_type": "display_data"
    }
   ],
   "source": [
    "%%notify\n",
    "reload(vshifts)\n",
    "reload(cal)\n",
    "reload(tdre)\n",
    "\n",
    "# data \n",
    "landscape_name = 'L50_RNA1'\n",
    "seed_idx = 4\n",
    "n = 5000\n",
    "N = 5000  # to make TDRE more straightforward\n",
    "avg_n_mut = 4\n",
    "thresholds = [0.01, 0.05, 0.1, 0.2, 0.3, 0.4, 0.5]\n",
    "explorer_kwarg_name2vals = {'threshold': thresholds}\n",
    "save_fname_dir = '112823'\n",
    "trial_idx = 0\n",
    "\n",
    "# TDRE\n",
    "shared = False\n",
    "n_hidden = 16\n",
    "model_class = tdre.FeedForward # tdre.FeedForward\n",
    "config = {\n",
    "    'waymark_type': 'mixed_dimensions',  # dummy value\n",
    "    'val_frac': 0.1,\n",
    "    'n_steps': 1000,\n",
    "    'lr': 1e-3,\n",
    "    'use_weighted_loss': True\n",
    "}\n",
    "model = tdre.TelescopingLogDensityRatioEstimator(\n",
    "    model_class,\n",
    "    50 * 4,\n",
    "    n_ratio=len(thresholds),\n",
    "    device=torch.device('cuda'),\n",
    "    dtype=torch.float,\n",
    "    n_hidden=n_hidden,\n",
    "    shared=shared,\n",
    ")\n",
    "\n",
    "X_mxnxd, y_mxn, pred_mxn, Xtrcal_nxd, Xcal_nxd, ycal_n, predcal_n = vshifts.load_rna_data(\n",
    "    landscape_name,\n",
    "    seed_idx,\n",
    "    n,\n",
    "    N,\n",
    "    explorer_kwarg_name2vals,\n",
    "    save_fname_dir,\n",
    "    avg_n_mut,\n",
    "    trial_idx=trial_idx\n",
    ")\n",
    "X_m1xnxd = np.concatenate([X_mxnxd, Xtrcal_nxd[None, :, :]], axis=0)\n",
    "print(X_m1xnxd.shape)\n",
    "\n",
    "train_dfs = model.fit(config, X_m1xnxd=X_m1xnxd)"
   ]
  },
  {
   "cell_type": "code",
   "execution_count": 46,
   "id": "773f7c60",
   "metadata": {},
   "outputs": [
    {
     "data": {
      "image/png": "[encoded data removed]",
      "text/plain": [
       "<Figure size 850x300 with 2 Axes>"
      ]
     },
     "metadata": {},
     "output_type": "display_data"
    }
   ],
   "source": [
    "noise_sd = 0.02\n",
    "model_name = 'lin reg'\n",
    "\n",
    "plt.figure(figsize=(8.5, 3))\n",
    "plt.subplot(121)\n",
    "for i in range(len(thresholds)):\n",
    "    plt.plot(train_dfs[i]['train_loss'], label=thresholds[i]);\n",
    "plt.xlabel('training step');\n",
    "plt.ylabel('training loss'); \n",
    "plt.title('{}, {}, n = {}, seed {}\\nE[# train mutations] = {}, noise SD = {}'.format(\n",
    "    landscape_name, model_name, n, seed_idx, avg_n_mut, noise_sd))\n",
    "plt.legend()\n",
    "plt.ylim([0, 1]);\n",
    "\n",
    "plt.subplot(122)\n",
    "for i in range(len(thresholds)):\n",
    "    plt.plot(train_dfs[i]['val_loss']);\n",
    "plt.xlabel('training step');\n",
    "plt.ylabel('validation loss');\n",
    "plt.ylim([0, 1]);"
   ]
  },
  {
   "cell_type": "markdown",
   "id": "d0984ed5",
   "metadata": {},
   "source": [
    "## site-wise mixing between train and least aggressive HP"
   ]
  },
  {
   "cell_type": "code",
   "execution_count": 101,
   "id": "2fb480fa",
   "metadata": {
    "scrolled": true
   },
   "outputs": [
    {
     "name": "stdout",
     "output_type": "stream",
     "text": [
      "Problem has sequence length 50\n",
      "Loading waymarks in the following order for k = 0, 1, ... where k = 0 is the target design distribution.\n",
      "[0.01, 0.05, 0.1, 0.2, 0.3, 0.4, 0.5]\n",
      "Loading from /data/wongfanc/dre-data/data/120423/L50_RNA1/trial1/seed4-n5000-nmut4-threshold0.01.npz\n",
      "Loading from /data/wongfanc/dre-data/data/120423/L50_RNA1/trial1/seed4-n5000-nmut4-threshold0.05.npz\n",
      "Loading from /data/wongfanc/dre-data/data/120423/L50_RNA1/trial1/seed4-n5000-nmut4-threshold0.1.npz\n",
      "Loading from /data/wongfanc/dre-data/data/120423/L50_RNA1/trial1/seed4-n5000-nmut4-threshold0.2.npz\n",
      "Loading from /data/wongfanc/dre-data/data/120423/L50_RNA1/trial1/seed4-n5000-nmut4-threshold0.3.npz\n",
      "Loading from /data/wongfanc/dre-data/data/120423/L50_RNA1/trial1/seed4-n5000-nmut4-threshold0.4.npz\n",
      "Loading from /data/wongfanc/dre-data/data/120423/L50_RNA1/trial1/seed4-n5000-nmut4-threshold0.5.npz\n",
      "X_m1xnxd is shape (7, 20000, 200), Xm_nxp is shape (5000, 200). 7 waymarks provided\n",
      "Waymark 1 / 4 has 160, 40 dimensions from P0, Pm.\n",
      "Waymark 2 / 4 has 120, 80 dimensions from P0, Pm.\n",
      "Waymark 3 / 4 has 80, 120 dimensions from P0, Pm.\n",
      "Waymark 4 / 4 has 40, 160 dimensions from P0, Pm.\n",
      "Shape of waymarks after last HP: (4, 20000, 200). Shape of X_m1xnxd: (11, 20000, 200)\n"
     ]
    },
    {
     "name": "stderr",
     "output_type": "stream",
     "text": [
      "100%|██████████████████████████████████████████████████████████████████████████████████████████████████████████████████████████████████████████████████████| 1000/1000 [00:02<00:00, 348.75it/s]\n"
     ]
    },
    {
     "name": "stdout",
     "output_type": "stream",
     "text": [
      "Done fitting bridge 1 / (7 + 4) (2 s).\n"
     ]
    },
    {
     "name": "stderr",
     "output_type": "stream",
     "text": [
      "100%|██████████████████████████████████████████████████████████████████████████████████████████████████████████████████████████████████████████████████████| 1000/1000 [00:02<00:00, 358.31it/s]\n"
     ]
    },
    {
     "name": "stdout",
     "output_type": "stream",
     "text": [
      "Done fitting bridge 2 / (7 + 4) (5 s).\n"
     ]
    },
    {
     "name": "stderr",
     "output_type": "stream",
     "text": [
      "100%|██████████████████████████████████████████████████████████████████████████████████████████████████████████████████████████████████████████████████████| 1000/1000 [00:02<00:00, 373.02it/s]\n"
     ]
    },
    {
     "name": "stdout",
     "output_type": "stream",
     "text": [
      "Done fitting bridge 3 / (7 + 4) (8 s).\n"
     ]
    },
    {
     "name": "stderr",
     "output_type": "stream",
     "text": [
      "100%|██████████████████████████████████████████████████████████████████████████████████████████████████████████████████████████████████████████████████████| 1000/1000 [00:02<00:00, 373.71it/s]\n"
     ]
    },
    {
     "name": "stdout",
     "output_type": "stream",
     "text": [
      "Done fitting bridge 4 / (7 + 4) (11 s).\n"
     ]
    },
    {
     "name": "stderr",
     "output_type": "stream",
     "text": [
      "100%|██████████████████████████████████████████████████████████████████████████████████████████████████████████████████████████████████████████████████████| 1000/1000 [00:02<00:00, 372.66it/s]\n"
     ]
    },
    {
     "name": "stdout",
     "output_type": "stream",
     "text": [
      "Done fitting bridge 5 / (7 + 4) (13 s).\n"
     ]
    },
    {
     "name": "stderr",
     "output_type": "stream",
     "text": [
      "100%|██████████████████████████████████████████████████████████████████████████████████████████████████████████████████████████████████████████████████████| 1000/1000 [00:02<00:00, 345.95it/s]\n"
     ]
    },
    {
     "name": "stdout",
     "output_type": "stream",
     "text": [
      "Done fitting bridge 6 / (7 + 4) (16 s).\n"
     ]
    },
    {
     "name": "stderr",
     "output_type": "stream",
     "text": [
      "100%|██████████████████████████████████████████████████████████████████████████████████████████████████████████████████████████████████████████████████████| 1000/1000 [00:03<00:00, 316.94it/s]\n"
     ]
    },
    {
     "name": "stdout",
     "output_type": "stream",
     "text": [
      "Done fitting bridge 7 / (7 + 4) (19 s).\n"
     ]
    },
    {
     "name": "stderr",
     "output_type": "stream",
     "text": [
      "100%|██████████████████████████████████████████████████████████████████████████████████████████████████████████████████████████████████████████████████████| 1000/1000 [00:02<00:00, 341.46it/s]\n"
     ]
    },
    {
     "name": "stdout",
     "output_type": "stream",
     "text": [
      "Done fitting bridge 8 / (7 + 4) (22 s).\n"
     ]
    },
    {
     "name": "stderr",
     "output_type": "stream",
     "text": [
      "100%|██████████████████████████████████████████████████████████████████████████████████████████████████████████████████████████████████████████████████████| 1000/1000 [00:02<00:00, 354.71it/s]\n"
     ]
    },
    {
     "name": "stdout",
     "output_type": "stream",
     "text": [
      "Done fitting bridge 9 / (7 + 4) (25 s).\n"
     ]
    },
    {
     "name": "stderr",
     "output_type": "stream",
     "text": [
      "100%|██████████████████████████████████████████████████████████████████████████████████████████████████████████████████████████████████████████████████████| 1000/1000 [00:02<00:00, 348.30it/s]\n"
     ]
    },
    {
     "name": "stdout",
     "output_type": "stream",
     "text": [
      "Done fitting bridge 10 / (7 + 4) (28 s).\n"
     ]
    },
    {
     "name": "stderr",
     "output_type": "stream",
     "text": [
      "100%|██████████████████████████████████████████████████████████████████████████████████████████████████████████████████████████████████████████████████████| 1000/1000 [00:02<00:00, 351.48it/s]\n"
     ]
    },
    {
     "name": "stdout",
     "output_type": "stream",
     "text": [
      "Done fitting bridge 11 / (7 + 4) (31 s).\n",
      "X_m1xnxd is shape (7, 20000, 200), Xm_nxp is shape (5000, 200). 7 waymarks provided\n"
     ]
    },
    {
     "name": "stderr",
     "output_type": "stream",
     "text": [
      "100%|██████████████████████████████████████████████████████████████████████████████████████████████████████████████████████████████████████████████████████| 1000/1000 [00:03<00:00, 331.90it/s]\n"
     ]
    },
    {
     "name": "stdout",
     "output_type": "stream",
     "text": [
      "Done fitting bridge 1 / (7 + 0) (3 s).\n"
     ]
    },
    {
     "name": "stderr",
     "output_type": "stream",
     "text": [
      "100%|██████████████████████████████████████████████████████████████████████████████████████████████████████████████████████████████████████████████████████| 1000/1000 [00:02<00:00, 341.88it/s]\n"
     ]
    },
    {
     "name": "stdout",
     "output_type": "stream",
     "text": [
      "Done fitting bridge 2 / (7 + 0) (5 s).\n"
     ]
    },
    {
     "name": "stderr",
     "output_type": "stream",
     "text": [
      "100%|██████████████████████████████████████████████████████████████████████████████████████████████████████████████████████████████████████████████████████| 1000/1000 [00:02<00:00, 365.12it/s]\n"
     ]
    },
    {
     "name": "stdout",
     "output_type": "stream",
     "text": [
      "Done fitting bridge 3 / (7 + 0) (8 s).\n"
     ]
    },
    {
     "name": "stderr",
     "output_type": "stream",
     "text": [
      "100%|██████████████████████████████████████████████████████████████████████████████████████████████████████████████████████████████████████████████████████| 1000/1000 [00:02<00:00, 375.56it/s]\n"
     ]
    },
    {
     "name": "stdout",
     "output_type": "stream",
     "text": [
      "Done fitting bridge 4 / (7 + 0) (11 s).\n"
     ]
    },
    {
     "name": "stderr",
     "output_type": "stream",
     "text": [
      "100%|██████████████████████████████████████████████████████████████████████████████████████████████████████████████████████████████████████████████████████| 1000/1000 [00:02<00:00, 366.13it/s]\n"
     ]
    },
    {
     "name": "stdout",
     "output_type": "stream",
     "text": [
      "Done fitting bridge 5 / (7 + 0) (14 s).\n"
     ]
    },
    {
     "name": "stderr",
     "output_type": "stream",
     "text": [
      "100%|██████████████████████████████████████████████████████████████████████████████████████████████████████████████████████████████████████████████████████| 1000/1000 [00:02<00:00, 370.14it/s]\n"
     ]
    },
    {
     "name": "stdout",
     "output_type": "stream",
     "text": [
      "Done fitting bridge 6 / (7 + 0) (16 s).\n"
     ]
    },
    {
     "name": "stderr",
     "output_type": "stream",
     "text": [
      "100%|██████████████████████████████████████████████████████████████████████████████████████████████████████████████████████████████████████████████████████| 1000/1000 [00:02<00:00, 341.13it/s]"
     ]
    },
    {
     "name": "stdout",
     "output_type": "stream",
     "text": [
      "Done fitting bridge 7 / (7 + 0) (19 s).\n"
     ]
    },
    {
     "name": "stderr",
     "output_type": "stream",
     "text": [
      "\n"
     ]
    },
    {
     "data": {
      "application/javascript": [
       "$(document).ready(\n",
       "    function() {\n",
       "        function appendUniqueDiv(){\n",
       "            // append a div with our uuid so we can check that it's already\n",
       "            // been sent and avoid duplicates on page reload\n",
       "            var notifiedDiv = document.createElement(\"div\")\n",
       "            notifiedDiv.id = \"6793cfcd-d02b-46e4-8eda-e2b2f22ce5c5\"\n",
       "            element.append(notifiedDiv)\n",
       "        }\n",
       "\n",
       "        // only send notifications if the pageload is complete; this will\n",
       "        // help stop extra notifications when a saved notebook is loaded,\n",
       "        // which during testing gives us state \"interactive\", not \"complete\"\n",
       "        if (document.readyState === 'complete') {\n",
       "            // check for the div that signifies that the notification\n",
       "            // was already sent\n",
       "            if (document.getElementById(\"6793cfcd-d02b-46e4-8eda-e2b2f22ce5c5\") === null) {\n",
       "                var notificationPayload = {\"requireInteraction\": false, \"icon\": \"/static/base/images/favicon.ico\", \"body\": \"Cell execution has finished!\"};\n",
       "                if (Notification.permission !== 'denied') {\n",
       "                    if (Notification.permission !== 'granted') { \n",
       "                        Notification.requestPermission(function (permission) {\n",
       "                            if(!('permission' in Notification)) {\n",
       "                                Notification.permission = permission\n",
       "                            }\n",
       "                        })\n",
       "                    }\n",
       "                    if (Notification.permission === 'granted') {\n",
       "                    var notification = new Notification(\"Jupyter Notebook\", notificationPayload)\n",
       "                    appendUniqueDiv()\n",
       "                    notification.onclick = function () {\n",
       "                        window.focus();\n",
       "                        this.close();\n",
       "                        };\n",
       "                    } \n",
       "                }     \n",
       "            }\n",
       "        }\n",
       "    }\n",
       ")\n"
      ],
      "text/plain": [
       "<IPython.core.display.Javascript object>"
      ]
     },
     "metadata": {},
     "output_type": "display_data"
    }
   ],
   "source": [
    "%%notify\n",
    "reload(vshifts)\n",
    "reload(cal)\n",
    "reload(tdre)\n",
    "\n",
    "# data \n",
    "landscape_name = 'L50_RNA1'\n",
    "seed_idx = 4\n",
    "n = 5000\n",
    "N = 20000\n",
    "avg_n_mut = 4\n",
    "thresholds = [0.01, 0.05, 0.1, 0.2, 0.3, 0.4, 0.5]\n",
    "explorer_kwarg_name2vals = {'threshold': thresholds}\n",
    "save_fname_dir = '120423'\n",
    "trial_idx = 1\n",
    "\n",
    "# TDRE\n",
    "n_waymarks_for_last_hp = 4\n",
    "shared = False\n",
    "n_hidden = 32\n",
    "model_class = tdre.FeedForward\n",
    "config = {\n",
    "    'waymark_type': 'mixed_dimensions',  # dummy value\n",
    "    'val_frac': 0.1,\n",
    "    'n_steps': 1000,\n",
    "    'lr': 1e-3,\n",
    "    'use_weighted_loss': True\n",
    "}\n",
    "modela = tdre.TelescopingLogDensityRatioEstimator(\n",
    "    model_class,\n",
    "    50 * 4,\n",
    "    n_ratio=len(thresholds),\n",
    "    n_waymarks_for_last_hp=n_waymarks_for_last_hp,\n",
    "    device=torch.device('cuda'),\n",
    "    dtype=torch.float,\n",
    "    n_hidden=n_hidden,\n",
    "    shared=shared,\n",
    ")\n",
    "modelb = tdre.TelescopingLogDensityRatioEstimator(\n",
    "    model_class,\n",
    "    50 * 4,\n",
    "    n_ratio=len(thresholds),\n",
    "    n_waymarks_for_last_hp=0,\n",
    "    device=torch.device('cuda'),\n",
    "    dtype=torch.float,\n",
    "    n_hidden=n_hidden,\n",
    "    shared=shared,\n",
    ")\n",
    "\n",
    "X_mxnxd, y_mxn, pred_mxn, Xtrcal_nxd, Xcal_nxd, ycal_n, predcal_n = vshifts.load_rna_data(\n",
    "    landscape_name,\n",
    "    seed_idx,\n",
    "    n,\n",
    "    N,\n",
    "    explorer_kwarg_name2vals,\n",
    "    save_fname_dir,\n",
    "    avg_n_mut,\n",
    "    trial_idx=trial_idx\n",
    ")\n",
    "\n",
    "train_dfs_a = modela.fit(config, X_m1xnxd=X_mxnxd, Xm_nxp=Xtrcal_nxd)\n",
    "train_dfs_b = modelb.fit(config, X_m1xnxd=X_mxnxd, Xm_nxp=Xtrcal_nxd)"
   ]
  },
  {
   "cell_type": "code",
   "execution_count": 103,
   "id": "fd3b0b9f",
   "metadata": {
    "scrolled": false
   },
   "outputs": [
    {
     "data": {
      "image/png": "[encoded data removed]",
      "text/plain": [
       "<Figure size 1000x700 with 4 Axes>"
      ]
     },
     "metadata": {},
     "output_type": "display_data"
    }
   ],
   "source": [
    "noise_sd = 0.02\n",
    "model_name = 'lin reg'\n",
    "\n",
    "plt.figure(figsize=(10, 7))\n",
    "plt.subplot(221)\n",
    "for i in range(len(train_dfs_a)):\n",
    "    if i < len(thresholds) - 1:\n",
    "        label = thresholds[i]\n",
    "        plt.plot(train_dfs_a[i]['train_loss'], label=label, c='gray');\n",
    "    elif i == len(thresholds) - 1:\n",
    "        label = thresholds[-1]\n",
    "        plt.plot(train_dfs_a[i]['train_loss'], label=label);\n",
    "    else:\n",
    "        label = i\n",
    "        plt.plot(train_dfs_a[i]['train_loss'], label=label);\n",
    "\n",
    "plt.xlabel('training step');\n",
    "plt.ylabel('training loss'); \n",
    "plt.title('{}, {}, n = {}, seed {}\\nE[# train mutations] = {}, noise SD = {}'.format(\n",
    "    landscape_name, model_name, n, seed_idx, avg_n_mut, noise_sd))\n",
    "plt.legend(fontsize=8)\n",
    "plt.ylim([0, 1]);\n",
    "\n",
    "plt.subplot(222)\n",
    "for i in range(len(train_dfs_a)):\n",
    "    if i < len(thresholds) - 1:\n",
    "        plt.plot(train_dfs_a[i]['val_loss'], c='gray')\n",
    "    else:\n",
    "        plt.plot(train_dfs_a[i]['val_loss'])\n",
    "    \n",
    "plt.xlabel('training step');\n",
    "plt.ylabel('validation loss');\n",
    "plt.ylim([0, 1]);\n",
    "\n",
    "plt.subplot(223)\n",
    "for i in range(len(train_dfs_b)):\n",
    "    if i < len(thresholds) - 1:\n",
    "        label = thresholds[i]\n",
    "        plt.plot(train_dfs_b[i]['train_loss'], label=label, c='gray');\n",
    "    else:\n",
    "        label = thresholds[-1]\n",
    "        plt.plot(train_dfs_b[i]['train_loss'], label=label);\n",
    "plt.legend(fontsize=8)\n",
    "plt.xlabel('training step');\n",
    "plt.ylabel('training loss'); \n",
    "plt.ylim([0, 1]);\n",
    "\n",
    "plt.subplot(224)\n",
    "for i in range(len(train_dfs_b)):\n",
    "    if i < len(thresholds) - 1:\n",
    "        plt.plot(train_dfs_b[i]['val_loss'], c='gray')\n",
    "    else:\n",
    "        plt.plot(train_dfs_b[i]['val_loss'])\n",
    "    \n",
    "plt.xlabel('training step');\n",
    "plt.ylabel('validation loss');\n",
    "plt.ylim([0, 1]);"
   ]
  },
  {
   "cell_type": "code",
   "execution_count": 107,
   "id": "0bab8f58",
   "metadata": {
    "scrolled": true
   },
   "outputs": [
    {
     "name": "stdout",
     "output_type": "stream",
     "text": [
      "Problem has sequence length 50\n",
      "Loading waymarks in the following order for k = 0, 1, ... where k = 0 is the target design distribution.\n",
      "[0.01, 0.05, 0.1, 0.2, 0.3, 0.4, 0.5]\n",
      "Loading from /data/wongfanc/dre-data/data/120423/L50_RNA1/trial0/seed4-n5000-nmut4-threshold0.01.npz\n",
      "Loading from /data/wongfanc/dre-data/data/120423/L50_RNA1/trial0/seed4-n5000-nmut4-threshold0.05.npz\n",
      "Loading from /data/wongfanc/dre-data/data/120423/L50_RNA1/trial0/seed4-n5000-nmut4-threshold0.1.npz\n",
      "Loading from /data/wongfanc/dre-data/data/120423/L50_RNA1/trial0/seed4-n5000-nmut4-threshold0.2.npz\n",
      "Loading from /data/wongfanc/dre-data/data/120423/L50_RNA1/trial0/seed4-n5000-nmut4-threshold0.3.npz\n",
      "Loading from /data/wongfanc/dre-data/data/120423/L50_RNA1/trial0/seed4-n5000-nmut4-threshold0.4.npz\n",
      "Loading from /data/wongfanc/dre-data/data/120423/L50_RNA1/trial0/seed4-n5000-nmut4-threshold0.5.npz\n",
      "X_m1xnxd is shape (7, 20000, 200), Xm_nxp is shape (5000, 200). 7 waymarks provided\n",
      "Waymark 1 / 4 has 160, 40 dimensions from P0, Pm.\n",
      "Waymark 2 / 4 has 120, 80 dimensions from P0, Pm.\n",
      "Waymark 3 / 4 has 80, 120 dimensions from P0, Pm.\n",
      "Waymark 4 / 4 has 40, 160 dimensions from P0, Pm.\n",
      "Shape of waymarks after last HP: (4, 20000, 200). Shape of X_m1xnxd: (11, 20000, 200)\n"
     ]
    },
    {
     "name": "stderr",
     "output_type": "stream",
     "text": [
      "100%|██████████████████████████████████████████████████████████████████████████████████████████████████████████████████████████████████████████████████████| 1000/1000 [00:03<00:00, 328.89it/s]\n"
     ]
    },
    {
     "name": "stdout",
     "output_type": "stream",
     "text": [
      "Done fitting bridge 1 / (7 + 4) (3 s).\n"
     ]
    },
    {
     "name": "stderr",
     "output_type": "stream",
     "text": [
      "100%|██████████████████████████████████████████████████████████████████████████████████████████████████████████████████████████████████████████████████████| 1000/1000 [00:02<00:00, 344.09it/s]\n"
     ]
    },
    {
     "name": "stdout",
     "output_type": "stream",
     "text": [
      "Done fitting bridge 2 / (7 + 4) (5 s).\n"
     ]
    },
    {
     "name": "stderr",
     "output_type": "stream",
     "text": [
      "100%|██████████████████████████████████████████████████████████████████████████████████████████████████████████████████████████████████████████████████████| 1000/1000 [00:02<00:00, 360.52it/s]\n"
     ]
    },
    {
     "name": "stdout",
     "output_type": "stream",
     "text": [
      "Done fitting bridge 3 / (7 + 4) (8 s).\n"
     ]
    },
    {
     "name": "stderr",
     "output_type": "stream",
     "text": [
      "100%|██████████████████████████████████████████████████████████████████████████████████████████████████████████████████████████████████████████████████████| 1000/1000 [00:02<00:00, 372.24it/s]\n"
     ]
    },
    {
     "name": "stdout",
     "output_type": "stream",
     "text": [
      "Done fitting bridge 4 / (7 + 4) (11 s).\n"
     ]
    },
    {
     "name": "stderr",
     "output_type": "stream",
     "text": [
      "100%|██████████████████████████████████████████████████████████████████████████████████████████████████████████████████████████████████████████████████████| 1000/1000 [00:02<00:00, 343.95it/s]\n"
     ]
    },
    {
     "name": "stdout",
     "output_type": "stream",
     "text": [
      "Done fitting bridge 5 / (7 + 4) (14 s).\n"
     ]
    },
    {
     "name": "stderr",
     "output_type": "stream",
     "text": [
      "100%|██████████████████████████████████████████████████████████████████████████████████████████████████████████████████████████████████████████████████████| 1000/1000 [00:02<00:00, 347.13it/s]\n"
     ]
    },
    {
     "name": "stdout",
     "output_type": "stream",
     "text": [
      "Done fitting bridge 6 / (7 + 4) (17 s).\n"
     ]
    },
    {
     "name": "stderr",
     "output_type": "stream",
     "text": [
      "100%|██████████████████████████████████████████████████████████████████████████████████████████████████████████████████████████████████████████████████████| 1000/1000 [00:02<00:00, 356.24it/s]\n"
     ]
    },
    {
     "name": "stdout",
     "output_type": "stream",
     "text": [
      "Done fitting bridge 7 / (7 + 4) (20 s).\n"
     ]
    },
    {
     "name": "stderr",
     "output_type": "stream",
     "text": [
      "100%|██████████████████████████████████████████████████████████████████████████████████████████████████████████████████████████████████████████████████████| 1000/1000 [00:02<00:00, 353.52it/s]\n"
     ]
    },
    {
     "name": "stdout",
     "output_type": "stream",
     "text": [
      "Done fitting bridge 8 / (7 + 4) (22 s).\n"
     ]
    },
    {
     "name": "stderr",
     "output_type": "stream",
     "text": [
      "100%|██████████████████████████████████████████████████████████████████████████████████████████████████████████████████████████████████████████████████████| 1000/1000 [00:02<00:00, 352.56it/s]\n"
     ]
    },
    {
     "name": "stdout",
     "output_type": "stream",
     "text": [
      "Done fitting bridge 9 / (7 + 4) (25 s).\n"
     ]
    },
    {
     "name": "stderr",
     "output_type": "stream",
     "text": [
      "100%|██████████████████████████████████████████████████████████████████████████████████████████████████████████████████████████████████████████████████████| 1000/1000 [00:02<00:00, 333.68it/s]\n"
     ]
    },
    {
     "name": "stdout",
     "output_type": "stream",
     "text": [
      "Done fitting bridge 10 / (7 + 4) (28 s).\n"
     ]
    },
    {
     "name": "stderr",
     "output_type": "stream",
     "text": [
      "100%|██████████████████████████████████████████████████████████████████████████████████████████████████████████████████████████████████████████████████████| 1000/1000 [00:02<00:00, 351.93it/s]\n"
     ]
    },
    {
     "name": "stdout",
     "output_type": "stream",
     "text": [
      "Done fitting bridge 11 / (7 + 4) (31 s).\n",
      "X_m1xnxd is shape (7, 20000, 200), Xm_nxp is shape (5000, 200). 7 waymarks provided\n"
     ]
    },
    {
     "name": "stderr",
     "output_type": "stream",
     "text": [
      "100%|██████████████████████████████████████████████████████████████████████████████████████████████████████████████████████████████████████████████████████| 1000/1000 [00:02<00:00, 351.05it/s]\n"
     ]
    },
    {
     "name": "stdout",
     "output_type": "stream",
     "text": [
      "Done fitting bridge 1 / (7 + 0) (2 s).\n"
     ]
    },
    {
     "name": "stderr",
     "output_type": "stream",
     "text": [
      "100%|██████████████████████████████████████████████████████████████████████████████████████████████████████████████████████████████████████████████████████| 1000/1000 [00:02<00:00, 354.67it/s]\n"
     ]
    },
    {
     "name": "stdout",
     "output_type": "stream",
     "text": [
      "Done fitting bridge 2 / (7 + 0) (5 s).\n"
     ]
    },
    {
     "name": "stderr",
     "output_type": "stream",
     "text": [
      "100%|██████████████████████████████████████████████████████████████████████████████████████████████████████████████████████████████████████████████████████| 1000/1000 [00:02<00:00, 371.69it/s]\n"
     ]
    },
    {
     "name": "stdout",
     "output_type": "stream",
     "text": [
      "Done fitting bridge 3 / (7 + 0) (8 s).\n"
     ]
    },
    {
     "name": "stderr",
     "output_type": "stream",
     "text": [
      "100%|██████████████████████████████████████████████████████████████████████████████████████████████████████████████████████████████████████████████████████| 1000/1000 [00:02<00:00, 353.53it/s]\n"
     ]
    },
    {
     "name": "stdout",
     "output_type": "stream",
     "text": [
      "Done fitting bridge 4 / (7 + 0) (11 s).\n"
     ]
    },
    {
     "name": "stderr",
     "output_type": "stream",
     "text": [
      "100%|██████████████████████████████████████████████████████████████████████████████████████████████████████████████████████████████████████████████████████| 1000/1000 [00:02<00:00, 356.93it/s]\n"
     ]
    },
    {
     "name": "stdout",
     "output_type": "stream",
     "text": [
      "Done fitting bridge 5 / (7 + 0) (14 s).\n"
     ]
    },
    {
     "name": "stderr",
     "output_type": "stream",
     "text": [
      "100%|██████████████████████████████████████████████████████████████████████████████████████████████████████████████████████████████████████████████████████| 1000/1000 [00:02<00:00, 371.23it/s]\n"
     ]
    },
    {
     "name": "stdout",
     "output_type": "stream",
     "text": [
      "Done fitting bridge 6 / (7 + 0) (16 s).\n"
     ]
    },
    {
     "name": "stderr",
     "output_type": "stream",
     "text": [
      "100%|██████████████████████████████████████████████████████████████████████████████████████████████████████████████████████████████████████████████████████| 1000/1000 [00:02<00:00, 351.68it/s]\n"
     ]
    },
    {
     "name": "stdout",
     "output_type": "stream",
     "text": [
      "Done fitting bridge 7 / (7 + 0) (19 s).\n",
      "Train mean: 0.287\n",
      "True means          :0.410 0.386 0.380 0.365 0.349 0.344 0.340 \n",
      "Imputed means       :0.438 0.429 0.427 0.413 0.402 0.399 0.396 \n",
      "PP extra WM means   :0.405 0.395 0.394 0.381 0.433 0.426 0.438 \n",
      "PP no extra WM means:0.458 0.395 0.394 0.379 0.369 0.365 0.363 \n",
      "Done with trial 1 / 20 (54 s)\n",
      "Problem has sequence length 50\n",
      "Loading waymarks in the following order for k = 0, 1, ... where k = 0 is the target design distribution.\n",
      "[0.01, 0.05, 0.1, 0.2, 0.3, 0.4, 0.5]\n",
      "Loading from /data/wongfanc/dre-data/data/120423/L50_RNA1/trial1/seed4-n5000-nmut4-threshold0.01.npz\n",
      "Loading from /data/wongfanc/dre-data/data/120423/L50_RNA1/trial1/seed4-n5000-nmut4-threshold0.05.npz\n",
      "Loading from /data/wongfanc/dre-data/data/120423/L50_RNA1/trial1/seed4-n5000-nmut4-threshold0.1.npz\n",
      "Loading from /data/wongfanc/dre-data/data/120423/L50_RNA1/trial1/seed4-n5000-nmut4-threshold0.2.npz\n",
      "Loading from /data/wongfanc/dre-data/data/120423/L50_RNA1/trial1/seed4-n5000-nmut4-threshold0.3.npz\n",
      "Loading from /data/wongfanc/dre-data/data/120423/L50_RNA1/trial1/seed4-n5000-nmut4-threshold0.4.npz\n",
      "Loading from /data/wongfanc/dre-data/data/120423/L50_RNA1/trial1/seed4-n5000-nmut4-threshold0.5.npz\n",
      "X_m1xnxd is shape (7, 20000, 200), Xm_nxp is shape (5000, 200). 7 waymarks provided\n",
      "Waymark 1 / 4 has 160, 40 dimensions from P0, Pm.\n",
      "Waymark 2 / 4 has 120, 80 dimensions from P0, Pm.\n",
      "Waymark 3 / 4 has 80, 120 dimensions from P0, Pm.\n",
      "Waymark 4 / 4 has 40, 160 dimensions from P0, Pm.\n",
      "Shape of waymarks after last HP: (4, 20000, 200). Shape of X_m1xnxd: (11, 20000, 200)\n"
     ]
    },
    {
     "name": "stderr",
     "output_type": "stream",
     "text": [
      "100%|██████████████████████████████████████████████████████████████████████████████████████████████████████████████████████████████████████████████████████| 1000/1000 [00:02<00:00, 354.26it/s]\n"
     ]
    },
    {
     "name": "stdout",
     "output_type": "stream",
     "text": [
      "Done fitting bridge 1 / (7 + 4) (2 s).\n"
     ]
    },
    {
     "name": "stderr",
     "output_type": "stream",
     "text": [
      "100%|██████████████████████████████████████████████████████████████████████████████████████████████████████████████████████████████████████████████████████| 1000/1000 [00:02<00:00, 348.87it/s]\n"
     ]
    },
    {
     "name": "stdout",
     "output_type": "stream",
     "text": [
      "Done fitting bridge 2 / (7 + 4) (5 s).\n"
     ]
    },
    {
     "name": "stderr",
     "output_type": "stream",
     "text": [
      "100%|██████████████████████████████████████████████████████████████████████████████████████████████████████████████████████████████████████████████████████| 1000/1000 [00:02<00:00, 335.27it/s]\n"
     ]
    },
    {
     "name": "stdout",
     "output_type": "stream",
     "text": [
      "Done fitting bridge 3 / (7 + 4) (8 s).\n"
     ]
    },
    {
     "name": "stderr",
     "output_type": "stream",
     "text": [
      "100%|██████████████████████████████████████████████████████████████████████████████████████████████████████████████████████████████████████████████████████| 1000/1000 [00:02<00:00, 344.12it/s]\n"
     ]
    },
    {
     "name": "stdout",
     "output_type": "stream",
     "text": [
      "Done fitting bridge 4 / (7 + 4) (11 s).\n"
     ]
    },
    {
     "name": "stderr",
     "output_type": "stream",
     "text": [
      "100%|██████████████████████████████████████████████████████████████████████████████████████████████████████████████████████████████████████████████████████| 1000/1000 [00:02<00:00, 336.33it/s]\n"
     ]
    },
    {
     "name": "stdout",
     "output_type": "stream",
     "text": [
      "Done fitting bridge 5 / (7 + 4) (14 s).\n"
     ]
    },
    {
     "name": "stderr",
     "output_type": "stream",
     "text": [
      "100%|██████████████████████████████████████████████████████████████████████████████████████████████████████████████████████████████████████████████████████| 1000/1000 [00:02<00:00, 334.12it/s]\n"
     ]
    },
    {
     "name": "stdout",
     "output_type": "stream",
     "text": [
      "Done fitting bridge 6 / (7 + 4) (17 s).\n"
     ]
    },
    {
     "name": "stderr",
     "output_type": "stream",
     "text": [
      "100%|██████████████████████████████████████████████████████████████████████████████████████████████████████████████████████████████████████████████████████| 1000/1000 [00:03<00:00, 333.17it/s]\n"
     ]
    },
    {
     "name": "stdout",
     "output_type": "stream",
     "text": [
      "Done fitting bridge 7 / (7 + 4) (20 s).\n"
     ]
    },
    {
     "name": "stderr",
     "output_type": "stream",
     "text": [
      "100%|██████████████████████████████████████████████████████████████████████████████████████████████████████████████████████████████████████████████████████| 1000/1000 [00:02<00:00, 336.82it/s]\n"
     ]
    },
    {
     "name": "stdout",
     "output_type": "stream",
     "text": [
      "Done fitting bridge 8 / (7 + 4) (23 s).\n"
     ]
    },
    {
     "name": "stderr",
     "output_type": "stream",
     "text": [
      "100%|██████████████████████████████████████████████████████████████████████████████████████████████████████████████████████████████████████████████████████| 1000/1000 [00:02<00:00, 352.09it/s]\n"
     ]
    },
    {
     "name": "stdout",
     "output_type": "stream",
     "text": [
      "Done fitting bridge 9 / (7 + 4) (26 s).\n"
     ]
    },
    {
     "name": "stderr",
     "output_type": "stream",
     "text": [
      "100%|██████████████████████████████████████████████████████████████████████████████████████████████████████████████████████████████████████████████████████| 1000/1000 [00:02<00:00, 352.55it/s]\n"
     ]
    },
    {
     "name": "stdout",
     "output_type": "stream",
     "text": [
      "Done fitting bridge 10 / (7 + 4) (29 s).\n"
     ]
    },
    {
     "name": "stderr",
     "output_type": "stream",
     "text": [
      "100%|██████████████████████████████████████████████████████████████████████████████████████████████████████████████████████████████████████████████████████| 1000/1000 [00:02<00:00, 334.15it/s]\n"
     ]
    },
    {
     "name": "stdout",
     "output_type": "stream",
     "text": [
      "Done fitting bridge 11 / (7 + 4) (32 s).\n",
      "X_m1xnxd is shape (7, 20000, 200), Xm_nxp is shape (5000, 200). 7 waymarks provided\n"
     ]
    },
    {
     "name": "stderr",
     "output_type": "stream",
     "text": [
      "100%|██████████████████████████████████████████████████████████████████████████████████████████████████████████████████████████████████████████████████████| 1000/1000 [00:02<00:00, 348.15it/s]\n"
     ]
    },
    {
     "name": "stdout",
     "output_type": "stream",
     "text": [
      "Done fitting bridge 1 / (7 + 0) (2 s).\n"
     ]
    },
    {
     "name": "stderr",
     "output_type": "stream",
     "text": [
      "100%|██████████████████████████████████████████████████████████████████████████████████████████████████████████████████████████████████████████████████████| 1000/1000 [00:02<00:00, 352.36it/s]\n"
     ]
    },
    {
     "name": "stdout",
     "output_type": "stream",
     "text": [
      "Done fitting bridge 2 / (7 + 0) (5 s).\n"
     ]
    },
    {
     "name": "stderr",
     "output_type": "stream",
     "text": [
      "100%|██████████████████████████████████████████████████████████████████████████████████████████████████████████████████████████████████████████████████████| 1000/1000 [00:02<00:00, 351.70it/s]\n"
     ]
    },
    {
     "name": "stdout",
     "output_type": "stream",
     "text": [
      "Done fitting bridge 3 / (7 + 0) (8 s).\n"
     ]
    },
    {
     "name": "stderr",
     "output_type": "stream",
     "text": [
      "100%|██████████████████████████████████████████████████████████████████████████████████████████████████████████████████████████████████████████████████████| 1000/1000 [00:02<00:00, 342.28it/s]\n"
     ]
    },
    {
     "name": "stdout",
     "output_type": "stream",
     "text": [
      "Done fitting bridge 4 / (7 + 0) (11 s).\n"
     ]
    },
    {
     "name": "stderr",
     "output_type": "stream",
     "text": [
      "100%|██████████████████████████████████████████████████████████████████████████████████████████████████████████████████████████████████████████████████████| 1000/1000 [00:02<00:00, 353.12it/s]\n"
     ]
    },
    {
     "name": "stdout",
     "output_type": "stream",
     "text": [
      "Done fitting bridge 5 / (7 + 0) (14 s).\n"
     ]
    },
    {
     "name": "stderr",
     "output_type": "stream",
     "text": [
      "100%|██████████████████████████████████████████████████████████████████████████████████████████████████████████████████████████████████████████████████████| 1000/1000 [00:02<00:00, 354.14it/s]\n"
     ]
    },
    {
     "name": "stdout",
     "output_type": "stream",
     "text": [
      "Done fitting bridge 6 / (7 + 0) (17 s).\n"
     ]
    },
    {
     "name": "stderr",
     "output_type": "stream",
     "text": [
      "100%|██████████████████████████████████████████████████████████████████████████████████████████████████████████████████████████████████████████████████████| 1000/1000 [00:02<00:00, 351.77it/s]\n"
     ]
    },
    {
     "name": "stdout",
     "output_type": "stream",
     "text": [
      "Done fitting bridge 7 / (7 + 0) (20 s).\n",
      "Train mean: 0.284\n",
      "True means          :0.380 0.373 0.378 0.363 0.351 0.346 0.342 \n",
      "Imputed means       :0.413 0.413 0.418 0.406 0.395 0.389 0.388 \n",
      "PP extra WM means   :0.374 0.379 0.384 0.368 0.355 0.352 0.340 \n",
      "PP no extra WM means:0.382 0.384 0.386 0.374 0.365 0.364 0.361 \n",
      "Done with trial 2 / 20 (110 s)\n",
      "Problem has sequence length 50\n",
      "Loading waymarks in the following order for k = 0, 1, ... where k = 0 is the target design distribution.\n",
      "[0.01, 0.05, 0.1, 0.2, 0.3, 0.4, 0.5]\n",
      "Loading from /data/wongfanc/dre-data/data/120423/L50_RNA1/trial2/seed4-n5000-nmut4-threshold0.01.npz\n",
      "Loading from /data/wongfanc/dre-data/data/120423/L50_RNA1/trial2/seed4-n5000-nmut4-threshold0.05.npz\n",
      "Loading from /data/wongfanc/dre-data/data/120423/L50_RNA1/trial2/seed4-n5000-nmut4-threshold0.1.npz\n",
      "Loading from /data/wongfanc/dre-data/data/120423/L50_RNA1/trial2/seed4-n5000-nmut4-threshold0.2.npz\n",
      "Loading from /data/wongfanc/dre-data/data/120423/L50_RNA1/trial2/seed4-n5000-nmut4-threshold0.3.npz\n",
      "Loading from /data/wongfanc/dre-data/data/120423/L50_RNA1/trial2/seed4-n5000-nmut4-threshold0.4.npz\n",
      "Loading from /data/wongfanc/dre-data/data/120423/L50_RNA1/trial2/seed4-n5000-nmut4-threshold0.5.npz\n",
      "X_m1xnxd is shape (7, 20000, 200), Xm_nxp is shape (5000, 200). 7 waymarks provided\n",
      "Waymark 1 / 4 has 160, 40 dimensions from P0, Pm.\n",
      "Waymark 2 / 4 has 120, 80 dimensions from P0, Pm.\n",
      "Waymark 3 / 4 has 80, 120 dimensions from P0, Pm.\n",
      "Waymark 4 / 4 has 40, 160 dimensions from P0, Pm.\n",
      "Shape of waymarks after last HP: (4, 20000, 200). Shape of X_m1xnxd: (11, 20000, 200)\n"
     ]
    },
    {
     "name": "stderr",
     "output_type": "stream",
     "text": [
      "100%|██████████████████████████████████████████████████████████████████████████████████████████████████████████████████████████████████████████████████████| 1000/1000 [00:02<00:00, 352.90it/s]\n"
     ]
    },
    {
     "name": "stdout",
     "output_type": "stream",
     "text": [
      "Done fitting bridge 1 / (7 + 4) (2 s).\n"
     ]
    },
    {
     "name": "stderr",
     "output_type": "stream",
     "text": [
      "100%|██████████████████████████████████████████████████████████████████████████████████████████████████████████████████████████████████████████████████████| 1000/1000 [00:02<00:00, 354.39it/s]\n"
     ]
    },
    {
     "name": "stdout",
     "output_type": "stream",
     "text": [
      "Done fitting bridge 2 / (7 + 4) (5 s).\n"
     ]
    },
    {
     "name": "stderr",
     "output_type": "stream",
     "text": [
      "100%|██████████████████████████████████████████████████████████████████████████████████████████████████████████████████████████████████████████████████████| 1000/1000 [00:02<00:00, 356.17it/s]\n"
     ]
    },
    {
     "name": "stdout",
     "output_type": "stream",
     "text": [
      "Done fitting bridge 3 / (7 + 4) (8 s).\n"
     ]
    },
    {
     "name": "stderr",
     "output_type": "stream",
     "text": [
      "100%|██████████████████████████████████████████████████████████████████████████████████████████████████████████████████████████████████████████████████████| 1000/1000 [00:02<00:00, 349.02it/s]\n"
     ]
    },
    {
     "name": "stdout",
     "output_type": "stream",
     "text": [
      "Done fitting bridge 4 / (7 + 4) (11 s).\n"
     ]
    },
    {
     "name": "stderr",
     "output_type": "stream",
     "text": [
      "100%|██████████████████████████████████████████████████████████████████████████████████████████████████████████████████████████████████████████████████████| 1000/1000 [00:02<00:00, 353.70it/s]\n"
     ]
    },
    {
     "name": "stdout",
     "output_type": "stream",
     "text": [
      "Done fitting bridge 5 / (7 + 4) (14 s).\n"
     ]
    },
    {
     "name": "stderr",
     "output_type": "stream",
     "text": [
      "100%|██████████████████████████████████████████████████████████████████████████████████████████████████████████████████████████████████████████████████████| 1000/1000 [00:02<00:00, 357.09it/s]\n"
     ]
    },
    {
     "name": "stdout",
     "output_type": "stream",
     "text": [
      "Done fitting bridge 6 / (7 + 4) (17 s).\n"
     ]
    },
    {
     "name": "stderr",
     "output_type": "stream",
     "text": [
      "100%|██████████████████████████████████████████████████████████████████████████████████████████████████████████████████████████████████████████████████████| 1000/1000 [00:02<00:00, 350.64it/s]\n"
     ]
    },
    {
     "name": "stdout",
     "output_type": "stream",
     "text": [
      "Done fitting bridge 7 / (7 + 4) (19 s).\n"
     ]
    },
    {
     "name": "stderr",
     "output_type": "stream",
     "text": [
      "100%|██████████████████████████████████████████████████████████████████████████████████████████████████████████████████████████████████████████████████████| 1000/1000 [00:02<00:00, 353.93it/s]\n"
     ]
    },
    {
     "name": "stdout",
     "output_type": "stream",
     "text": [
      "Done fitting bridge 8 / (7 + 4) (22 s).\n"
     ]
    },
    {
     "name": "stderr",
     "output_type": "stream",
     "text": [
      "100%|██████████████████████████████████████████████████████████████████████████████████████████████████████████████████████████████████████████████████████| 1000/1000 [00:02<00:00, 346.96it/s]\n"
     ]
    },
    {
     "name": "stdout",
     "output_type": "stream",
     "text": [
      "Done fitting bridge 9 / (7 + 4) (25 s).\n"
     ]
    },
    {
     "name": "stderr",
     "output_type": "stream",
     "text": [
      "100%|██████████████████████████████████████████████████████████████████████████████████████████████████████████████████████████████████████████████████████| 1000/1000 [00:02<00:00, 346.99it/s]\n"
     ]
    },
    {
     "name": "stdout",
     "output_type": "stream",
     "text": [
      "Done fitting bridge 10 / (7 + 4) (28 s).\n"
     ]
    },
    {
     "name": "stderr",
     "output_type": "stream",
     "text": [
      "100%|██████████████████████████████████████████████████████████████████████████████████████████████████████████████████████████████████████████████████████| 1000/1000 [00:02<00:00, 354.04it/s]\n"
     ]
    },
    {
     "name": "stdout",
     "output_type": "stream",
     "text": [
      "Done fitting bridge 11 / (7 + 4) (31 s).\n",
      "X_m1xnxd is shape (7, 20000, 200), Xm_nxp is shape (5000, 200). 7 waymarks provided\n"
     ]
    },
    {
     "name": "stderr",
     "output_type": "stream",
     "text": [
      "100%|██████████████████████████████████████████████████████████████████████████████████████████████████████████████████████████████████████████████████████| 1000/1000 [00:02<00:00, 345.54it/s]\n"
     ]
    },
    {
     "name": "stdout",
     "output_type": "stream",
     "text": [
      "Done fitting bridge 1 / (7 + 0) (2 s).\n"
     ]
    },
    {
     "name": "stderr",
     "output_type": "stream",
     "text": [
      "100%|██████████████████████████████████████████████████████████████████████████████████████████████████████████████████████████████████████████████████████| 1000/1000 [00:02<00:00, 352.43it/s]\n"
     ]
    },
    {
     "name": "stdout",
     "output_type": "stream",
     "text": [
      "Done fitting bridge 2 / (7 + 0) (5 s).\n"
     ]
    },
    {
     "name": "stderr",
     "output_type": "stream",
     "text": [
      "100%|██████████████████████████████████████████████████████████████████████████████████████████████████████████████████████████████████████████████████████| 1000/1000 [00:02<00:00, 356.96it/s]\n"
     ]
    },
    {
     "name": "stdout",
     "output_type": "stream",
     "text": [
      "Done fitting bridge 3 / (7 + 0) (8 s).\n"
     ]
    },
    {
     "name": "stderr",
     "output_type": "stream",
     "text": [
      "100%|██████████████████████████████████████████████████████████████████████████████████████████████████████████████████████████████████████████████████████| 1000/1000 [00:02<00:00, 357.70it/s]\n"
     ]
    },
    {
     "name": "stdout",
     "output_type": "stream",
     "text": [
      "Done fitting bridge 4 / (7 + 0) (11 s).\n"
     ]
    },
    {
     "name": "stderr",
     "output_type": "stream",
     "text": [
      "100%|██████████████████████████████████████████████████████████████████████████████████████████████████████████████████████████████████████████████████████| 1000/1000 [00:02<00:00, 349.89it/s]\n"
     ]
    },
    {
     "name": "stdout",
     "output_type": "stream",
     "text": [
      "Done fitting bridge 5 / (7 + 0) (14 s).\n"
     ]
    },
    {
     "name": "stderr",
     "output_type": "stream",
     "text": [
      "100%|██████████████████████████████████████████████████████████████████████████████████████████████████████████████████████████████████████████████████████| 1000/1000 [00:02<00:00, 350.27it/s]\n"
     ]
    },
    {
     "name": "stdout",
     "output_type": "stream",
     "text": [
      "Done fitting bridge 6 / (7 + 0) (17 s).\n"
     ]
    },
    {
     "name": "stderr",
     "output_type": "stream",
     "text": [
      "100%|██████████████████████████████████████████████████████████████████████████████████████████████████████████████████████████████████████████████████████| 1000/1000 [00:03<00:00, 333.29it/s]\n"
     ]
    },
    {
     "name": "stdout",
     "output_type": "stream",
     "text": [
      "Done fitting bridge 7 / (7 + 0) (20 s).\n",
      "Train mean: 0.285\n",
      "True means          :0.398 0.389 0.382 0.369 0.357 0.350 0.349 \n",
      "Imputed means       :0.430 0.414 0.404 0.395 0.384 0.378 0.378 \n",
      "PP extra WM means   :0.446 0.415 0.394 0.384 0.372 0.366 0.366 \n",
      "PP no extra WM means:0.446 0.429 0.415 0.403 0.353 0.363 0.362 \n",
      "Done with trial 3 / 20 (165 s)\n",
      "Problem has sequence length 50\n",
      "Loading waymarks in the following order for k = 0, 1, ... where k = 0 is the target design distribution.\n",
      "[0.01, 0.05, 0.1, 0.2, 0.3, 0.4, 0.5]\n",
      "Loading from /data/wongfanc/dre-data/data/120423/L50_RNA1/trial3/seed4-n5000-nmut4-threshold0.01.npz\n",
      "Loading from /data/wongfanc/dre-data/data/120423/L50_RNA1/trial3/seed4-n5000-nmut4-threshold0.05.npz\n",
      "Loading from /data/wongfanc/dre-data/data/120423/L50_RNA1/trial3/seed4-n5000-nmut4-threshold0.1.npz\n",
      "Loading from /data/wongfanc/dre-data/data/120423/L50_RNA1/trial3/seed4-n5000-nmut4-threshold0.2.npz\n",
      "Loading from /data/wongfanc/dre-data/data/120423/L50_RNA1/trial3/seed4-n5000-nmut4-threshold0.3.npz\n",
      "Loading from /data/wongfanc/dre-data/data/120423/L50_RNA1/trial3/seed4-n5000-nmut4-threshold0.4.npz\n",
      "Loading from /data/wongfanc/dre-data/data/120423/L50_RNA1/trial3/seed4-n5000-nmut4-threshold0.5.npz\n",
      "X_m1xnxd is shape (7, 20000, 200), Xm_nxp is shape (5000, 200). 7 waymarks provided\n",
      "Waymark 1 / 4 has 160, 40 dimensions from P0, Pm.\n",
      "Waymark 2 / 4 has 120, 80 dimensions from P0, Pm.\n",
      "Waymark 3 / 4 has 80, 120 dimensions from P0, Pm.\n",
      "Waymark 4 / 4 has 40, 160 dimensions from P0, Pm.\n",
      "Shape of waymarks after last HP: (4, 20000, 200). Shape of X_m1xnxd: (11, 20000, 200)\n"
     ]
    },
    {
     "name": "stderr",
     "output_type": "stream",
     "text": [
      "100%|██████████████████████████████████████████████████████████████████████████████████████████████████████████████████████████████████████████████████████| 1000/1000 [00:02<00:00, 349.52it/s]\n"
     ]
    },
    {
     "name": "stdout",
     "output_type": "stream",
     "text": [
      "Done fitting bridge 1 / (7 + 4) (2 s).\n"
     ]
    },
    {
     "name": "stderr",
     "output_type": "stream",
     "text": [
      "100%|██████████████████████████████████████████████████████████████████████████████████████████████████████████████████████████████████████████████████████| 1000/1000 [00:02<00:00, 341.82it/s]\n"
     ]
    },
    {
     "name": "stdout",
     "output_type": "stream",
     "text": [
      "Done fitting bridge 2 / (7 + 4) (5 s).\n"
     ]
    },
    {
     "name": "stderr",
     "output_type": "stream",
     "text": [
      "100%|██████████████████████████████████████████████████████████████████████████████████████████████████████████████████████████████████████████████████████| 1000/1000 [00:02<00:00, 357.24it/s]\n"
     ]
    },
    {
     "name": "stdout",
     "output_type": "stream",
     "text": [
      "Done fitting bridge 3 / (7 + 4) (8 s).\n"
     ]
    },
    {
     "name": "stderr",
     "output_type": "stream",
     "text": [
      "100%|██████████████████████████████████████████████████████████████████████████████████████████████████████████████████████████████████████████████████████| 1000/1000 [00:02<00:00, 353.29it/s]\n"
     ]
    },
    {
     "name": "stdout",
     "output_type": "stream",
     "text": [
      "Done fitting bridge 4 / (7 + 4) (11 s).\n"
     ]
    },
    {
     "name": "stderr",
     "output_type": "stream",
     "text": [
      "100%|██████████████████████████████████████████████████████████████████████████████████████████████████████████████████████████████████████████████████████| 1000/1000 [00:02<00:00, 355.30it/s]\n"
     ]
    },
    {
     "name": "stdout",
     "output_type": "stream",
     "text": [
      "Done fitting bridge 5 / (7 + 4) (14 s).\n"
     ]
    },
    {
     "name": "stderr",
     "output_type": "stream",
     "text": [
      "100%|██████████████████████████████████████████████████████████████████████████████████████████████████████████████████████████████████████████████████████| 1000/1000 [00:02<00:00, 352.45it/s]\n"
     ]
    },
    {
     "name": "stdout",
     "output_type": "stream",
     "text": [
      "Done fitting bridge 6 / (7 + 4) (17 s).\n"
     ]
    },
    {
     "name": "stderr",
     "output_type": "stream",
     "text": [
      "100%|██████████████████████████████████████████████████████████████████████████████████████████████████████████████████████████████████████████████████████| 1000/1000 [00:02<00:00, 350.38it/s]\n"
     ]
    },
    {
     "name": "stdout",
     "output_type": "stream",
     "text": [
      "Done fitting bridge 7 / (7 + 4) (20 s).\n"
     ]
    },
    {
     "name": "stderr",
     "output_type": "stream",
     "text": [
      "100%|██████████████████████████████████████████████████████████████████████████████████████████████████████████████████████████████████████████████████████| 1000/1000 [00:02<00:00, 344.84it/s]\n"
     ]
    },
    {
     "name": "stdout",
     "output_type": "stream",
     "text": [
      "Done fitting bridge 8 / (7 + 4) (22 s).\n"
     ]
    },
    {
     "name": "stderr",
     "output_type": "stream",
     "text": [
      "100%|██████████████████████████████████████████████████████████████████████████████████████████████████████████████████████████████████████████████████████| 1000/1000 [00:02<00:00, 350.95it/s]\n"
     ]
    },
    {
     "name": "stdout",
     "output_type": "stream",
     "text": [
      "Done fitting bridge 9 / (7 + 4) (25 s).\n"
     ]
    },
    {
     "name": "stderr",
     "output_type": "stream",
     "text": [
      "100%|██████████████████████████████████████████████████████████████████████████████████████████████████████████████████████████████████████████████████████| 1000/1000 [00:02<00:00, 340.46it/s]\n"
     ]
    },
    {
     "name": "stdout",
     "output_type": "stream",
     "text": [
      "Done fitting bridge 10 / (7 + 4) (28 s).\n"
     ]
    },
    {
     "name": "stderr",
     "output_type": "stream",
     "text": [
      "100%|██████████████████████████████████████████████████████████████████████████████████████████████████████████████████████████████████████████████████████| 1000/1000 [00:03<00:00, 331.72it/s]\n"
     ]
    },
    {
     "name": "stdout",
     "output_type": "stream",
     "text": [
      "Done fitting bridge 11 / (7 + 4) (31 s).\n",
      "X_m1xnxd is shape (7, 20000, 200), Xm_nxp is shape (5000, 200). 7 waymarks provided\n"
     ]
    },
    {
     "name": "stderr",
     "output_type": "stream",
     "text": [
      "100%|██████████████████████████████████████████████████████████████████████████████████████████████████████████████████████████████████████████████████████| 1000/1000 [00:02<00:00, 333.69it/s]\n"
     ]
    },
    {
     "name": "stdout",
     "output_type": "stream",
     "text": [
      "Done fitting bridge 1 / (7 + 0) (3 s).\n"
     ]
    },
    {
     "name": "stderr",
     "output_type": "stream",
     "text": [
      "100%|██████████████████████████████████████████████████████████████████████████████████████████████████████████████████████████████████████████████████████| 1000/1000 [00:02<00:00, 337.73it/s]\n"
     ]
    },
    {
     "name": "stdout",
     "output_type": "stream",
     "text": [
      "Done fitting bridge 2 / (7 + 0) (5 s).\n"
     ]
    },
    {
     "name": "stderr",
     "output_type": "stream",
     "text": [
      "100%|██████████████████████████████████████████████████████████████████████████████████████████████████████████████████████████████████████████████████████| 1000/1000 [00:02<00:00, 354.15it/s]\n"
     ]
    },
    {
     "name": "stdout",
     "output_type": "stream",
     "text": [
      "Done fitting bridge 3 / (7 + 0) (8 s).\n"
     ]
    },
    {
     "name": "stderr",
     "output_type": "stream",
     "text": [
      "100%|██████████████████████████████████████████████████████████████████████████████████████████████████████████████████████████████████████████████████████| 1000/1000 [00:02<00:00, 354.29it/s]\n"
     ]
    },
    {
     "name": "stdout",
     "output_type": "stream",
     "text": [
      "Done fitting bridge 4 / (7 + 0) (11 s).\n"
     ]
    },
    {
     "name": "stderr",
     "output_type": "stream",
     "text": [
      "100%|██████████████████████████████████████████████████████████████████████████████████████████████████████████████████████████████████████████████████████| 1000/1000 [00:02<00:00, 356.68it/s]\n"
     ]
    },
    {
     "name": "stdout",
     "output_type": "stream",
     "text": [
      "Done fitting bridge 5 / (7 + 0) (14 s).\n"
     ]
    },
    {
     "name": "stderr",
     "output_type": "stream",
     "text": [
      "100%|██████████████████████████████████████████████████████████████████████████████████████████████████████████████████████████████████████████████████████| 1000/1000 [00:02<00:00, 349.96it/s]\n"
     ]
    },
    {
     "name": "stdout",
     "output_type": "stream",
     "text": [
      "Done fitting bridge 6 / (7 + 0) (17 s).\n"
     ]
    },
    {
     "name": "stderr",
     "output_type": "stream",
     "text": [
      "100%|██████████████████████████████████████████████████████████████████████████████████████████████████████████████████████████████████████████████████████| 1000/1000 [00:02<00:00, 338.46it/s]\n"
     ]
    },
    {
     "name": "stdout",
     "output_type": "stream",
     "text": [
      "Done fitting bridge 7 / (7 + 0) (20 s).\n",
      "Train mean: 0.284\n",
      "True means          :0.410 0.409 0.394 0.369 0.354 0.347 0.344 \n",
      "Imputed means       :0.432 0.433 0.421 0.405 0.395 0.389 0.386 \n",
      "PP extra WM means   :0.470 0.398 0.415 0.405 0.425 0.423 0.421 \n",
      "PP no extra WM means:0.486 0.482 0.439 0.416 0.393 0.391 0.389 \n",
      "Done with trial 4 / 20 (221 s)\n",
      "Problem has sequence length 50\n",
      "Loading waymarks in the following order for k = 0, 1, ... where k = 0 is the target design distribution.\n",
      "[0.01, 0.05, 0.1, 0.2, 0.3, 0.4, 0.5]\n",
      "Loading from /data/wongfanc/dre-data/data/120423/L50_RNA1/trial4/seed4-n5000-nmut4-threshold0.01.npz\n",
      "Loading from /data/wongfanc/dre-data/data/120423/L50_RNA1/trial4/seed4-n5000-nmut4-threshold0.05.npz\n",
      "Loading from /data/wongfanc/dre-data/data/120423/L50_RNA1/trial4/seed4-n5000-nmut4-threshold0.1.npz\n",
      "Loading from /data/wongfanc/dre-data/data/120423/L50_RNA1/trial4/seed4-n5000-nmut4-threshold0.2.npz\n",
      "Loading from /data/wongfanc/dre-data/data/120423/L50_RNA1/trial4/seed4-n5000-nmut4-threshold0.3.npz\n",
      "Loading from /data/wongfanc/dre-data/data/120423/L50_RNA1/trial4/seed4-n5000-nmut4-threshold0.4.npz\n",
      "Loading from /data/wongfanc/dre-data/data/120423/L50_RNA1/trial4/seed4-n5000-nmut4-threshold0.5.npz\n",
      "X_m1xnxd is shape (7, 20000, 200), Xm_nxp is shape (5000, 200). 7 waymarks provided\n",
      "Waymark 1 / 4 has 160, 40 dimensions from P0, Pm.\n",
      "Waymark 2 / 4 has 120, 80 dimensions from P0, Pm.\n",
      "Waymark 3 / 4 has 80, 120 dimensions from P0, Pm.\n",
      "Waymark 4 / 4 has 40, 160 dimensions from P0, Pm.\n",
      "Shape of waymarks after last HP: (4, 20000, 200). Shape of X_m1xnxd: (11, 20000, 200)\n"
     ]
    },
    {
     "name": "stderr",
     "output_type": "stream",
     "text": [
      "100%|██████████████████████████████████████████████████████████████████████████████████████████████████████████████████████████████████████████████████████| 1000/1000 [00:03<00:00, 330.40it/s]\n"
     ]
    },
    {
     "name": "stdout",
     "output_type": "stream",
     "text": [
      "Done fitting bridge 1 / (7 + 4) (3 s).\n"
     ]
    },
    {
     "name": "stderr",
     "output_type": "stream",
     "text": [
      "100%|██████████████████████████████████████████████████████████████████████████████████████████████████████████████████████████████████████████████████████| 1000/1000 [00:02<00:00, 333.58it/s]\n"
     ]
    },
    {
     "name": "stdout",
     "output_type": "stream",
     "text": [
      "Done fitting bridge 2 / (7 + 4) (6 s).\n"
     ]
    },
    {
     "name": "stderr",
     "output_type": "stream",
     "text": [
      "100%|██████████████████████████████████████████████████████████████████████████████████████████████████████████████████████████████████████████████████████| 1000/1000 [00:02<00:00, 338.36it/s]\n"
     ]
    },
    {
     "name": "stdout",
     "output_type": "stream",
     "text": [
      "Done fitting bridge 3 / (7 + 4) (9 s).\n"
     ]
    },
    {
     "name": "stderr",
     "output_type": "stream",
     "text": [
      "100%|██████████████████████████████████████████████████████████████████████████████████████████████████████████████████████████████████████████████████████| 1000/1000 [00:02<00:00, 347.52it/s]\n"
     ]
    },
    {
     "name": "stdout",
     "output_type": "stream",
     "text": [
      "Done fitting bridge 4 / (7 + 4) (11 s).\n"
     ]
    },
    {
     "name": "stderr",
     "output_type": "stream",
     "text": [
      "100%|██████████████████████████████████████████████████████████████████████████████████████████████████████████████████████████████████████████████████████| 1000/1000 [00:02<00:00, 352.20it/s]\n"
     ]
    },
    {
     "name": "stdout",
     "output_type": "stream",
     "text": [
      "Done fitting bridge 5 / (7 + 4) (14 s).\n"
     ]
    },
    {
     "name": "stderr",
     "output_type": "stream",
     "text": [
      "100%|██████████████████████████████████████████████████████████████████████████████████████████████████████████████████████████████████████████████████████| 1000/1000 [00:02<00:00, 341.81it/s]\n"
     ]
    },
    {
     "name": "stdout",
     "output_type": "stream",
     "text": [
      "Done fitting bridge 6 / (7 + 4) (17 s).\n"
     ]
    },
    {
     "name": "stderr",
     "output_type": "stream",
     "text": [
      "100%|██████████████████████████████████████████████████████████████████████████████████████████████████████████████████████████████████████████████████████| 1000/1000 [00:03<00:00, 332.73it/s]\n"
     ]
    },
    {
     "name": "stdout",
     "output_type": "stream",
     "text": [
      "Done fitting bridge 7 / (7 + 4) (20 s).\n"
     ]
    },
    {
     "name": "stderr",
     "output_type": "stream",
     "text": [
      "100%|██████████████████████████████████████████████████████████████████████████████████████████████████████████████████████████████████████████████████████| 1000/1000 [00:02<00:00, 343.83it/s]\n"
     ]
    },
    {
     "name": "stdout",
     "output_type": "stream",
     "text": [
      "Done fitting bridge 8 / (7 + 4) (23 s).\n"
     ]
    },
    {
     "name": "stderr",
     "output_type": "stream",
     "text": [
      "100%|██████████████████████████████████████████████████████████████████████████████████████████████████████████████████████████████████████████████████████| 1000/1000 [00:02<00:00, 342.04it/s]\n"
     ]
    },
    {
     "name": "stdout",
     "output_type": "stream",
     "text": [
      "Done fitting bridge 9 / (7 + 4) (26 s).\n"
     ]
    },
    {
     "name": "stderr",
     "output_type": "stream",
     "text": [
      "100%|██████████████████████████████████████████████████████████████████████████████████████████████████████████████████████████████████████████████████████| 1000/1000 [00:02<00:00, 351.68it/s]\n"
     ]
    },
    {
     "name": "stdout",
     "output_type": "stream",
     "text": [
      "Done fitting bridge 10 / (7 + 4) (29 s).\n"
     ]
    },
    {
     "name": "stderr",
     "output_type": "stream",
     "text": [
      "100%|██████████████████████████████████████████████████████████████████████████████████████████████████████████████████████████████████████████████████████| 1000/1000 [00:02<00:00, 355.71it/s]\n"
     ]
    },
    {
     "name": "stdout",
     "output_type": "stream",
     "text": [
      "Done fitting bridge 11 / (7 + 4) (32 s).\n",
      "X_m1xnxd is shape (7, 20000, 200), Xm_nxp is shape (5000, 200). 7 waymarks provided\n"
     ]
    },
    {
     "name": "stderr",
     "output_type": "stream",
     "text": [
      "100%|██████████████████████████████████████████████████████████████████████████████████████████████████████████████████████████████████████████████████████| 1000/1000 [00:02<00:00, 347.84it/s]\n"
     ]
    },
    {
     "name": "stdout",
     "output_type": "stream",
     "text": [
      "Done fitting bridge 1 / (7 + 0) (2 s).\n"
     ]
    },
    {
     "name": "stderr",
     "output_type": "stream",
     "text": [
      "100%|██████████████████████████████████████████████████████████████████████████████████████████████████████████████████████████████████████████████████████| 1000/1000 [00:02<00:00, 355.10it/s]\n"
     ]
    },
    {
     "name": "stdout",
     "output_type": "stream",
     "text": [
      "Done fitting bridge 2 / (7 + 0) (5 s).\n"
     ]
    },
    {
     "name": "stderr",
     "output_type": "stream",
     "text": [
      "100%|██████████████████████████████████████████████████████████████████████████████████████████████████████████████████████████████████████████████████████| 1000/1000 [00:02<00:00, 355.21it/s]\n"
     ]
    },
    {
     "name": "stdout",
     "output_type": "stream",
     "text": [
      "Done fitting bridge 3 / (7 + 0) (8 s).\n"
     ]
    },
    {
     "name": "stderr",
     "output_type": "stream",
     "text": [
      "100%|██████████████████████████████████████████████████████████████████████████████████████████████████████████████████████████████████████████████████████| 1000/1000 [00:02<00:00, 361.53it/s]\n"
     ]
    },
    {
     "name": "stdout",
     "output_type": "stream",
     "text": [
      "Done fitting bridge 4 / (7 + 0) (11 s).\n"
     ]
    },
    {
     "name": "stderr",
     "output_type": "stream",
     "text": [
      "100%|██████████████████████████████████████████████████████████████████████████████████████████████████████████████████████████████████████████████████████| 1000/1000 [00:02<00:00, 349.08it/s]\n"
     ]
    },
    {
     "name": "stdout",
     "output_type": "stream",
     "text": [
      "Done fitting bridge 5 / (7 + 0) (14 s).\n"
     ]
    },
    {
     "name": "stderr",
     "output_type": "stream",
     "text": [
      "100%|██████████████████████████████████████████████████████████████████████████████████████████████████████████████████████████████████████████████████████| 1000/1000 [00:02<00:00, 342.32it/s]\n"
     ]
    },
    {
     "name": "stdout",
     "output_type": "stream",
     "text": [
      "Done fitting bridge 6 / (7 + 0) (17 s).\n"
     ]
    },
    {
     "name": "stderr",
     "output_type": "stream",
     "text": [
      "100%|██████████████████████████████████████████████████████████████████████████████████████████████████████████████████████████████████████████████████████| 1000/1000 [00:03<00:00, 318.55it/s]\n"
     ]
    },
    {
     "name": "stdout",
     "output_type": "stream",
     "text": [
      "Done fitting bridge 7 / (7 + 0) (20 s).\n",
      "Train mean: 0.285\n",
      "True means          :0.393 0.394 0.382 0.367 0.357 0.349 0.346 \n",
      "Imputed means       :0.415 0.413 0.404 0.392 0.382 0.375 0.372 \n",
      "PP extra WM means   :0.430 0.401 0.387 0.391 0.402 0.396 0.394 \n",
      "PP no extra WM means:0.429 0.393 0.384 0.370 0.376 0.371 0.369 \n",
      "Done with trial 5 / 20 (277 s)\n",
      "Problem has sequence length 50\n",
      "Loading waymarks in the following order for k = 0, 1, ... where k = 0 is the target design distribution.\n",
      "[0.01, 0.05, 0.1, 0.2, 0.3, 0.4, 0.5]\n",
      "Loading from /data/wongfanc/dre-data/data/120423/L50_RNA1/trial5/seed4-n5000-nmut4-threshold0.01.npz\n",
      "Loading from /data/wongfanc/dre-data/data/120423/L50_RNA1/trial5/seed4-n5000-nmut4-threshold0.05.npz\n",
      "Loading from /data/wongfanc/dre-data/data/120423/L50_RNA1/trial5/seed4-n5000-nmut4-threshold0.1.npz\n",
      "Loading from /data/wongfanc/dre-data/data/120423/L50_RNA1/trial5/seed4-n5000-nmut4-threshold0.2.npz\n",
      "Loading from /data/wongfanc/dre-data/data/120423/L50_RNA1/trial5/seed4-n5000-nmut4-threshold0.3.npz\n",
      "Loading from /data/wongfanc/dre-data/data/120423/L50_RNA1/trial5/seed4-n5000-nmut4-threshold0.4.npz\n",
      "Loading from /data/wongfanc/dre-data/data/120423/L50_RNA1/trial5/seed4-n5000-nmut4-threshold0.5.npz\n",
      "X_m1xnxd is shape (7, 20000, 200), Xm_nxp is shape (5000, 200). 7 waymarks provided\n",
      "Waymark 1 / 4 has 160, 40 dimensions from P0, Pm.\n",
      "Waymark 2 / 4 has 120, 80 dimensions from P0, Pm.\n",
      "Waymark 3 / 4 has 80, 120 dimensions from P0, Pm.\n",
      "Waymark 4 / 4 has 40, 160 dimensions from P0, Pm.\n",
      "Shape of waymarks after last HP: (4, 20000, 200). Shape of X_m1xnxd: (11, 20000, 200)\n"
     ]
    },
    {
     "name": "stderr",
     "output_type": "stream",
     "text": [
      "100%|██████████████████████████████████████████████████████████████████████████████████████████████████████████████████████████████████████████████████████| 1000/1000 [00:03<00:00, 332.96it/s]\n"
     ]
    },
    {
     "name": "stdout",
     "output_type": "stream",
     "text": [
      "Done fitting bridge 1 / (7 + 4) (3 s).\n"
     ]
    },
    {
     "name": "stderr",
     "output_type": "stream",
     "text": [
      "100%|██████████████████████████████████████████████████████████████████████████████████████████████████████████████████████████████████████████████████████| 1000/1000 [00:03<00:00, 332.21it/s]\n"
     ]
    },
    {
     "name": "stdout",
     "output_type": "stream",
     "text": [
      "Done fitting bridge 2 / (7 + 4) (6 s).\n"
     ]
    },
    {
     "name": "stderr",
     "output_type": "stream",
     "text": [
      "100%|██████████████████████████████████████████████████████████████████████████████████████████████████████████████████████████████████████████████████████| 1000/1000 [00:03<00:00, 328.94it/s]\n"
     ]
    },
    {
     "name": "stdout",
     "output_type": "stream",
     "text": [
      "Done fitting bridge 3 / (7 + 4) (9 s).\n"
     ]
    },
    {
     "name": "stderr",
     "output_type": "stream",
     "text": [
      "100%|██████████████████████████████████████████████████████████████████████████████████████████████████████████████████████████████████████████████████████| 1000/1000 [00:02<00:00, 343.70it/s]\n"
     ]
    },
    {
     "name": "stdout",
     "output_type": "stream",
     "text": [
      "Done fitting bridge 4 / (7 + 4) (12 s).\n"
     ]
    },
    {
     "name": "stderr",
     "output_type": "stream",
     "text": [
      "100%|██████████████████████████████████████████████████████████████████████████████████████████████████████████████████████████████████████████████████████| 1000/1000 [00:02<00:00, 350.90it/s]\n"
     ]
    },
    {
     "name": "stdout",
     "output_type": "stream",
     "text": [
      "Done fitting bridge 5 / (7 + 4) (14 s).\n"
     ]
    },
    {
     "name": "stderr",
     "output_type": "stream",
     "text": [
      "100%|██████████████████████████████████████████████████████████████████████████████████████████████████████████████████████████████████████████████████████| 1000/1000 [00:02<00:00, 355.58it/s]\n"
     ]
    },
    {
     "name": "stdout",
     "output_type": "stream",
     "text": [
      "Done fitting bridge 6 / (7 + 4) (17 s).\n"
     ]
    },
    {
     "name": "stderr",
     "output_type": "stream",
     "text": [
      "100%|██████████████████████████████████████████████████████████████████████████████████████████████████████████████████████████████████████████████████████| 1000/1000 [00:02<00:00, 344.66it/s]\n"
     ]
    },
    {
     "name": "stdout",
     "output_type": "stream",
     "text": [
      "Done fitting bridge 7 / (7 + 4) (20 s).\n"
     ]
    },
    {
     "name": "stderr",
     "output_type": "stream",
     "text": [
      "100%|██████████████████████████████████████████████████████████████████████████████████████████████████████████████████████████████████████████████████████| 1000/1000 [00:02<00:00, 355.38it/s]\n"
     ]
    },
    {
     "name": "stdout",
     "output_type": "stream",
     "text": [
      "Done fitting bridge 8 / (7 + 4) (23 s).\n"
     ]
    },
    {
     "name": "stderr",
     "output_type": "stream",
     "text": [
      "100%|██████████████████████████████████████████████████████████████████████████████████████████████████████████████████████████████████████████████████████| 1000/1000 [00:02<00:00, 355.59it/s]\n"
     ]
    },
    {
     "name": "stdout",
     "output_type": "stream",
     "text": [
      "Done fitting bridge 9 / (7 + 4) (26 s).\n"
     ]
    },
    {
     "name": "stderr",
     "output_type": "stream",
     "text": [
      "100%|██████████████████████████████████████████████████████████████████████████████████████████████████████████████████████████████████████████████████████| 1000/1000 [00:02<00:00, 355.26it/s]\n"
     ]
    },
    {
     "name": "stdout",
     "output_type": "stream",
     "text": [
      "Done fitting bridge 10 / (7 + 4) (29 s).\n"
     ]
    },
    {
     "name": "stderr",
     "output_type": "stream",
     "text": [
      "100%|██████████████████████████████████████████████████████████████████████████████████████████████████████████████████████████████████████████████████████| 1000/1000 [00:02<00:00, 353.44it/s]\n"
     ]
    },
    {
     "name": "stdout",
     "output_type": "stream",
     "text": [
      "Done fitting bridge 11 / (7 + 4) (31 s).\n",
      "X_m1xnxd is shape (7, 20000, 200), Xm_nxp is shape (5000, 200). 7 waymarks provided\n"
     ]
    },
    {
     "name": "stderr",
     "output_type": "stream",
     "text": [
      "100%|██████████████████████████████████████████████████████████████████████████████████████████████████████████████████████████████████████████████████████| 1000/1000 [00:02<00:00, 341.73it/s]\n"
     ]
    },
    {
     "name": "stdout",
     "output_type": "stream",
     "text": [
      "Done fitting bridge 1 / (7 + 0) (2 s).\n"
     ]
    },
    {
     "name": "stderr",
     "output_type": "stream",
     "text": [
      "100%|██████████████████████████████████████████████████████████████████████████████████████████████████████████████████████████████████████████████████████| 1000/1000 [00:02<00:00, 353.67it/s]\n"
     ]
    },
    {
     "name": "stdout",
     "output_type": "stream",
     "text": [
      "Done fitting bridge 2 / (7 + 0) (5 s).\n"
     ]
    },
    {
     "name": "stderr",
     "output_type": "stream",
     "text": [
      "100%|██████████████████████████████████████████████████████████████████████████████████████████████████████████████████████████████████████████████████████| 1000/1000 [00:02<00:00, 356.72it/s]\n"
     ]
    },
    {
     "name": "stdout",
     "output_type": "stream",
     "text": [
      "Done fitting bridge 3 / (7 + 0) (8 s).\n"
     ]
    },
    {
     "name": "stderr",
     "output_type": "stream",
     "text": [
      "100%|██████████████████████████████████████████████████████████████████████████████████████████████████████████████████████████████████████████████████████| 1000/1000 [00:02<00:00, 352.95it/s]\n"
     ]
    },
    {
     "name": "stdout",
     "output_type": "stream",
     "text": [
      "Done fitting bridge 4 / (7 + 0) (11 s).\n"
     ]
    },
    {
     "name": "stderr",
     "output_type": "stream",
     "text": [
      "100%|██████████████████████████████████████████████████████████████████████████████████████████████████████████████████████████████████████████████████████| 1000/1000 [00:02<00:00, 336.66it/s]\n"
     ]
    },
    {
     "name": "stdout",
     "output_type": "stream",
     "text": [
      "Done fitting bridge 5 / (7 + 0) (14 s).\n"
     ]
    },
    {
     "name": "stderr",
     "output_type": "stream",
     "text": [
      "100%|██████████████████████████████████████████████████████████████████████████████████████████████████████████████████████████████████████████████████████| 1000/1000 [00:03<00:00, 283.19it/s]\n"
     ]
    },
    {
     "name": "stdout",
     "output_type": "stream",
     "text": [
      "Done fitting bridge 6 / (7 + 0) (18 s).\n"
     ]
    },
    {
     "name": "stderr",
     "output_type": "stream",
     "text": [
      "100%|██████████████████████████████████████████████████████████████████████████████████████████████████████████████████████████████████████████████████████| 1000/1000 [00:03<00:00, 327.23it/s]\n"
     ]
    },
    {
     "name": "stdout",
     "output_type": "stream",
     "text": [
      "Done fitting bridge 7 / (7 + 0) (21 s).\n",
      "Train mean: 0.286\n",
      "True means          :0.390 0.384 0.386 0.367 0.354 0.346 0.344 \n",
      "Imputed means       :0.431 0.423 0.424 0.403 0.395 0.386 0.385 \n",
      "PP extra WM means   :0.407 0.396 0.396 0.374 0.366 0.357 0.356 \n",
      "PP no extra WM means:0.446 0.438 0.438 0.417 0.410 0.400 0.400 \n",
      "Done with trial 6 / 20 (333 s)\n",
      "Problem has sequence length 50\n",
      "Loading waymarks in the following order for k = 0, 1, ... where k = 0 is the target design distribution.\n",
      "[0.01, 0.05, 0.1, 0.2, 0.3, 0.4, 0.5]\n",
      "Loading from /data/wongfanc/dre-data/data/120423/L50_RNA1/trial6/seed4-n5000-nmut4-threshold0.01.npz\n",
      "Loading from /data/wongfanc/dre-data/data/120423/L50_RNA1/trial6/seed4-n5000-nmut4-threshold0.05.npz\n",
      "Loading from /data/wongfanc/dre-data/data/120423/L50_RNA1/trial6/seed4-n5000-nmut4-threshold0.1.npz\n",
      "Loading from /data/wongfanc/dre-data/data/120423/L50_RNA1/trial6/seed4-n5000-nmut4-threshold0.2.npz\n",
      "Loading from /data/wongfanc/dre-data/data/120423/L50_RNA1/trial6/seed4-n5000-nmut4-threshold0.3.npz\n",
      "Loading from /data/wongfanc/dre-data/data/120423/L50_RNA1/trial6/seed4-n5000-nmut4-threshold0.4.npz\n",
      "Loading from /data/wongfanc/dre-data/data/120423/L50_RNA1/trial6/seed4-n5000-nmut4-threshold0.5.npz\n",
      "X_m1xnxd is shape (7, 20000, 200), Xm_nxp is shape (5000, 200). 7 waymarks provided\n",
      "Waymark 1 / 4 has 160, 40 dimensions from P0, Pm.\n",
      "Waymark 2 / 4 has 120, 80 dimensions from P0, Pm.\n",
      "Waymark 3 / 4 has 80, 120 dimensions from P0, Pm.\n",
      "Waymark 4 / 4 has 40, 160 dimensions from P0, Pm.\n",
      "Shape of waymarks after last HP: (4, 20000, 200). Shape of X_m1xnxd: (11, 20000, 200)\n"
     ]
    },
    {
     "name": "stderr",
     "output_type": "stream",
     "text": [
      "100%|██████████████████████████████████████████████████████████████████████████████████████████████████████████████████████████████████████████████████████| 1000/1000 [00:03<00:00, 331.39it/s]\n"
     ]
    },
    {
     "name": "stdout",
     "output_type": "stream",
     "text": [
      "Done fitting bridge 1 / (7 + 4) (3 s).\n"
     ]
    },
    {
     "name": "stderr",
     "output_type": "stream",
     "text": [
      "100%|██████████████████████████████████████████████████████████████████████████████████████████████████████████████████████████████████████████████████████| 1000/1000 [00:03<00:00, 332.12it/s]\n"
     ]
    },
    {
     "name": "stdout",
     "output_type": "stream",
     "text": [
      "Done fitting bridge 2 / (7 + 4) (6 s).\n"
     ]
    },
    {
     "name": "stderr",
     "output_type": "stream",
     "text": [
      "100%|██████████████████████████████████████████████████████████████████████████████████████████████████████████████████████████████████████████████████████| 1000/1000 [00:02<00:00, 350.59it/s]\n"
     ]
    },
    {
     "name": "stdout",
     "output_type": "stream",
     "text": [
      "Done fitting bridge 3 / (7 + 4) (8 s).\n"
     ]
    },
    {
     "name": "stderr",
     "output_type": "stream",
     "text": [
      "100%|██████████████████████████████████████████████████████████████████████████████████████████████████████████████████████████████████████████████████████| 1000/1000 [00:02<00:00, 349.43it/s]\n"
     ]
    },
    {
     "name": "stdout",
     "output_type": "stream",
     "text": [
      "Done fitting bridge 4 / (7 + 4) (11 s).\n"
     ]
    },
    {
     "name": "stderr",
     "output_type": "stream",
     "text": [
      "100%|██████████████████████████████████████████████████████████████████████████████████████████████████████████████████████████████████████████████████████| 1000/1000 [00:02<00:00, 350.56it/s]\n"
     ]
    },
    {
     "name": "stdout",
     "output_type": "stream",
     "text": [
      "Done fitting bridge 5 / (7 + 4) (14 s).\n"
     ]
    },
    {
     "name": "stderr",
     "output_type": "stream",
     "text": [
      "100%|██████████████████████████████████████████████████████████████████████████████████████████████████████████████████████████████████████████████████████| 1000/1000 [00:02<00:00, 333.95it/s]\n"
     ]
    },
    {
     "name": "stdout",
     "output_type": "stream",
     "text": [
      "Done fitting bridge 6 / (7 + 4) (17 s).\n"
     ]
    },
    {
     "name": "stderr",
     "output_type": "stream",
     "text": [
      "100%|██████████████████████████████████████████████████████████████████████████████████████████████████████████████████████████████████████████████████████| 1000/1000 [00:02<00:00, 337.85it/s]\n"
     ]
    },
    {
     "name": "stdout",
     "output_type": "stream",
     "text": [
      "Done fitting bridge 7 / (7 + 4) (20 s).\n"
     ]
    },
    {
     "name": "stderr",
     "output_type": "stream",
     "text": [
      "100%|██████████████████████████████████████████████████████████████████████████████████████████████████████████████████████████████████████████████████████| 1000/1000 [00:03<00:00, 317.01it/s]\n"
     ]
    },
    {
     "name": "stdout",
     "output_type": "stream",
     "text": [
      "Done fitting bridge 8 / (7 + 4) (23 s).\n"
     ]
    },
    {
     "name": "stderr",
     "output_type": "stream",
     "text": [
      "100%|██████████████████████████████████████████████████████████████████████████████████████████████████████████████████████████████████████████████████████| 1000/1000 [00:03<00:00, 330.28it/s]\n"
     ]
    },
    {
     "name": "stdout",
     "output_type": "stream",
     "text": [
      "Done fitting bridge 9 / (7 + 4) (26 s).\n"
     ]
    },
    {
     "name": "stderr",
     "output_type": "stream",
     "text": [
      "100%|██████████████████████████████████████████████████████████████████████████████████████████████████████████████████████████████████████████████████████| 1000/1000 [00:02<00:00, 349.75it/s]\n"
     ]
    },
    {
     "name": "stdout",
     "output_type": "stream",
     "text": [
      "Done fitting bridge 10 / (7 + 4) (29 s).\n"
     ]
    },
    {
     "name": "stderr",
     "output_type": "stream",
     "text": [
      "100%|██████████████████████████████████████████████████████████████████████████████████████████████████████████████████████████████████████████████████████| 1000/1000 [00:02<00:00, 354.89it/s]\n"
     ]
    },
    {
     "name": "stdout",
     "output_type": "stream",
     "text": [
      "Done fitting bridge 11 / (7 + 4) (32 s).\n",
      "X_m1xnxd is shape (7, 20000, 200), Xm_nxp is shape (5000, 200). 7 waymarks provided\n"
     ]
    },
    {
     "name": "stderr",
     "output_type": "stream",
     "text": [
      "100%|██████████████████████████████████████████████████████████████████████████████████████████████████████████████████████████████████████████████████████| 1000/1000 [00:02<00:00, 351.49it/s]\n"
     ]
    },
    {
     "name": "stdout",
     "output_type": "stream",
     "text": [
      "Done fitting bridge 1 / (7 + 0) (2 s).\n"
     ]
    },
    {
     "name": "stderr",
     "output_type": "stream",
     "text": [
      "100%|██████████████████████████████████████████████████████████████████████████████████████████████████████████████████████████████████████████████████████| 1000/1000 [00:02<00:00, 349.71it/s]\n"
     ]
    },
    {
     "name": "stdout",
     "output_type": "stream",
     "text": [
      "Done fitting bridge 2 / (7 + 0) (5 s).\n"
     ]
    },
    {
     "name": "stderr",
     "output_type": "stream",
     "text": [
      "100%|██████████████████████████████████████████████████████████████████████████████████████████████████████████████████████████████████████████████████████| 1000/1000 [00:02<00:00, 348.88it/s]\n"
     ]
    },
    {
     "name": "stdout",
     "output_type": "stream",
     "text": [
      "Done fitting bridge 3 / (7 + 0) (8 s).\n"
     ]
    },
    {
     "name": "stderr",
     "output_type": "stream",
     "text": [
      "100%|██████████████████████████████████████████████████████████████████████████████████████████████████████████████████████████████████████████████████████| 1000/1000 [00:02<00:00, 351.61it/s]\n"
     ]
    },
    {
     "name": "stdout",
     "output_type": "stream",
     "text": [
      "Done fitting bridge 4 / (7 + 0) (11 s).\n"
     ]
    },
    {
     "name": "stderr",
     "output_type": "stream",
     "text": [
      "100%|██████████████████████████████████████████████████████████████████████████████████████████████████████████████████████████████████████████████████████| 1000/1000 [00:03<00:00, 331.10it/s]\n"
     ]
    },
    {
     "name": "stdout",
     "output_type": "stream",
     "text": [
      "Done fitting bridge 5 / (7 + 0) (14 s).\n"
     ]
    },
    {
     "name": "stderr",
     "output_type": "stream",
     "text": [
      "100%|██████████████████████████████████████████████████████████████████████████████████████████████████████████████████████████████████████████████████████| 1000/1000 [00:02<00:00, 352.45it/s]\n"
     ]
    },
    {
     "name": "stdout",
     "output_type": "stream",
     "text": [
      "Done fitting bridge 6 / (7 + 0) (17 s).\n"
     ]
    },
    {
     "name": "stderr",
     "output_type": "stream",
     "text": [
      "100%|██████████████████████████████████████████████████████████████████████████████████████████████████████████████████████████████████████████████████████| 1000/1000 [00:02<00:00, 349.77it/s]\n"
     ]
    },
    {
     "name": "stdout",
     "output_type": "stream",
     "text": [
      "Done fitting bridge 7 / (7 + 0) (20 s).\n",
      "Train mean: 0.286\n",
      "True means          :0.389 0.398 0.388 0.367 0.355 0.344 0.343 \n",
      "Imputed means       :0.427 0.439 0.433 0.415 0.407 0.399 0.399 \n",
      "PP extra WM means   :0.436 0.423 0.364 0.376 0.363 0.355 0.356 \n",
      "PP no extra WM means:0.397 0.366 0.360 0.345 0.432 0.424 0.424 \n",
      "Done with trial 7 / 20 (390 s)\n",
      "Problem has sequence length 50\n",
      "Loading waymarks in the following order for k = 0, 1, ... where k = 0 is the target design distribution.\n",
      "[0.01, 0.05, 0.1, 0.2, 0.3, 0.4, 0.5]\n",
      "Loading from /data/wongfanc/dre-data/data/120423/L50_RNA1/trial7/seed4-n5000-nmut4-threshold0.01.npz\n",
      "Loading from /data/wongfanc/dre-data/data/120423/L50_RNA1/trial7/seed4-n5000-nmut4-threshold0.05.npz\n",
      "Loading from /data/wongfanc/dre-data/data/120423/L50_RNA1/trial7/seed4-n5000-nmut4-threshold0.1.npz\n",
      "Loading from /data/wongfanc/dre-data/data/120423/L50_RNA1/trial7/seed4-n5000-nmut4-threshold0.2.npz\n",
      "Loading from /data/wongfanc/dre-data/data/120423/L50_RNA1/trial7/seed4-n5000-nmut4-threshold0.3.npz\n",
      "Loading from /data/wongfanc/dre-data/data/120423/L50_RNA1/trial7/seed4-n5000-nmut4-threshold0.4.npz\n",
      "Loading from /data/wongfanc/dre-data/data/120423/L50_RNA1/trial7/seed4-n5000-nmut4-threshold0.5.npz\n",
      "X_m1xnxd is shape (7, 20000, 200), Xm_nxp is shape (5000, 200). 7 waymarks provided\n",
      "Waymark 1 / 4 has 160, 40 dimensions from P0, Pm.\n",
      "Waymark 2 / 4 has 120, 80 dimensions from P0, Pm.\n",
      "Waymark 3 / 4 has 80, 120 dimensions from P0, Pm.\n",
      "Waymark 4 / 4 has 40, 160 dimensions from P0, Pm.\n",
      "Shape of waymarks after last HP: (4, 20000, 200). Shape of X_m1xnxd: (11, 20000, 200)\n"
     ]
    },
    {
     "name": "stderr",
     "output_type": "stream",
     "text": [
      "100%|██████████████████████████████████████████████████████████████████████████████████████████████████████████████████████████████████████████████████████| 1000/1000 [00:03<00:00, 325.28it/s]\n"
     ]
    },
    {
     "name": "stdout",
     "output_type": "stream",
     "text": [
      "Done fitting bridge 1 / (7 + 4) (3 s).\n"
     ]
    },
    {
     "name": "stderr",
     "output_type": "stream",
     "text": [
      "100%|██████████████████████████████████████████████████████████████████████████████████████████████████████████████████████████████████████████████████████| 1000/1000 [00:03<00:00, 327.80it/s]\n"
     ]
    },
    {
     "name": "stdout",
     "output_type": "stream",
     "text": [
      "Done fitting bridge 2 / (7 + 4) (6 s).\n"
     ]
    },
    {
     "name": "stderr",
     "output_type": "stream",
     "text": [
      "100%|██████████████████████████████████████████████████████████████████████████████████████████████████████████████████████████████████████████████████████| 1000/1000 [00:03<00:00, 327.80it/s]\n"
     ]
    },
    {
     "name": "stdout",
     "output_type": "stream",
     "text": [
      "Done fitting bridge 3 / (7 + 4) (9 s).\n"
     ]
    },
    {
     "name": "stderr",
     "output_type": "stream",
     "text": [
      "100%|██████████████████████████████████████████████████████████████████████████████████████████████████████████████████████████████████████████████████████| 1000/1000 [00:03<00:00, 328.71it/s]\n"
     ]
    },
    {
     "name": "stdout",
     "output_type": "stream",
     "text": [
      "Done fitting bridge 4 / (7 + 4) (12 s).\n"
     ]
    },
    {
     "name": "stderr",
     "output_type": "stream",
     "text": [
      "100%|██████████████████████████████████████████████████████████████████████████████████████████████████████████████████████████████████████████████████████| 1000/1000 [00:03<00:00, 328.19it/s]\n"
     ]
    },
    {
     "name": "stdout",
     "output_type": "stream",
     "text": [
      "Done fitting bridge 5 / (7 + 4) (15 s).\n"
     ]
    },
    {
     "name": "stderr",
     "output_type": "stream",
     "text": [
      "100%|██████████████████████████████████████████████████████████████████████████████████████████████████████████████████████████████████████████████████████| 1000/1000 [00:03<00:00, 328.09it/s]\n"
     ]
    },
    {
     "name": "stdout",
     "output_type": "stream",
     "text": [
      "Done fitting bridge 6 / (7 + 4) (18 s).\n"
     ]
    },
    {
     "name": "stderr",
     "output_type": "stream",
     "text": [
      "100%|██████████████████████████████████████████████████████████████████████████████████████████████████████████████████████████████████████████████████████| 1000/1000 [00:02<00:00, 352.42it/s]\n"
     ]
    },
    {
     "name": "stdout",
     "output_type": "stream",
     "text": [
      "Done fitting bridge 7 / (7 + 4) (21 s).\n"
     ]
    },
    {
     "name": "stderr",
     "output_type": "stream",
     "text": [
      "100%|██████████████████████████████████████████████████████████████████████████████████████████████████████████████████████████████████████████████████████| 1000/1000 [00:02<00:00, 349.67it/s]\n"
     ]
    },
    {
     "name": "stdout",
     "output_type": "stream",
     "text": [
      "Done fitting bridge 8 / (7 + 4) (24 s).\n"
     ]
    },
    {
     "name": "stderr",
     "output_type": "stream",
     "text": [
      "100%|██████████████████████████████████████████████████████████████████████████████████████████████████████████████████████████████████████████████████████| 1000/1000 [00:02<00:00, 344.40it/s]\n"
     ]
    },
    {
     "name": "stdout",
     "output_type": "stream",
     "text": [
      "Done fitting bridge 9 / (7 + 4) (27 s).\n"
     ]
    },
    {
     "name": "stderr",
     "output_type": "stream",
     "text": [
      "100%|██████████████████████████████████████████████████████████████████████████████████████████████████████████████████████████████████████████████████████| 1000/1000 [00:02<00:00, 360.44it/s]\n"
     ]
    },
    {
     "name": "stdout",
     "output_type": "stream",
     "text": [
      "Done fitting bridge 10 / (7 + 4) (29 s).\n"
     ]
    },
    {
     "name": "stderr",
     "output_type": "stream",
     "text": [
      "100%|██████████████████████████████████████████████████████████████████████████████████████████████████████████████████████████████████████████████████████| 1000/1000 [00:03<00:00, 331.21it/s]\n"
     ]
    },
    {
     "name": "stdout",
     "output_type": "stream",
     "text": [
      "Done fitting bridge 11 / (7 + 4) (32 s).\n",
      "X_m1xnxd is shape (7, 20000, 200), Xm_nxp is shape (5000, 200). 7 waymarks provided\n"
     ]
    },
    {
     "name": "stderr",
     "output_type": "stream",
     "text": [
      "100%|██████████████████████████████████████████████████████████████████████████████████████████████████████████████████████████████████████████████████████| 1000/1000 [00:03<00:00, 330.74it/s]\n"
     ]
    },
    {
     "name": "stdout",
     "output_type": "stream",
     "text": [
      "Done fitting bridge 1 / (7 + 0) (3 s).\n"
     ]
    },
    {
     "name": "stderr",
     "output_type": "stream",
     "text": [
      "100%|██████████████████████████████████████████████████████████████████████████████████████████████████████████████████████████████████████████████████████| 1000/1000 [00:02<00:00, 348.66it/s]\n"
     ]
    },
    {
     "name": "stdout",
     "output_type": "stream",
     "text": [
      "Done fitting bridge 2 / (7 + 0) (5 s).\n"
     ]
    },
    {
     "name": "stderr",
     "output_type": "stream",
     "text": [
      "100%|██████████████████████████████████████████████████████████████████████████████████████████████████████████████████████████████████████████████████████| 1000/1000 [00:02<00:00, 350.47it/s]\n"
     ]
    },
    {
     "name": "stdout",
     "output_type": "stream",
     "text": [
      "Done fitting bridge 3 / (7 + 0) (8 s).\n"
     ]
    },
    {
     "name": "stderr",
     "output_type": "stream",
     "text": [
      "100%|██████████████████████████████████████████████████████████████████████████████████████████████████████████████████████████████████████████████████████| 1000/1000 [00:02<00:00, 357.08it/s]\n"
     ]
    },
    {
     "name": "stdout",
     "output_type": "stream",
     "text": [
      "Done fitting bridge 4 / (7 + 0) (11 s).\n"
     ]
    },
    {
     "name": "stderr",
     "output_type": "stream",
     "text": [
      "100%|██████████████████████████████████████████████████████████████████████████████████████████████████████████████████████████████████████████████████████| 1000/1000 [00:02<00:00, 342.18it/s]\n"
     ]
    },
    {
     "name": "stdout",
     "output_type": "stream",
     "text": [
      "Done fitting bridge 5 / (7 + 0) (14 s).\n"
     ]
    },
    {
     "name": "stderr",
     "output_type": "stream",
     "text": [
      "100%|██████████████████████████████████████████████████████████████████████████████████████████████████████████████████████████████████████████████████████| 1000/1000 [00:02<00:00, 348.72it/s]\n"
     ]
    },
    {
     "name": "stdout",
     "output_type": "stream",
     "text": [
      "Done fitting bridge 6 / (7 + 0) (17 s).\n"
     ]
    },
    {
     "name": "stderr",
     "output_type": "stream",
     "text": [
      "100%|██████████████████████████████████████████████████████████████████████████████████████████████████████████████████████████████████████████████████████| 1000/1000 [00:02<00:00, 351.08it/s]\n"
     ]
    },
    {
     "name": "stdout",
     "output_type": "stream",
     "text": [
      "Done fitting bridge 7 / (7 + 0) (20 s).\n",
      "Train mean: 0.285\n",
      "True means          :0.399 0.403 0.393 0.375 0.360 0.349 0.344 \n",
      "Imputed means       :0.435 0.436 0.429 0.408 0.397 0.388 0.384 \n",
      "PP extra WM means   :0.391 0.391 0.385 0.363 0.353 0.343 0.340 \n",
      "PP no extra WM means:0.440 0.440 0.434 0.420 0.426 0.415 0.411 \n",
      "Done with trial 8 / 20 (447 s)\n",
      "Problem has sequence length 50\n",
      "Loading waymarks in the following order for k = 0, 1, ... where k = 0 is the target design distribution.\n",
      "[0.01, 0.05, 0.1, 0.2, 0.3, 0.4, 0.5]\n",
      "Loading from /data/wongfanc/dre-data/data/120423/L50_RNA1/trial8/seed4-n5000-nmut4-threshold0.01.npz\n",
      "Loading from /data/wongfanc/dre-data/data/120423/L50_RNA1/trial8/seed4-n5000-nmut4-threshold0.05.npz\n",
      "Loading from /data/wongfanc/dre-data/data/120423/L50_RNA1/trial8/seed4-n5000-nmut4-threshold0.1.npz\n",
      "Loading from /data/wongfanc/dre-data/data/120423/L50_RNA1/trial8/seed4-n5000-nmut4-threshold0.2.npz\n",
      "Loading from /data/wongfanc/dre-data/data/120423/L50_RNA1/trial8/seed4-n5000-nmut4-threshold0.3.npz\n",
      "Loading from /data/wongfanc/dre-data/data/120423/L50_RNA1/trial8/seed4-n5000-nmut4-threshold0.4.npz\n",
      "Loading from /data/wongfanc/dre-data/data/120423/L50_RNA1/trial8/seed4-n5000-nmut4-threshold0.5.npz\n",
      "X_m1xnxd is shape (7, 20000, 200), Xm_nxp is shape (5000, 200). 7 waymarks provided\n",
      "Waymark 1 / 4 has 160, 40 dimensions from P0, Pm.\n",
      "Waymark 2 / 4 has 120, 80 dimensions from P0, Pm.\n",
      "Waymark 3 / 4 has 80, 120 dimensions from P0, Pm.\n",
      "Waymark 4 / 4 has 40, 160 dimensions from P0, Pm.\n",
      "Shape of waymarks after last HP: (4, 20000, 200). Shape of X_m1xnxd: (11, 20000, 200)\n"
     ]
    },
    {
     "name": "stderr",
     "output_type": "stream",
     "text": [
      "100%|██████████████████████████████████████████████████████████████████████████████████████████████████████████████████████████████████████████████████████| 1000/1000 [00:03<00:00, 315.58it/s]\n"
     ]
    },
    {
     "name": "stdout",
     "output_type": "stream",
     "text": [
      "Done fitting bridge 1 / (7 + 4) (3 s).\n"
     ]
    },
    {
     "name": "stderr",
     "output_type": "stream",
     "text": [
      "100%|██████████████████████████████████████████████████████████████████████████████████████████████████████████████████████████████████████████████████████| 1000/1000 [00:03<00:00, 317.30it/s]\n"
     ]
    },
    {
     "name": "stdout",
     "output_type": "stream",
     "text": [
      "Done fitting bridge 2 / (7 + 4) (6 s).\n"
     ]
    },
    {
     "name": "stderr",
     "output_type": "stream",
     "text": [
      "100%|██████████████████████████████████████████████████████████████████████████████████████████████████████████████████████████████████████████████████████| 1000/1000 [00:02<00:00, 349.65it/s]\n"
     ]
    },
    {
     "name": "stdout",
     "output_type": "stream",
     "text": [
      "Done fitting bridge 3 / (7 + 4) (9 s).\n"
     ]
    },
    {
     "name": "stderr",
     "output_type": "stream",
     "text": [
      "100%|██████████████████████████████████████████████████████████████████████████████████████████████████████████████████████████████████████████████████████| 1000/1000 [00:02<00:00, 350.47it/s]\n"
     ]
    },
    {
     "name": "stdout",
     "output_type": "stream",
     "text": [
      "Done fitting bridge 4 / (7 + 4) (12 s).\n"
     ]
    },
    {
     "name": "stderr",
     "output_type": "stream",
     "text": [
      "100%|██████████████████████████████████████████████████████████████████████████████████████████████████████████████████████████████████████████████████████| 1000/1000 [00:02<00:00, 349.88it/s]\n"
     ]
    },
    {
     "name": "stdout",
     "output_type": "stream",
     "text": [
      "Done fitting bridge 5 / (7 + 4) (14 s).\n"
     ]
    },
    {
     "name": "stderr",
     "output_type": "stream",
     "text": [
      "100%|██████████████████████████████████████████████████████████████████████████████████████████████████████████████████████████████████████████████████████| 1000/1000 [00:02<00:00, 348.13it/s]\n"
     ]
    },
    {
     "name": "stdout",
     "output_type": "stream",
     "text": [
      "Done fitting bridge 6 / (7 + 4) (17 s).\n"
     ]
    },
    {
     "name": "stderr",
     "output_type": "stream",
     "text": [
      "100%|██████████████████████████████████████████████████████████████████████████████████████████████████████████████████████████████████████████████████████| 1000/1000 [00:03<00:00, 329.31it/s]\n"
     ]
    },
    {
     "name": "stdout",
     "output_type": "stream",
     "text": [
      "Done fitting bridge 7 / (7 + 4) (20 s).\n"
     ]
    },
    {
     "name": "stderr",
     "output_type": "stream",
     "text": [
      "100%|██████████████████████████████████████████████████████████████████████████████████████████████████████████████████████████████████████████████████████| 1000/1000 [00:03<00:00, 330.47it/s]\n"
     ]
    },
    {
     "name": "stdout",
     "output_type": "stream",
     "text": [
      "Done fitting bridge 8 / (7 + 4) (23 s).\n"
     ]
    },
    {
     "name": "stderr",
     "output_type": "stream",
     "text": [
      "100%|██████████████████████████████████████████████████████████████████████████████████████████████████████████████████████████████████████████████████████| 1000/1000 [00:02<00:00, 349.79it/s]\n"
     ]
    },
    {
     "name": "stdout",
     "output_type": "stream",
     "text": [
      "Done fitting bridge 9 / (7 + 4) (26 s).\n"
     ]
    },
    {
     "name": "stderr",
     "output_type": "stream",
     "text": [
      "100%|██████████████████████████████████████████████████████████████████████████████████████████████████████████████████████████████████████████████████████| 1000/1000 [00:02<00:00, 352.88it/s]\n"
     ]
    },
    {
     "name": "stdout",
     "output_type": "stream",
     "text": [
      "Done fitting bridge 10 / (7 + 4) (29 s).\n"
     ]
    },
    {
     "name": "stderr",
     "output_type": "stream",
     "text": [
      "100%|██████████████████████████████████████████████████████████████████████████████████████████████████████████████████████████████████████████████████████| 1000/1000 [00:02<00:00, 350.59it/s]\n"
     ]
    },
    {
     "name": "stdout",
     "output_type": "stream",
     "text": [
      "Done fitting bridge 11 / (7 + 4) (32 s).\n",
      "X_m1xnxd is shape (7, 20000, 200), Xm_nxp is shape (5000, 200). 7 waymarks provided\n"
     ]
    },
    {
     "name": "stderr",
     "output_type": "stream",
     "text": [
      "100%|██████████████████████████████████████████████████████████████████████████████████████████████████████████████████████████████████████████████████████| 1000/1000 [00:03<00:00, 328.01it/s]\n"
     ]
    },
    {
     "name": "stdout",
     "output_type": "stream",
     "text": [
      "Done fitting bridge 1 / (7 + 0) (3 s).\n"
     ]
    },
    {
     "name": "stderr",
     "output_type": "stream",
     "text": [
      "100%|██████████████████████████████████████████████████████████████████████████████████████████████████████████████████████████████████████████████████████| 1000/1000 [00:03<00:00, 330.05it/s]\n"
     ]
    },
    {
     "name": "stdout",
     "output_type": "stream",
     "text": [
      "Done fitting bridge 2 / (7 + 0) (6 s).\n"
     ]
    },
    {
     "name": "stderr",
     "output_type": "stream",
     "text": [
      "100%|██████████████████████████████████████████████████████████████████████████████████████████████████████████████████████████████████████████████████████| 1000/1000 [00:02<00:00, 349.02it/s]\n"
     ]
    },
    {
     "name": "stdout",
     "output_type": "stream",
     "text": [
      "Done fitting bridge 3 / (7 + 0) (9 s).\n"
     ]
    },
    {
     "name": "stderr",
     "output_type": "stream",
     "text": [
      "100%|██████████████████████████████████████████████████████████████████████████████████████████████████████████████████████████████████████████████████████| 1000/1000 [00:02<00:00, 349.10it/s]\n"
     ]
    },
    {
     "name": "stdout",
     "output_type": "stream",
     "text": [
      "Done fitting bridge 4 / (7 + 0) (11 s).\n"
     ]
    },
    {
     "name": "stderr",
     "output_type": "stream",
     "text": [
      "100%|██████████████████████████████████████████████████████████████████████████████████████████████████████████████████████████████████████████████████████| 1000/1000 [00:02<00:00, 347.81it/s]\n"
     ]
    },
    {
     "name": "stdout",
     "output_type": "stream",
     "text": [
      "Done fitting bridge 5 / (7 + 0) (14 s).\n"
     ]
    },
    {
     "name": "stderr",
     "output_type": "stream",
     "text": [
      "100%|██████████████████████████████████████████████████████████████████████████████████████████████████████████████████████████████████████████████████████| 1000/1000 [00:02<00:00, 347.07it/s]\n"
     ]
    },
    {
     "name": "stdout",
     "output_type": "stream",
     "text": [
      "Done fitting bridge 6 / (7 + 0) (17 s).\n"
     ]
    },
    {
     "name": "stderr",
     "output_type": "stream",
     "text": [
      "100%|██████████████████████████████████████████████████████████████████████████████████████████████████████████████████████████████████████████████████████| 1000/1000 [00:02<00:00, 347.11it/s]\n"
     ]
    },
    {
     "name": "stdout",
     "output_type": "stream",
     "text": [
      "Done fitting bridge 7 / (7 + 0) (20 s).\n",
      "Train mean: 0.286\n",
      "True means          :0.399 0.389 0.381 0.367 0.353 0.346 0.345 \n",
      "Imputed means       :0.431 0.426 0.414 0.402 0.391 0.385 0.386 \n",
      "PP extra WM means   :0.448 0.444 0.432 0.419 0.408 0.401 0.401 \n",
      "PP no extra WM means:0.452 0.449 0.437 0.401 0.392 0.394 0.387 \n",
      "Done with trial 9 / 20 (503 s)\n",
      "Problem has sequence length 50\n",
      "Loading waymarks in the following order for k = 0, 1, ... where k = 0 is the target design distribution.\n",
      "[0.01, 0.05, 0.1, 0.2, 0.3, 0.4, 0.5]\n",
      "Loading from /data/wongfanc/dre-data/data/120423/L50_RNA1/trial9/seed4-n5000-nmut4-threshold0.01.npz\n",
      "Loading from /data/wongfanc/dre-data/data/120423/L50_RNA1/trial9/seed4-n5000-nmut4-threshold0.05.npz\n",
      "Loading from /data/wongfanc/dre-data/data/120423/L50_RNA1/trial9/seed4-n5000-nmut4-threshold0.1.npz\n",
      "Loading from /data/wongfanc/dre-data/data/120423/L50_RNA1/trial9/seed4-n5000-nmut4-threshold0.2.npz\n",
      "Loading from /data/wongfanc/dre-data/data/120423/L50_RNA1/trial9/seed4-n5000-nmut4-threshold0.3.npz\n",
      "Loading from /data/wongfanc/dre-data/data/120423/L50_RNA1/trial9/seed4-n5000-nmut4-threshold0.4.npz\n",
      "Loading from /data/wongfanc/dre-data/data/120423/L50_RNA1/trial9/seed4-n5000-nmut4-threshold0.5.npz\n",
      "X_m1xnxd is shape (7, 20000, 200), Xm_nxp is shape (5000, 200). 7 waymarks provided\n",
      "Waymark 1 / 4 has 160, 40 dimensions from P0, Pm.\n",
      "Waymark 2 / 4 has 120, 80 dimensions from P0, Pm.\n",
      "Waymark 3 / 4 has 80, 120 dimensions from P0, Pm.\n",
      "Waymark 4 / 4 has 40, 160 dimensions from P0, Pm.\n",
      "Shape of waymarks after last HP: (4, 20000, 200). Shape of X_m1xnxd: (11, 20000, 200)\n"
     ]
    },
    {
     "name": "stderr",
     "output_type": "stream",
     "text": [
      "100%|██████████████████████████████████████████████████████████████████████████████████████████████████████████████████████████████████████████████████████| 1000/1000 [00:02<00:00, 338.45it/s]\n"
     ]
    },
    {
     "name": "stdout",
     "output_type": "stream",
     "text": [
      "Done fitting bridge 1 / (7 + 4) (2 s).\n"
     ]
    },
    {
     "name": "stderr",
     "output_type": "stream",
     "text": [
      "100%|██████████████████████████████████████████████████████████████████████████████████████████████████████████████████████████████████████████████████████| 1000/1000 [00:02<00:00, 348.34it/s]\n"
     ]
    },
    {
     "name": "stdout",
     "output_type": "stream",
     "text": [
      "Done fitting bridge 2 / (7 + 4) (5 s).\n"
     ]
    },
    {
     "name": "stderr",
     "output_type": "stream",
     "text": [
      "100%|██████████████████████████████████████████████████████████████████████████████████████████████████████████████████████████████████████████████████████| 1000/1000 [00:02<00:00, 344.30it/s]\n"
     ]
    },
    {
     "name": "stdout",
     "output_type": "stream",
     "text": [
      "Done fitting bridge 3 / (7 + 4) (8 s).\n"
     ]
    },
    {
     "name": "stderr",
     "output_type": "stream",
     "text": [
      "100%|██████████████████████████████████████████████████████████████████████████████████████████████████████████████████████████████████████████████████████| 1000/1000 [00:02<00:00, 348.66it/s]\n"
     ]
    },
    {
     "name": "stdout",
     "output_type": "stream",
     "text": [
      "Done fitting bridge 4 / (7 + 4) (11 s).\n"
     ]
    },
    {
     "name": "stderr",
     "output_type": "stream",
     "text": [
      "100%|██████████████████████████████████████████████████████████████████████████████████████████████████████████████████████████████████████████████████████| 1000/1000 [00:03<00:00, 330.73it/s]\n"
     ]
    },
    {
     "name": "stdout",
     "output_type": "stream",
     "text": [
      "Done fitting bridge 5 / (7 + 4) (14 s).\n"
     ]
    },
    {
     "name": "stderr",
     "output_type": "stream",
     "text": [
      "100%|██████████████████████████████████████████████████████████████████████████████████████████████████████████████████████████████████████████████████████| 1000/1000 [00:02<00:00, 347.50it/s]\n"
     ]
    },
    {
     "name": "stdout",
     "output_type": "stream",
     "text": [
      "Done fitting bridge 6 / (7 + 4) (17 s).\n"
     ]
    },
    {
     "name": "stderr",
     "output_type": "stream",
     "text": [
      "100%|██████████████████████████████████████████████████████████████████████████████████████████████████████████████████████████████████████████████████████| 1000/1000 [00:02<00:00, 349.22it/s]\n"
     ]
    },
    {
     "name": "stdout",
     "output_type": "stream",
     "text": [
      "Done fitting bridge 7 / (7 + 4) (20 s).\n"
     ]
    },
    {
     "name": "stderr",
     "output_type": "stream",
     "text": [
      "100%|██████████████████████████████████████████████████████████████████████████████████████████████████████████████████████████████████████████████████████| 1000/1000 [00:02<00:00, 348.21it/s]\n"
     ]
    },
    {
     "name": "stdout",
     "output_type": "stream",
     "text": [
      "Done fitting bridge 8 / (7 + 4) (23 s).\n"
     ]
    },
    {
     "name": "stderr",
     "output_type": "stream",
     "text": [
      "100%|██████████████████████████████████████████████████████████████████████████████████████████████████████████████████████████████████████████████████████| 1000/1000 [00:02<00:00, 355.70it/s]\n"
     ]
    },
    {
     "name": "stdout",
     "output_type": "stream",
     "text": [
      "Done fitting bridge 9 / (7 + 4) (26 s).\n"
     ]
    },
    {
     "name": "stderr",
     "output_type": "stream",
     "text": [
      "100%|██████████████████████████████████████████████████████████████████████████████████████████████████████████████████████████████████████████████████████| 1000/1000 [00:03<00:00, 316.08it/s]\n"
     ]
    },
    {
     "name": "stdout",
     "output_type": "stream",
     "text": [
      "Done fitting bridge 10 / (7 + 4) (29 s).\n"
     ]
    },
    {
     "name": "stderr",
     "output_type": "stream",
     "text": [
      "100%|██████████████████████████████████████████████████████████████████████████████████████████████████████████████████████████████████████████████████████| 1000/1000 [00:02<00:00, 349.72it/s]\n"
     ]
    },
    {
     "name": "stdout",
     "output_type": "stream",
     "text": [
      "Done fitting bridge 11 / (7 + 4) (32 s).\n",
      "X_m1xnxd is shape (7, 20000, 200), Xm_nxp is shape (5000, 200). 7 waymarks provided\n"
     ]
    },
    {
     "name": "stderr",
     "output_type": "stream",
     "text": [
      "100%|██████████████████████████████████████████████████████████████████████████████████████████████████████████████████████████████████████████████████████| 1000/1000 [00:02<00:00, 342.38it/s]\n"
     ]
    },
    {
     "name": "stdout",
     "output_type": "stream",
     "text": [
      "Done fitting bridge 1 / (7 + 0) (2 s).\n"
     ]
    },
    {
     "name": "stderr",
     "output_type": "stream",
     "text": [
      "100%|██████████████████████████████████████████████████████████████████████████████████████████████████████████████████████████████████████████████████████| 1000/1000 [00:02<00:00, 348.77it/s]\n"
     ]
    },
    {
     "name": "stdout",
     "output_type": "stream",
     "text": [
      "Done fitting bridge 2 / (7 + 0) (5 s).\n"
     ]
    },
    {
     "name": "stderr",
     "output_type": "stream",
     "text": [
      "100%|██████████████████████████████████████████████████████████████████████████████████████████████████████████████████████████████████████████████████████| 1000/1000 [00:02<00:00, 350.78it/s]\n"
     ]
    },
    {
     "name": "stdout",
     "output_type": "stream",
     "text": [
      "Done fitting bridge 3 / (7 + 0) (8 s).\n"
     ]
    },
    {
     "name": "stderr",
     "output_type": "stream",
     "text": [
      "100%|██████████████████████████████████████████████████████████████████████████████████████████████████████████████████████████████████████████████████████| 1000/1000 [00:02<00:00, 351.89it/s]\n"
     ]
    },
    {
     "name": "stdout",
     "output_type": "stream",
     "text": [
      "Done fitting bridge 4 / (7 + 0) (11 s).\n"
     ]
    },
    {
     "name": "stderr",
     "output_type": "stream",
     "text": [
      "100%|██████████████████████████████████████████████████████████████████████████████████████████████████████████████████████████████████████████████████████| 1000/1000 [00:02<00:00, 348.70it/s]\n"
     ]
    },
    {
     "name": "stdout",
     "output_type": "stream",
     "text": [
      "Done fitting bridge 5 / (7 + 0) (14 s).\n"
     ]
    },
    {
     "name": "stderr",
     "output_type": "stream",
     "text": [
      "100%|██████████████████████████████████████████████████████████████████████████████████████████████████████████████████████████████████████████████████████| 1000/1000 [00:02<00:00, 354.22it/s]\n"
     ]
    },
    {
     "name": "stdout",
     "output_type": "stream",
     "text": [
      "Done fitting bridge 6 / (7 + 0) (17 s).\n"
     ]
    },
    {
     "name": "stderr",
     "output_type": "stream",
     "text": [
      "100%|██████████████████████████████████████████████████████████████████████████████████████████████████████████████████████████████████████████████████████| 1000/1000 [00:02<00:00, 344.75it/s]\n"
     ]
    },
    {
     "name": "stdout",
     "output_type": "stream",
     "text": [
      "Done fitting bridge 7 / (7 + 0) (20 s).\n",
      "Train mean: 0.286\n",
      "True means          :0.387 0.386 0.378 0.363 0.349 0.343 0.339 \n",
      "Imputed means       :0.422 0.425 0.415 0.403 0.395 0.390 0.389 \n",
      "PP extra WM means   :0.412 0.462 0.446 0.376 0.368 0.365 0.360 \n",
      "PP no extra WM means:0.459 0.463 0.451 0.415 0.424 0.421 0.419 \n",
      "Done with trial 10 / 20 (559 s)\n",
      "Problem has sequence length 50\n",
      "Loading waymarks in the following order for k = 0, 1, ... where k = 0 is the target design distribution.\n",
      "[0.01, 0.05, 0.1, 0.2, 0.3, 0.4, 0.5]\n",
      "Loading from /data/wongfanc/dre-data/data/120423/L50_RNA1/trial10/seed4-n5000-nmut4-threshold0.01.npz\n",
      "Loading from /data/wongfanc/dre-data/data/120423/L50_RNA1/trial10/seed4-n5000-nmut4-threshold0.05.npz\n",
      "Loading from /data/wongfanc/dre-data/data/120423/L50_RNA1/trial10/seed4-n5000-nmut4-threshold0.1.npz\n",
      "Loading from /data/wongfanc/dre-data/data/120423/L50_RNA1/trial10/seed4-n5000-nmut4-threshold0.2.npz\n",
      "Loading from /data/wongfanc/dre-data/data/120423/L50_RNA1/trial10/seed4-n5000-nmut4-threshold0.3.npz\n",
      "Loading from /data/wongfanc/dre-data/data/120423/L50_RNA1/trial10/seed4-n5000-nmut4-threshold0.4.npz\n",
      "Loading from /data/wongfanc/dre-data/data/120423/L50_RNA1/trial10/seed4-n5000-nmut4-threshold0.5.npz\n",
      "X_m1xnxd is shape (7, 20000, 200), Xm_nxp is shape (5000, 200). 7 waymarks provided\n",
      "Waymark 1 / 4 has 160, 40 dimensions from P0, Pm.\n",
      "Waymark 2 / 4 has 120, 80 dimensions from P0, Pm.\n",
      "Waymark 3 / 4 has 80, 120 dimensions from P0, Pm.\n",
      "Waymark 4 / 4 has 40, 160 dimensions from P0, Pm.\n",
      "Shape of waymarks after last HP: (4, 20000, 200). Shape of X_m1xnxd: (11, 20000, 200)\n"
     ]
    },
    {
     "name": "stderr",
     "output_type": "stream",
     "text": [
      "100%|██████████████████████████████████████████████████████████████████████████████████████████████████████████████████████████████████████████████████████| 1000/1000 [00:03<00:00, 331.69it/s]\n"
     ]
    },
    {
     "name": "stdout",
     "output_type": "stream",
     "text": [
      "Done fitting bridge 1 / (7 + 4) (3 s).\n"
     ]
    },
    {
     "name": "stderr",
     "output_type": "stream",
     "text": [
      "100%|██████████████████████████████████████████████████████████████████████████████████████████████████████████████████████████████████████████████████████| 1000/1000 [00:02<00:00, 341.28it/s]\n"
     ]
    },
    {
     "name": "stdout",
     "output_type": "stream",
     "text": [
      "Done fitting bridge 2 / (7 + 4) (5 s).\n"
     ]
    },
    {
     "name": "stderr",
     "output_type": "stream",
     "text": [
      "100%|██████████████████████████████████████████████████████████████████████████████████████████████████████████████████████████████████████████████████████| 1000/1000 [00:02<00:00, 333.77it/s]\n"
     ]
    },
    {
     "name": "stdout",
     "output_type": "stream",
     "text": [
      "Done fitting bridge 3 / (7 + 4) (9 s).\n"
     ]
    },
    {
     "name": "stderr",
     "output_type": "stream",
     "text": [
      "100%|██████████████████████████████████████████████████████████████████████████████████████████████████████████████████████████████████████████████████████| 1000/1000 [00:02<00:00, 345.77it/s]\n"
     ]
    },
    {
     "name": "stdout",
     "output_type": "stream",
     "text": [
      "Done fitting bridge 4 / (7 + 4) (11 s).\n"
     ]
    },
    {
     "name": "stderr",
     "output_type": "stream",
     "text": [
      "100%|██████████████████████████████████████████████████████████████████████████████████████████████████████████████████████████████████████████████████████| 1000/1000 [00:02<00:00, 351.11it/s]\n"
     ]
    },
    {
     "name": "stdout",
     "output_type": "stream",
     "text": [
      "Done fitting bridge 5 / (7 + 4) (14 s).\n"
     ]
    },
    {
     "name": "stderr",
     "output_type": "stream",
     "text": [
      "100%|██████████████████████████████████████████████████████████████████████████████████████████████████████████████████████████████████████████████████████| 1000/1000 [00:02<00:00, 350.39it/s]\n"
     ]
    },
    {
     "name": "stdout",
     "output_type": "stream",
     "text": [
      "Done fitting bridge 6 / (7 + 4) (17 s).\n"
     ]
    },
    {
     "name": "stderr",
     "output_type": "stream",
     "text": [
      "100%|██████████████████████████████████████████████████████████████████████████████████████████████████████████████████████████████████████████████████████| 1000/1000 [00:02<00:00, 356.25it/s]\n"
     ]
    },
    {
     "name": "stdout",
     "output_type": "stream",
     "text": [
      "Done fitting bridge 7 / (7 + 4) (20 s).\n"
     ]
    },
    {
     "name": "stderr",
     "output_type": "stream",
     "text": [
      "100%|██████████████████████████████████████████████████████████████████████████████████████████████████████████████████████████████████████████████████████| 1000/1000 [00:02<00:00, 341.18it/s]\n"
     ]
    },
    {
     "name": "stdout",
     "output_type": "stream",
     "text": [
      "Done fitting bridge 8 / (7 + 4) (23 s).\n"
     ]
    },
    {
     "name": "stderr",
     "output_type": "stream",
     "text": [
      "100%|██████████████████████████████████████████████████████████████████████████████████████████████████████████████████████████████████████████████████████| 1000/1000 [00:03<00:00, 329.09it/s]\n"
     ]
    },
    {
     "name": "stdout",
     "output_type": "stream",
     "text": [
      "Done fitting bridge 9 / (7 + 4) (26 s).\n"
     ]
    },
    {
     "name": "stderr",
     "output_type": "stream",
     "text": [
      "100%|██████████████████████████████████████████████████████████████████████████████████████████████████████████████████████████████████████████████████████| 1000/1000 [00:03<00:00, 327.79it/s]\n"
     ]
    },
    {
     "name": "stdout",
     "output_type": "stream",
     "text": [
      "Done fitting bridge 10 / (7 + 4) (29 s).\n"
     ]
    },
    {
     "name": "stderr",
     "output_type": "stream",
     "text": [
      "100%|██████████████████████████████████████████████████████████████████████████████████████████████████████████████████████████████████████████████████████| 1000/1000 [00:03<00:00, 329.85it/s]\n"
     ]
    },
    {
     "name": "stdout",
     "output_type": "stream",
     "text": [
      "Done fitting bridge 11 / (7 + 4) (32 s).\n",
      "X_m1xnxd is shape (7, 20000, 200), Xm_nxp is shape (5000, 200). 7 waymarks provided\n"
     ]
    },
    {
     "name": "stderr",
     "output_type": "stream",
     "text": [
      "100%|██████████████████████████████████████████████████████████████████████████████████████████████████████████████████████████████████████████████████████| 1000/1000 [00:03<00:00, 330.06it/s]\n"
     ]
    },
    {
     "name": "stdout",
     "output_type": "stream",
     "text": [
      "Done fitting bridge 1 / (7 + 0) (3 s).\n"
     ]
    },
    {
     "name": "stderr",
     "output_type": "stream",
     "text": [
      "100%|██████████████████████████████████████████████████████████████████████████████████████████████████████████████████████████████████████████████████████| 1000/1000 [00:02<00:00, 361.36it/s]\n"
     ]
    },
    {
     "name": "stdout",
     "output_type": "stream",
     "text": [
      "Done fitting bridge 2 / (7 + 0) (5 s).\n"
     ]
    },
    {
     "name": "stderr",
     "output_type": "stream",
     "text": [
      "100%|██████████████████████████████████████████████████████████████████████████████████████████████████████████████████████████████████████████████████████| 1000/1000 [00:02<00:00, 354.62it/s]\n"
     ]
    },
    {
     "name": "stdout",
     "output_type": "stream",
     "text": [
      "Done fitting bridge 3 / (7 + 0) (8 s).\n"
     ]
    },
    {
     "name": "stderr",
     "output_type": "stream",
     "text": [
      "100%|██████████████████████████████████████████████████████████████████████████████████████████████████████████████████████████████████████████████████████| 1000/1000 [00:02<00:00, 348.48it/s]\n"
     ]
    },
    {
     "name": "stdout",
     "output_type": "stream",
     "text": [
      "Done fitting bridge 4 / (7 + 0) (11 s).\n"
     ]
    },
    {
     "name": "stderr",
     "output_type": "stream",
     "text": [
      "100%|██████████████████████████████████████████████████████████████████████████████████████████████████████████████████████████████████████████████████████| 1000/1000 [00:02<00:00, 353.60it/s]\n"
     ]
    },
    {
     "name": "stdout",
     "output_type": "stream",
     "text": [
      "Done fitting bridge 5 / (7 + 0) (14 s).\n"
     ]
    },
    {
     "name": "stderr",
     "output_type": "stream",
     "text": [
      "100%|██████████████████████████████████████████████████████████████████████████████████████████████████████████████████████████████████████████████████████| 1000/1000 [00:02<00:00, 352.43it/s]\n"
     ]
    },
    {
     "name": "stdout",
     "output_type": "stream",
     "text": [
      "Done fitting bridge 6 / (7 + 0) (17 s).\n"
     ]
    },
    {
     "name": "stderr",
     "output_type": "stream",
     "text": [
      "100%|██████████████████████████████████████████████████████████████████████████████████████████████████████████████████████████████████████████████████████| 1000/1000 [00:02<00:00, 345.67it/s]\n"
     ]
    },
    {
     "name": "stdout",
     "output_type": "stream",
     "text": [
      "Done fitting bridge 7 / (7 + 0) (20 s).\n",
      "Train mean: 0.282\n",
      "True means          :0.437 0.425 0.409 0.378 0.359 0.349 0.346 \n",
      "Imputed means       :0.454 0.445 0.432 0.399 0.384 0.375 0.372 \n",
      "PP extra WM means   :0.409 0.400 0.387 0.354 0.339 0.329 0.327 \n",
      "PP no extra WM means:0.487 0.441 0.432 0.393 0.369 0.359 0.357 \n",
      "Done with trial 11 / 20 (616 s)\n",
      "Problem has sequence length 50\n",
      "Loading waymarks in the following order for k = 0, 1, ... where k = 0 is the target design distribution.\n",
      "[0.01, 0.05, 0.1, 0.2, 0.3, 0.4, 0.5]\n",
      "Loading from /data/wongfanc/dre-data/data/120423/L50_RNA1/trial11/seed4-n5000-nmut4-threshold0.01.npz\n",
      "Loading from /data/wongfanc/dre-data/data/120423/L50_RNA1/trial11/seed4-n5000-nmut4-threshold0.05.npz\n",
      "Loading from /data/wongfanc/dre-data/data/120423/L50_RNA1/trial11/seed4-n5000-nmut4-threshold0.1.npz\n",
      "Loading from /data/wongfanc/dre-data/data/120423/L50_RNA1/trial11/seed4-n5000-nmut4-threshold0.2.npz\n",
      "Loading from /data/wongfanc/dre-data/data/120423/L50_RNA1/trial11/seed4-n5000-nmut4-threshold0.3.npz\n",
      "Loading from /data/wongfanc/dre-data/data/120423/L50_RNA1/trial11/seed4-n5000-nmut4-threshold0.4.npz\n",
      "Loading from /data/wongfanc/dre-data/data/120423/L50_RNA1/trial11/seed4-n5000-nmut4-threshold0.5.npz\n",
      "X_m1xnxd is shape (7, 20000, 200), Xm_nxp is shape (5000, 200). 7 waymarks provided\n",
      "Waymark 1 / 4 has 160, 40 dimensions from P0, Pm.\n",
      "Waymark 2 / 4 has 120, 80 dimensions from P0, Pm.\n",
      "Waymark 3 / 4 has 80, 120 dimensions from P0, Pm.\n",
      "Waymark 4 / 4 has 40, 160 dimensions from P0, Pm.\n",
      "Shape of waymarks after last HP: (4, 20000, 200). Shape of X_m1xnxd: (11, 20000, 200)\n"
     ]
    },
    {
     "name": "stderr",
     "output_type": "stream",
     "text": [
      "100%|██████████████████████████████████████████████████████████████████████████████████████████████████████████████████████████████████████████████████████| 1000/1000 [00:03<00:00, 324.70it/s]\n"
     ]
    },
    {
     "name": "stdout",
     "output_type": "stream",
     "text": [
      "Done fitting bridge 1 / (7 + 4) (3 s).\n"
     ]
    },
    {
     "name": "stderr",
     "output_type": "stream",
     "text": [
      "100%|██████████████████████████████████████████████████████████████████████████████████████████████████████████████████████████████████████████████████████| 1000/1000 [00:02<00:00, 334.78it/s]\n"
     ]
    },
    {
     "name": "stdout",
     "output_type": "stream",
     "text": [
      "Done fitting bridge 2 / (7 + 4) (6 s).\n"
     ]
    },
    {
     "name": "stderr",
     "output_type": "stream",
     "text": [
      "100%|██████████████████████████████████████████████████████████████████████████████████████████████████████████████████████████████████████████████████████| 1000/1000 [00:02<00:00, 351.91it/s]\n"
     ]
    },
    {
     "name": "stdout",
     "output_type": "stream",
     "text": [
      "Done fitting bridge 3 / (7 + 4) (8 s).\n"
     ]
    },
    {
     "name": "stderr",
     "output_type": "stream",
     "text": [
      "100%|██████████████████████████████████████████████████████████████████████████████████████████████████████████████████████████████████████████████████████| 1000/1000 [00:02<00:00, 347.13it/s]\n"
     ]
    },
    {
     "name": "stdout",
     "output_type": "stream",
     "text": [
      "Done fitting bridge 4 / (7 + 4) (11 s).\n"
     ]
    },
    {
     "name": "stderr",
     "output_type": "stream",
     "text": [
      "100%|██████████████████████████████████████████████████████████████████████████████████████████████████████████████████████████████████████████████████████| 1000/1000 [00:02<00:00, 351.30it/s]\n"
     ]
    },
    {
     "name": "stdout",
     "output_type": "stream",
     "text": [
      "Done fitting bridge 5 / (7 + 4) (14 s).\n"
     ]
    },
    {
     "name": "stderr",
     "output_type": "stream",
     "text": [
      "100%|██████████████████████████████████████████████████████████████████████████████████████████████████████████████████████████████████████████████████████| 1000/1000 [00:02<00:00, 350.67it/s]\n"
     ]
    },
    {
     "name": "stdout",
     "output_type": "stream",
     "text": [
      "Done fitting bridge 6 / (7 + 4) (17 s).\n"
     ]
    },
    {
     "name": "stderr",
     "output_type": "stream",
     "text": [
      "100%|██████████████████████████████████████████████████████████████████████████████████████████████████████████████████████████████████████████████████████| 1000/1000 [00:02<00:00, 351.62it/s]\n"
     ]
    },
    {
     "name": "stdout",
     "output_type": "stream",
     "text": [
      "Done fitting bridge 7 / (7 + 4) (20 s).\n"
     ]
    },
    {
     "name": "stderr",
     "output_type": "stream",
     "text": [
      "100%|██████████████████████████████████████████████████████████████████████████████████████████████████████████████████████████████████████████████████████| 1000/1000 [00:02<00:00, 350.67it/s]\n"
     ]
    },
    {
     "name": "stdout",
     "output_type": "stream",
     "text": [
      "Done fitting bridge 8 / (7 + 4) (23 s).\n"
     ]
    },
    {
     "name": "stderr",
     "output_type": "stream",
     "text": [
      "100%|██████████████████████████████████████████████████████████████████████████████████████████████████████████████████████████████████████████████████████| 1000/1000 [00:02<00:00, 350.26it/s]\n"
     ]
    },
    {
     "name": "stdout",
     "output_type": "stream",
     "text": [
      "Done fitting bridge 9 / (7 + 4) (26 s).\n"
     ]
    },
    {
     "name": "stderr",
     "output_type": "stream",
     "text": [
      "100%|██████████████████████████████████████████████████████████████████████████████████████████████████████████████████████████████████████████████████████| 1000/1000 [00:03<00:00, 328.05it/s]\n"
     ]
    },
    {
     "name": "stdout",
     "output_type": "stream",
     "text": [
      "Done fitting bridge 10 / (7 + 4) (29 s).\n"
     ]
    },
    {
     "name": "stderr",
     "output_type": "stream",
     "text": [
      "100%|██████████████████████████████████████████████████████████████████████████████████████████████████████████████████████████████████████████████████████| 1000/1000 [00:02<00:00, 353.13it/s]\n"
     ]
    },
    {
     "name": "stdout",
     "output_type": "stream",
     "text": [
      "Done fitting bridge 11 / (7 + 4) (32 s).\n",
      "X_m1xnxd is shape (7, 20000, 200), Xm_nxp is shape (5000, 200). 7 waymarks provided\n"
     ]
    },
    {
     "name": "stderr",
     "output_type": "stream",
     "text": [
      "100%|██████████████████████████████████████████████████████████████████████████████████████████████████████████████████████████████████████████████████████| 1000/1000 [00:03<00:00, 328.12it/s]\n"
     ]
    },
    {
     "name": "stdout",
     "output_type": "stream",
     "text": [
      "Done fitting bridge 1 / (7 + 0) (3 s).\n"
     ]
    },
    {
     "name": "stderr",
     "output_type": "stream",
     "text": [
      "100%|██████████████████████████████████████████████████████████████████████████████████████████████████████████████████████████████████████████████████████| 1000/1000 [00:03<00:00, 332.28it/s]\n"
     ]
    },
    {
     "name": "stdout",
     "output_type": "stream",
     "text": [
      "Done fitting bridge 2 / (7 + 0) (6 s).\n"
     ]
    },
    {
     "name": "stderr",
     "output_type": "stream",
     "text": [
      "100%|██████████████████████████████████████████████████████████████████████████████████████████████████████████████████████████████████████████████████████| 1000/1000 [00:03<00:00, 332.72it/s]\n"
     ]
    },
    {
     "name": "stdout",
     "output_type": "stream",
     "text": [
      "Done fitting bridge 3 / (7 + 0) (9 s).\n"
     ]
    },
    {
     "name": "stderr",
     "output_type": "stream",
     "text": [
      "100%|██████████████████████████████████████████████████████████████████████████████████████████████████████████████████████████████████████████████████████| 1000/1000 [00:02<00:00, 344.60it/s]\n"
     ]
    },
    {
     "name": "stdout",
     "output_type": "stream",
     "text": [
      "Done fitting bridge 4 / (7 + 0) (12 s).\n"
     ]
    },
    {
     "name": "stderr",
     "output_type": "stream",
     "text": [
      "100%|██████████████████████████████████████████████████████████████████████████████████████████████████████████████████████████████████████████████████████| 1000/1000 [00:02<00:00, 349.87it/s]\n"
     ]
    },
    {
     "name": "stdout",
     "output_type": "stream",
     "text": [
      "Done fitting bridge 5 / (7 + 0) (14 s).\n"
     ]
    },
    {
     "name": "stderr",
     "output_type": "stream",
     "text": [
      "100%|██████████████████████████████████████████████████████████████████████████████████████████████████████████████████████████████████████████████████████| 1000/1000 [00:02<00:00, 349.65it/s]\n"
     ]
    },
    {
     "name": "stdout",
     "output_type": "stream",
     "text": [
      "Done fitting bridge 6 / (7 + 0) (17 s).\n"
     ]
    },
    {
     "name": "stderr",
     "output_type": "stream",
     "text": [
      "100%|██████████████████████████████████████████████████████████████████████████████████████████████████████████████████████████████████████████████████████| 1000/1000 [00:02<00:00, 342.49it/s]\n"
     ]
    },
    {
     "name": "stdout",
     "output_type": "stream",
     "text": [
      "Done fitting bridge 7 / (7 + 0) (20 s).\n",
      "Train mean: 0.286\n",
      "True means          :0.402 0.396 0.390 0.369 0.358 0.349 0.346 \n",
      "Imputed means       :0.442 0.431 0.419 0.401 0.390 0.382 0.380 \n",
      "PP extra WM means   :0.413 0.401 0.390 0.392 0.381 0.373 0.371 \n",
      "PP no extra WM means:0.413 0.401 0.389 0.387 0.356 0.347 0.345 \n",
      "Done with trial 12 / 20 (672 s)\n",
      "Problem has sequence length 50\n",
      "Loading waymarks in the following order for k = 0, 1, ... where k = 0 is the target design distribution.\n",
      "[0.01, 0.05, 0.1, 0.2, 0.3, 0.4, 0.5]\n",
      "Loading from /data/wongfanc/dre-data/data/120423/L50_RNA1/trial12/seed4-n5000-nmut4-threshold0.01.npz\n",
      "Loading from /data/wongfanc/dre-data/data/120423/L50_RNA1/trial12/seed4-n5000-nmut4-threshold0.05.npz\n",
      "Loading from /data/wongfanc/dre-data/data/120423/L50_RNA1/trial12/seed4-n5000-nmut4-threshold0.1.npz\n",
      "Loading from /data/wongfanc/dre-data/data/120423/L50_RNA1/trial12/seed4-n5000-nmut4-threshold0.2.npz\n",
      "Loading from /data/wongfanc/dre-data/data/120423/L50_RNA1/trial12/seed4-n5000-nmut4-threshold0.3.npz\n",
      "Loading from /data/wongfanc/dre-data/data/120423/L50_RNA1/trial12/seed4-n5000-nmut4-threshold0.4.npz\n",
      "Loading from /data/wongfanc/dre-data/data/120423/L50_RNA1/trial12/seed4-n5000-nmut4-threshold0.5.npz\n",
      "X_m1xnxd is shape (7, 20000, 200), Xm_nxp is shape (5000, 200). 7 waymarks provided\n",
      "Waymark 1 / 4 has 160, 40 dimensions from P0, Pm.\n",
      "Waymark 2 / 4 has 120, 80 dimensions from P0, Pm.\n",
      "Waymark 3 / 4 has 80, 120 dimensions from P0, Pm.\n",
      "Waymark 4 / 4 has 40, 160 dimensions from P0, Pm.\n",
      "Shape of waymarks after last HP: (4, 20000, 200). Shape of X_m1xnxd: (11, 20000, 200)\n"
     ]
    },
    {
     "name": "stderr",
     "output_type": "stream",
     "text": [
      "100%|██████████████████████████████████████████████████████████████████████████████████████████████████████████████████████████████████████████████████████| 1000/1000 [00:02<00:00, 354.33it/s]\n"
     ]
    },
    {
     "name": "stdout",
     "output_type": "stream",
     "text": [
      "Done fitting bridge 1 / (7 + 4) (2 s).\n"
     ]
    },
    {
     "name": "stderr",
     "output_type": "stream",
     "text": [
      "100%|██████████████████████████████████████████████████████████████████████████████████████████████████████████████████████████████████████████████████████| 1000/1000 [00:03<00:00, 318.77it/s]\n"
     ]
    },
    {
     "name": "stdout",
     "output_type": "stream",
     "text": [
      "Done fitting bridge 2 / (7 + 4) (6 s).\n"
     ]
    },
    {
     "name": "stderr",
     "output_type": "stream",
     "text": [
      "100%|██████████████████████████████████████████████████████████████████████████████████████████████████████████████████████████████████████████████████████| 1000/1000 [00:03<00:00, 326.65it/s]\n"
     ]
    },
    {
     "name": "stdout",
     "output_type": "stream",
     "text": [
      "Done fitting bridge 3 / (7 + 4) (9 s).\n"
     ]
    },
    {
     "name": "stderr",
     "output_type": "stream",
     "text": [
      "100%|██████████████████████████████████████████████████████████████████████████████████████████████████████████████████████████████████████████████████████| 1000/1000 [00:03<00:00, 326.30it/s]\n"
     ]
    },
    {
     "name": "stdout",
     "output_type": "stream",
     "text": [
      "Done fitting bridge 4 / (7 + 4) (12 s).\n"
     ]
    },
    {
     "name": "stderr",
     "output_type": "stream",
     "text": [
      "100%|██████████████████████████████████████████████████████████████████████████████████████████████████████████████████████████████████████████████████████| 1000/1000 [00:03<00:00, 330.50it/s]\n"
     ]
    },
    {
     "name": "stdout",
     "output_type": "stream",
     "text": [
      "Done fitting bridge 5 / (7 + 4) (15 s).\n"
     ]
    },
    {
     "name": "stderr",
     "output_type": "stream",
     "text": [
      "100%|██████████████████████████████████████████████████████████████████████████████████████████████████████████████████████████████████████████████████████| 1000/1000 [00:03<00:00, 329.66it/s]\n"
     ]
    },
    {
     "name": "stdout",
     "output_type": "stream",
     "text": [
      "Done fitting bridge 6 / (7 + 4) (18 s).\n"
     ]
    },
    {
     "name": "stderr",
     "output_type": "stream",
     "text": [
      "100%|██████████████████████████████████████████████████████████████████████████████████████████████████████████████████████████████████████████████████████| 1000/1000 [00:03<00:00, 331.84it/s]\n"
     ]
    },
    {
     "name": "stdout",
     "output_type": "stream",
     "text": [
      "Done fitting bridge 7 / (7 + 4) (21 s).\n"
     ]
    },
    {
     "name": "stderr",
     "output_type": "stream",
     "text": [
      "100%|██████████████████████████████████████████████████████████████████████████████████████████████████████████████████████████████████████████████████████| 1000/1000 [00:02<00:00, 350.37it/s]\n"
     ]
    },
    {
     "name": "stdout",
     "output_type": "stream",
     "text": [
      "Done fitting bridge 8 / (7 + 4) (24 s).\n"
     ]
    },
    {
     "name": "stderr",
     "output_type": "stream",
     "text": [
      "100%|██████████████████████████████████████████████████████████████████████████████████████████████████████████████████████████████████████████████████████| 1000/1000 [00:02<00:00, 352.57it/s]\n"
     ]
    },
    {
     "name": "stdout",
     "output_type": "stream",
     "text": [
      "Done fitting bridge 9 / (7 + 4) (27 s).\n"
     ]
    },
    {
     "name": "stderr",
     "output_type": "stream",
     "text": [
      "100%|██████████████████████████████████████████████████████████████████████████████████████████████████████████████████████████████████████████████████████| 1000/1000 [00:02<00:00, 361.72it/s]\n"
     ]
    },
    {
     "name": "stdout",
     "output_type": "stream",
     "text": [
      "Done fitting bridge 10 / (7 + 4) (29 s).\n"
     ]
    },
    {
     "name": "stderr",
     "output_type": "stream",
     "text": [
      "100%|██████████████████████████████████████████████████████████████████████████████████████████████████████████████████████████████████████████████████████| 1000/1000 [00:02<00:00, 364.66it/s]\n"
     ]
    },
    {
     "name": "stdout",
     "output_type": "stream",
     "text": [
      "Done fitting bridge 11 / (7 + 4) (32 s).\n",
      "X_m1xnxd is shape (7, 20000, 200), Xm_nxp is shape (5000, 200). 7 waymarks provided\n"
     ]
    },
    {
     "name": "stderr",
     "output_type": "stream",
     "text": [
      "100%|██████████████████████████████████████████████████████████████████████████████████████████████████████████████████████████████████████████████████████| 1000/1000 [00:02<00:00, 346.16it/s]\n"
     ]
    },
    {
     "name": "stdout",
     "output_type": "stream",
     "text": [
      "Done fitting bridge 1 / (7 + 0) (2 s).\n"
     ]
    },
    {
     "name": "stderr",
     "output_type": "stream",
     "text": [
      "100%|██████████████████████████████████████████████████████████████████████████████████████████████████████████████████████████████████████████████████████| 1000/1000 [00:02<00:00, 351.50it/s]\n"
     ]
    },
    {
     "name": "stdout",
     "output_type": "stream",
     "text": [
      "Done fitting bridge 2 / (7 + 0) (5 s).\n"
     ]
    },
    {
     "name": "stderr",
     "output_type": "stream",
     "text": [
      "100%|██████████████████████████████████████████████████████████████████████████████████████████████████████████████████████████████████████████████████████| 1000/1000 [00:02<00:00, 344.34it/s]\n"
     ]
    },
    {
     "name": "stdout",
     "output_type": "stream",
     "text": [
      "Done fitting bridge 3 / (7 + 0) (8 s).\n"
     ]
    },
    {
     "name": "stderr",
     "output_type": "stream",
     "text": [
      "100%|██████████████████████████████████████████████████████████████████████████████████████████████████████████████████████████████████████████████████████| 1000/1000 [00:03<00:00, 332.08it/s]\n"
     ]
    },
    {
     "name": "stdout",
     "output_type": "stream",
     "text": [
      "Done fitting bridge 4 / (7 + 0) (11 s).\n"
     ]
    },
    {
     "name": "stderr",
     "output_type": "stream",
     "text": [
      "100%|██████████████████████████████████████████████████████████████████████████████████████████████████████████████████████████████████████████████████████| 1000/1000 [00:02<00:00, 349.53it/s]\n"
     ]
    },
    {
     "name": "stdout",
     "output_type": "stream",
     "text": [
      "Done fitting bridge 5 / (7 + 0) (14 s).\n"
     ]
    },
    {
     "name": "stderr",
     "output_type": "stream",
     "text": [
      "100%|██████████████████████████████████████████████████████████████████████████████████████████████████████████████████████████████████████████████████████| 1000/1000 [00:02<00:00, 346.88it/s]\n"
     ]
    },
    {
     "name": "stdout",
     "output_type": "stream",
     "text": [
      "Done fitting bridge 6 / (7 + 0) (17 s).\n"
     ]
    },
    {
     "name": "stderr",
     "output_type": "stream",
     "text": [
      "100%|██████████████████████████████████████████████████████████████████████████████████████████████████████████████████████████████████████████████████████| 1000/1000 [00:02<00:00, 347.50it/s]\n"
     ]
    },
    {
     "name": "stdout",
     "output_type": "stream",
     "text": [
      "Done fitting bridge 7 / (7 + 0) (20 s).\n",
      "Train mean: 0.284\n",
      "True means          :0.371 0.387 0.381 0.367 0.356 0.348 0.344 \n",
      "Imputed means       :0.401 0.412 0.409 0.395 0.385 0.380 0.379 \n",
      "PP extra WM means   :0.394 0.405 0.401 0.386 0.377 0.395 0.396 \n",
      "PP no extra WM means:0.391 0.405 0.402 0.440 0.430 0.425 0.424 \n",
      "Done with trial 13 / 20 (729 s)\n",
      "Problem has sequence length 50\n",
      "Loading waymarks in the following order for k = 0, 1, ... where k = 0 is the target design distribution.\n",
      "[0.01, 0.05, 0.1, 0.2, 0.3, 0.4, 0.5]\n",
      "Loading from /data/wongfanc/dre-data/data/120423/L50_RNA1/trial13/seed4-n5000-nmut4-threshold0.01.npz\n",
      "Loading from /data/wongfanc/dre-data/data/120423/L50_RNA1/trial13/seed4-n5000-nmut4-threshold0.05.npz\n",
      "Loading from /data/wongfanc/dre-data/data/120423/L50_RNA1/trial13/seed4-n5000-nmut4-threshold0.1.npz\n",
      "Loading from /data/wongfanc/dre-data/data/120423/L50_RNA1/trial13/seed4-n5000-nmut4-threshold0.2.npz\n",
      "Loading from /data/wongfanc/dre-data/data/120423/L50_RNA1/trial13/seed4-n5000-nmut4-threshold0.3.npz\n",
      "Loading from /data/wongfanc/dre-data/data/120423/L50_RNA1/trial13/seed4-n5000-nmut4-threshold0.4.npz\n",
      "Loading from /data/wongfanc/dre-data/data/120423/L50_RNA1/trial13/seed4-n5000-nmut4-threshold0.5.npz\n",
      "X_m1xnxd is shape (7, 20000, 200), Xm_nxp is shape (5000, 200). 7 waymarks provided\n",
      "Waymark 1 / 4 has 160, 40 dimensions from P0, Pm.\n",
      "Waymark 2 / 4 has 120, 80 dimensions from P0, Pm.\n",
      "Waymark 3 / 4 has 80, 120 dimensions from P0, Pm.\n",
      "Waymark 4 / 4 has 40, 160 dimensions from P0, Pm.\n",
      "Shape of waymarks after last HP: (4, 20000, 200). Shape of X_m1xnxd: (11, 20000, 200)\n"
     ]
    },
    {
     "name": "stderr",
     "output_type": "stream",
     "text": [
      "100%|██████████████████████████████████████████████████████████████████████████████████████████████████████████████████████████████████████████████████████| 1000/1000 [00:02<00:00, 351.98it/s]\n"
     ]
    },
    {
     "name": "stdout",
     "output_type": "stream",
     "text": [
      "Done fitting bridge 1 / (7 + 4) (2 s).\n"
     ]
    },
    {
     "name": "stderr",
     "output_type": "stream",
     "text": [
      "100%|██████████████████████████████████████████████████████████████████████████████████████████████████████████████████████████████████████████████████████| 1000/1000 [00:02<00:00, 357.63it/s]\n"
     ]
    },
    {
     "name": "stdout",
     "output_type": "stream",
     "text": [
      "Done fitting bridge 2 / (7 + 4) (5 s).\n"
     ]
    },
    {
     "name": "stderr",
     "output_type": "stream",
     "text": [
      "100%|██████████████████████████████████████████████████████████████████████████████████████████████████████████████████████████████████████████████████████| 1000/1000 [00:02<00:00, 351.00it/s]\n"
     ]
    },
    {
     "name": "stdout",
     "output_type": "stream",
     "text": [
      "Done fitting bridge 3 / (7 + 4) (8 s).\n"
     ]
    },
    {
     "name": "stderr",
     "output_type": "stream",
     "text": [
      "100%|██████████████████████████████████████████████████████████████████████████████████████████████████████████████████████████████████████████████████████| 1000/1000 [00:02<00:00, 342.89it/s]\n"
     ]
    },
    {
     "name": "stdout",
     "output_type": "stream",
     "text": [
      "Done fitting bridge 4 / (7 + 4) (11 s).\n"
     ]
    },
    {
     "name": "stderr",
     "output_type": "stream",
     "text": [
      "100%|██████████████████████████████████████████████████████████████████████████████████████████████████████████████████████████████████████████████████████| 1000/1000 [00:02<00:00, 351.21it/s]\n"
     ]
    },
    {
     "name": "stdout",
     "output_type": "stream",
     "text": [
      "Done fitting bridge 5 / (7 + 4) (14 s).\n"
     ]
    },
    {
     "name": "stderr",
     "output_type": "stream",
     "text": [
      "100%|██████████████████████████████████████████████████████████████████████████████████████████████████████████████████████████████████████████████████████| 1000/1000 [00:02<00:00, 340.22it/s]\n"
     ]
    },
    {
     "name": "stdout",
     "output_type": "stream",
     "text": [
      "Done fitting bridge 6 / (7 + 4) (17 s).\n"
     ]
    },
    {
     "name": "stderr",
     "output_type": "stream",
     "text": [
      "100%|██████████████████████████████████████████████████████████████████████████████████████████████████████████████████████████████████████████████████████| 1000/1000 [00:02<00:00, 345.82it/s]\n"
     ]
    },
    {
     "name": "stdout",
     "output_type": "stream",
     "text": [
      "Done fitting bridge 7 / (7 + 4) (20 s).\n"
     ]
    },
    {
     "name": "stderr",
     "output_type": "stream",
     "text": [
      "100%|██████████████████████████████████████████████████████████████████████████████████████████████████████████████████████████████████████████████████████| 1000/1000 [00:02<00:00, 356.80it/s]\n"
     ]
    },
    {
     "name": "stdout",
     "output_type": "stream",
     "text": [
      "Done fitting bridge 8 / (7 + 4) (23 s).\n"
     ]
    },
    {
     "name": "stderr",
     "output_type": "stream",
     "text": [
      "100%|██████████████████████████████████████████████████████████████████████████████████████████████████████████████████████████████████████████████████████| 1000/1000 [00:02<00:00, 347.98it/s]\n"
     ]
    },
    {
     "name": "stdout",
     "output_type": "stream",
     "text": [
      "Done fitting bridge 9 / (7 + 4) (25 s).\n"
     ]
    },
    {
     "name": "stderr",
     "output_type": "stream",
     "text": [
      "100%|██████████████████████████████████████████████████████████████████████████████████████████████████████████████████████████████████████████████████████| 1000/1000 [00:02<00:00, 351.08it/s]\n"
     ]
    },
    {
     "name": "stdout",
     "output_type": "stream",
     "text": [
      "Done fitting bridge 10 / (7 + 4) (28 s).\n"
     ]
    },
    {
     "name": "stderr",
     "output_type": "stream",
     "text": [
      "100%|██████████████████████████████████████████████████████████████████████████████████████████████████████████████████████████████████████████████████████| 1000/1000 [00:02<00:00, 350.18it/s]\n"
     ]
    },
    {
     "name": "stdout",
     "output_type": "stream",
     "text": [
      "Done fitting bridge 11 / (7 + 4) (31 s).\n",
      "X_m1xnxd is shape (7, 20000, 200), Xm_nxp is shape (5000, 200). 7 waymarks provided\n"
     ]
    },
    {
     "name": "stderr",
     "output_type": "stream",
     "text": [
      "100%|██████████████████████████████████████████████████████████████████████████████████████████████████████████████████████████████████████████████████████| 1000/1000 [00:02<00:00, 346.86it/s]\n"
     ]
    },
    {
     "name": "stdout",
     "output_type": "stream",
     "text": [
      "Done fitting bridge 1 / (7 + 0) (2 s).\n"
     ]
    },
    {
     "name": "stderr",
     "output_type": "stream",
     "text": [
      "100%|██████████████████████████████████████████████████████████████████████████████████████████████████████████████████████████████████████████████████████| 1000/1000 [00:03<00:00, 322.32it/s]\n"
     ]
    },
    {
     "name": "stdout",
     "output_type": "stream",
     "text": [
      "Done fitting bridge 2 / (7 + 0) (6 s).\n"
     ]
    },
    {
     "name": "stderr",
     "output_type": "stream",
     "text": [
      "100%|██████████████████████████████████████████████████████████████████████████████████████████████████████████████████████████████████████████████████████| 1000/1000 [00:02<00:00, 333.82it/s]\n"
     ]
    },
    {
     "name": "stdout",
     "output_type": "stream",
     "text": [
      "Done fitting bridge 3 / (7 + 0) (9 s).\n"
     ]
    },
    {
     "name": "stderr",
     "output_type": "stream",
     "text": [
      "100%|██████████████████████████████████████████████████████████████████████████████████████████████████████████████████████████████████████████████████████| 1000/1000 [00:03<00:00, 330.35it/s]\n"
     ]
    },
    {
     "name": "stdout",
     "output_type": "stream",
     "text": [
      "Done fitting bridge 4 / (7 + 0) (12 s).\n"
     ]
    },
    {
     "name": "stderr",
     "output_type": "stream",
     "text": [
      "100%|██████████████████████████████████████████████████████████████████████████████████████████████████████████████████████████████████████████████████████| 1000/1000 [00:02<00:00, 350.04it/s]\n"
     ]
    },
    {
     "name": "stdout",
     "output_type": "stream",
     "text": [
      "Done fitting bridge 5 / (7 + 0) (14 s).\n"
     ]
    },
    {
     "name": "stderr",
     "output_type": "stream",
     "text": [
      "100%|██████████████████████████████████████████████████████████████████████████████████████████████████████████████████████████████████████████████████████| 1000/1000 [00:02<00:00, 348.51it/s]\n"
     ]
    },
    {
     "name": "stdout",
     "output_type": "stream",
     "text": [
      "Done fitting bridge 6 / (7 + 0) (17 s).\n"
     ]
    },
    {
     "name": "stderr",
     "output_type": "stream",
     "text": [
      "100%|██████████████████████████████████████████████████████████████████████████████████████████████████████████████████████████████████████████████████████| 1000/1000 [00:02<00:00, 343.27it/s]\n"
     ]
    },
    {
     "name": "stdout",
     "output_type": "stream",
     "text": [
      "Done fitting bridge 7 / (7 + 0) (20 s).\n",
      "Train mean: 0.284\n",
      "True means          :0.411 0.404 0.391 0.373 0.357 0.347 0.344 \n",
      "Imputed means       :0.435 0.441 0.427 0.407 0.397 0.387 0.386 \n",
      "PP extra WM means   :0.444 0.467 0.451 0.387 0.377 0.367 0.366 \n",
      "PP no extra WM means:0.430 0.436 0.422 0.383 0.360 0.350 0.349 \n",
      "Done with trial 14 / 20 (785 s)\n",
      "Problem has sequence length 50\n",
      "Loading waymarks in the following order for k = 0, 1, ... where k = 0 is the target design distribution.\n",
      "[0.01, 0.05, 0.1, 0.2, 0.3, 0.4, 0.5]\n",
      "Loading from /data/wongfanc/dre-data/data/120423/L50_RNA1/trial14/seed4-n5000-nmut4-threshold0.01.npz\n",
      "Loading from /data/wongfanc/dre-data/data/120423/L50_RNA1/trial14/seed4-n5000-nmut4-threshold0.05.npz\n",
      "Loading from /data/wongfanc/dre-data/data/120423/L50_RNA1/trial14/seed4-n5000-nmut4-threshold0.1.npz\n",
      "Loading from /data/wongfanc/dre-data/data/120423/L50_RNA1/trial14/seed4-n5000-nmut4-threshold0.2.npz\n",
      "Loading from /data/wongfanc/dre-data/data/120423/L50_RNA1/trial14/seed4-n5000-nmut4-threshold0.3.npz\n",
      "Loading from /data/wongfanc/dre-data/data/120423/L50_RNA1/trial14/seed4-n5000-nmut4-threshold0.4.npz\n",
      "Loading from /data/wongfanc/dre-data/data/120423/L50_RNA1/trial14/seed4-n5000-nmut4-threshold0.5.npz\n",
      "X_m1xnxd is shape (7, 20000, 200), Xm_nxp is shape (5000, 200). 7 waymarks provided\n",
      "Waymark 1 / 4 has 160, 40 dimensions from P0, Pm.\n",
      "Waymark 2 / 4 has 120, 80 dimensions from P0, Pm.\n",
      "Waymark 3 / 4 has 80, 120 dimensions from P0, Pm.\n",
      "Waymark 4 / 4 has 40, 160 dimensions from P0, Pm.\n",
      "Shape of waymarks after last HP: (4, 20000, 200). Shape of X_m1xnxd: (11, 20000, 200)\n"
     ]
    },
    {
     "name": "stderr",
     "output_type": "stream",
     "text": [
      "100%|██████████████████████████████████████████████████████████████████████████████████████████████████████████████████████████████████████████████████████| 1000/1000 [00:02<00:00, 346.38it/s]\n"
     ]
    },
    {
     "name": "stdout",
     "output_type": "stream",
     "text": [
      "Done fitting bridge 1 / (7 + 4) (2 s).\n"
     ]
    },
    {
     "name": "stderr",
     "output_type": "stream",
     "text": [
      "100%|██████████████████████████████████████████████████████████████████████████████████████████████████████████████████████████████████████████████████████| 1000/1000 [00:02<00:00, 347.81it/s]\n"
     ]
    },
    {
     "name": "stdout",
     "output_type": "stream",
     "text": [
      "Done fitting bridge 2 / (7 + 4) (5 s).\n"
     ]
    },
    {
     "name": "stderr",
     "output_type": "stream",
     "text": [
      "100%|██████████████████████████████████████████████████████████████████████████████████████████████████████████████████████████████████████████████████████| 1000/1000 [00:02<00:00, 349.00it/s]\n"
     ]
    },
    {
     "name": "stdout",
     "output_type": "stream",
     "text": [
      "Done fitting bridge 3 / (7 + 4) (8 s).\n"
     ]
    },
    {
     "name": "stderr",
     "output_type": "stream",
     "text": [
      "100%|██████████████████████████████████████████████████████████████████████████████████████████████████████████████████████████████████████████████████████| 1000/1000 [00:02<00:00, 354.11it/s]\n"
     ]
    },
    {
     "name": "stdout",
     "output_type": "stream",
     "text": [
      "Done fitting bridge 4 / (7 + 4) (11 s).\n"
     ]
    },
    {
     "name": "stderr",
     "output_type": "stream",
     "text": [
      "100%|██████████████████████████████████████████████████████████████████████████████████████████████████████████████████████████████████████████████████████| 1000/1000 [00:02<00:00, 342.26it/s]\n"
     ]
    },
    {
     "name": "stdout",
     "output_type": "stream",
     "text": [
      "Done fitting bridge 5 / (7 + 4) (14 s).\n"
     ]
    },
    {
     "name": "stderr",
     "output_type": "stream",
     "text": [
      "100%|██████████████████████████████████████████████████████████████████████████████████████████████████████████████████████████████████████████████████████| 1000/1000 [00:03<00:00, 329.36it/s]\n"
     ]
    },
    {
     "name": "stdout",
     "output_type": "stream",
     "text": [
      "Done fitting bridge 6 / (7 + 4) (17 s).\n"
     ]
    },
    {
     "name": "stderr",
     "output_type": "stream",
     "text": [
      "100%|██████████████████████████████████████████████████████████████████████████████████████████████████████████████████████████████████████████████████████| 1000/1000 [00:03<00:00, 331.16it/s]\n"
     ]
    },
    {
     "name": "stdout",
     "output_type": "stream",
     "text": [
      "Done fitting bridge 7 / (7 + 4) (20 s).\n"
     ]
    },
    {
     "name": "stderr",
     "output_type": "stream",
     "text": [
      "100%|██████████████████████████████████████████████████████████████████████████████████████████████████████████████████████████████████████████████████████| 1000/1000 [00:02<00:00, 352.94it/s]\n"
     ]
    },
    {
     "name": "stdout",
     "output_type": "stream",
     "text": [
      "Done fitting bridge 8 / (7 + 4) (23 s).\n"
     ]
    },
    {
     "name": "stderr",
     "output_type": "stream",
     "text": [
      "100%|██████████████████████████████████████████████████████████████████████████████████████████████████████████████████████████████████████████████████████| 1000/1000 [00:02<00:00, 356.87it/s]\n"
     ]
    },
    {
     "name": "stdout",
     "output_type": "stream",
     "text": [
      "Done fitting bridge 9 / (7 + 4) (26 s).\n"
     ]
    },
    {
     "name": "stderr",
     "output_type": "stream",
     "text": [
      "100%|██████████████████████████████████████████████████████████████████████████████████████████████████████████████████████████████████████████████████████| 1000/1000 [00:02<00:00, 366.75it/s]\n"
     ]
    },
    {
     "name": "stdout",
     "output_type": "stream",
     "text": [
      "Done fitting bridge 10 / (7 + 4) (28 s).\n"
     ]
    },
    {
     "name": "stderr",
     "output_type": "stream",
     "text": [
      "100%|██████████████████████████████████████████████████████████████████████████████████████████████████████████████████████████████████████████████████████| 1000/1000 [00:02<00:00, 357.14it/s]\n"
     ]
    },
    {
     "name": "stdout",
     "output_type": "stream",
     "text": [
      "Done fitting bridge 11 / (7 + 4) (31 s).\n",
      "X_m1xnxd is shape (7, 20000, 200), Xm_nxp is shape (5000, 200). 7 waymarks provided\n"
     ]
    },
    {
     "name": "stderr",
     "output_type": "stream",
     "text": [
      "100%|██████████████████████████████████████████████████████████████████████████████████████████████████████████████████████████████████████████████████████| 1000/1000 [00:02<00:00, 341.89it/s]\n"
     ]
    },
    {
     "name": "stdout",
     "output_type": "stream",
     "text": [
      "Done fitting bridge 1 / (7 + 0) (2 s).\n"
     ]
    },
    {
     "name": "stderr",
     "output_type": "stream",
     "text": [
      "100%|██████████████████████████████████████████████████████████████████████████████████████████████████████████████████████████████████████████████████████| 1000/1000 [00:02<00:00, 349.15it/s]\n"
     ]
    },
    {
     "name": "stdout",
     "output_type": "stream",
     "text": [
      "Done fitting bridge 2 / (7 + 0) (5 s).\n"
     ]
    },
    {
     "name": "stderr",
     "output_type": "stream",
     "text": [
      "100%|██████████████████████████████████████████████████████████████████████████████████████████████████████████████████████████████████████████████████████| 1000/1000 [00:02<00:00, 345.76it/s]\n"
     ]
    },
    {
     "name": "stdout",
     "output_type": "stream",
     "text": [
      "Done fitting bridge 3 / (7 + 0) (8 s).\n"
     ]
    },
    {
     "name": "stderr",
     "output_type": "stream",
     "text": [
      "100%|██████████████████████████████████████████████████████████████████████████████████████████████████████████████████████████████████████████████████████| 1000/1000 [00:02<00:00, 340.60it/s]\n"
     ]
    },
    {
     "name": "stdout",
     "output_type": "stream",
     "text": [
      "Done fitting bridge 4 / (7 + 0) (11 s).\n"
     ]
    },
    {
     "name": "stderr",
     "output_type": "stream",
     "text": [
      "100%|██████████████████████████████████████████████████████████████████████████████████████████████████████████████████████████████████████████████████████| 1000/1000 [00:02<00:00, 346.71it/s]\n"
     ]
    },
    {
     "name": "stdout",
     "output_type": "stream",
     "text": [
      "Done fitting bridge 5 / (7 + 0) (14 s).\n"
     ]
    },
    {
     "name": "stderr",
     "output_type": "stream",
     "text": [
      "100%|██████████████████████████████████████████████████████████████████████████████████████████████████████████████████████████████████████████████████████| 1000/1000 [00:02<00:00, 334.38it/s]\n"
     ]
    },
    {
     "name": "stdout",
     "output_type": "stream",
     "text": [
      "Done fitting bridge 6 / (7 + 0) (17 s).\n"
     ]
    },
    {
     "name": "stderr",
     "output_type": "stream",
     "text": [
      "100%|██████████████████████████████████████████████████████████████████████████████████████████████████████████████████████████████████████████████████████| 1000/1000 [00:02<00:00, 349.48it/s]\n"
     ]
    },
    {
     "name": "stdout",
     "output_type": "stream",
     "text": [
      "Done fitting bridge 7 / (7 + 0) (20 s).\n",
      "Train mean: 0.286\n",
      "True means          :0.425 0.404 0.384 0.367 0.358 0.349 0.347 \n",
      "Imputed means       :0.440 0.423 0.417 0.401 0.393 0.385 0.384 \n",
      "PP extra WM means   :0.436 0.419 0.418 0.446 0.439 0.431 0.430 \n",
      "PP no extra WM means:0.436 0.419 0.413 0.404 0.410 0.402 0.400 \n",
      "Done with trial 15 / 20 (841 s)\n",
      "Problem has sequence length 50\n",
      "Loading waymarks in the following order for k = 0, 1, ... where k = 0 is the target design distribution.\n",
      "[0.01, 0.05, 0.1, 0.2, 0.3, 0.4, 0.5]\n",
      "Loading from /data/wongfanc/dre-data/data/120423/L50_RNA1/trial15/seed4-n5000-nmut4-threshold0.01.npz\n",
      "Loading from /data/wongfanc/dre-data/data/120423/L50_RNA1/trial15/seed4-n5000-nmut4-threshold0.05.npz\n",
      "Loading from /data/wongfanc/dre-data/data/120423/L50_RNA1/trial15/seed4-n5000-nmut4-threshold0.1.npz\n",
      "Loading from /data/wongfanc/dre-data/data/120423/L50_RNA1/trial15/seed4-n5000-nmut4-threshold0.2.npz\n",
      "Loading from /data/wongfanc/dre-data/data/120423/L50_RNA1/trial15/seed4-n5000-nmut4-threshold0.3.npz\n",
      "Loading from /data/wongfanc/dre-data/data/120423/L50_RNA1/trial15/seed4-n5000-nmut4-threshold0.4.npz\n",
      "Loading from /data/wongfanc/dre-data/data/120423/L50_RNA1/trial15/seed4-n5000-nmut4-threshold0.5.npz\n",
      "X_m1xnxd is shape (7, 20000, 200), Xm_nxp is shape (5000, 200). 7 waymarks provided\n",
      "Waymark 1 / 4 has 160, 40 dimensions from P0, Pm.\n",
      "Waymark 2 / 4 has 120, 80 dimensions from P0, Pm.\n",
      "Waymark 3 / 4 has 80, 120 dimensions from P0, Pm.\n",
      "Waymark 4 / 4 has 40, 160 dimensions from P0, Pm.\n",
      "Shape of waymarks after last HP: (4, 20000, 200). Shape of X_m1xnxd: (11, 20000, 200)\n"
     ]
    },
    {
     "name": "stderr",
     "output_type": "stream",
     "text": [
      "100%|██████████████████████████████████████████████████████████████████████████████████████████████████████████████████████████████████████████████████████| 1000/1000 [00:03<00:00, 328.31it/s]\n"
     ]
    },
    {
     "name": "stdout",
     "output_type": "stream",
     "text": [
      "Done fitting bridge 1 / (7 + 4) (3 s).\n"
     ]
    },
    {
     "name": "stderr",
     "output_type": "stream",
     "text": [
      "100%|██████████████████████████████████████████████████████████████████████████████████████████████████████████████████████████████████████████████████████| 1000/1000 [00:03<00:00, 328.19it/s]\n"
     ]
    },
    {
     "name": "stdout",
     "output_type": "stream",
     "text": [
      "Done fitting bridge 2 / (7 + 4) (6 s).\n"
     ]
    },
    {
     "name": "stderr",
     "output_type": "stream",
     "text": [
      "100%|██████████████████████████████████████████████████████████████████████████████████████████████████████████████████████████████████████████████████████| 1000/1000 [00:02<00:00, 333.48it/s]\n"
     ]
    },
    {
     "name": "stdout",
     "output_type": "stream",
     "text": [
      "Done fitting bridge 3 / (7 + 4) (9 s).\n"
     ]
    },
    {
     "name": "stderr",
     "output_type": "stream",
     "text": [
      "100%|██████████████████████████████████████████████████████████████████████████████████████████████████████████████████████████████████████████████████████| 1000/1000 [00:03<00:00, 331.97it/s]\n"
     ]
    },
    {
     "name": "stdout",
     "output_type": "stream",
     "text": [
      "Done fitting bridge 4 / (7 + 4) (12 s).\n"
     ]
    },
    {
     "name": "stderr",
     "output_type": "stream",
     "text": [
      "100%|██████████████████████████████████████████████████████████████████████████████████████████████████████████████████████████████████████████████████████| 1000/1000 [00:03<00:00, 331.42it/s]\n"
     ]
    },
    {
     "name": "stdout",
     "output_type": "stream",
     "text": [
      "Done fitting bridge 5 / (7 + 4) (15 s).\n"
     ]
    },
    {
     "name": "stderr",
     "output_type": "stream",
     "text": [
      "100%|██████████████████████████████████████████████████████████████████████████████████████████████████████████████████████████████████████████████████████| 1000/1000 [00:03<00:00, 328.40it/s]\n"
     ]
    },
    {
     "name": "stdout",
     "output_type": "stream",
     "text": [
      "Done fitting bridge 6 / (7 + 4) (18 s).\n"
     ]
    },
    {
     "name": "stderr",
     "output_type": "stream",
     "text": [
      "100%|██████████████████████████████████████████████████████████████████████████████████████████████████████████████████████████████████████████████████████| 1000/1000 [00:02<00:00, 339.35it/s]\n"
     ]
    },
    {
     "name": "stdout",
     "output_type": "stream",
     "text": [
      "Done fitting bridge 7 / (7 + 4) (21 s).\n"
     ]
    },
    {
     "name": "stderr",
     "output_type": "stream",
     "text": [
      "100%|██████████████████████████████████████████████████████████████████████████████████████████████████████████████████████████████████████████████████████| 1000/1000 [00:02<00:00, 359.90it/s]\n"
     ]
    },
    {
     "name": "stdout",
     "output_type": "stream",
     "text": [
      "Done fitting bridge 8 / (7 + 4) (24 s).\n"
     ]
    },
    {
     "name": "stderr",
     "output_type": "stream",
     "text": [
      "100%|██████████████████████████████████████████████████████████████████████████████████████████████████████████████████████████████████████████████████████| 1000/1000 [00:03<00:00, 333.00it/s]\n"
     ]
    },
    {
     "name": "stdout",
     "output_type": "stream",
     "text": [
      "Done fitting bridge 9 / (7 + 4) (27 s).\n"
     ]
    },
    {
     "name": "stderr",
     "output_type": "stream",
     "text": [
      "100%|██████████████████████████████████████████████████████████████████████████████████████████████████████████████████████████████████████████████████████| 1000/1000 [00:02<00:00, 350.49it/s]\n"
     ]
    },
    {
     "name": "stdout",
     "output_type": "stream",
     "text": [
      "Done fitting bridge 10 / (7 + 4) (29 s).\n"
     ]
    },
    {
     "name": "stderr",
     "output_type": "stream",
     "text": [
      "100%|██████████████████████████████████████████████████████████████████████████████████████████████████████████████████████████████████████████████████████| 1000/1000 [00:02<00:00, 353.10it/s]\n"
     ]
    },
    {
     "name": "stdout",
     "output_type": "stream",
     "text": [
      "Done fitting bridge 11 / (7 + 4) (32 s).\n",
      "X_m1xnxd is shape (7, 20000, 200), Xm_nxp is shape (5000, 200). 7 waymarks provided\n"
     ]
    },
    {
     "name": "stderr",
     "output_type": "stream",
     "text": [
      "100%|██████████████████████████████████████████████████████████████████████████████████████████████████████████████████████████████████████████████████████| 1000/1000 [00:02<00:00, 348.88it/s]\n"
     ]
    },
    {
     "name": "stdout",
     "output_type": "stream",
     "text": [
      "Done fitting bridge 1 / (7 + 0) (2 s).\n"
     ]
    },
    {
     "name": "stderr",
     "output_type": "stream",
     "text": [
      "100%|██████████████████████████████████████████████████████████████████████████████████████████████████████████████████████████████████████████████████████| 1000/1000 [00:02<00:00, 348.83it/s]\n"
     ]
    },
    {
     "name": "stdout",
     "output_type": "stream",
     "text": [
      "Done fitting bridge 2 / (7 + 0) (5 s).\n"
     ]
    },
    {
     "name": "stderr",
     "output_type": "stream",
     "text": [
      "100%|██████████████████████████████████████████████████████████████████████████████████████████████████████████████████████████████████████████████████████| 1000/1000 [00:02<00:00, 347.70it/s]\n"
     ]
    },
    {
     "name": "stdout",
     "output_type": "stream",
     "text": [
      "Done fitting bridge 3 / (7 + 0) (8 s).\n"
     ]
    },
    {
     "name": "stderr",
     "output_type": "stream",
     "text": [
      "100%|██████████████████████████████████████████████████████████████████████████████████████████████████████████████████████████████████████████████████████| 1000/1000 [00:02<00:00, 346.14it/s]\n"
     ]
    },
    {
     "name": "stdout",
     "output_type": "stream",
     "text": [
      "Done fitting bridge 4 / (7 + 0) (11 s).\n"
     ]
    },
    {
     "name": "stderr",
     "output_type": "stream",
     "text": [
      "100%|██████████████████████████████████████████████████████████████████████████████████████████████████████████████████████████████████████████████████████| 1000/1000 [00:02<00:00, 348.14it/s]\n"
     ]
    },
    {
     "name": "stdout",
     "output_type": "stream",
     "text": [
      "Done fitting bridge 5 / (7 + 0) (14 s).\n"
     ]
    },
    {
     "name": "stderr",
     "output_type": "stream",
     "text": [
      "100%|██████████████████████████████████████████████████████████████████████████████████████████████████████████████████████████████████████████████████████| 1000/1000 [00:02<00:00, 349.17it/s]\n"
     ]
    },
    {
     "name": "stdout",
     "output_type": "stream",
     "text": [
      "Done fitting bridge 6 / (7 + 0) (17 s).\n"
     ]
    },
    {
     "name": "stderr",
     "output_type": "stream",
     "text": [
      "100%|██████████████████████████████████████████████████████████████████████████████████████████████████████████████████████████████████████████████████████| 1000/1000 [00:02<00:00, 341.99it/s]\n"
     ]
    },
    {
     "name": "stdout",
     "output_type": "stream",
     "text": [
      "Done fitting bridge 7 / (7 + 0) (20 s).\n",
      "Train mean: 0.286\n",
      "True means          :0.412 0.410 0.388 0.372 0.358 0.351 0.344 \n",
      "Imputed means       :0.438 0.437 0.417 0.404 0.394 0.383 0.380 \n",
      "PP extra WM means   :0.423 0.422 0.427 0.392 0.383 0.371 0.368 \n",
      "PP no extra WM means:0.448 0.448 0.427 0.363 0.354 0.343 0.340 \n",
      "Done with trial 16 / 20 (897 s)\n",
      "Problem has sequence length 50\n",
      "Loading waymarks in the following order for k = 0, 1, ... where k = 0 is the target design distribution.\n",
      "[0.01, 0.05, 0.1, 0.2, 0.3, 0.4, 0.5]\n",
      "Loading from /data/wongfanc/dre-data/data/120423/L50_RNA1/trial16/seed4-n5000-nmut4-threshold0.01.npz\n",
      "Loading from /data/wongfanc/dre-data/data/120423/L50_RNA1/trial16/seed4-n5000-nmut4-threshold0.05.npz\n",
      "Loading from /data/wongfanc/dre-data/data/120423/L50_RNA1/trial16/seed4-n5000-nmut4-threshold0.1.npz\n",
      "Loading from /data/wongfanc/dre-data/data/120423/L50_RNA1/trial16/seed4-n5000-nmut4-threshold0.2.npz\n",
      "Loading from /data/wongfanc/dre-data/data/120423/L50_RNA1/trial16/seed4-n5000-nmut4-threshold0.3.npz\n",
      "Loading from /data/wongfanc/dre-data/data/120423/L50_RNA1/trial16/seed4-n5000-nmut4-threshold0.4.npz\n",
      "Loading from /data/wongfanc/dre-data/data/120423/L50_RNA1/trial16/seed4-n5000-nmut4-threshold0.5.npz\n",
      "X_m1xnxd is shape (7, 20000, 200), Xm_nxp is shape (5000, 200). 7 waymarks provided\n",
      "Waymark 1 / 4 has 160, 40 dimensions from P0, Pm.\n",
      "Waymark 2 / 4 has 120, 80 dimensions from P0, Pm.\n",
      "Waymark 3 / 4 has 80, 120 dimensions from P0, Pm.\n",
      "Waymark 4 / 4 has 40, 160 dimensions from P0, Pm.\n",
      "Shape of waymarks after last HP: (4, 20000, 200). Shape of X_m1xnxd: (11, 20000, 200)\n"
     ]
    },
    {
     "name": "stderr",
     "output_type": "stream",
     "text": [
      "100%|██████████████████████████████████████████████████████████████████████████████████████████████████████████████████████████████████████████████████████| 1000/1000 [00:02<00:00, 346.71it/s]\n"
     ]
    },
    {
     "name": "stdout",
     "output_type": "stream",
     "text": [
      "Done fitting bridge 1 / (7 + 4) (2 s).\n"
     ]
    },
    {
     "name": "stderr",
     "output_type": "stream",
     "text": [
      "100%|██████████████████████████████████████████████████████████████████████████████████████████████████████████████████████████████████████████████████████| 1000/1000 [00:02<00:00, 351.77it/s]\n"
     ]
    },
    {
     "name": "stdout",
     "output_type": "stream",
     "text": [
      "Done fitting bridge 2 / (7 + 4) (5 s).\n"
     ]
    },
    {
     "name": "stderr",
     "output_type": "stream",
     "text": [
      "100%|██████████████████████████████████████████████████████████████████████████████████████████████████████████████████████████████████████████████████████| 1000/1000 [00:02<00:00, 348.82it/s]\n"
     ]
    },
    {
     "name": "stdout",
     "output_type": "stream",
     "text": [
      "Done fitting bridge 3 / (7 + 4) (8 s).\n"
     ]
    },
    {
     "name": "stderr",
     "output_type": "stream",
     "text": [
      "100%|██████████████████████████████████████████████████████████████████████████████████████████████████████████████████████████████████████████████████████| 1000/1000 [00:02<00:00, 350.62it/s]\n"
     ]
    },
    {
     "name": "stdout",
     "output_type": "stream",
     "text": [
      "Done fitting bridge 4 / (7 + 4) (11 s).\n"
     ]
    },
    {
     "name": "stderr",
     "output_type": "stream",
     "text": [
      "100%|██████████████████████████████████████████████████████████████████████████████████████████████████████████████████████████████████████████████████████| 1000/1000 [00:02<00:00, 348.47it/s]\n"
     ]
    },
    {
     "name": "stdout",
     "output_type": "stream",
     "text": [
      "Done fitting bridge 5 / (7 + 4) (14 s).\n"
     ]
    },
    {
     "name": "stderr",
     "output_type": "stream",
     "text": [
      "100%|██████████████████████████████████████████████████████████████████████████████████████████████████████████████████████████████████████████████████████| 1000/1000 [00:03<00:00, 328.53it/s]\n"
     ]
    },
    {
     "name": "stdout",
     "output_type": "stream",
     "text": [
      "Done fitting bridge 6 / (7 + 4) (17 s).\n"
     ]
    },
    {
     "name": "stderr",
     "output_type": "stream",
     "text": [
      "100%|██████████████████████████████████████████████████████████████████████████████████████████████████████████████████████████████████████████████████████| 1000/1000 [00:02<00:00, 351.76it/s]\n"
     ]
    },
    {
     "name": "stdout",
     "output_type": "stream",
     "text": [
      "Done fitting bridge 7 / (7 + 4) (20 s).\n"
     ]
    },
    {
     "name": "stderr",
     "output_type": "stream",
     "text": [
      "100%|██████████████████████████████████████████████████████████████████████████████████████████████████████████████████████████████████████████████████████| 1000/1000 [00:02<00:00, 348.01it/s]\n"
     ]
    },
    {
     "name": "stdout",
     "output_type": "stream",
     "text": [
      "Done fitting bridge 8 / (7 + 4) (23 s).\n"
     ]
    },
    {
     "name": "stderr",
     "output_type": "stream",
     "text": [
      "100%|██████████████████████████████████████████████████████████████████████████████████████████████████████████████████████████████████████████████████████| 1000/1000 [00:02<00:00, 354.07it/s]\n"
     ]
    },
    {
     "name": "stdout",
     "output_type": "stream",
     "text": [
      "Done fitting bridge 9 / (7 + 4) (26 s).\n"
     ]
    },
    {
     "name": "stderr",
     "output_type": "stream",
     "text": [
      "100%|██████████████████████████████████████████████████████████████████████████████████████████████████████████████████████████████████████████████████████| 1000/1000 [00:02<00:00, 359.29it/s]\n"
     ]
    },
    {
     "name": "stdout",
     "output_type": "stream",
     "text": [
      "Done fitting bridge 10 / (7 + 4) (28 s).\n"
     ]
    },
    {
     "name": "stderr",
     "output_type": "stream",
     "text": [
      "100%|██████████████████████████████████████████████████████████████████████████████████████████████████████████████████████████████████████████████████████| 1000/1000 [00:02<00:00, 353.92it/s]\n"
     ]
    },
    {
     "name": "stdout",
     "output_type": "stream",
     "text": [
      "Done fitting bridge 11 / (7 + 4) (31 s).\n",
      "X_m1xnxd is shape (7, 20000, 200), Xm_nxp is shape (5000, 200). 7 waymarks provided\n"
     ]
    },
    {
     "name": "stderr",
     "output_type": "stream",
     "text": [
      "100%|██████████████████████████████████████████████████████████████████████████████████████████████████████████████████████████████████████████████████████| 1000/1000 [00:03<00:00, 330.70it/s]\n"
     ]
    },
    {
     "name": "stdout",
     "output_type": "stream",
     "text": [
      "Done fitting bridge 1 / (7 + 0) (3 s).\n"
     ]
    },
    {
     "name": "stderr",
     "output_type": "stream",
     "text": [
      "100%|██████████████████████████████████████████████████████████████████████████████████████████████████████████████████████████████████████████████████████| 1000/1000 [00:03<00:00, 327.38it/s]\n"
     ]
    },
    {
     "name": "stdout",
     "output_type": "stream",
     "text": [
      "Done fitting bridge 2 / (7 + 0) (6 s).\n"
     ]
    },
    {
     "name": "stderr",
     "output_type": "stream",
     "text": [
      "100%|██████████████████████████████████████████████████████████████████████████████████████████████████████████████████████████████████████████████████████| 1000/1000 [00:02<00:00, 350.74it/s]\n"
     ]
    },
    {
     "name": "stdout",
     "output_type": "stream",
     "text": [
      "Done fitting bridge 3 / (7 + 0) (8 s).\n"
     ]
    },
    {
     "name": "stderr",
     "output_type": "stream",
     "text": [
      "100%|██████████████████████████████████████████████████████████████████████████████████████████████████████████████████████████████████████████████████████| 1000/1000 [00:02<00:00, 346.50it/s]\n"
     ]
    },
    {
     "name": "stdout",
     "output_type": "stream",
     "text": [
      "Done fitting bridge 4 / (7 + 0) (11 s).\n"
     ]
    },
    {
     "name": "stderr",
     "output_type": "stream",
     "text": [
      "100%|██████████████████████████████████████████████████████████████████████████████████████████████████████████████████████████████████████████████████████| 1000/1000 [00:02<00:00, 338.43it/s]\n"
     ]
    },
    {
     "name": "stdout",
     "output_type": "stream",
     "text": [
      "Done fitting bridge 5 / (7 + 0) (14 s).\n"
     ]
    },
    {
     "name": "stderr",
     "output_type": "stream",
     "text": [
      "100%|██████████████████████████████████████████████████████████████████████████████████████████████████████████████████████████████████████████████████████| 1000/1000 [00:02<00:00, 347.06it/s]\n"
     ]
    },
    {
     "name": "stdout",
     "output_type": "stream",
     "text": [
      "Done fitting bridge 6 / (7 + 0) (17 s).\n"
     ]
    },
    {
     "name": "stderr",
     "output_type": "stream",
     "text": [
      "100%|██████████████████████████████████████████████████████████████████████████████████████████████████████████████████████████████████████████████████████| 1000/1000 [00:02<00:00, 344.04it/s]\n"
     ]
    },
    {
     "name": "stdout",
     "output_type": "stream",
     "text": [
      "Done fitting bridge 7 / (7 + 0) (20 s).\n",
      "Train mean: 0.287\n",
      "True means          :0.398 0.389 0.381 0.365 0.353 0.348 0.344 \n",
      "Imputed means       :0.427 0.420 0.411 0.396 0.386 0.383 0.379 \n",
      "PP extra WM means   :0.423 0.394 0.402 0.393 0.382 0.380 0.375 \n",
      "PP no extra WM means:0.416 0.412 0.408 0.413 0.393 0.391 0.386 \n",
      "Done with trial 17 / 20 (953 s)\n",
      "Problem has sequence length 50\n",
      "Loading waymarks in the following order for k = 0, 1, ... where k = 0 is the target design distribution.\n",
      "[0.01, 0.05, 0.1, 0.2, 0.3, 0.4, 0.5]\n",
      "Loading from /data/wongfanc/dre-data/data/120423/L50_RNA1/trial17/seed4-n5000-nmut4-threshold0.01.npz\n",
      "Loading from /data/wongfanc/dre-data/data/120423/L50_RNA1/trial17/seed4-n5000-nmut4-threshold0.05.npz\n",
      "Loading from /data/wongfanc/dre-data/data/120423/L50_RNA1/trial17/seed4-n5000-nmut4-threshold0.1.npz\n",
      "Loading from /data/wongfanc/dre-data/data/120423/L50_RNA1/trial17/seed4-n5000-nmut4-threshold0.2.npz\n",
      "Loading from /data/wongfanc/dre-data/data/120423/L50_RNA1/trial17/seed4-n5000-nmut4-threshold0.3.npz\n",
      "Loading from /data/wongfanc/dre-data/data/120423/L50_RNA1/trial17/seed4-n5000-nmut4-threshold0.4.npz\n",
      "Loading from /data/wongfanc/dre-data/data/120423/L50_RNA1/trial17/seed4-n5000-nmut4-threshold0.5.npz\n",
      "X_m1xnxd is shape (7, 20000, 200), Xm_nxp is shape (5000, 200). 7 waymarks provided\n",
      "Waymark 1 / 4 has 160, 40 dimensions from P0, Pm.\n",
      "Waymark 2 / 4 has 120, 80 dimensions from P0, Pm.\n",
      "Waymark 3 / 4 has 80, 120 dimensions from P0, Pm.\n",
      "Waymark 4 / 4 has 40, 160 dimensions from P0, Pm.\n",
      "Shape of waymarks after last HP: (4, 20000, 200). Shape of X_m1xnxd: (11, 20000, 200)\n"
     ]
    },
    {
     "name": "stderr",
     "output_type": "stream",
     "text": [
      "100%|██████████████████████████████████████████████████████████████████████████████████████████████████████████████████████████████████████████████████████| 1000/1000 [00:02<00:00, 343.33it/s]\n"
     ]
    },
    {
     "name": "stdout",
     "output_type": "stream",
     "text": [
      "Done fitting bridge 1 / (7 + 4) (2 s).\n"
     ]
    },
    {
     "name": "stderr",
     "output_type": "stream",
     "text": [
      "100%|██████████████████████████████████████████████████████████████████████████████████████████████████████████████████████████████████████████████████████| 1000/1000 [00:02<00:00, 345.47it/s]\n"
     ]
    },
    {
     "name": "stdout",
     "output_type": "stream",
     "text": [
      "Done fitting bridge 2 / (7 + 4) (5 s).\n"
     ]
    },
    {
     "name": "stderr",
     "output_type": "stream",
     "text": [
      "100%|██████████████████████████████████████████████████████████████████████████████████████████████████████████████████████████████████████████████████████| 1000/1000 [00:02<00:00, 341.23it/s]\n"
     ]
    },
    {
     "name": "stdout",
     "output_type": "stream",
     "text": [
      "Done fitting bridge 3 / (7 + 4) (8 s).\n"
     ]
    },
    {
     "name": "stderr",
     "output_type": "stream",
     "text": [
      "100%|██████████████████████████████████████████████████████████████████████████████████████████████████████████████████████████████████████████████████████| 1000/1000 [00:03<00:00, 325.99it/s]\n"
     ]
    },
    {
     "name": "stdout",
     "output_type": "stream",
     "text": [
      "Done fitting bridge 4 / (7 + 4) (11 s).\n"
     ]
    },
    {
     "name": "stderr",
     "output_type": "stream",
     "text": [
      "100%|██████████████████████████████████████████████████████████████████████████████████████████████████████████████████████████████████████████████████████| 1000/1000 [00:03<00:00, 329.71it/s]\n"
     ]
    },
    {
     "name": "stdout",
     "output_type": "stream",
     "text": [
      "Done fitting bridge 5 / (7 + 4) (14 s).\n"
     ]
    },
    {
     "name": "stderr",
     "output_type": "stream",
     "text": [
      "100%|██████████████████████████████████████████████████████████████████████████████████████████████████████████████████████████████████████████████████████| 1000/1000 [00:03<00:00, 329.00it/s]\n"
     ]
    },
    {
     "name": "stdout",
     "output_type": "stream",
     "text": [
      "Done fitting bridge 6 / (7 + 4) (17 s).\n"
     ]
    },
    {
     "name": "stderr",
     "output_type": "stream",
     "text": [
      "100%|██████████████████████████████████████████████████████████████████████████████████████████████████████████████████████████████████████████████████████| 1000/1000 [00:02<00:00, 351.50it/s]\n"
     ]
    },
    {
     "name": "stdout",
     "output_type": "stream",
     "text": [
      "Done fitting bridge 7 / (7 + 4) (20 s).\n"
     ]
    },
    {
     "name": "stderr",
     "output_type": "stream",
     "text": [
      "100%|██████████████████████████████████████████████████████████████████████████████████████████████████████████████████████████████████████████████████████| 1000/1000 [00:02<00:00, 347.88it/s]\n"
     ]
    },
    {
     "name": "stdout",
     "output_type": "stream",
     "text": [
      "Done fitting bridge 8 / (7 + 4) (23 s).\n"
     ]
    },
    {
     "name": "stderr",
     "output_type": "stream",
     "text": [
      "100%|██████████████████████████████████████████████████████████████████████████████████████████████████████████████████████████████████████████████████████| 1000/1000 [00:02<00:00, 352.04it/s]\n"
     ]
    },
    {
     "name": "stdout",
     "output_type": "stream",
     "text": [
      "Done fitting bridge 9 / (7 + 4) (26 s).\n"
     ]
    },
    {
     "name": "stderr",
     "output_type": "stream",
     "text": [
      "100%|██████████████████████████████████████████████████████████████████████████████████████████████████████████████████████████████████████████████████████| 1000/1000 [00:02<00:00, 347.87it/s]\n"
     ]
    },
    {
     "name": "stdout",
     "output_type": "stream",
     "text": [
      "Done fitting bridge 10 / (7 + 4) (29 s).\n"
     ]
    },
    {
     "name": "stderr",
     "output_type": "stream",
     "text": [
      "100%|██████████████████████████████████████████████████████████████████████████████████████████████████████████████████████████████████████████████████████| 1000/1000 [00:02<00:00, 359.76it/s]\n"
     ]
    },
    {
     "name": "stdout",
     "output_type": "stream",
     "text": [
      "Done fitting bridge 11 / (7 + 4) (32 s).\n",
      "X_m1xnxd is shape (7, 20000, 200), Xm_nxp is shape (5000, 200). 7 waymarks provided\n"
     ]
    },
    {
     "name": "stderr",
     "output_type": "stream",
     "text": [
      "100%|██████████████████████████████████████████████████████████████████████████████████████████████████████████████████████████████████████████████████████| 1000/1000 [00:02<00:00, 346.14it/s]\n"
     ]
    },
    {
     "name": "stdout",
     "output_type": "stream",
     "text": [
      "Done fitting bridge 1 / (7 + 0) (2 s).\n"
     ]
    },
    {
     "name": "stderr",
     "output_type": "stream",
     "text": [
      "100%|██████████████████████████████████████████████████████████████████████████████████████████████████████████████████████████████████████████████████████| 1000/1000 [00:02<00:00, 339.77it/s]\n"
     ]
    },
    {
     "name": "stdout",
     "output_type": "stream",
     "text": [
      "Done fitting bridge 2 / (7 + 0) (5 s).\n"
     ]
    },
    {
     "name": "stderr",
     "output_type": "stream",
     "text": [
      "100%|██████████████████████████████████████████████████████████████████████████████████████████████████████████████████████████████████████████████████████| 1000/1000 [00:02<00:00, 339.42it/s]\n"
     ]
    },
    {
     "name": "stdout",
     "output_type": "stream",
     "text": [
      "Done fitting bridge 3 / (7 + 0) (8 s).\n"
     ]
    },
    {
     "name": "stderr",
     "output_type": "stream",
     "text": [
      "100%|██████████████████████████████████████████████████████████████████████████████████████████████████████████████████████████████████████████████████████| 1000/1000 [00:02<00:00, 350.26it/s]\n"
     ]
    },
    {
     "name": "stdout",
     "output_type": "stream",
     "text": [
      "Done fitting bridge 4 / (7 + 0) (11 s).\n"
     ]
    },
    {
     "name": "stderr",
     "output_type": "stream",
     "text": [
      "100%|██████████████████████████████████████████████████████████████████████████████████████████████████████████████████████████████████████████████████████| 1000/1000 [00:02<00:00, 349.05it/s]\n"
     ]
    },
    {
     "name": "stdout",
     "output_type": "stream",
     "text": [
      "Done fitting bridge 5 / (7 + 0) (14 s).\n"
     ]
    },
    {
     "name": "stderr",
     "output_type": "stream",
     "text": [
      "100%|██████████████████████████████████████████████████████████████████████████████████████████████████████████████████████████████████████████████████████| 1000/1000 [00:03<00:00, 329.44it/s]\n"
     ]
    },
    {
     "name": "stdout",
     "output_type": "stream",
     "text": [
      "Done fitting bridge 6 / (7 + 0) (17 s).\n"
     ]
    },
    {
     "name": "stderr",
     "output_type": "stream",
     "text": [
      "100%|██████████████████████████████████████████████████████████████████████████████████████████████████████████████████████████████████████████████████████| 1000/1000 [00:03<00:00, 327.61it/s]\n"
     ]
    },
    {
     "name": "stdout",
     "output_type": "stream",
     "text": [
      "Done fitting bridge 7 / (7 + 0) (20 s).\n",
      "Train mean: 0.284\n",
      "True means          :0.397 0.382 0.371 0.360 0.346 0.339 0.336 \n",
      "Imputed means       :0.446 0.430 0.420 0.409 0.399 0.393 0.394 \n",
      "PP extra WM means   :0.380 0.365 0.354 0.395 0.385 0.379 0.380 \n",
      "PP no extra WM means:0.405 0.390 0.380 0.368 0.358 0.352 0.353 \n",
      "Done with trial 18 / 20 (1010 s)\n",
      "Problem has sequence length 50\n",
      "Loading waymarks in the following order for k = 0, 1, ... where k = 0 is the target design distribution.\n",
      "[0.01, 0.05, 0.1, 0.2, 0.3, 0.4, 0.5]\n",
      "Loading from /data/wongfanc/dre-data/data/120423/L50_RNA1/trial18/seed4-n5000-nmut4-threshold0.01.npz\n",
      "Loading from /data/wongfanc/dre-data/data/120423/L50_RNA1/trial18/seed4-n5000-nmut4-threshold0.05.npz\n",
      "Loading from /data/wongfanc/dre-data/data/120423/L50_RNA1/trial18/seed4-n5000-nmut4-threshold0.1.npz\n",
      "Loading from /data/wongfanc/dre-data/data/120423/L50_RNA1/trial18/seed4-n5000-nmut4-threshold0.2.npz\n",
      "Loading from /data/wongfanc/dre-data/data/120423/L50_RNA1/trial18/seed4-n5000-nmut4-threshold0.3.npz\n",
      "Loading from /data/wongfanc/dre-data/data/120423/L50_RNA1/trial18/seed4-n5000-nmut4-threshold0.4.npz\n",
      "Loading from /data/wongfanc/dre-data/data/120423/L50_RNA1/trial18/seed4-n5000-nmut4-threshold0.5.npz\n",
      "X_m1xnxd is shape (7, 20000, 200), Xm_nxp is shape (5000, 200). 7 waymarks provided\n",
      "Waymark 1 / 4 has 160, 40 dimensions from P0, Pm.\n",
      "Waymark 2 / 4 has 120, 80 dimensions from P0, Pm.\n",
      "Waymark 3 / 4 has 80, 120 dimensions from P0, Pm.\n",
      "Waymark 4 / 4 has 40, 160 dimensions from P0, Pm.\n",
      "Shape of waymarks after last HP: (4, 20000, 200). Shape of X_m1xnxd: (11, 20000, 200)\n"
     ]
    },
    {
     "name": "stderr",
     "output_type": "stream",
     "text": [
      "100%|██████████████████████████████████████████████████████████████████████████████████████████████████████████████████████████████████████████████████████| 1000/1000 [00:02<00:00, 337.83it/s]\n"
     ]
    },
    {
     "name": "stdout",
     "output_type": "stream",
     "text": [
      "Done fitting bridge 1 / (7 + 4) (2 s).\n"
     ]
    },
    {
     "name": "stderr",
     "output_type": "stream",
     "text": [
      "100%|██████████████████████████████████████████████████████████████████████████████████████████████████████████████████████████████████████████████████████| 1000/1000 [00:02<00:00, 352.63it/s]\n"
     ]
    },
    {
     "name": "stdout",
     "output_type": "stream",
     "text": [
      "Done fitting bridge 2 / (7 + 4) (5 s).\n"
     ]
    },
    {
     "name": "stderr",
     "output_type": "stream",
     "text": [
      "100%|██████████████████████████████████████████████████████████████████████████████████████████████████████████████████████████████████████████████████████| 1000/1000 [00:02<00:00, 336.45it/s]\n"
     ]
    },
    {
     "name": "stdout",
     "output_type": "stream",
     "text": [
      "Done fitting bridge 3 / (7 + 4) (8 s).\n"
     ]
    },
    {
     "name": "stderr",
     "output_type": "stream",
     "text": [
      "100%|██████████████████████████████████████████████████████████████████████████████████████████████████████████████████████████████████████████████████████| 1000/1000 [00:03<00:00, 315.83it/s]\n"
     ]
    },
    {
     "name": "stdout",
     "output_type": "stream",
     "text": [
      "Done fitting bridge 4 / (7 + 4) (12 s).\n"
     ]
    },
    {
     "name": "stderr",
     "output_type": "stream",
     "text": [
      "100%|██████████████████████████████████████████████████████████████████████████████████████████████████████████████████████████████████████████████████████| 1000/1000 [00:03<00:00, 327.01it/s]\n"
     ]
    },
    {
     "name": "stdout",
     "output_type": "stream",
     "text": [
      "Done fitting bridge 5 / (7 + 4) (15 s).\n"
     ]
    },
    {
     "name": "stderr",
     "output_type": "stream",
     "text": [
      "100%|██████████████████████████████████████████████████████████████████████████████████████████████████████████████████████████████████████████████████████| 1000/1000 [00:02<00:00, 340.75it/s]\n"
     ]
    },
    {
     "name": "stdout",
     "output_type": "stream",
     "text": [
      "Done fitting bridge 6 / (7 + 4) (18 s).\n"
     ]
    },
    {
     "name": "stderr",
     "output_type": "stream",
     "text": [
      "100%|██████████████████████████████████████████████████████████████████████████████████████████████████████████████████████████████████████████████████████| 1000/1000 [00:02<00:00, 348.55it/s]\n"
     ]
    },
    {
     "name": "stdout",
     "output_type": "stream",
     "text": [
      "Done fitting bridge 7 / (7 + 4) (20 s).\n"
     ]
    },
    {
     "name": "stderr",
     "output_type": "stream",
     "text": [
      "100%|██████████████████████████████████████████████████████████████████████████████████████████████████████████████████████████████████████████████████████| 1000/1000 [00:02<00:00, 351.36it/s]\n"
     ]
    },
    {
     "name": "stdout",
     "output_type": "stream",
     "text": [
      "Done fitting bridge 8 / (7 + 4) (23 s).\n"
     ]
    },
    {
     "name": "stderr",
     "output_type": "stream",
     "text": [
      "100%|██████████████████████████████████████████████████████████████████████████████████████████████████████████████████████████████████████████████████████| 1000/1000 [00:02<00:00, 355.72it/s]\n"
     ]
    },
    {
     "name": "stdout",
     "output_type": "stream",
     "text": [
      "Done fitting bridge 9 / (7 + 4) (26 s).\n"
     ]
    },
    {
     "name": "stderr",
     "output_type": "stream",
     "text": [
      "100%|██████████████████████████████████████████████████████████████████████████████████████████████████████████████████████████████████████████████████████| 1000/1000 [00:02<00:00, 348.08it/s]\n"
     ]
    },
    {
     "name": "stdout",
     "output_type": "stream",
     "text": [
      "Done fitting bridge 10 / (7 + 4) (29 s).\n"
     ]
    },
    {
     "name": "stderr",
     "output_type": "stream",
     "text": [
      "100%|██████████████████████████████████████████████████████████████████████████████████████████████████████████████████████████████████████████████████████| 1000/1000 [00:02<00:00, 353.68it/s]\n"
     ]
    },
    {
     "name": "stdout",
     "output_type": "stream",
     "text": [
      "Done fitting bridge 11 / (7 + 4) (32 s).\n",
      "X_m1xnxd is shape (7, 20000, 200), Xm_nxp is shape (5000, 200). 7 waymarks provided\n"
     ]
    },
    {
     "name": "stderr",
     "output_type": "stream",
     "text": [
      "100%|██████████████████████████████████████████████████████████████████████████████████████████████████████████████████████████████████████████████████████| 1000/1000 [00:02<00:00, 346.76it/s]\n"
     ]
    },
    {
     "name": "stdout",
     "output_type": "stream",
     "text": [
      "Done fitting bridge 1 / (7 + 0) (2 s).\n"
     ]
    },
    {
     "name": "stderr",
     "output_type": "stream",
     "text": [
      "100%|██████████████████████████████████████████████████████████████████████████████████████████████████████████████████████████████████████████████████████| 1000/1000 [00:02<00:00, 355.51it/s]\n"
     ]
    },
    {
     "name": "stdout",
     "output_type": "stream",
     "text": [
      "Done fitting bridge 2 / (7 + 0) (5 s).\n"
     ]
    },
    {
     "name": "stderr",
     "output_type": "stream",
     "text": [
      "100%|██████████████████████████████████████████████████████████████████████████████████████████████████████████████████████████████████████████████████████| 1000/1000 [00:03<00:00, 331.42it/s]\n"
     ]
    },
    {
     "name": "stdout",
     "output_type": "stream",
     "text": [
      "Done fitting bridge 3 / (7 + 0) (8 s).\n"
     ]
    },
    {
     "name": "stderr",
     "output_type": "stream",
     "text": [
      "100%|██████████████████████████████████████████████████████████████████████████████████████████████████████████████████████████████████████████████████████| 1000/1000 [00:02<00:00, 342.43it/s]\n"
     ]
    },
    {
     "name": "stdout",
     "output_type": "stream",
     "text": [
      "Done fitting bridge 4 / (7 + 0) (11 s).\n"
     ]
    },
    {
     "name": "stderr",
     "output_type": "stream",
     "text": [
      "100%|██████████████████████████████████████████████████████████████████████████████████████████████████████████████████████████████████████████████████████| 1000/1000 [00:02<00:00, 340.97it/s]\n"
     ]
    },
    {
     "name": "stdout",
     "output_type": "stream",
     "text": [
      "Done fitting bridge 5 / (7 + 0) (14 s).\n"
     ]
    },
    {
     "name": "stderr",
     "output_type": "stream",
     "text": [
      "100%|██████████████████████████████████████████████████████████████████████████████████████████████████████████████████████████████████████████████████████| 1000/1000 [00:02<00:00, 346.12it/s]\n"
     ]
    },
    {
     "name": "stdout",
     "output_type": "stream",
     "text": [
      "Done fitting bridge 6 / (7 + 0) (17 s).\n"
     ]
    },
    {
     "name": "stderr",
     "output_type": "stream",
     "text": [
      "100%|██████████████████████████████████████████████████████████████████████████████████████████████████████████████████████████████████████████████████████| 1000/1000 [00:02<00:00, 344.80it/s]\n"
     ]
    },
    {
     "name": "stdout",
     "output_type": "stream",
     "text": [
      "Done fitting bridge 7 / (7 + 0) (20 s).\n",
      "Train mean: 0.284\n",
      "True means          :0.414 0.394 0.384 0.368 0.353 0.347 0.342 \n",
      "Imputed means       :0.442 0.430 0.416 0.400 0.390 0.385 0.381 \n",
      "PP extra WM means   :0.396 0.402 0.404 0.430 0.419 0.414 0.410 \n",
      "PP no extra WM means:0.431 0.418 0.393 0.359 0.352 0.347 0.343 \n",
      "Done with trial 19 / 20 (1066 s)\n",
      "Problem has sequence length 50\n",
      "Loading waymarks in the following order for k = 0, 1, ... where k = 0 is the target design distribution.\n",
      "[0.01, 0.05, 0.1, 0.2, 0.3, 0.4, 0.5]\n",
      "Loading from /data/wongfanc/dre-data/data/120423/L50_RNA1/trial19/seed4-n5000-nmut4-threshold0.01.npz\n",
      "Loading from /data/wongfanc/dre-data/data/120423/L50_RNA1/trial19/seed4-n5000-nmut4-threshold0.05.npz\n",
      "Loading from /data/wongfanc/dre-data/data/120423/L50_RNA1/trial19/seed4-n5000-nmut4-threshold0.1.npz\n",
      "Loading from /data/wongfanc/dre-data/data/120423/L50_RNA1/trial19/seed4-n5000-nmut4-threshold0.2.npz\n",
      "Loading from /data/wongfanc/dre-data/data/120423/L50_RNA1/trial19/seed4-n5000-nmut4-threshold0.3.npz\n",
      "Loading from /data/wongfanc/dre-data/data/120423/L50_RNA1/trial19/seed4-n5000-nmut4-threshold0.4.npz\n",
      "Loading from /data/wongfanc/dre-data/data/120423/L50_RNA1/trial19/seed4-n5000-nmut4-threshold0.5.npz\n",
      "X_m1xnxd is shape (7, 20000, 200), Xm_nxp is shape (5000, 200). 7 waymarks provided\n",
      "Waymark 1 / 4 has 160, 40 dimensions from P0, Pm.\n",
      "Waymark 2 / 4 has 120, 80 dimensions from P0, Pm.\n",
      "Waymark 3 / 4 has 80, 120 dimensions from P0, Pm.\n",
      "Waymark 4 / 4 has 40, 160 dimensions from P0, Pm.\n",
      "Shape of waymarks after last HP: (4, 20000, 200). Shape of X_m1xnxd: (11, 20000, 200)\n"
     ]
    },
    {
     "name": "stderr",
     "output_type": "stream",
     "text": [
      "100%|██████████████████████████████████████████████████████████████████████████████████████████████████████████████████████████████████████████████████████| 1000/1000 [00:02<00:00, 339.03it/s]\n"
     ]
    },
    {
     "name": "stdout",
     "output_type": "stream",
     "text": [
      "Done fitting bridge 1 / (7 + 4) (2 s).\n"
     ]
    },
    {
     "name": "stderr",
     "output_type": "stream",
     "text": [
      "100%|██████████████████████████████████████████████████████████████████████████████████████████████████████████████████████████████████████████████████████| 1000/1000 [00:03<00:00, 329.73it/s]\n"
     ]
    },
    {
     "name": "stdout",
     "output_type": "stream",
     "text": [
      "Done fitting bridge 2 / (7 + 4) (6 s).\n"
     ]
    },
    {
     "name": "stderr",
     "output_type": "stream",
     "text": [
      "100%|██████████████████████████████████████████████████████████████████████████████████████████████████████████████████████████████████████████████████████| 1000/1000 [00:03<00:00, 331.78it/s]\n"
     ]
    },
    {
     "name": "stdout",
     "output_type": "stream",
     "text": [
      "Done fitting bridge 3 / (7 + 4) (9 s).\n"
     ]
    },
    {
     "name": "stderr",
     "output_type": "stream",
     "text": [
      "100%|██████████████████████████████████████████████████████████████████████████████████████████████████████████████████████████████████████████████████████| 1000/1000 [00:03<00:00, 328.01it/s]\n"
     ]
    },
    {
     "name": "stdout",
     "output_type": "stream",
     "text": [
      "Done fitting bridge 4 / (7 + 4) (12 s).\n"
     ]
    },
    {
     "name": "stderr",
     "output_type": "stream",
     "text": [
      "100%|██████████████████████████████████████████████████████████████████████████████████████████████████████████████████████████████████████████████████████| 1000/1000 [00:03<00:00, 329.58it/s]\n"
     ]
    },
    {
     "name": "stdout",
     "output_type": "stream",
     "text": [
      "Done fitting bridge 5 / (7 + 4) (15 s).\n"
     ]
    },
    {
     "name": "stderr",
     "output_type": "stream",
     "text": [
      "100%|██████████████████████████████████████████████████████████████████████████████████████████████████████████████████████████████████████████████████████| 1000/1000 [00:02<00:00, 340.31it/s]\n"
     ]
    },
    {
     "name": "stdout",
     "output_type": "stream",
     "text": [
      "Done fitting bridge 6 / (7 + 4) (18 s).\n"
     ]
    },
    {
     "name": "stderr",
     "output_type": "stream",
     "text": [
      "100%|██████████████████████████████████████████████████████████████████████████████████████████████████████████████████████████████████████████████████████| 1000/1000 [00:02<00:00, 348.73it/s]\n"
     ]
    },
    {
     "name": "stdout",
     "output_type": "stream",
     "text": [
      "Done fitting bridge 7 / (7 + 4) (21 s).\n"
     ]
    },
    {
     "name": "stderr",
     "output_type": "stream",
     "text": [
      "100%|██████████████████████████████████████████████████████████████████████████████████████████████████████████████████████████████████████████████████████| 1000/1000 [00:02<00:00, 349.12it/s]\n"
     ]
    },
    {
     "name": "stdout",
     "output_type": "stream",
     "text": [
      "Done fitting bridge 8 / (7 + 4) (23 s).\n"
     ]
    },
    {
     "name": "stderr",
     "output_type": "stream",
     "text": [
      "100%|██████████████████████████████████████████████████████████████████████████████████████████████████████████████████████████████████████████████████████| 1000/1000 [00:02<00:00, 350.08it/s]\n"
     ]
    },
    {
     "name": "stdout",
     "output_type": "stream",
     "text": [
      "Done fitting bridge 9 / (7 + 4) (26 s).\n"
     ]
    },
    {
     "name": "stderr",
     "output_type": "stream",
     "text": [
      "100%|██████████████████████████████████████████████████████████████████████████████████████████████████████████████████████████████████████████████████████| 1000/1000 [00:02<00:00, 349.09it/s]\n"
     ]
    },
    {
     "name": "stdout",
     "output_type": "stream",
     "text": [
      "Done fitting bridge 10 / (7 + 4) (29 s).\n"
     ]
    },
    {
     "name": "stderr",
     "output_type": "stream",
     "text": [
      "100%|██████████████████████████████████████████████████████████████████████████████████████████████████████████████████████████████████████████████████████| 1000/1000 [00:02<00:00, 361.94it/s]\n"
     ]
    },
    {
     "name": "stdout",
     "output_type": "stream",
     "text": [
      "Done fitting bridge 11 / (7 + 4) (32 s).\n",
      "X_m1xnxd is shape (7, 20000, 200), Xm_nxp is shape (5000, 200). 7 waymarks provided\n"
     ]
    },
    {
     "name": "stderr",
     "output_type": "stream",
     "text": [
      "100%|██████████████████████████████████████████████████████████████████████████████████████████████████████████████████████████████████████████████████████| 1000/1000 [00:02<00:00, 347.23it/s]\n"
     ]
    },
    {
     "name": "stdout",
     "output_type": "stream",
     "text": [
      "Done fitting bridge 1 / (7 + 0) (2 s).\n"
     ]
    },
    {
     "name": "stderr",
     "output_type": "stream",
     "text": [
      "100%|██████████████████████████████████████████████████████████████████████████████████████████████████████████████████████████████████████████████████████| 1000/1000 [00:02<00:00, 351.73it/s]\n"
     ]
    },
    {
     "name": "stdout",
     "output_type": "stream",
     "text": [
      "Done fitting bridge 2 / (7 + 0) (5 s).\n"
     ]
    },
    {
     "name": "stderr",
     "output_type": "stream",
     "text": [
      "100%|██████████████████████████████████████████████████████████████████████████████████████████████████████████████████████████████████████████████████████| 1000/1000 [00:02<00:00, 338.63it/s]\n"
     ]
    },
    {
     "name": "stdout",
     "output_type": "stream",
     "text": [
      "Done fitting bridge 3 / (7 + 0) (8 s).\n"
     ]
    },
    {
     "name": "stderr",
     "output_type": "stream",
     "text": [
      "100%|██████████████████████████████████████████████████████████████████████████████████████████████████████████████████████████████████████████████████████| 1000/1000 [00:02<00:00, 349.43it/s]\n"
     ]
    },
    {
     "name": "stdout",
     "output_type": "stream",
     "text": [
      "Done fitting bridge 4 / (7 + 0) (11 s).\n"
     ]
    },
    {
     "name": "stderr",
     "output_type": "stream",
     "text": [
      "100%|██████████████████████████████████████████████████████████████████████████████████████████████████████████████████████████████████████████████████████| 1000/1000 [00:02<00:00, 347.56it/s]\n"
     ]
    },
    {
     "name": "stdout",
     "output_type": "stream",
     "text": [
      "Done fitting bridge 5 / (7 + 0) (14 s).\n"
     ]
    },
    {
     "name": "stderr",
     "output_type": "stream",
     "text": [
      "100%|██████████████████████████████████████████████████████████████████████████████████████████████████████████████████████████████████████████████████████| 1000/1000 [00:03<00:00, 314.21it/s]\n"
     ]
    },
    {
     "name": "stdout",
     "output_type": "stream",
     "text": [
      "Done fitting bridge 6 / (7 + 0) (17 s).\n"
     ]
    },
    {
     "name": "stderr",
     "output_type": "stream",
     "text": [
      "100%|██████████████████████████████████████████████████████████████████████████████████████████████████████████████████████████████████████████████████████| 1000/1000 [00:02<00:00, 350.06it/s]"
     ]
    },
    {
     "name": "stdout",
     "output_type": "stream",
     "text": [
      "Done fitting bridge 7 / (7 + 0) (20 s).\n",
      "Train mean: 0.286\n",
      "True means          :0.407 0.398 0.383 0.368 0.358 0.350 0.347 \n",
      "Imputed means       :0.431 0.423 0.409 0.393 0.382 0.374 0.374 \n",
      "PP extra WM means   :0.438 0.429 0.415 0.363 0.353 0.344 0.344 \n",
      "PP no extra WM means:0.440 0.429 0.415 0.399 0.371 0.363 0.363 \n",
      "Done with trial 20 / 20 (1123 s)\n"
     ]
    },
    {
     "name": "stderr",
     "output_type": "stream",
     "text": [
      "\n"
     ]
    }
   ],
   "source": [
    "# check point estimates\n",
    "reload(vshifts)\n",
    "reload(tdre)\n",
    "reload(cal)\n",
    "\n",
    "# data \n",
    "landscape_name = 'L50_RNA1'\n",
    "seed_idx = 4\n",
    "avg_n_mut = 4\n",
    "n = 5000\n",
    "N = 20000\n",
    "thresholds = [0.01, 0.05, 0.1, 0.2, 0.3, 0.4, 0.5]\n",
    "explorer_kwarg_name2vals = {'threshold': thresholds}\n",
    "save_fname_dir = '120423'\n",
    "trial_idx = np.arange(20)\n",
    "n_trial = trial_idx.size\n",
    "# alpha = 0.1\n",
    "lhat = 1\n",
    "\n",
    "# TDRE\n",
    "n_hidden = 32\n",
    "n_waymarks_for_last_hp = 4\n",
    "config = {\n",
    "    'waymark_type': 'mixed_dimensions',  # dummy value\n",
    "    'val_frac': 0.1,\n",
    "    'n_steps': 1000,\n",
    "    'lr': 1e-3,\n",
    "    'use_weighted_loss': True\n",
    "}\n",
    "modela = tdre.TelescopingLogDensityRatioEstimator(\n",
    "    tdre.FeedForward,\n",
    "    50 * 4,\n",
    "    shared=False,\n",
    "    n_ratio=len(thresholds),\n",
    "    n_waymarks_for_last_hp=n_waymarks_for_last_hp,\n",
    "    device=torch.device('cuda'),\n",
    "    dtype=torch.float\n",
    ")\n",
    "modelb = tdre.TelescopingLogDensityRatioEstimator(\n",
    "    tdre.FeedForward,\n",
    "    50 * 4,\n",
    "    shared=False,\n",
    "    n_ratio=len(thresholds),\n",
    "    n_waymarks_for_last_hp=0,\n",
    "    device=torch.device('cuda'),\n",
    "    dtype=torch.float\n",
    ")\n",
    "\n",
    "t0 = time()\n",
    "ppa_txm = np.zeros([trial_idx.size, len(thresholds)])\n",
    "ppb_txm = np.zeros([trial_idx.size, len(thresholds)])\n",
    "true_txm = np.zeros([trial_idx.size, len(thresholds)])\n",
    "imp_txm = np.zeros([trial_idx.size, len(thresholds)])\n",
    "format_str = ''.join(['{}'] + len(thresholds) * ['{:.3f} '])\n",
    "for T_idx, T in enumerate(trial_idx):\n",
    "\n",
    "    X_mxnxd, y_mxn, pred_mxn, Xtrcal_nxd, Xcal_nxd, ycal_n, predcal_n = vshifts.load_rna_data(\n",
    "        landscape_name,\n",
    "        seed_idx,\n",
    "        n,\n",
    "        N,\n",
    "        explorer_kwarg_name2vals,\n",
    "        save_fname_dir,\n",
    "        avg_n_mut,\n",
    "        T\n",
    "    )\n",
    "    \n",
    "    train_dfs_a = modela.fit(config, X_m1xnxd=X_mxnxd, Xm_nxp=Xtrcal_nxd)\n",
    "    train_dfs_b = modelb.fit(config, X_m1xnxd=X_mxnxd, Xm_nxp=Xtrcal_nxd)\n",
    "    truemean_m = np.mean(y_mxn, axis=1)\n",
    "    true_txm[T_idx] = truemean_m\n",
    "    \n",
    "    # imputation point estimates\n",
    "    imputed_m = np.mean(pred_mxn, axis=1)\n",
    "    imp_txm[T_idx] = imputed_m\n",
    "    \n",
    "    # PP point estimates\n",
    "    ppa_m, dra_nxm = modela.forecast_meany_per_bridge(\n",
    "        Xcal_nxd, ycal_n, self_normalized=True, predm_n=predcal_n, pred0_mxn=pred_mxn\n",
    "    )\n",
    "    ppa_txm[T_idx] = ppa_m\n",
    "    ppb_m, drb_nxm = modelb.forecast_meany_per_bridge(\n",
    "        Xcal_nxd, ycal_n, self_normalized=True, predm_n=predcal_n, pred0_mxn=pred_mxn\n",
    "    )\n",
    "    ppb_txm[T_idx] = ppb_m\n",
    "    \n",
    "    print('Train mean: {:.3f}'.format(np.mean(ycal_n)))\n",
    "    print(format_str.format('True means          :', *truemean_m))\n",
    "    print(format_str.format('Imputed means       :', *imputed_m))\n",
    "    print(format_str.format('PP extra WM means   :', *ppa_m))\n",
    "    print(format_str.format('PP no extra WM means:', *ppb_m))\n",
    "    print('Done with trial {} / {} ({} s)'.format(T_idx + 1, len(trial_idx), int(time() - t0)))\n",
    "    "
   ]
  },
  {
   "cell_type": "code",
   "execution_count": 108,
   "id": "7e543c89",
   "metadata": {},
   "outputs": [
    {
     "data": {
      "image/png": "[encoded data removed]",
      "text/plain": [
       "<Figure size 640x480 with 1 Axes>"
      ]
     },
     "metadata": {},
     "output_type": "display_data"
    }
   ],
   "source": [
    "loc = np.arange(len(thresholds))\n",
    "plt.violinplot(imp_txm - true_txm, loc - 0.2, widths=0.2, showmeans=True);\n",
    "plt.violinplot(ppa_txm - true_txm, loc, widths=0.2, showmeans=True);\n",
    "plt.violinplot(ppb_txm - true_txm, loc + 0.2, widths=0.2, showmeans=True);\n",
    "plt.axhline(0, linestyle='--', color='gray')\n",
    "plt.xticks(loc, labels=thresholds)\n",
    "plt.xlabel('threshold');\n",
    "plt.ylabel('forecast - true mean fitness');"
   ]
  },
  {
   "cell_type": "markdown",
   "id": "a5d779dc",
   "metadata": {},
   "source": [
    "## multiclass"
   ]
  },
  {
   "cell_type": "code",
   "execution_count": 66,
   "id": "3aa72a8a",
   "metadata": {},
   "outputs": [
    {
     "name": "stdout",
     "output_type": "stream",
     "text": [
      "Problem has sequence length 50\n",
      "Loading waymarks in the following order for k = 0, 1, ... where k = 0 is the target design distribution.\n",
      "[0.01, 0.05, 0.1, 0.2, 0.3, 0.4, 0.5]\n",
      "Loading from /data/wongfanc/dre-data/data/120423/L50_RNA1/trial1/seed4-n5000-nmut4-threshold0.01.npz\n",
      "Loading from /data/wongfanc/dre-data/data/120423/L50_RNA1/trial1/seed4-n5000-nmut4-threshold0.05.npz\n",
      "Loading from /data/wongfanc/dre-data/data/120423/L50_RNA1/trial1/seed4-n5000-nmut4-threshold0.1.npz\n",
      "Loading from /data/wongfanc/dre-data/data/120423/L50_RNA1/trial1/seed4-n5000-nmut4-threshold0.2.npz\n",
      "Loading from /data/wongfanc/dre-data/data/120423/L50_RNA1/trial1/seed4-n5000-nmut4-threshold0.3.npz\n",
      "Loading from /data/wongfanc/dre-data/data/120423/L50_RNA1/trial1/seed4-n5000-nmut4-threshold0.4.npz\n",
      "Loading from /data/wongfanc/dre-data/data/120423/L50_RNA1/trial1/seed4-n5000-nmut4-threshold0.5.npz\n",
      "X_m1xnxd is shape (7, 20000, 200), Xm_nxp is shape (5000, 200). 7 waymarks provided\n"
     ]
    },
    {
     "name": "stderr",
     "output_type": "stream",
     "text": [
      "100%|███████████████████████████████████████████████████████████████████████████████████████████████████████████████████████████████████████████████████████| 2000/2000 [00:37<00:00, 53.99it/s]\n"
     ]
    }
   ],
   "source": [
    "reload(vshifts)\n",
    "reload(cal)\n",
    "reload(tdre)\n",
    "\n",
    "# data \n",
    "landscape_name = 'L50_RNA1'\n",
    "seed_idx = 4\n",
    "n = 5000\n",
    "N = 20000\n",
    "avg_n_mut = 4\n",
    "thresholds = [0.01, 0.05, 0.1, 0.2, 0.3, 0.4, 0.5]\n",
    "explorer_kwarg_name2vals = {'threshold': thresholds}\n",
    "save_fname_dir = '120423'\n",
    "trial_idx = 1\n",
    "\n",
    "# TDRE\n",
    "n_hidden = 256\n",
    "config = {\n",
    "    'waymark_type': 'mixed_dimensions',  # dummy value\n",
    "    'val_frac': 0.1,\n",
    "    'n_steps': 2000,\n",
    "    'lr': 1e-3,\n",
    "    'use_weighted_loss': True,\n",
    "    'kd_bandwidth': 0.2\n",
    "}\n",
    "model = tdre.TelescopingLogDensityRatioEstimator(\n",
    "    None,\n",
    "    50 * 4,\n",
    "    n_ratio=len(thresholds),\n",
    "    n_waymarks_for_last_hp=0,\n",
    "    device=torch.device('cuda'),\n",
    "    dtype=torch.float,\n",
    "    n_hidden=n_hidden,\n",
    "    shared=False,\n",
    "    multiclass=True,\n",
    "    cranmer=False,\n",
    ")\n",
    "\n",
    "X_mxnxd, y_mxn, pred_mxn, Xtrcal_nxd, Xcal_nxd, ycal_n, predcal_n = vshifts.load_rna_data(\n",
    "    landscape_name,\n",
    "    seed_idx,\n",
    "    n,\n",
    "    N,\n",
    "    explorer_kwarg_name2vals,\n",
    "    save_fname_dir,\n",
    "    avg_n_mut,\n",
    "    trial_idx=trial_idx\n",
    ")\n",
    "\n",
    "train_dfs = model.fit(config, X_m1xnxd=X_mxnxd, Xm_nxp=Xtrcal_nxd)"
   ]
  },
  {
   "cell_type": "code",
   "execution_count": 23,
   "id": "b77dfbae",
   "metadata": {},
   "outputs": [
    {
     "name": "stdout",
     "output_type": "stream",
     "text": [
      "8\n"
     ]
    }
   ],
   "source": [
    "X_m1xnxd = list(X_mxnxd) + [Xtrcal_nxd]\n",
    "num_kd_m = []\n",
    "denom_kd_m = []\n",
    "tX_m1xnxd = [torch.from_numpy(X_nxd).to(device=model.device, dtype=model.dtype) for X_nxd in X_m1xnxd]\n",
    "print(len(tX_m1xnxd))\n",
    "\n",
    "train_ldr_nxm = model._get_ldr_nxm(tX_m1xnxd[-1]).cpu().detach().numpy()\n",
    "design_ldr_nxm = np.zeros([tX_m1xnxd[0].shape[0], X_mxnxd.shape[0]])\n",
    "# k-th column is the estimated LDRs of design distribution k,\n",
    "# for samples from design distribution k\n",
    "\n",
    "for k in range(len(tX_m1xnxd) - 1):\n",
    "    ldr_nxm = model._get_ldr_nxm(tX_m1xnxd[k]).cpu().detach().numpy()\n",
    "    \n",
    "    kd = KernelDensity(bandwidth=0.5)\n",
    "    kd.fit(ldr_nxm[:, k][:, None])\n",
    "    design_ldr_nxm[:, k] = ldr_nxm[:, k]\n",
    "    num_kd_m.append(kd)\n",
    "    \n",
    "    kd.fit(train_ldr_nxm[:, k][:, None])\n",
    "    denom_kd_m.append(kd)\n",
    "    \n",
    "design_cmap = matplotlib.colormaps['Greens_r']\n",
    "train_cmap = matplotlib.colormaps['Purples_r']\n",
    "bw = 0.3\n",
    "\n",
    "ks = [3, 2, 1, 0]\n",
    "for ki, k in enumerate(ks):\n",
    "    color = design_cmap(ki / len(ks))\n",
    "    plt.hist(\n",
    "        design_ldr_nxm[:, k], alpha=0.6,\n",
    "        bins=20, density=True,\n",
    "        color=color, label='design {}'.format(thresholds[k])\n",
    "    );\n",
    "    sns.kdeplot(design_ldr_nxm[:, k], bw_method=bw, color=color);\n",
    "    print(np.mean(design_ldr_nxm[:, k]))\n",
    "    \n",
    "    color = train_cmap(ki / len(ks))\n",
    "    plt.hist(\n",
    "        train_ldr_nxm[:, k], alpha=0.6,\n",
    "        bins=20, density=True,\n",
    "        color=color, label='train {}'.format(thresholds[k])\n",
    "    );\n",
    "    sns.kdeplot(train_ldr_nxm[:, k], bw_method=bw, color=color);\n",
    "plt.legend();"
   ]
  },
  {
   "cell_type": "code",
   "execution_count": 67,
   "id": "fc761e24",
   "metadata": {},
   "outputs": [
    {
     "data": {
      "image/png": "[encoded data removed]",
      "text/plain": [
       "<Figure size 640x480 with 1 Axes>"
      ]
     },
     "metadata": {},
     "output_type": "display_data"
    }
   ],
   "source": [
    "plt.plot(train_dfs['train_loss'], label='train')\n",
    "plt.plot(train_dfs['val_loss'], label='val')\n",
    "plt.xlabel('training step');\n",
    "plt.ylabel('training loss'); \n",
    "plt.legend();\n",
    "# plt.ylim([0, 1]);"
   ]
  },
  {
   "cell_type": "code",
   "execution_count": 47,
   "id": "f7c700a1",
   "metadata": {},
   "outputs": [
    {
     "name": "stdout",
     "output_type": "stream",
     "text": [
      "True means           :0.380 0.373 0.378 0.363 0.351 0.346 0.342 \n",
      "Imputed means        :0.413 0.413 0.418 0.406 0.395 0.389 0.388 \n",
      "PP multiclass Cranmer:0.381 0.381 0.386 0.371 0.353 0.352 0.347 \n",
      "PP multiclass        :0.378 0.381 0.385 0.373 0.362 0.356 0.355 \n"
     ]
    }
   ],
   "source": [
    "format_str = ''.join(['{}'] + len(thresholds) * ['{:.3f} '])\n",
    "truemean_m = np.mean(y_mxn, axis=1)\n",
    "    \n",
    "# imputation point estimates\n",
    "imputed_m = np.mean(pred_mxn, axis=1)\n",
    "\n",
    "# PP point estimates\n",
    "# ppa_m, dra_nxm = model.forecast_meany_per_bridge(\n",
    "#     Xcal_nxd, ycal_n, cranmer=True, self_normalized=True, predm_n=predcal_n, pred0_mxn=pred_mxn\n",
    "# )\n",
    "ppb_m, drb_nxm = model.forecast_meany_per_bridge(\n",
    "    Xcal_nxd, ycal_n, cranmer=False, self_normalized=True, predm_n=predcal_n, pred0_mxn=pred_mxn\n",
    ")\n",
    "print(format_str.format('True means           :', *truemean_m))\n",
    "print(format_str.format('Imputed means        :', *imputed_m))\n",
    "# print(format_str.format('PP multiclass Cranmer:', *ppa_m))\n",
    "print(format_str.format('PP multiclass        :', *ppb_m))"
   ]
  },
  {
   "cell_type": "code",
   "execution_count": 50,
   "id": "f51adbf1",
   "metadata": {},
   "outputs": [
    {
     "data": {
      "image/png": "[encoded data removed]",
      "text/plain": [
       "<Figure size 640x480 with 1 Axes>"
      ]
     },
     "metadata": {},
     "output_type": "display_data"
    }
   ],
   "source": [
    "plt.scatter(drb_nxm[:, 6], dra_nxm[:, 6]);"
   ]
  },
  {
   "cell_type": "code",
   "execution_count": 56,
   "id": "9a4e005d",
   "metadata": {},
   "outputs": [
    {
     "name": "stdout",
     "output_type": "stream",
     "text": [
      "Problem has sequence length 50\n",
      "Loading waymarks in the following order for k = 0, 1, ... where k = 0 is the target design distribution.\n",
      "[0.01, 0.05, 0.1, 0.2, 0.3, 0.4, 0.5]\n",
      "Loading from /data/wongfanc/dre-data/data/120423/L50_RNA1/trial0/seed4-n5000-nmut4-threshold0.01.npz\n",
      "Loading from /data/wongfanc/dre-data/data/120423/L50_RNA1/trial0/seed4-n5000-nmut4-threshold0.05.npz\n",
      "Loading from /data/wongfanc/dre-data/data/120423/L50_RNA1/trial0/seed4-n5000-nmut4-threshold0.1.npz\n",
      "Loading from /data/wongfanc/dre-data/data/120423/L50_RNA1/trial0/seed4-n5000-nmut4-threshold0.2.npz\n",
      "Loading from /data/wongfanc/dre-data/data/120423/L50_RNA1/trial0/seed4-n5000-nmut4-threshold0.3.npz\n",
      "Loading from /data/wongfanc/dre-data/data/120423/L50_RNA1/trial0/seed4-n5000-nmut4-threshold0.4.npz\n",
      "Loading from /data/wongfanc/dre-data/data/120423/L50_RNA1/trial0/seed4-n5000-nmut4-threshold0.5.npz\n",
      "X_m1xnxd is shape (7, 20000, 200), Xm_nxp is shape (5000, 200). 7 waymarks provided\n"
     ]
    },
    {
     "name": "stderr",
     "output_type": "stream",
     "text": [
      "100%|███████████████████████████████████████████████████████████████████████████████████████████████████████████████████████████████████████████████████████| 2000/2000 [00:29<00:00, 68.12it/s]\n"
     ]
    },
    {
     "name": "stdout",
     "output_type": "stream",
     "text": [
      "Not returning normalized weights\n",
      "Not returning normalized weights\n",
      "Train mean: 0.287\n",
      "True means   :0.410 0.386 0.380 0.365 0.349 0.344 0.340 \n",
      "Imputed means:0.438 0.429 0.427 0.413 0.402 0.399 0.396 \n",
      "PP Cranmer   :0.438 0.429 0.427 0.413 0.402 0.399 0.396 \n",
      "PP no Cranmer:0.438 0.429 0.427 0.413 0.402 0.399 0.396 \n",
      "Done with trial 1 / 20 (33 s)\n",
      "Problem has sequence length 50\n",
      "Loading waymarks in the following order for k = 0, 1, ... where k = 0 is the target design distribution.\n",
      "[0.01, 0.05, 0.1, 0.2, 0.3, 0.4, 0.5]\n",
      "Loading from /data/wongfanc/dre-data/data/120423/L50_RNA1/trial1/seed4-n5000-nmut4-threshold0.01.npz\n",
      "Loading from /data/wongfanc/dre-data/data/120423/L50_RNA1/trial1/seed4-n5000-nmut4-threshold0.05.npz\n",
      "Loading from /data/wongfanc/dre-data/data/120423/L50_RNA1/trial1/seed4-n5000-nmut4-threshold0.1.npz\n",
      "Loading from /data/wongfanc/dre-data/data/120423/L50_RNA1/trial1/seed4-n5000-nmut4-threshold0.2.npz\n",
      "Loading from /data/wongfanc/dre-data/data/120423/L50_RNA1/trial1/seed4-n5000-nmut4-threshold0.3.npz\n",
      "Loading from /data/wongfanc/dre-data/data/120423/L50_RNA1/trial1/seed4-n5000-nmut4-threshold0.4.npz\n",
      "Loading from /data/wongfanc/dre-data/data/120423/L50_RNA1/trial1/seed4-n5000-nmut4-threshold0.5.npz\n",
      "X_m1xnxd is shape (7, 20000, 200), Xm_nxp is shape (5000, 200). 7 waymarks provided\n"
     ]
    },
    {
     "name": "stderr",
     "output_type": "stream",
     "text": [
      "100%|███████████████████████████████████████████████████████████████████████████████████████████████████████████████████████████████████████████████████████| 2000/2000 [00:29<00:00, 66.98it/s]\n",
      "/homefs/home/wongfanc/density-ratio-estimation/tdre.py:745: RuntimeWarning: overflow encountered in exp\n",
      "  dr_nxm = np.exp(ldr_nxm)\n"
     ]
    },
    {
     "name": "stdout",
     "output_type": "stream",
     "text": [
      "Not returning normalized weights\n",
      "Not returning normalized weights\n",
      "Train mean: 0.284\n",
      "True means   :0.380 0.373 0.378 0.363 0.351 0.346 0.342 \n",
      "Imputed means:0.413 0.413 0.418 0.406 0.395 0.389 0.388 \n",
      "PP Cranmer   :-inf -inf -inf -13032724796865559564619596324506356385969573245912489430670675108382134878646598369280.000 -inf -2344059601214933660470996198965576504019770244000350384944726886015587804853115652291948629847030743229837553750880167773564041885755878458097723098918592681712539314642532465461894527161826764946177719214481288626507782708227022825904775680565090854112959424510591011992765464576.000 -inf \n",
      "PP no Cranmer:0.413 0.413 0.411 0.172 0.165 0.289 0.290 \n",
      "Done with trial 2 / 20 (68 s)\n",
      "Problem has sequence length 50\n",
      "Loading waymarks in the following order for k = 0, 1, ... where k = 0 is the target design distribution.\n",
      "[0.01, 0.05, 0.1, 0.2, 0.3, 0.4, 0.5]\n",
      "Loading from /data/wongfanc/dre-data/data/120423/L50_RNA1/trial2/seed4-n5000-nmut4-threshold0.01.npz\n",
      "Loading from /data/wongfanc/dre-data/data/120423/L50_RNA1/trial2/seed4-n5000-nmut4-threshold0.05.npz\n",
      "Loading from /data/wongfanc/dre-data/data/120423/L50_RNA1/trial2/seed4-n5000-nmut4-threshold0.1.npz\n",
      "Loading from /data/wongfanc/dre-data/data/120423/L50_RNA1/trial2/seed4-n5000-nmut4-threshold0.2.npz\n",
      "Loading from /data/wongfanc/dre-data/data/120423/L50_RNA1/trial2/seed4-n5000-nmut4-threshold0.3.npz\n",
      "Loading from /data/wongfanc/dre-data/data/120423/L50_RNA1/trial2/seed4-n5000-nmut4-threshold0.4.npz\n",
      "Loading from /data/wongfanc/dre-data/data/120423/L50_RNA1/trial2/seed4-n5000-nmut4-threshold0.5.npz\n",
      "X_m1xnxd is shape (7, 20000, 200), Xm_nxp is shape (5000, 200). 7 waymarks provided\n"
     ]
    },
    {
     "name": "stderr",
     "output_type": "stream",
     "text": [
      "100%|███████████████████████████████████████████████████████████████████████████████████████████████████████████████████████████████████████████████████████| 2000/2000 [00:29<00:00, 67.43it/s]\n",
      "/homefs/home/wongfanc/density-ratio-estimation/tdre.py:745: RuntimeWarning: overflow encountered in exp\n",
      "  dr_nxm = np.exp(ldr_nxm)\n"
     ]
    },
    {
     "name": "stdout",
     "output_type": "stream",
     "text": [
      "Not returning normalized weights\n",
      "Not returning normalized weights\n",
      "Train mean: 0.285\n",
      "True means   :0.398 0.389 0.382 0.369 0.357 0.350 0.349 \n",
      "Imputed means:0.430 0.414 0.404 0.395 0.384 0.378 0.378 \n",
      "PP Cranmer   :0.430 0.414 inf 0.395 0.384 885613510562.610 97809297873047094552143281708755476608450560.000 \n",
      "PP no Cranmer:0.430 0.414 0.404 0.395 0.384 0.378 0.379 \n",
      "Done with trial 3 / 20 (101 s)\n",
      "Problem has sequence length 50\n",
      "Loading waymarks in the following order for k = 0, 1, ... where k = 0 is the target design distribution.\n",
      "[0.01, 0.05, 0.1, 0.2, 0.3, 0.4, 0.5]\n",
      "Loading from /data/wongfanc/dre-data/data/120423/L50_RNA1/trial3/seed4-n5000-nmut4-threshold0.01.npz\n",
      "Loading from /data/wongfanc/dre-data/data/120423/L50_RNA1/trial3/seed4-n5000-nmut4-threshold0.05.npz\n",
      "Loading from /data/wongfanc/dre-data/data/120423/L50_RNA1/trial3/seed4-n5000-nmut4-threshold0.1.npz\n",
      "Loading from /data/wongfanc/dre-data/data/120423/L50_RNA1/trial3/seed4-n5000-nmut4-threshold0.2.npz\n",
      "Loading from /data/wongfanc/dre-data/data/120423/L50_RNA1/trial3/seed4-n5000-nmut4-threshold0.3.npz\n",
      "Loading from /data/wongfanc/dre-data/data/120423/L50_RNA1/trial3/seed4-n5000-nmut4-threshold0.4.npz\n",
      "Loading from /data/wongfanc/dre-data/data/120423/L50_RNA1/trial3/seed4-n5000-nmut4-threshold0.5.npz\n",
      "X_m1xnxd is shape (7, 20000, 200), Xm_nxp is shape (5000, 200). 7 waymarks provided\n"
     ]
    },
    {
     "name": "stderr",
     "output_type": "stream",
     "text": [
      "100%|███████████████████████████████████████████████████████████████████████████████████████████████████████████████████████████████████████████████████████| 2000/2000 [00:29<00:00, 67.12it/s]\n"
     ]
    },
    {
     "name": "stdout",
     "output_type": "stream",
     "text": [
      "Not returning normalized weights\n",
      "Not returning normalized weights\n",
      "Train mean: 0.284\n",
      "True means   :0.410 0.409 0.394 0.369 0.354 0.347 0.344 \n",
      "Imputed means:0.432 0.433 0.421 0.405 0.395 0.389 0.386 \n",
      "PP Cranmer   :0.432 0.433 0.421 0.405 0.395 0.388 0.387 \n",
      "PP no Cranmer:0.432 0.433 0.421 0.405 0.395 0.389 0.387 \n",
      "Done with trial 4 / 20 (135 s)\n",
      "Problem has sequence length 50\n",
      "Loading waymarks in the following order for k = 0, 1, ... where k = 0 is the target design distribution.\n",
      "[0.01, 0.05, 0.1, 0.2, 0.3, 0.4, 0.5]\n",
      "Loading from /data/wongfanc/dre-data/data/120423/L50_RNA1/trial4/seed4-n5000-nmut4-threshold0.01.npz\n",
      "Loading from /data/wongfanc/dre-data/data/120423/L50_RNA1/trial4/seed4-n5000-nmut4-threshold0.05.npz\n",
      "Loading from /data/wongfanc/dre-data/data/120423/L50_RNA1/trial4/seed4-n5000-nmut4-threshold0.1.npz\n",
      "Loading from /data/wongfanc/dre-data/data/120423/L50_RNA1/trial4/seed4-n5000-nmut4-threshold0.2.npz\n",
      "Loading from /data/wongfanc/dre-data/data/120423/L50_RNA1/trial4/seed4-n5000-nmut4-threshold0.3.npz\n",
      "Loading from /data/wongfanc/dre-data/data/120423/L50_RNA1/trial4/seed4-n5000-nmut4-threshold0.4.npz\n",
      "Loading from /data/wongfanc/dre-data/data/120423/L50_RNA1/trial4/seed4-n5000-nmut4-threshold0.5.npz\n",
      "X_m1xnxd is shape (7, 20000, 200), Xm_nxp is shape (5000, 200). 7 waymarks provided\n"
     ]
    },
    {
     "name": "stderr",
     "output_type": "stream",
     "text": [
      " 15%|██████████████████████▍                                                                                                                                 | 295/2000 [00:04<00:25, 66.26it/s]\n",
      "\n",
      "KeyboardInterrupt\n",
      "\n"
     ]
    }
   ],
   "source": [
    "# check point estimates\n",
    "reload(vshifts)\n",
    "reload(tdre)\n",
    "reload(cal)\n",
    "\n",
    "# data \n",
    "landscape_name = 'L50_RNA1'\n",
    "seed_idx = 4\n",
    "avg_n_mut = 4\n",
    "n = 5000\n",
    "N = 20000\n",
    "thresholds = [0.01, 0.05, 0.1, 0.2, 0.3, 0.4, 0.5]\n",
    "explorer_kwarg_name2vals = {'threshold': thresholds}\n",
    "save_fname_dir = '120423'\n",
    "trial_idx = np.arange(20)\n",
    "n_trial = trial_idx.size\n",
    "lhat = 1\n",
    "\n",
    "# TDRE\n",
    "n_hidden = 256\n",
    "config = {\n",
    "    'waymark_type': 'mixed_dimensions',  # dummy value\n",
    "    'val_frac': 0.1,\n",
    "    'n_steps': 2000,\n",
    "    'lr': 1e-3,\n",
    "    'use_weighted_loss': True,\n",
    "    'kde_bandwidth': 0.1\n",
    "}\n",
    "modela = tdre.TelescopingLogDensityRatioEstimator(\n",
    "    None,\n",
    "    50 * 4,\n",
    "    n_hidden=n_hidden,\n",
    "    shared=False,\n",
    "    n_ratio=len(thresholds),\n",
    "    n_waymarks_for_last_hp=0,\n",
    "    device=torch.device('cuda'),\n",
    "    dtype=torch.float,\n",
    "    multiclass=True,\n",
    "    cranmer=True\n",
    ")\n",
    "# modelb = tdre.TelescopingLogDensityRatioEstimator(\n",
    "#     tdre.FeedForward,\n",
    "#     50 * 4,\n",
    "#     n_hidden=16,\n",
    "#     shared=False,\n",
    "#     n_ratio=len(thresholds),\n",
    "#     n_waymarks_for_last_hp=0,\n",
    "#     device=torch.device('cuda'),\n",
    "#     dtype=torch.float,\n",
    "#     multiclass=False,\n",
    "#     cranmer=Tru\n",
    "# )\n",
    "\n",
    "t0 = time()\n",
    "ppa_txm = np.zeros([trial_idx.size, len(thresholds)])\n",
    "ppb_txm = np.zeros([trial_idx.size, len(thresholds)])\n",
    "true_txm = np.zeros([trial_idx.size, len(thresholds)])\n",
    "imp_txm = np.zeros([trial_idx.size, len(thresholds)])\n",
    "format_str = ''.join(['{}'] + len(thresholds) * ['{:.3f} '])\n",
    "for T_idx, T in enumerate(trial_idx):\n",
    "\n",
    "    X_mxnxd, y_mxn, pred_mxn, Xtrcal_nxd, Xcal_nxd, ycal_n, predcal_n = vshifts.load_rna_data(\n",
    "        landscape_name,\n",
    "        seed_idx,\n",
    "        n,\n",
    "        N,\n",
    "        explorer_kwarg_name2vals,\n",
    "        save_fname_dir,\n",
    "        avg_n_mut,\n",
    "        T\n",
    "    )\n",
    "    \n",
    "    train_dfs_a = modela.fit(config, X_m1xnxd=X_mxnxd, Xm_nxp=Xtrcal_nxd)\n",
    "    # train_dfs_b = modelb.fit(bconfig, X_m1xnxd=X_mxnxd, Xm_nxp=Xtrcal_nxd)\n",
    "    truemean_m = np.mean(y_mxn, axis=1)\n",
    "    true_txm[T_idx] = truemean_m\n",
    "    \n",
    "    # imputation point estimates\n",
    "    imputed_m = np.mean(pred_mxn, axis=1)\n",
    "    imp_txm[T_idx] = imputed_m\n",
    "    \n",
    "    # PP point estimates\n",
    "    ppa_m, dra_nxm = modela.forecast_meany_per_bridge(\n",
    "        Xcal_nxd, ycal_n, cranmer=True, self_normalized=True, predm_n=predcal_n, pred0_mxn=pred_mxn\n",
    "    )\n",
    "    ppa_txm[T_idx] = ppa_m\n",
    "    ppb_m, drb_nxm = modela.forecast_meany_per_bridge(\n",
    "        Xcal_nxd, ycal_n, cranmer=False, self_normalized=True, predm_n=predcal_n, pred0_mxn=pred_mxn\n",
    "    )\n",
    "    ppb_txm[T_idx] = ppb_m\n",
    "    \n",
    "    print('Train mean: {:.3f}'.format(np.mean(ycal_n)))\n",
    "    print(format_str.format('True means   :', *truemean_m))\n",
    "    print(format_str.format('Imputed means:', *imputed_m))\n",
    "    print(format_str.format('PP Cranmer   :', *ppa_m))\n",
    "    print(format_str.format('PP no Cranmer:', *ppb_m))\n",
    "    print('Done with trial {} / {} ({} s)'.format(T_idx + 1, len(trial_idx), int(time() - t0)))\n",
    "    "
   ]
  },
  {
   "cell_type": "code",
   "execution_count": 55,
   "id": "dba9e13a",
   "metadata": {},
   "outputs": [
    {
     "data": {
      "image/png": "[encoded data removed]",
      "text/plain": [
       "<Figure size 640x480 with 1 Axes>"
      ]
     },
     "metadata": {},
     "output_type": "display_data"
    }
   ],
   "source": [
    "loc = np.arange(len(thresholds))\n",
    "plt.violinplot(imp_txm - true_txm, loc - 0.2, widths=0.2, showmeans=True);\n",
    "plt.violinplot(ppa_txm - true_txm, loc, widths=0.2, showmeans=True);\n",
    "plt.violinplot(ppb_txm - true_txm, loc + 0.2, widths=0.2, showmeans=True);\n",
    "plt.axhline(0, linestyle='--', color='gray')\n",
    "plt.xticks(loc, labels=thresholds)\n",
    "plt.xlabel('threshold');\n",
    "plt.ylabel('forecast - true mean fitness');"
   ]
  }
 ],
 "metadata": {
  "kernelspec": {
   "display_name": "Python [conda env:torchenv] *",
   "language": "python",
   "name": "conda-env-torchenv-py"
  },
  "language_info": {
   "codemirror_mode": {
    "name": "ipython",
    "version": 3
   },
   "file_extension": ".py",
   "mimetype": "text/x-python",
   "name": "python",
   "nbconvert_exporter": "python",
   "pygments_lexer": "ipython3",
   "version": "3.11.5"
  }
 },
 "nbformat": 4,
 "nbformat_minor": 5
}
