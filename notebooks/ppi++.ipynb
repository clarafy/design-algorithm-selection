{
 "cells": [
  {
   "cell_type": "code",
   "execution_count": 1,
   "id": "7dd1c681",
   "metadata": {},
   "outputs": [
    {
     "name": "stdout",
     "output_type": "stream",
     "text": [
      "True\n"
     ]
    },
    {
     "name": "stderr",
     "output_type": "stream",
     "text": [
      "2023-11-27 18:54:47.667579: I tensorflow/tsl/cuda/cudart_stub.cc:28] Could not find cuda drivers on your machine, GPU will not be used.\n",
      "2023-11-27 18:54:47.848870: E tensorflow/compiler/xla/stream_executor/cuda/cuda_dnn.cc:9342] Unable to register cuDNN factory: Attempting to register factory for plugin cuDNN when one has already been registered\n",
      "2023-11-27 18:54:47.848905: E tensorflow/compiler/xla/stream_executor/cuda/cuda_fft.cc:609] Unable to register cuFFT factory: Attempting to register factory for plugin cuFFT when one has already been registered\n",
      "2023-11-27 18:54:47.848938: E tensorflow/compiler/xla/stream_executor/cuda/cuda_blas.cc:1518] Unable to register cuBLAS factory: Attempting to register factory for plugin cuBLAS when one has already been registered\n",
      "2023-11-27 18:54:47.886461: I tensorflow/core/platform/cpu_feature_guard.cc:182] This TensorFlow binary is optimized to use available CPU instructions in performance-critical operations.\n",
      "To enable the following instructions: AVX2 FMA, in other operations, rebuild TensorFlow with the appropriate compiler flags.\n",
      "2023-11-27 18:54:50.924641: W tensorflow/compiler/tf2tensorrt/utils/py_utils.cc:38] TF-TRT Warning: Could not find TensorRT\n"
     ]
    },
    {
     "data": {
      "application/javascript": [
       "if (!(\"Notification\" in window)) {\n",
       "    alert(\"This browser does not support desktop notifications, so the %%notify magic will not work.\");\n",
       "} else if (Notification.permission !== 'granted' && Notification.permission !== 'denied') {\n",
       "    Notification.requestPermission(function (permission) {\n",
       "        if(!('permission' in Notification)) {\n",
       "            Notification.permission = permission;\n",
       "        }\n",
       "    })\n",
       "}\n"
      ],
      "text/plain": [
       "<IPython.core.display.Javascript object>"
      ]
     },
     "metadata": {},
     "output_type": "display_data"
    }
   ],
   "source": [
    "from importlib import reload\n",
    "import os\n",
    "from time import time\n",
    "\n",
    "import numpy as np\n",
    "import scipy as sc\n",
    "import pandas as pd\n",
    "from statsmodels.stats.weightstats import _zstat_generic\n",
    "\n",
    "import torch\n",
    "print(torch.cuda.is_available())\n",
    "\n",
    "import pprint\n",
    "import editdistance\n",
    "\n",
    "import utils\n",
    "\n",
    "import matplotlib.pyplot as plt\n",
    "import seaborn as sns\n",
    "import matplotlib\n",
    "\n",
    "import jupyternotify\n",
    "ip = get_ipython()\n",
    "ip.register_magics(jupyternotify.JupyterNotifyMagics)"
   ]
  },
  {
   "cell_type": "code",
   "execution_count": 60,
   "id": "e1d2bd16",
   "metadata": {},
   "outputs": [],
   "source": [
    "def get_lhat(y_n, yhat_n, yhat_N, w_n = None, w_N = None):\n",
    "    # compute lambda hat, estimate of lambda that yields minimal\n",
    "    # asymptotic variance\n",
    "    lhat_num = np.cov(np.vstack([y_n[None, :], yhat_n[None, :]]), bias=True)[0, 1]\n",
    "    lhat_denom = (1 + y_n.size / yhat_N.size) * np.cov(np.hstack([yhat_n, yhat_N]), bias=True)\n",
    "    lhat = lhat_num / lhat_denom\n",
    "    return lhat\n",
    "\n",
    "def get_ppipp_pvalue(y_n, yhat_n, yhat_N):\n",
    "    lhat = get_lhat(y_n, yhat_n, yhat_N)\n",
    "    \n",
    "    # compute point estimate with lambda hat\n",
    "    # point_estimate =\n",
    "    \n",
    "    # compute variance estimate\n",
    "    # zstat, pval = _zstat_generic()\n",
    "    # return pval"
   ]
  },
  {
   "cell_type": "code",
   "execution_count": 61,
   "id": "68b9a336",
   "metadata": {},
   "outputs": [
    {
     "name": "stdout",
     "output_type": "stream",
     "text": [
      "0.07162290923126846 0.9990296569562044\n"
     ]
    },
    {
     "data": {
      "image/png": "[encoded data removed]",
      "text/plain": [
       "<Figure size 640x480 with 1 Axes>"
      ]
     },
     "metadata": {},
     "output_type": "display_data"
    }
   ],
   "source": [
    "n = 100\n",
    "N = 1000\n",
    "y_n = np.random.randn(n)\n",
    "yhat_n = y_n + 0.05 * np.random.randn(n) + 1\n",
    "yhat_N = np.random.randn(N) + 0.05 * np.random.randn(N) + 1\n",
    "print(np.mean(y_n), np.mean(yhat_N))\n",
    "\n",
    "plt.hist(y_n, alpha=0.5, density=True);\n",
    "plt.hist(yhat_n, alpha=0.5, density=True);\n",
    "plt.hist(yhat_N, alpha=0.5, density=True);"
   ]
  },
  {
   "cell_type": "code",
   "execution_count": 62,
   "id": "08bfb7a8",
   "metadata": {},
   "outputs": [
    {
     "name": "stdout",
     "output_type": "stream",
     "text": [
      "1.088532675688768 1.0885326756887679\n"
     ]
    }
   ],
   "source": [
    "lhat_mine = get_lhat(y_n, yhat_n, yhat_N)\n",
    "\n",
    "lhat, pval = ppi_mean_pval(\n",
    "    y_n,\n",
    "    yhat_n,\n",
    "    yhat_N,\n",
    "    null=0,\n",
    "    alternative='larger',\n",
    "    lhat=None,\n",
    "    w=None,\n",
    "    w_unlabeled=None,\n",
    ")\n",
    "print(lhat_mine, lhat)"
   ]
  }
 ],
 "metadata": {
  "kernelspec": {
   "display_name": "Python [conda env:torchenv] *",
   "language": "python",
   "name": "conda-env-torchenv-py"
  },
  "language_info": {
   "codemirror_mode": {
    "name": "ipython",
    "version": 3
   },
   "file_extension": ".py",
   "mimetype": "text/x-python",
   "name": "python",
   "nbconvert_exporter": "python",
   "pygments_lexer": "ipython3",
   "version": "3.11.5"
  }
 },
 "nbformat": 4,
 "nbformat_minor": 5
}
