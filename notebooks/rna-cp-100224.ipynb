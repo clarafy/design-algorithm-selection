{
 "cells": [
  {
   "cell_type": "code",
   "execution_count": 1,
   "id": "7736fea0",
   "metadata": {},
   "outputs": [
    {
     "name": "stdout",
     "output_type": "stream",
     "text": [
      "True\n"
     ]
    },
    {
     "name": "stderr",
     "output_type": "stream",
     "text": [
      "2024-12-09 22:09:48.340968: E external/local_xla/xla/stream_executor/cuda/cuda_dnn.cc:9261] Unable to register cuDNN factory: Attempting to register factory for plugin cuDNN when one has already been registered\n",
      "2024-12-09 22:09:48.340998: E external/local_xla/xla/stream_executor/cuda/cuda_fft.cc:607] Unable to register cuFFT factory: Attempting to register factory for plugin cuFFT when one has already been registered\n",
      "2024-12-09 22:09:48.342186: E external/local_xla/xla/stream_executor/cuda/cuda_blas.cc:1515] Unable to register cuBLAS factory: Attempting to register factory for plugin cuBLAS when one has already been registered\n",
      "2024-12-09 22:09:48.349445: I tensorflow/core/platform/cpu_feature_guard.cc:182] This TensorFlow binary is optimized to use available CPU instructions in performance-critical operations.\n",
      "To enable the following instructions: AVX2 AVX512F FMA, in other operations, rebuild TensorFlow with the appropriate compiler flags.\n",
      "2024-12-09 22:09:50.033632: W tensorflow/compiler/tf2tensorrt/utils/py_utils.cc:38] TF-TRT Warning: Could not find TensorRT\n"
     ]
    }
   ],
   "source": [
    "import os\n",
    "import sys\n",
    "module_path = os.path.abspath(os.path.join('..'))\n",
    "if module_path not in sys.path:\n",
    "    sys.path.append(module_path)\n",
    "    \n",
    "from importlib import reload\n",
    "from time import time\n",
    "import pickle\n",
    "import re\n",
    "\n",
    "import numpy as np\n",
    "import scipy as sc\n",
    "import pandas as pd\n",
    "import torch\n",
    "print(torch.cuda.is_available())\n",
    "\n",
    "import models\n",
    "import dre\n",
    "import rna\n",
    "import vae\n",
    "import designers\n",
    "import utils\n",
    "\n",
    "import matplotlib.pyplot as plt\n",
    "import matplotlib as mpl\n",
    "plt.rcParams[\"font.size\"] = 12\n",
    "\n",
    "import seaborn as sns\n",
    "sns.set_style('whitegrid')"
   ]
  },
  {
   "cell_type": "code",
   "execution_count": 175,
   "id": "2370ab7f",
   "metadata": {},
   "outputs": [
    {
     "name": "stdout",
     "output_type": "stream",
     "text": [
      "3.58353590965271\n",
      "1.2322945594787598\n"
     ]
    }
   ],
   "source": [
    "N = 50000\n",
    "n = 5000\n",
    "alpha = 0.1\n",
    "cdf_Nxn1 = np.random.rand(N, n + 1)\n",
    "\n",
    "t0 = time()\n",
    "for _ in range(10):\n",
    "    qidx_N = np.sum(cdf_Nxn1 < 1 - alpha, axis=1)\n",
    "print(time() - t0)\n",
    "\n",
    "t0 = time()\n",
    "for _ in range(10):\n",
    "    qidx_N = np.array([np.searchsorted(cdf_n1, 1 - alpha) for cdf_n1 in cdf_Nxn1])\n",
    "print(time() - t0)"
   ]
  },
  {
   "cell_type": "code",
   "execution_count": 167,
   "id": "6f51860d",
   "metadata": {},
   "outputs": [],
   "source": [
    "# test for p-value < alpha / (|Lambda| * N) directly instead of computing p-value\n",
    "# easy to do this for many target values\n",
    "\n",
    "def get_weighted_quantiles(scores_n, w_n, w_N, level):\n",
    "    N = w_N.shape[0]\n",
    "    # get (unnormalized) density ratio weights for all N unlabeled examples\n",
    "    # takes 1s out of the 3s to run get_cp_mean_lb\n",
    "    \n",
    "    # sort calibration scores and their weights accordingly\n",
    "    t0 = time()\n",
    "    idx_n = np.argsort(scores_n)\n",
    "    sortedscores_n = scores_n[idx_n]\n",
    "    sortedw_n = w_n[idx_n]\n",
    "    \n",
    "    # p_Nxn1: N x (n + 1) matrix of normalized weights\n",
    "    # each row contains the n weights of the calibration data,\n",
    "    # plus the weight of one unlabeled example in the last column\n",
    "    p_Nxn1 = np.hstack([np.tile(sortedw_n[None, :], [N, 1]), w_N[:, None]])\n",
    "    p_Nxn1 = p_Nxn1 / np.sum(p_Nxn1, axis=1, keepdims=True)  # normalize\n",
    "    assert(np.all(np.abs(np.sum(p_Nxn1, axis=1) - 1.) < 1e-6))\n",
    "    \n",
    "    # locate quantiles of weighted scores for each unlabeled example\n",
    "    # TODO: parallelize with multiprocessing.dummy (also np.sum?),\n",
    "    # currently takes 1s out of the 3s to run get_cp_mean_lb\n",
    "    cdf_Nxn1 = np.cumsum(p_Nxn1, axis=1)\n",
    "    qidx_N = np.sum(cdf_Nxn1 < level, axis=1)\n",
    "    \n",
    "    # catch edge cases when due to floating pt error, np.sum(p_Nxn1, axis=1) is slightly less than 1\n",
    "    # and also less than level (i.e. for alpha = 1 - 1e-8)\n",
    "    scoreswithinf_n = np.hstack([sortedscores_n, [np.inf, np.inf]])\n",
    "    quantile_N = scoreswithinf_n[qidx_N]\n",
    "    \n",
    "    return p_Nxn1, quantile_N\n",
    "\n",
    "\n",
    "def get_cp_mean_lb(ycal_n, predcal_n, w_n, preddesign_N, w_N, alpha: float = 0.1, bonferroni: bool = True):\n",
    "    # w_n: weights on n labeled inputs\n",
    "    # w_N: weights on N unlabeled inputs\n",
    "    \n",
    "    n = ycal_n.shape[0]\n",
    "    N = preddesign_N.shape[0]\n",
    "    print(f'n = {n}, N = {N}')\n",
    "    \n",
    "    scores_n = predcal_n - ycal_n  # signed residuals\n",
    "    level = (1 - alpha / N) if bonferroni else (1 - alpha)\n",
    "    p_Nxn1, quantile_N = get_weighted_quantiles(scores_n, w_n, w_N, level)\n",
    "    lb = np.mean(preddesign_N - quantile_N)\n",
    "    return scores_n, quantile_N, p_Nxn1, lb\n",
    "\n",
    "def run_cp_hypothesis_test(\n",
    "    ycal_n, predcal_n, w_n, preddesign_N, w_N, threshold,\n",
    "    alpha: float = 0.1, bonferroni: bool = True\n",
    "):\n",
    "    # if LB computed at level alpha / N is above threshold, then\n",
    "    # the p-value must be below alpha (for one hypothesis test), so reject. \n",
    "    # otherwise, the p-value must be above alpha, so fail to reject.\n",
    "    _, _, _, lb = get_cp_mean_lb(\n",
    "        ycal_n, predcal_n, w_n, preddesign_N, w_N, alpha=alpha, bonferroni=bonferroni\n",
    "    )\n",
    "    reject = lb > threshold\n",
    "    return reject\n"
   ]
  },
  {
   "cell_type": "code",
   "execution_count": 13,
   "id": "f34015f8",
   "metadata": {},
   "outputs": [],
   "source": [
    "mdre_group_regex_strs = [\n",
    "    'adalead-ridge-0.\\d',\n",
    "    'adalead-ff-0.\\d',\n",
    "    'adalead-cnn-0.\\d',\n",
    "    'biswas-ridge-0.\\d',\n",
    "    'biswas-ff-0.\\d',\n",
    "    'biswas-cnn-0.\\d',\n",
    "    'dbas-ff-0.\\d',\n",
    "    'dbas-cnn-0.\\d',\n",
    "    'pex-ridge',\n",
    "    'pex-ff',\n",
    "    'pex-cnn',\n",
    "    'dbas-ridge-0.1t\\d',\n",
    "    'dbas-ridge-0.2t\\d',\n",
    "    'cbas-ridge-0.1t\\d',\n",
    "    'cbas-ridge-0.2t\\d',\n",
    "    'cbas-ridge-0.3t\\d',\n",
    "    'cbas-ridge-0.4t\\d',\n",
    "    'cbas-ridge-0.5t\\d',\n",
    "    'cbas-ridge-0.6t\\d',\n",
    "    'cbas-ridge-0.7t\\d',\n",
    "    'cbas-ridge-0.8t\\d',\n",
    "    'cbas-ridge-0.9t\\d',\n",
    "    'cbas-ff-0.1',\n",
    "    'cbas-ff-0.2',\n",
    "    'cbas-ff-0.3',\n",
    "    'cbas-ff-0.4',\n",
    "    'cbas-ff-0.5',\n",
    "    'cbas-ff-0.6',\n",
    "    'cbas-ff-0.7',\n",
    "    'cbas-ff-0.8',\n",
    "    'cbas-ff-0.9',\n",
    "    'cbas-cnn-0.1',\n",
    "    'cbas-cnn-0.2',\n",
    "    'cbas-cnn-0.3',\n",
    "    'cbas-cnn-0.4',\n",
    "    'cbas-cnn-0.5',\n",
    "    'cbas-cnn-0.6',\n",
    "    'cbas-cnn-0.7',\n",
    "    'cbas-cnn-0.8',\n",
    "    'cbas-cnn-0.9',\n",
    "    'vae-ridge'\n",
    "]"
   ]
  },
  {
   "cell_type": "code",
   "execution_count": 18,
   "id": "99978488",
   "metadata": {
    "scrolled": true
   },
   "outputs": [
    {
     "name": "stdout",
     "output_type": "stream",
     "text": [
      "No design data for dbas-ridge-0.3t0, exiting.\n",
      "No design data for dbas-ridge-0.4t0, exiting.\n",
      "No design data for dbas-ridge-0.5t0, exiting.\n",
      "No design data for dbas-ridge-0.6t0, exiting.\n",
      "No design data for dbas-ridge-0.7t0, exiting.\n",
      "No design data for dbas-ridge-0.8t0, exiting.\n",
      "No design data for dbas-ridge-0.9t0, exiting.\n",
      "Fitting MDRE for adalead-ridge-0.\\d, which has 11 design algorithms:\n",
      "train\n",
      "adalead-ridge-0.5\n",
      "adalead-ridge-0.4\n",
      "adalead-ridge-0.3\n",
      "adalead-ridge-0.2\n",
      "adalead-ridge-0.1\n",
      "adalead-ridge-0.05\n",
      "adalead-ridge-0.01\n",
      "adalead-ridge-0.45\n",
      "adalead-ridge-0.35\n",
      "adalead-ridge-0.25\n",
      "adalead-ridge-0.15\n",
      "One-hot-encoding all 12 categories of sequences...\n",
      "  Done. (10 s)\n"
     ]
    },
    {
     "name": "stderr",
     "output_type": "stream",
     "text": [
      "100%|█████████████████████████████████████████| 100/100 [00:10<00:00,  9.97it/s]\n"
     ]
    },
    {
     "name": "stdout",
     "output_type": "stream",
     "text": [
      "Min train loss 1.57, min val loss 1.54\n",
      "\n",
      "Fitting MDRE for adalead-ff-0.\\d, which has 11 design algorithms:\n",
      "train\n",
      "adalead-ff-0.5\n",
      "adalead-ff-0.4\n",
      "adalead-ff-0.3\n",
      "adalead-ff-0.2\n",
      "adalead-ff-0.1\n",
      "adalead-ff-0.05\n",
      "adalead-ff-0.01\n",
      "adalead-ff-0.45\n",
      "adalead-ff-0.35\n",
      "adalead-ff-0.25\n",
      "adalead-ff-0.15\n",
      "One-hot-encoding all 12 categories of sequences...\n",
      "  Done. (10 s)\n"
     ]
    },
    {
     "name": "stderr",
     "output_type": "stream",
     "text": [
      "100%|█████████████████████████████████████████| 100/100 [00:09<00:00, 10.11it/s]\n"
     ]
    },
    {
     "name": "stdout",
     "output_type": "stream",
     "text": [
      "Min train loss 1.51, min val loss 1.48\n",
      "\n",
      "Fitting MDRE for adalead-cnn-0.\\d, which has 11 design algorithms:\n",
      "train\n",
      "adalead-cnn-0.5\n",
      "adalead-cnn-0.4\n",
      "adalead-cnn-0.3\n",
      "adalead-cnn-0.2\n",
      "adalead-cnn-0.1\n",
      "adalead-cnn-0.05\n",
      "adalead-cnn-0.01\n",
      "adalead-cnn-0.45\n",
      "adalead-cnn-0.35\n",
      "adalead-cnn-0.25\n",
      "adalead-cnn-0.15\n",
      "One-hot-encoding all 12 categories of sequences...\n",
      "  Done. (9 s)\n"
     ]
    },
    {
     "name": "stderr",
     "output_type": "stream",
     "text": [
      "100%|█████████████████████████████████████████| 100/100 [00:09<00:00, 10.10it/s]\n"
     ]
    },
    {
     "name": "stdout",
     "output_type": "stream",
     "text": [
      "Min train loss 1.50, min val loss 1.46\n",
      "\n",
      "Fitting MDRE for biswas-ridge-0.\\d, which has 4 design algorithms:\n",
      "train\n",
      "biswas-ridge-0.02\n",
      "biswas-ridge-0.01\n",
      "biswas-ridge-0.005\n",
      "biswas-ridge-0.015\n",
      "One-hot-encoding all 5 categories of sequences...\n",
      "  Done. (4 s)\n"
     ]
    },
    {
     "name": "stderr",
     "output_type": "stream",
     "text": [
      "100%|█████████████████████████████████████████| 100/100 [00:03<00:00, 26.81it/s]\n"
     ]
    },
    {
     "name": "stdout",
     "output_type": "stream",
     "text": [
      "Min train loss 0.99, min val loss 0.99\n",
      "\n",
      "Fitting MDRE for biswas-ff-0.\\d, which has 4 design algorithms:\n",
      "train\n",
      "biswas-ff-0.02\n",
      "biswas-ff-0.01\n",
      "biswas-ff-0.005\n",
      "biswas-ff-0.015\n",
      "One-hot-encoding all 5 categories of sequences...\n",
      "  Done. (3 s)\n"
     ]
    },
    {
     "name": "stderr",
     "output_type": "stream",
     "text": [
      "100%|█████████████████████████████████████████| 100/100 [00:03<00:00, 27.03it/s]\n"
     ]
    },
    {
     "name": "stdout",
     "output_type": "stream",
     "text": [
      "Min train loss 0.99, min val loss 0.99\n",
      "\n",
      "Fitting MDRE for biswas-cnn-0.\\d, which has 4 design algorithms:\n",
      "train\n",
      "biswas-cnn-0.02\n",
      "biswas-cnn-0.01\n",
      "biswas-cnn-0.005\n",
      "biswas-cnn-0.015\n",
      "One-hot-encoding all 5 categories of sequences...\n",
      "  Done. (3 s)\n"
     ]
    },
    {
     "name": "stderr",
     "output_type": "stream",
     "text": [
      "100%|█████████████████████████████████████████| 100/100 [00:03<00:00, 27.69it/s]\n"
     ]
    },
    {
     "name": "stdout",
     "output_type": "stream",
     "text": [
      "Min train loss 1.01, min val loss 1.03\n",
      "\n",
      "Fitting MDRE for dbas-ff-0.\\d, which has 9 design algorithms:\n",
      "train\n",
      "dbas-ff-0.1\n",
      "dbas-ff-0.2\n",
      "dbas-ff-0.3\n",
      "dbas-ff-0.4\n",
      "dbas-ff-0.5\n",
      "dbas-ff-0.6\n",
      "dbas-ff-0.7\n",
      "dbas-ff-0.8\n",
      "dbas-ff-0.9\n",
      "One-hot-encoding all 10 categories of sequences...\n",
      "  Done. (8 s)\n"
     ]
    },
    {
     "name": "stderr",
     "output_type": "stream",
     "text": [
      "100%|█████████████████████████████████████████| 100/100 [00:08<00:00, 12.50it/s]\n"
     ]
    },
    {
     "name": "stdout",
     "output_type": "stream",
     "text": [
      "Min train loss 1.61, min val loss 1.57\n",
      "\n",
      "Fitting MDRE for dbas-cnn-0.\\d, which has 9 design algorithms:\n",
      "train\n",
      "dbas-cnn-0.1\n",
      "dbas-cnn-0.2\n",
      "dbas-cnn-0.3\n",
      "dbas-cnn-0.4\n",
      "dbas-cnn-0.5\n",
      "dbas-cnn-0.6\n",
      "dbas-cnn-0.7\n",
      "dbas-cnn-0.8\n",
      "dbas-cnn-0.9\n",
      "One-hot-encoding all 10 categories of sequences...\n",
      "  Done. (8 s)\n"
     ]
    },
    {
     "name": "stderr",
     "output_type": "stream",
     "text": [
      "100%|█████████████████████████████████████████| 100/100 [00:08<00:00, 12.38it/s]\n"
     ]
    },
    {
     "name": "stdout",
     "output_type": "stream",
     "text": [
      "Min train loss 1.71, min val loss 1.67\n",
      "\n",
      "Fitting MDRE for pex-ridge, which has 1 design algorithms:\n",
      "train\n",
      "pex-ridge\n",
      "One-hot-encoding all 2 categories of sequences...\n",
      "  Done. (1 s)\n"
     ]
    },
    {
     "name": "stderr",
     "output_type": "stream",
     "text": [
      "100%|█████████████████████████████████████████| 100/100 [00:01<00:00, 91.01it/s]\n"
     ]
    },
    {
     "name": "stdout",
     "output_type": "stream",
     "text": [
      "Min train loss 0.24, min val loss 0.26\n",
      "\n",
      "Fitting MDRE for pex-ff, which has 1 design algorithms:\n",
      "train\n",
      "pex-ff\n",
      "One-hot-encoding all 2 categories of sequences...\n",
      "  Done. (1 s)\n"
     ]
    },
    {
     "name": "stderr",
     "output_type": "stream",
     "text": [
      "100%|█████████████████████████████████████████| 100/100 [00:01<00:00, 78.49it/s]\n"
     ]
    },
    {
     "name": "stdout",
     "output_type": "stream",
     "text": [
      "Min train loss 0.24, min val loss 0.27\n",
      "\n",
      "Fitting MDRE for pex-cnn, which has 1 design algorithms:\n",
      "train\n",
      "pex-cnn\n",
      "One-hot-encoding all 2 categories of sequences...\n",
      "  Done. (1 s)\n"
     ]
    },
    {
     "name": "stderr",
     "output_type": "stream",
     "text": [
      "100%|█████████████████████████████████████████| 100/100 [00:01<00:00, 91.17it/s]\n"
     ]
    },
    {
     "name": "stdout",
     "output_type": "stream",
     "text": [
      "Min train loss 0.27, min val loss 0.29\n",
      "\n",
      "Fitting MDRE for dbas-ridge-0.1t\\d, which has 1 design algorithms:\n",
      "train\n",
      "dbas-ridge-0.1t19\n",
      "One-hot-encoding all 2 categories of sequences...\n",
      "  Done. (1 s)\n"
     ]
    },
    {
     "name": "stderr",
     "output_type": "stream",
     "text": [
      "100%|█████████████████████████████████████████| 100/100 [00:01<00:00, 79.31it/s]\n"
     ]
    },
    {
     "name": "stdout",
     "output_type": "stream",
     "text": [
      "Min train loss 0.47, min val loss 0.52\n",
      "\n",
      "Fitting MDRE for dbas-ridge-0.2t\\d, which has 1 design algorithms:\n",
      "train\n",
      "dbas-ridge-0.2t19\n",
      "One-hot-encoding all 2 categories of sequences...\n",
      "  Done. (1 s)\n"
     ]
    },
    {
     "name": "stderr",
     "output_type": "stream",
     "text": [
      "100%|█████████████████████████████████████████| 100/100 [00:01<00:00, 91.52it/s]\n"
     ]
    },
    {
     "name": "stdout",
     "output_type": "stream",
     "text": [
      "Min train loss 0.03, min val loss 0.05\n",
      "\n",
      "Fitting MDRE for cbas-ridge-0.1t\\d, which has 1 design algorithms:\n",
      "train\n",
      "cbas-ridge-0.1t19\n",
      "One-hot-encoding all 2 categories of sequences...\n",
      "  Done. (0 s)\n"
     ]
    },
    {
     "name": "stderr",
     "output_type": "stream",
     "text": [
      "100%|█████████████████████████████████████████| 100/100 [00:01<00:00, 85.83it/s]\n"
     ]
    },
    {
     "name": "stdout",
     "output_type": "stream",
     "text": [
      "Min train loss 0.57, min val loss 0.64\n",
      "\n",
      "Fitting MDRE for cbas-ridge-0.2t\\d, which has 1 design algorithms:\n",
      "train\n",
      "cbas-ridge-0.2t19\n",
      "One-hot-encoding all 2 categories of sequences...\n",
      "  Done. (1 s)\n"
     ]
    },
    {
     "name": "stderr",
     "output_type": "stream",
     "text": [
      "100%|█████████████████████████████████████████| 100/100 [00:01<00:00, 77.88it/s]\n"
     ]
    },
    {
     "name": "stdout",
     "output_type": "stream",
     "text": [
      "Min train loss 0.56, min val loss 0.62\n",
      "\n",
      "Fitting MDRE for cbas-ridge-0.3t\\d, which has 1 design algorithms:\n",
      "train\n",
      "cbas-ridge-0.3t19\n",
      "One-hot-encoding all 2 categories of sequences...\n",
      "  Done. (0 s)\n"
     ]
    },
    {
     "name": "stderr",
     "output_type": "stream",
     "text": [
      "100%|█████████████████████████████████████████| 100/100 [00:01<00:00, 91.77it/s]\n"
     ]
    },
    {
     "name": "stdout",
     "output_type": "stream",
     "text": [
      "Min train loss 0.54, min val loss 0.62\n",
      "\n",
      "Fitting MDRE for cbas-ridge-0.4t\\d, which has 1 design algorithms:\n",
      "train\n",
      "cbas-ridge-0.4t19\n",
      "One-hot-encoding all 2 categories of sequences...\n",
      "  Done. (1 s)\n"
     ]
    },
    {
     "name": "stderr",
     "output_type": "stream",
     "text": [
      "100%|█████████████████████████████████████████| 100/100 [00:01<00:00, 72.68it/s]\n"
     ]
    },
    {
     "name": "stdout",
     "output_type": "stream",
     "text": [
      "Min train loss 0.51, min val loss 0.57\n",
      "\n",
      "Fitting MDRE for cbas-ridge-0.5t\\d, which has 1 design algorithms:\n",
      "train\n",
      "cbas-ridge-0.5t19\n",
      "One-hot-encoding all 2 categories of sequences...\n",
      "  Done. (1 s)\n"
     ]
    },
    {
     "name": "stderr",
     "output_type": "stream",
     "text": [
      "100%|█████████████████████████████████████████| 100/100 [00:01<00:00, 91.57it/s]\n"
     ]
    },
    {
     "name": "stdout",
     "output_type": "stream",
     "text": [
      "Min train loss 0.48, min val loss 0.55\n",
      "\n",
      "Fitting MDRE for cbas-ridge-0.6t\\d, which has 1 design algorithms:\n",
      "train\n",
      "cbas-ridge-0.6t19\n",
      "One-hot-encoding all 2 categories of sequences...\n",
      "  Done. (0 s)\n"
     ]
    },
    {
     "name": "stderr",
     "output_type": "stream",
     "text": [
      "100%|█████████████████████████████████████████| 100/100 [00:01<00:00, 81.95it/s]\n"
     ]
    },
    {
     "name": "stdout",
     "output_type": "stream",
     "text": [
      "Min train loss 0.44, min val loss 0.50\n",
      "\n",
      "Fitting MDRE for cbas-ridge-0.7t\\d, which has 1 design algorithms:\n",
      "train\n",
      "cbas-ridge-0.7t19\n",
      "One-hot-encoding all 2 categories of sequences...\n",
      "  Done. (1 s)\n"
     ]
    },
    {
     "name": "stderr",
     "output_type": "stream",
     "text": [
      "100%|█████████████████████████████████████████| 100/100 [00:01<00:00, 88.53it/s]\n"
     ]
    },
    {
     "name": "stdout",
     "output_type": "stream",
     "text": [
      "Min train loss 0.37, min val loss 0.42\n",
      "\n",
      "Fitting MDRE for cbas-ridge-0.8t\\d, which has 1 design algorithms:\n",
      "train\n",
      "cbas-ridge-0.8t19\n",
      "One-hot-encoding all 2 categories of sequences...\n",
      "  Done. (0 s)\n"
     ]
    },
    {
     "name": "stderr",
     "output_type": "stream",
     "text": [
      "100%|█████████████████████████████████████████| 100/100 [00:01<00:00, 88.13it/s]\n"
     ]
    },
    {
     "name": "stdout",
     "output_type": "stream",
     "text": [
      "Min train loss 0.22, min val loss 0.24\n",
      "\n",
      "Fitting MDRE for cbas-ridge-0.9t\\d, which has 1 design algorithms:\n",
      "train\n",
      "cbas-ridge-0.9t19\n",
      "One-hot-encoding all 2 categories of sequences...\n",
      "  Done. (1 s)\n"
     ]
    },
    {
     "name": "stderr",
     "output_type": "stream",
     "text": [
      "100%|█████████████████████████████████████████| 100/100 [00:01<00:00, 82.14it/s]\n"
     ]
    },
    {
     "name": "stdout",
     "output_type": "stream",
     "text": [
      "Min train loss 0.02, min val loss 0.02\n",
      "\n",
      "Fitting MDRE for cbas-ff-0.1, which has 1 design algorithms:\n",
      "train\n",
      "cbas-ff-0.1\n",
      "One-hot-encoding all 2 categories of sequences...\n",
      "  Done. (1 s)\n"
     ]
    },
    {
     "name": "stderr",
     "output_type": "stream",
     "text": [
      "100%|█████████████████████████████████████████| 100/100 [00:01<00:00, 91.55it/s]\n"
     ]
    },
    {
     "name": "stdout",
     "output_type": "stream",
     "text": [
      "Min train loss 0.57, min val loss 0.67\n",
      "\n",
      "Fitting MDRE for cbas-ff-0.2, which has 1 design algorithms:\n",
      "train\n",
      "cbas-ff-0.2\n",
      "One-hot-encoding all 2 categories of sequences...\n",
      "  Done. (1 s)\n"
     ]
    },
    {
     "name": "stderr",
     "output_type": "stream",
     "text": [
      "100%|█████████████████████████████████████████| 100/100 [00:01<00:00, 75.75it/s]\n"
     ]
    },
    {
     "name": "stdout",
     "output_type": "stream",
     "text": [
      "Min train loss 0.61, min val loss 0.67\n",
      "\n",
      "Fitting MDRE for cbas-ff-0.3, which has 1 design algorithms:\n",
      "train\n",
      "cbas-ff-0.3\n",
      "One-hot-encoding all 2 categories of sequences...\n",
      "  Done. (1 s)\n"
     ]
    },
    {
     "name": "stderr",
     "output_type": "stream",
     "text": [
      "100%|█████████████████████████████████████████| 100/100 [00:01<00:00, 92.00it/s]\n"
     ]
    },
    {
     "name": "stdout",
     "output_type": "stream",
     "text": [
      "Min train loss 0.59, min val loss 0.67\n",
      "\n",
      "Fitting MDRE for cbas-ff-0.4, which has 1 design algorithms:\n",
      "train\n",
      "cbas-ff-0.4\n",
      "One-hot-encoding all 2 categories of sequences...\n",
      "  Done. (1 s)\n"
     ]
    },
    {
     "name": "stderr",
     "output_type": "stream",
     "text": [
      "100%|█████████████████████████████████████████| 100/100 [00:01<00:00, 84.45it/s]\n"
     ]
    },
    {
     "name": "stdout",
     "output_type": "stream",
     "text": [
      "Min train loss 0.59, min val loss 0.67\n",
      "\n",
      "Fitting MDRE for cbas-ff-0.5, which has 1 design algorithms:\n",
      "train\n",
      "cbas-ff-0.5\n",
      "One-hot-encoding all 2 categories of sequences...\n",
      "  Done. (1 s)\n"
     ]
    },
    {
     "name": "stderr",
     "output_type": "stream",
     "text": [
      "100%|█████████████████████████████████████████| 100/100 [00:01<00:00, 87.14it/s]\n"
     ]
    },
    {
     "name": "stdout",
     "output_type": "stream",
     "text": [
      "Min train loss 0.60, min val loss 0.67\n",
      "\n",
      "Fitting MDRE for cbas-ff-0.6, which has 1 design algorithms:\n",
      "train\n",
      "cbas-ff-0.6\n",
      "One-hot-encoding all 2 categories of sequences...\n",
      "  Done. (0 s)\n"
     ]
    },
    {
     "name": "stderr",
     "output_type": "stream",
     "text": [
      "100%|█████████████████████████████████████████| 100/100 [00:01<00:00, 91.25it/s]\n"
     ]
    },
    {
     "name": "stdout",
     "output_type": "stream",
     "text": [
      "Min train loss 0.59, min val loss 0.66\n",
      "\n",
      "Fitting MDRE for cbas-ff-0.7, which has 1 design algorithms:\n",
      "train\n",
      "cbas-ff-0.7\n",
      "One-hot-encoding all 2 categories of sequences...\n",
      "  Done. (1 s)\n"
     ]
    },
    {
     "name": "stderr",
     "output_type": "stream",
     "text": [
      "100%|█████████████████████████████████████████| 100/100 [00:01<00:00, 78.94it/s]\n"
     ]
    },
    {
     "name": "stdout",
     "output_type": "stream",
     "text": [
      "Min train loss 0.59, min val loss 0.67\n",
      "\n",
      "Fitting MDRE for cbas-ff-0.8, which has 1 design algorithms:\n",
      "train\n",
      "cbas-ff-0.8\n",
      "One-hot-encoding all 2 categories of sequences...\n",
      "  Done. (0 s)\n"
     ]
    },
    {
     "name": "stderr",
     "output_type": "stream",
     "text": [
      "100%|█████████████████████████████████████████| 100/100 [00:01<00:00, 91.32it/s]\n"
     ]
    },
    {
     "name": "stdout",
     "output_type": "stream",
     "text": [
      "Min train loss 0.60, min val loss 0.67\n",
      "\n",
      "Fitting MDRE for cbas-ff-0.9, which has 1 design algorithms:\n",
      "train\n",
      "cbas-ff-0.9\n",
      "One-hot-encoding all 2 categories of sequences...\n",
      "  Done. (0 s)\n"
     ]
    },
    {
     "name": "stderr",
     "output_type": "stream",
     "text": [
      "100%|█████████████████████████████████████████| 100/100 [00:01<00:00, 78.23it/s]\n"
     ]
    },
    {
     "name": "stdout",
     "output_type": "stream",
     "text": [
      "Min train loss 0.58, min val loss 0.66\n",
      "\n",
      "Fitting MDRE for cbas-cnn-0.1, which has 1 design algorithms:\n",
      "train\n",
      "cbas-cnn-0.1\n",
      "One-hot-encoding all 2 categories of sequences...\n",
      "  Done. (1 s)\n"
     ]
    },
    {
     "name": "stderr",
     "output_type": "stream",
     "text": [
      "100%|█████████████████████████████████████████| 100/100 [00:01<00:00, 92.13it/s]\n"
     ]
    },
    {
     "name": "stdout",
     "output_type": "stream",
     "text": [
      "Min train loss 0.58, min val loss 0.67\n",
      "\n",
      "Fitting MDRE for cbas-cnn-0.2, which has 1 design algorithms:\n",
      "train\n",
      "cbas-cnn-0.2\n",
      "One-hot-encoding all 2 categories of sequences...\n",
      "  Done. (1 s)\n"
     ]
    },
    {
     "name": "stderr",
     "output_type": "stream",
     "text": [
      "100%|█████████████████████████████████████████| 100/100 [00:01<00:00, 87.17it/s]\n"
     ]
    },
    {
     "name": "stdout",
     "output_type": "stream",
     "text": [
      "Min train loss 0.60, min val loss 0.67\n",
      "\n",
      "Fitting MDRE for cbas-cnn-0.3, which has 1 design algorithms:\n",
      "train\n",
      "cbas-cnn-0.3\n",
      "One-hot-encoding all 2 categories of sequences...\n",
      "  Done. (1 s)\n"
     ]
    },
    {
     "name": "stderr",
     "output_type": "stream",
     "text": [
      "100%|█████████████████████████████████████████| 100/100 [00:01<00:00, 80.96it/s]\n"
     ]
    },
    {
     "name": "stdout",
     "output_type": "stream",
     "text": [
      "Min train loss 0.60, min val loss 0.66\n",
      "\n",
      "Fitting MDRE for cbas-cnn-0.4, which has 1 design algorithms:\n",
      "train\n",
      "cbas-cnn-0.4\n",
      "One-hot-encoding all 2 categories of sequences...\n",
      "  Done. (0 s)\n"
     ]
    },
    {
     "name": "stderr",
     "output_type": "stream",
     "text": [
      "100%|█████████████████████████████████████████| 100/100 [00:01<00:00, 91.69it/s]\n"
     ]
    },
    {
     "name": "stdout",
     "output_type": "stream",
     "text": [
      "Min train loss 0.60, min val loss 0.67\n",
      "\n",
      "Fitting MDRE for cbas-cnn-0.5, which has 1 design algorithms:\n",
      "train\n",
      "cbas-cnn-0.5\n",
      "One-hot-encoding all 2 categories of sequences...\n",
      "  Done. (1 s)\n"
     ]
    },
    {
     "name": "stderr",
     "output_type": "stream",
     "text": [
      "100%|█████████████████████████████████████████| 100/100 [00:01<00:00, 78.61it/s]\n"
     ]
    },
    {
     "name": "stdout",
     "output_type": "stream",
     "text": [
      "Min train loss 0.60, min val loss 0.67\n",
      "\n",
      "Fitting MDRE for cbas-cnn-0.6, which has 1 design algorithms:\n",
      "train\n",
      "cbas-cnn-0.6\n",
      "One-hot-encoding all 2 categories of sequences...\n",
      "  Done. (1 s)\n"
     ]
    },
    {
     "name": "stderr",
     "output_type": "stream",
     "text": [
      "100%|█████████████████████████████████████████| 100/100 [00:01<00:00, 91.85it/s]\n"
     ]
    },
    {
     "name": "stdout",
     "output_type": "stream",
     "text": [
      "Min train loss 0.61, min val loss 0.67\n",
      "\n",
      "Fitting MDRE for cbas-cnn-0.7, which has 1 design algorithms:\n",
      "train\n",
      "cbas-cnn-0.7\n",
      "One-hot-encoding all 2 categories of sequences...\n",
      "  Done. (1 s)\n"
     ]
    },
    {
     "name": "stderr",
     "output_type": "stream",
     "text": [
      "100%|█████████████████████████████████████████| 100/100 [00:01<00:00, 86.08it/s]\n"
     ]
    },
    {
     "name": "stdout",
     "output_type": "stream",
     "text": [
      "Min train loss 0.60, min val loss 0.67\n",
      "\n",
      "Fitting MDRE for cbas-cnn-0.8, which has 1 design algorithms:\n",
      "train\n",
      "cbas-cnn-0.8\n",
      "One-hot-encoding all 2 categories of sequences...\n",
      "  Done. (1 s)\n"
     ]
    },
    {
     "name": "stderr",
     "output_type": "stream",
     "text": [
      "100%|█████████████████████████████████████████| 100/100 [00:01<00:00, 83.74it/s]\n"
     ]
    },
    {
     "name": "stdout",
     "output_type": "stream",
     "text": [
      "Min train loss 0.58, min val loss 0.68\n",
      "\n",
      "Fitting MDRE for cbas-cnn-0.9, which has 1 design algorithms:\n",
      "train\n",
      "cbas-cnn-0.9\n",
      "One-hot-encoding all 2 categories of sequences...\n",
      "  Done. (0 s)\n"
     ]
    },
    {
     "name": "stderr",
     "output_type": "stream",
     "text": [
      "100%|█████████████████████████████████████████| 100/100 [00:01<00:00, 91.56it/s]\n"
     ]
    },
    {
     "name": "stdout",
     "output_type": "stream",
     "text": [
      "Min train loss 0.60, min val loss 0.66\n",
      "\n",
      "Fitting MDRE for vae-ridge, which has 1 design algorithms:\n",
      "train\n",
      "vae-ridge\n",
      "One-hot-encoding all 2 categories of sequences...\n",
      "  Done. (1 s)\n"
     ]
    },
    {
     "name": "stderr",
     "output_type": "stream",
     "text": [
      "100%|█████████████████████████████████████████| 100/100 [00:01<00:00, 75.89it/s]"
     ]
    },
    {
     "name": "stdout",
     "output_type": "stream",
     "text": [
      "Min train loss 0.63, min val loss 0.69\n",
      "\n"
     ]
    },
    {
     "name": "stderr",
     "output_type": "stream",
     "text": [
      "\n"
     ]
    }
   ],
   "source": [
    "model_and_data_path = '/data/wongfanc/rna-models'\n",
    "model_and_data_fname_no_ftype = 'nsd0.02-040324'\n",
    "design_pkl_fname = '/data/wongfanc/rna-results/designs-041124.pkl'\n",
    "calibration_pkl_fname = '/data/wongfanc/rna-data/calibration-pm0.08-nsd0.02_041524_2.pkl'\n",
    "trial_idx = 0\n",
    "\n",
    "# load design sequences\n",
    "train_fname = os.path.join(model_and_data_path, 'traindata-' + model_and_data_fname_no_ftype + '.npz')\n",
    "name2designdata = dre.prepare_name2designdata(\n",
    "    design_pkl_fname,\n",
    "    train_fname,\n",
    "    intermediate_iter_threshold=0.1,\n",
    "    verbose=False\n",
    ")\n",
    "\n",
    "# ----- load models -----\n",
    "# load training data and fit ridge regression\n",
    "d = np.load(train_fname)\n",
    "trainseqs_n = list(d['trainseq_n'])\n",
    "ytrain_n = d['ytrain_n']\n",
    "ridge = ridge = models.RidgeRegressor(seq_len=50, alphabet=utils.RNA_NUCLEOTIDES)\n",
    "ridge.fit(trainseqs_n, ytrain_n)\n",
    "\n",
    "# load trained FF and CNN models\n",
    "ff_fname = os.path.join(model_and_data_path, 'ff-' + model_and_data_fname_no_ftype + '.pt')\n",
    "ff = models.FeedForward(50, utils.RNA_NUCLEOTIDES, 100)\n",
    "ff.load(ff_fname)\n",
    "cnn_fname = os.path.join(model_and_data_path, 'cnn-' + model_and_data_fname_no_ftype + '.pt')\n",
    "cnn = models.CNN(50, utils.RNA_NUCLEOTIDES, 32, 100)\n",
    "cnn.load(cnn_fname)\n",
    "name2model = {\n",
    "    'ridge': ridge,\n",
    "    'ff': ff,\n",
    "    'cnn': cnn\n",
    "}\n",
    "\n",
    "mdre = dre.MultiMDRE(\n",
    "    mdre_group_regex_strs,\n",
    "    device=torch.device('cuda')\n",
    ")\n",
    "\n",
    "\n",
    "# load calibration data\n",
    "with open(calibration_pkl_fname, 'rb') as f:\n",
    "    caldata_t = pickle.load(f)\n",
    "    \n",
    "# load labeled calibration sequences from training distribution\n",
    "calseqs_n, ycal_n = caldata_t[trial_idx]\n",
    "name2designdata['train'] = (trainseqs_n + calseqs_n, np.hstack([ytrain_n, ycal_n]), None)\n",
    "\n",
    "# get predictions for calibration sequences\n",
    "name2predcal = {name: model.predict(calseqs_n) for name, model in name2model.items()}\n",
    "\n",
    "# fit density ratio estimator (DRE) for all design algorithms\n",
    "mdre.fit(name2designdata, n_hidden=500, n_epoch=100, verbose=True)"
   ]
  },
  {
   "cell_type": "code",
   "execution_count": 164,
   "id": "34ddffbf",
   "metadata": {},
   "outputs": [
    {
     "name": "stdout",
     "output_type": "stream",
     "text": [
      "0.2850, 0.2848, 0.2850\n"
     ]
    }
   ],
   "source": [
    "design_name = 'vae-ridge'\n",
    "(designseq_n, ydesign_n, preddesign_N) = name2designdata[design_name]\n",
    "\n",
    "# ----- quantities for prediction-powered test -----\n",
    "imputed_mean = np.mean(preddesign_N)\n",
    "imputed_se = np.std(preddesign_N) / np.sqrt(preddesign_N.size)\n",
    "\n",
    "# predictions for calibration sequences\n",
    "predcal_n =  ridge.predict(calseqs_n)\n",
    "\n",
    "# DRs for calibration sequences\n",
    "caldr_n = mdre.get_dr(calseqs_n, design_name, self_normalize=True, verbose=False)\n",
    "\n",
    "# rectifier sample mean and standard error\n",
    "rect_n = caldr_n * (ycal_n - predcal_n)\n",
    "rectifier_mean = np.mean(rect_n)\n",
    "rectifier_se = np.std(rect_n) / np.sqrt(rect_n.size)\n",
    "print(\n",
    "    '{:.4f}, {:.4f}, {:.4f}'.format(\n",
    "        np.mean(ydesign_n), np.mean(preddesign_N), np.mean(preddesign_N) + rectifier_mean\n",
    "    )\n",
    ")"
   ]
  },
  {
   "cell_type": "code",
   "execution_count": 166,
   "id": "076d2af0",
   "metadata": {},
   "outputs": [
    {
     "name": "stdout",
     "output_type": "stream",
     "text": [
      "n = 5000, N = 50000\n",
      "0.2562432049781961\n",
      "3.147296190261841\n"
     ]
    }
   ],
   "source": [
    "alpha = 0.1\n",
    "bonferroni = False\n",
    "t0 = time()\n",
    "scores_n, quantile_N, p_Nxn1, lb = get_cp_mean_lb(\n",
    "    ycal_n, predcal_n, caldr_n, designseq_n, preddesign_N,\n",
    "    lambda x: mdre.get_dr(x, design_name, self_normalize=True, verbose=False),\n",
    "    alpha=alpha, bonferroni=bonferroni\n",
    ")\n",
    "print(lb)\n",
    "print(time() - t0)"
   ]
  },
  {
   "cell_type": "code",
   "execution_count": 163,
   "id": "d6bbeb1e",
   "metadata": {},
   "outputs": [
    {
     "data": {
      "image/png": "[encoded data removed]",
      "text/plain": [
       "<Figure size 640x480 with 1 Axes>"
      ]
     },
     "metadata": {},
     "output_type": "display_data"
    }
   ],
   "source": [
    "cdf_Nxn1 = np.cumsum(p_Nxn1, axis=1)\n",
    "qidx_N = np.sum(cdf_Nxn1 < 1 - 0.9, axis=1)\n",
    "plt.hist([cdf_Nxn1[i, j] for i, j in zip(range(N), qidx_N)], log=True);"
   ]
  },
  {
   "cell_type": "code",
   "execution_count": 67,
   "id": "e9be6b77",
   "metadata": {},
   "outputs": [
    {
     "data": {
      "image/png": "[encoded data removed]",
      "text/plain": [
       "<Figure size 640x480 with 1 Axes>"
      ]
     },
     "metadata": {},
     "output_type": "display_data"
    }
   ],
   "source": [
    "plt.hist(scores_n);\n",
    "plt.xlabel('pred - y (calibration)');"
   ]
  },
  {
   "cell_type": "markdown",
   "id": "b915a3d7",
   "metadata": {},
   "source": [
    "# sandbox run_pp_selection_experiments"
   ]
  },
  {
   "cell_type": "code",
   "execution_count": 2,
   "id": "3594eabf",
   "metadata": {},
   "outputs": [],
   "source": [
    "# cannot contain any groups that don't have any data from name2designdata\n",
    "# MDRE.fit() will throw error\n",
    "mdre_group_regex_strs = [\n",
    "    'adalead-ridge-0.\\d',\n",
    "    'adalead-ff-0.\\d',\n",
    "    'adalead-cnn-0.\\d',\n",
    "    'biswas-ridge-0.\\d',\n",
    "    'biswas-ff-0.\\d',\n",
    "    'biswas-cnn-0.\\d',\n",
    "    'dbas-ff-0.\\d',\n",
    "    'dbas-cnn-0.\\d',\n",
    "    'pex-ridge',\n",
    "    'pex-ff',\n",
    "    'pex-cnn',\n",
    "    'dbas-ridge-0.1t\\d',\n",
    "    'dbas-ridge-0.2t\\d',\n",
    "    'cbas-ridge-0.1t\\d',\n",
    "    'cbas-ridge-0.2t\\d',\n",
    "    'cbas-ridge-0.3t\\d',\n",
    "    'cbas-ridge-0.4t\\d',\n",
    "    'cbas-ridge-0.5t\\d',\n",
    "    'cbas-ridge-0.6t\\d',\n",
    "    'cbas-ridge-0.7t\\d',\n",
    "    'cbas-ridge-0.8t\\d',\n",
    "    'cbas-ridge-0.9t\\d',\n",
    "    'cbas-ff-0.1',\n",
    "    'cbas-ff-0.2',\n",
    "    'cbas-ff-0.3',\n",
    "    'cbas-ff-0.4',\n",
    "    'cbas-ff-0.5',\n",
    "    'cbas-ff-0.6',\n",
    "    'cbas-ff-0.7',\n",
    "    'cbas-ff-0.8',\n",
    "    'cbas-ff-0.9',\n",
    "    'cbas-cnn-0.1',\n",
    "    'cbas-cnn-0.2',\n",
    "    'cbas-cnn-0.3',\n",
    "    'cbas-cnn-0.4',\n",
    "    'cbas-cnn-0.5',\n",
    "    'cbas-cnn-0.6',\n",
    "    'cbas-cnn-0.7',\n",
    "    'cbas-cnn-0.8',\n",
    "    'cbas-cnn-0.9',\n",
    "    'vae-ridge'\n",
    "]"
   ]
  },
  {
   "cell_type": "code",
   "execution_count": null,
   "id": "2cac76f3",
   "metadata": {},
   "outputs": [
    {
     "name": "stdout",
     "output_type": "stream",
     "text": [
      "No design data for dbas-ridge-0.3t0, exiting MDRE select_intermediate_iterations.\n",
      "No design data for dbas-ridge-0.4t0, exiting MDRE select_intermediate_iterations.\n",
      "No design data for dbas-ridge-0.5t0, exiting MDRE select_intermediate_iterations.\n",
      "No design data for dbas-ridge-0.6t0, exiting MDRE select_intermediate_iterations.\n",
      "No design data for dbas-ridge-0.7t0, exiting MDRE select_intermediate_iterations.\n",
      "No design data for dbas-ridge-0.8t0, exiting MDRE select_intermediate_iterations.\n",
      "No design data for dbas-ridge-0.9t0, exiting MDRE select_intermediate_iterations.\n",
      "All design names in provided design data:\n",
      "cbas-ridge-0.1t19\n",
      "cbas-ridge-0.2t19\n",
      "cbas-ridge-0.3t19\n",
      "cbas-ridge-0.4t19\n",
      "cbas-ridge-0.5t19\n",
      "cbas-ridge-0.6t19\n",
      "cbas-ridge-0.7t19\n",
      "cbas-ridge-0.8t19\n",
      "cbas-ridge-0.9t19\n",
      "dbas-ridge-0.1t19\n",
      "dbas-ridge-0.2t19\n",
      "adalead-ridge-0.5\n",
      "adalead-ridge-0.4\n",
      "adalead-ridge-0.3\n",
      "adalead-ridge-0.2\n",
      "adalead-ridge-0.1\n",
      "adalead-ridge-0.05\n",
      "adalead-ridge-0.01\n",
      "pex-ridge\n",
      "adalead-ff-0.5\n",
      "adalead-ff-0.4\n",
      "adalead-ff-0.3\n",
      "adalead-ff-0.2\n",
      "adalead-ff-0.1\n",
      "adalead-ff-0.05\n",
      "adalead-ff-0.01\n",
      "dbas-ff-0.1\n",
      "dbas-ff-0.2\n",
      "dbas-ff-0.3\n",
      "dbas-ff-0.4\n",
      "dbas-ff-0.5\n",
      "dbas-ff-0.6\n",
      "dbas-ff-0.7\n",
      "dbas-ff-0.8\n",
      "dbas-ff-0.9\n",
      "pex-ff\n",
      "adalead-cnn-0.5\n",
      "adalead-cnn-0.4\n",
      "adalead-cnn-0.3\n",
      "adalead-cnn-0.2\n",
      "adalead-cnn-0.1\n",
      "adalead-cnn-0.05\n",
      "adalead-cnn-0.01\n",
      "dbas-cnn-0.1\n",
      "dbas-cnn-0.2\n",
      "dbas-cnn-0.3\n",
      "dbas-cnn-0.4\n",
      "dbas-cnn-0.5\n",
      "dbas-cnn-0.6\n",
      "dbas-cnn-0.7\n",
      "dbas-cnn-0.8\n",
      "dbas-cnn-0.9\n",
      "pex-cnn\n",
      "adalead-ridge-0.45\n",
      "adalead-ridge-0.35\n",
      "adalead-ridge-0.25\n",
      "adalead-ridge-0.15\n",
      "adalead-ff-0.45\n",
      "adalead-ff-0.35\n",
      "adalead-ff-0.25\n",
      "adalead-ff-0.15\n",
      "adalead-cnn-0.45\n",
      "adalead-cnn-0.35\n",
      "adalead-cnn-0.25\n",
      "adalead-cnn-0.15\n",
      "biswas-ridge-0.02\n",
      "biswas-ridge-0.01\n",
      "biswas-ridge-0.005\n",
      "biswas-ff-0.02\n",
      "biswas-ff-0.01\n",
      "biswas-ff-0.005\n",
      "biswas-cnn-0.02\n",
      "biswas-cnn-0.01\n",
      "biswas-cnn-0.005\n",
      "biswas-ridge-0.015\n",
      "biswas-ff-0.015\n",
      "biswas-cnn-0.015\n",
      "cbas-ff-0.1\n",
      "cbas-ff-0.2\n",
      "cbas-ff-0.3\n",
      "cbas-ff-0.4\n",
      "cbas-ff-0.5\n",
      "cbas-ff-0.6\n",
      "cbas-ff-0.7\n",
      "cbas-ff-0.8\n",
      "cbas-ff-0.9\n",
      "cbas-cnn-0.1\n",
      "cbas-cnn-0.2\n",
      "cbas-cnn-0.3\n",
      "cbas-cnn-0.4\n",
      "cbas-cnn-0.5\n",
      "cbas-cnn-0.6\n",
      "cbas-cnn-0.7\n",
      "cbas-cnn-0.8\n",
      "cbas-cnn-0.9\n",
      "vae-ridge\n",
      "train\n",
      "\n",
      "Saved true means to /data/wongfanc/rna-results/selection-pp-120924-truemeans.pkl.\n",
      "Fitting MDRE for adalead-ridge-0.\\d, which has 11 design algorithms:\n",
      "train\n",
      "adalead-ridge-0.5\n",
      "adalead-ridge-0.4\n",
      "adalead-ridge-0.3\n",
      "adalead-ridge-0.2\n",
      "adalead-ridge-0.1\n",
      "adalead-ridge-0.05\n",
      "adalead-ridge-0.01\n",
      "adalead-ridge-0.45\n",
      "adalead-ridge-0.35\n",
      "adalead-ridge-0.25\n",
      "adalead-ridge-0.15\n",
      "One-hot-encoding all 12 categories of sequences...\n",
      "  Done. (8 s)\n"
     ]
    },
    {
     "name": "stderr",
     "output_type": "stream",
     "text": [
      "100%|████████████████████████████████████████████████████| 500/500 [05:37<00:00,  1.48it/s]\n"
     ]
    },
    {
     "name": "stdout",
     "output_type": "stream",
     "text": [
      "Min train loss 0.77, min val loss 0.58\n",
      "\n",
      "Fitting MDRE for adalead-ff-0.\\d, which has 11 design algorithms:\n",
      "train\n",
      "adalead-ff-0.5\n",
      "adalead-ff-0.4\n",
      "adalead-ff-0.3\n",
      "adalead-ff-0.2\n",
      "adalead-ff-0.1\n",
      "adalead-ff-0.05\n",
      "adalead-ff-0.01\n",
      "adalead-ff-0.45\n",
      "adalead-ff-0.35\n",
      "adalead-ff-0.25\n",
      "adalead-ff-0.15\n",
      "One-hot-encoding all 12 categories of sequences...\n",
      "  Done. (8 s)\n"
     ]
    },
    {
     "name": "stderr",
     "output_type": "stream",
     "text": [
      "100%|████████████████████████████████████████████████████| 500/500 [05:38<00:00,  1.48it/s]\n"
     ]
    },
    {
     "name": "stdout",
     "output_type": "stream",
     "text": [
      "Min train loss 0.81, min val loss 0.66\n",
      "\n",
      "Fitting MDRE for adalead-cnn-0.\\d, which has 11 design algorithms:\n",
      "train\n",
      "adalead-cnn-0.5\n",
      "adalead-cnn-0.4\n",
      "adalead-cnn-0.3\n",
      "adalead-cnn-0.2\n",
      "adalead-cnn-0.1\n",
      "adalead-cnn-0.05\n",
      "adalead-cnn-0.01\n",
      "adalead-cnn-0.45\n",
      "adalead-cnn-0.35\n",
      "adalead-cnn-0.25\n",
      "adalead-cnn-0.15\n",
      "One-hot-encoding all 12 categories of sequences...\n",
      "  Done. (8 s)\n"
     ]
    },
    {
     "name": "stderr",
     "output_type": "stream",
     "text": [
      "100%|████████████████████████████████████████████████████| 500/500 [05:38<00:00,  1.48it/s]\n"
     ]
    },
    {
     "name": "stdout",
     "output_type": "stream",
     "text": [
      "Min train loss 0.90, min val loss 0.79\n",
      "\n",
      "Fitting MDRE for biswas-ridge-0.\\d, which has 4 design algorithms:\n",
      "train\n",
      "biswas-ridge-0.02\n",
      "biswas-ridge-0.01\n",
      "biswas-ridge-0.005\n",
      "biswas-ridge-0.015\n",
      "One-hot-encoding all 5 categories of sequences...\n",
      "  Done. (3 s)\n"
     ]
    },
    {
     "name": "stderr",
     "output_type": "stream",
     "text": [
      "100%|████████████████████████████████████████████████████| 500/500 [00:59<00:00,  8.36it/s]\n"
     ]
    },
    {
     "name": "stdout",
     "output_type": "stream",
     "text": [
      "Min train loss 0.84, min val loss 1.00\n",
      "\n",
      "Fitting MDRE for biswas-ff-0.\\d, which has 4 design algorithms:\n",
      "train\n",
      "biswas-ff-0.02\n",
      "biswas-ff-0.01\n",
      "biswas-ff-0.005\n",
      "biswas-ff-0.015\n",
      "One-hot-encoding all 5 categories of sequences...\n",
      "  Done. (3 s)\n"
     ]
    },
    {
     "name": "stderr",
     "output_type": "stream",
     "text": [
      "100%|████████████████████████████████████████████████████| 500/500 [00:59<00:00,  8.37it/s]\n"
     ]
    },
    {
     "name": "stdout",
     "output_type": "stream",
     "text": [
      "Min train loss 0.84, min val loss 1.00\n",
      "\n",
      "Fitting MDRE for biswas-cnn-0.\\d, which has 4 design algorithms:\n",
      "train\n",
      "biswas-cnn-0.02\n",
      "biswas-cnn-0.01\n",
      "biswas-cnn-0.005\n",
      "biswas-cnn-0.015\n",
      "One-hot-encoding all 5 categories of sequences...\n",
      "  Done. (3 s)\n"
     ]
    },
    {
     "name": "stderr",
     "output_type": "stream",
     "text": [
      "100%|████████████████████████████████████████████████████| 500/500 [00:59<00:00,  8.36it/s]\n"
     ]
    },
    {
     "name": "stdout",
     "output_type": "stream",
     "text": [
      "Min train loss 0.84, min val loss 1.08\n",
      "\n",
      "Fitting MDRE for dbas-ff-0.\\d, which has 9 design algorithms:\n",
      "train\n",
      "dbas-ff-0.1\n",
      "dbas-ff-0.2\n",
      "dbas-ff-0.3\n",
      "dbas-ff-0.4\n",
      "dbas-ff-0.5\n",
      "dbas-ff-0.6\n",
      "dbas-ff-0.7\n",
      "dbas-ff-0.8\n",
      "dbas-ff-0.9\n",
      "One-hot-encoding all 10 categories of sequences...\n",
      "  Done. (7 s)\n"
     ]
    },
    {
     "name": "stderr",
     "output_type": "stream",
     "text": [
      " 13%|██████▉                                              | 66/500 [00:32<03:34,  2.02it/s]"
     ]
    }
   ],
   "source": [
    "reload(dre)\n",
    "reload(utils)\n",
    "reload(rna)\n",
    "\n",
    "# ----- build menu of design algorithm names -----\n",
    "adalead_thresholds = [0.5, 0.45, 0.4, 0.35, 0.3, 0.25, 0.2, 0.15, 0.1, 0.05, 0.01]\n",
    "biswas_temperatures = [0.02, 0.015, 0.01, 0.005]\n",
    "cbas_dbas_quantiles = np.arange(0.1, 0.91, 0.1)\n",
    "dbas_ridge_quantiles = [0.1, 0.2]\n",
    "\n",
    "design_names = ['vae-ridge']\n",
    "# cbas ridge\n",
    "for q in cbas_dbas_quantiles:\n",
    "    q = round(q, 2)\n",
    "    design_names.append(f'cbas-ridge-{q}t19')\n",
    "\n",
    "# dbas ridge\n",
    "for q in dbas_ridge_quantiles:\n",
    "    q = round(q, 2)\n",
    "    design_names.append(f'dbas-ridge-{q}t19')\n",
    "    \n",
    "for model_name in ['ridge', 'ff', 'cnn']:\n",
    "    \n",
    "    # adalead\n",
    "    for thresh in adalead_thresholds:\n",
    "        thresh = round(thresh, 4)\n",
    "        design_names.append(f'adalead-{model_name}-{thresh}')\n",
    "    \n",
    "    # biswas\n",
    "    for temp in biswas_temperatures:\n",
    "        temp = round(temp, 4)\n",
    "        design_names.append(f'biswas-{model_name}-{temp}') \n",
    "    \n",
    "    # PEX\n",
    "    design_names.append(f'pex-{model_name}') \n",
    "        \n",
    "    if model_name != 'ridge':\n",
    "        # cbas\n",
    "        for q in cbas_dbas_quantiles:\n",
    "            q = round(q, 2)\n",
    "            design_names.append(f'cbas-{model_name}-{q}')\n",
    "        \n",
    "        # dbas\n",
    "        for q in cbas_dbas_quantiles:\n",
    "            q = round(q, 2)\n",
    "            design_names.append(f'dbas-{model_name}-{q}')\n",
    "    \n",
    "\n",
    "design_pkl_fname = '/data/wongfanc/rna-results/designs-041124.pkl'\n",
    "model_and_data_fname_no_ftype = 'nsd0.02-040324'\n",
    "cal_pkl_fname = '/data/wongfanc/rna-data/calibration-pm0.08-nsd0.02_041524_2.pkl'\n",
    "target_values = np.arange(0.25, 0.501, 0.001)\n",
    "n_trial = 200\n",
    "n_mdre_hidden = 512\n",
    "n_mdre_epoch = 500\n",
    "pp_csv_fname = '/data/wongfanc/rna-results/selection-pp-120924.csv'\n",
    "cp_csv_fname = '/data/wongfanc/rna-results/selection-cp-120924.csv'\n",
    "device = torch.device('cuda')\n",
    "\n",
    "df = rna.run_pp_selection_experiments(\n",
    "    design_names,\n",
    "    design_pkl_fname,\n",
    "    model_and_data_fname_no_ftype,\n",
    "    cal_pkl_fname,\n",
    "    mdre_group_regex_strs,\n",
    "    target_values,\n",
    "    n_trial,\n",
    "    n_mdre_hidden=n_mdre_hidden,\n",
    "    n_mdre_epoch=n_mdre_epoch,\n",
    "    pp_csv_fname=pp_csv_fname,\n",
    "    cp_csv_fname=cp_csv_fname,\n",
    "    device=device,\n",
    ")"
   ]
  }
 ],
 "metadata": {
  "kernelspec": {
   "display_name": "Python [conda env:torchenv] *",
   "language": "python",
   "name": "conda-env-torchenv-py"
  },
  "language_info": {
   "codemirror_mode": {
    "name": "ipython",
    "version": 3
   },
   "file_extension": ".py",
   "mimetype": "text/x-python",
   "name": "python",
   "nbconvert_exporter": "python",
   "pygments_lexer": "ipython3",
   "version": "3.11.5"
  }
 },
 "nbformat": 4,
 "nbformat_minor": 5
}
