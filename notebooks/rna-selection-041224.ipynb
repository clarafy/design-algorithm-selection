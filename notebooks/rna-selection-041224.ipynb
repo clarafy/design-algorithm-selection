{
 "cells": [
  {
   "cell_type": "code",
   "execution_count": 1,
   "id": "d6da0993",
   "metadata": {},
   "outputs": [
    {
     "name": "stdout",
     "output_type": "stream",
     "text": [
      "True\n"
     ]
    },
    {
     "name": "stderr",
     "output_type": "stream",
     "text": [
      "2024-04-30 00:05:53.203927: E external/local_xla/xla/stream_executor/cuda/cuda_dnn.cc:9261] Unable to register cuDNN factory: Attempting to register factory for plugin cuDNN when one has already been registered\n",
      "2024-04-30 00:05:53.203960: E external/local_xla/xla/stream_executor/cuda/cuda_fft.cc:607] Unable to register cuFFT factory: Attempting to register factory for plugin cuFFT when one has already been registered\n",
      "2024-04-30 00:05:53.205125: E external/local_xla/xla/stream_executor/cuda/cuda_blas.cc:1515] Unable to register cuBLAS factory: Attempting to register factory for plugin cuBLAS when one has already been registered\n",
      "2024-04-30 00:05:53.212127: I tensorflow/core/platform/cpu_feature_guard.cc:182] This TensorFlow binary is optimized to use available CPU instructions in performance-critical operations.\n",
      "To enable the following instructions: AVX2 AVX512F FMA, in other operations, rebuild TensorFlow with the appropriate compiler flags.\n",
      "2024-04-30 00:05:54.987516: W tensorflow/compiler/tf2tensorrt/utils/py_utils.cc:38] TF-TRT Warning: Could not find TensorRT\n"
     ]
    }
   ],
   "source": [
    "import os\n",
    "import sys\n",
    "module_path = os.path.abspath(os.path.join('..'))\n",
    "if module_path not in sys.path:\n",
    "    sys.path.append(module_path)\n",
    "    \n",
    "from importlib import reload\n",
    "from time import time\n",
    "import pickle\n",
    "from copy import deepcopy\n",
    "import re\n",
    "\n",
    "\n",
    "import numpy as np\n",
    "import scipy as sc\n",
    "import pandas as pd\n",
    "import torch\n",
    "print(torch.cuda.is_available())\n",
    "from statsmodels.stats.weightstats import _zstat_generic\n",
    "\n",
    "import models\n",
    "import dre\n",
    "import rna\n",
    "from calibrate import rectified_p_value\n",
    "import vae\n",
    "import designers\n",
    "import editdistance\n",
    "\n",
    "import matplotlib.pyplot as plt\n",
    "import matplotlib as mpl\n",
    "plt.rcParams[\"font.size\"] = 12\n",
    "\n",
    "import seaborn as sns\n",
    "sns.set_style('whitegrid')"
   ]
  },
  {
   "cell_type": "code",
   "execution_count": 22,
   "id": "c519676c",
   "metadata": {},
   "outputs": [
    {
     "name": "stdout",
     "output_type": "stream",
     "text": [
      "Loaded 5000 training points from /homefs/home/wongfanc/density-ratio-estimation/rna-results/calibration-pm0.08-nsd0.02-040524.npz.\n",
      "\n",
      "Loaded 5000 training points from /homefs/home/wongfanc/density-ratio-estimation/rna-models/traindata-nsd0.02-040324.npz.\n",
      "\n"
     ]
    }
   ],
   "source": [
    "# load calibration and training data\n",
    "noise_sd = 0.02\n",
    "p_mut = 4 / 50\n",
    "model_and_data_path = '/homefs/home/wongfanc/density-ratio-estimation/rna-models'\n",
    "model_and_data_fname_no_ftype = 'nsd0.02-040324'\n",
    "n_hidden = 100\n",
    "n_filters = 32\n",
    "\n",
    "cal_fname = '/homefs/home/wongfanc/density-ratio-estimation/rna-results/calibration-pm0.08-nsd0.02-040524.npz'\n",
    "d = np.load(cal_fname)\n",
    "calseqs_n = list(d['calseqs_n'])\n",
    "ycal_n = d['ycal_n']\n",
    "print(f'Loaded {ycal_n.size} training points from {cal_fname}.\\n')\n",
    "\n",
    "train_fname = os.path.join(model_and_data_path, 'traindata-' + model_and_data_fname_no_ftype + '.npz')\n",
    "d = np.load(train_fname)\n",
    "trainseq_n = list(d['trainseq_n'])\n",
    "ytrain_n = d['ytrain_n']\n",
    "print(f'Loaded {ytrain_n.size} training points from {train_fname}.\\n')"
   ]
  },
  {
   "cell_type": "code",
   "execution_count": 5,
   "id": "eec1d851",
   "metadata": {},
   "outputs": [
    {
     "name": "stdout",
     "output_type": "stream",
     "text": [
      "Loaded 5000 training points from /homefs/home/wongfanc/density-ratio-estimation/rna-models/traindata-nsd0.02-040324.npz.\n",
      "\n",
      "Removed dbas-ridge-0.6t0 designs.\n",
      "Removed dbas-ridge-0.6t1 designs.\n",
      "Removed dbas-ridge-0.6t2 designs.\n",
      "Removed dbas-ridge-0.6t3 designs.\n",
      "Removed dbas-ridge-0.6t4 designs.\n",
      "Removed dbas-ridge-0.6t5 designs.\n",
      "Removed dbas-ridge-0.6t6 designs.\n",
      "Removed dbas-ridge-0.6t7 designs.\n",
      "Removed dbas-ridge-0.6t8 designs.\n",
      "Removed dbas-ridge-0.6t9 designs.\n",
      "Removed dbas-ridge-0.6t10 designs.\n",
      "Removed dbas-ridge-0.6t11 designs.\n",
      "Removed dbas-ridge-0.6t12 designs.\n",
      "Removed dbas-ridge-0.6t13 designs.\n",
      "Removed dbas-ridge-0.6t14 designs.\n",
      "Removed dbas-ridge-0.6t15 designs.\n",
      "Removed dbas-ridge-0.6t16 designs.\n",
      "Removed dbas-ridge-0.6t17 designs.\n",
      "Removed dbas-ridge-0.6t18 designs.\n",
      "Removed dbas-ridge-0.6t19 designs.\n",
      "Removed dbas-ridge-0.7t0 designs.\n",
      "Removed dbas-ridge-0.7t1 designs.\n",
      "Removed dbas-ridge-0.7t2 designs.\n",
      "Removed dbas-ridge-0.7t3 designs.\n",
      "Removed dbas-ridge-0.7t4 designs.\n",
      "Removed dbas-ridge-0.7t5 designs.\n",
      "Removed dbas-ridge-0.7t6 designs.\n",
      "Removed dbas-ridge-0.7t7 designs.\n",
      "Removed dbas-ridge-0.7t8 designs.\n",
      "Removed dbas-ridge-0.7t9 designs.\n",
      "Removed dbas-ridge-0.7t10 designs.\n",
      "Removed dbas-ridge-0.7t11 designs.\n",
      "Removed dbas-ridge-0.7t12 designs.\n",
      "Removed dbas-ridge-0.7t13 designs.\n",
      "Removed dbas-ridge-0.7t14 designs.\n",
      "Removed dbas-ridge-0.7t15 designs.\n",
      "Removed dbas-ridge-0.7t16 designs.\n",
      "Removed dbas-ridge-0.7t17 designs.\n",
      "Removed dbas-ridge-0.7t18 designs.\n",
      "Removed dbas-ridge-0.7t19 designs.\n",
      "Removed dbas-ridge-0.8t0 designs.\n",
      "Removed dbas-ridge-0.8t1 designs.\n",
      "Removed dbas-ridge-0.8t2 designs.\n",
      "Removed dbas-ridge-0.8t3 designs.\n",
      "Removed dbas-ridge-0.8t4 designs.\n",
      "Removed dbas-ridge-0.8t5 designs.\n",
      "Removed dbas-ridge-0.8t6 designs.\n",
      "Removed dbas-ridge-0.8t7 designs.\n",
      "Removed dbas-ridge-0.8t8 designs.\n",
      "Removed dbas-ridge-0.8t9 designs.\n",
      "Removed dbas-ridge-0.8t10 designs.\n",
      "Removed dbas-ridge-0.8t11 designs.\n",
      "Removed dbas-ridge-0.8t12 designs.\n",
      "Removed dbas-ridge-0.8t13 designs.\n",
      "Removed dbas-ridge-0.8t14 designs.\n",
      "Removed dbas-ridge-0.8t15 designs.\n",
      "Removed dbas-ridge-0.8t16 designs.\n",
      "Removed dbas-ridge-0.8t17 designs.\n",
      "Removed dbas-ridge-0.8t18 designs.\n",
      "Removed dbas-ridge-0.8t19 designs.\n",
      "Removed dbas-ridge-0.9t0 designs.\n",
      "Removed dbas-ridge-0.9t1 designs.\n",
      "Removed dbas-ridge-0.9t2 designs.\n",
      "Removed dbas-ridge-0.9t3 designs.\n",
      "Removed dbas-ridge-0.9t4 designs.\n",
      "Removed dbas-ridge-0.9t5 designs.\n",
      "Removed dbas-ridge-0.9t6 designs.\n",
      "Removed dbas-ridge-0.9t7 designs.\n",
      "Removed dbas-ridge-0.9t8 designs.\n",
      "Removed dbas-ridge-0.9t9 designs.\n",
      "Removed dbas-ridge-0.9t10 designs.\n",
      "Removed dbas-ridge-0.9t11 designs.\n",
      "Removed dbas-ridge-0.9t12 designs.\n",
      "Removed dbas-ridge-0.9t13 designs.\n",
      "Removed dbas-ridge-0.9t14 designs.\n",
      "Removed dbas-ridge-0.9t15 designs.\n",
      "Removed dbas-ridge-0.9t16 designs.\n",
      "Removed dbas-ridge-0.9t17 designs.\n",
      "Removed dbas-ridge-0.9t18 designs.\n",
      "Removed dbas-ridge-0.9t19 designs.\n",
      "Removed biswas-ridge-0.05 designs.\n",
      "Removed biswas-ff-0.05 designs.\n",
      "Removed biswas-cnn-0.05 designs.\n",
      "Removed biswas-ridge-0.03 designs.\n",
      "Removed biswas-ff-0.03 designs.\n",
      "Removed biswas-cnn-0.03 designs.\n",
      "Removed biswas-ridge-0.01 designs.\n",
      "Removed biswas-ff-0.01 designs.\n",
      "Removed biswas-cnn-0.01 designs.\n",
      "Removed biswas-ridge-0.005 designs.\n",
      "Removed biswas-ff-0.005 designs.\n",
      "Removed biswas-cnn-0.005 designs.\n",
      "Iterations [0, 1, 2, 3, 4, 5, 6, 7, 8, 9, 10, 11, 12, 13, 14, 15, 16, 17, 18, 19] (interval 1) have mean consecutive diff in mean prediction of 0.000.\n",
      "Iterations [1, 3, 5, 7, 9, 11, 13, 15, 17, 19] (interval 2) have mean consecutive diff in mean prediction of 0.000.\n",
      "Iterations [2, 5, 8, 11, 14, 17, 19] (interval 3) have mean consecutive diff in mean prediction of 0.000.\n",
      "Iterations [3, 7, 11, 15, 19] (interval 4) have mean consecutive diff in mean prediction of 0.000.\n",
      "Iterations [4, 9, 14, 19] (interval 5) have mean consecutive diff in mean prediction of 0.000.\n",
      "Iterations [5, 11, 17, 19] (interval 6) have mean consecutive diff in mean prediction of 0.000.\n",
      "Iterations [6, 13, 19] (interval 7) have mean consecutive diff in mean prediction of 0.000.\n",
      "Iterations [7, 15, 19] (interval 8) have mean consecutive diff in mean prediction of -0.000.\n",
      "Iterations [8, 17, 19] (interval 9) have mean consecutive diff in mean prediction of -0.000.\n",
      "Iterations [9, 19] (interval 10) have mean consecutive diff in mean prediction of -0.000.\n",
      "Returning iteration 19 with mean prediction 0.295.\n",
      "Using the following iterations for cbas-ridge-0.1: [19].\n",
      "  Removed cbas-ridge-0.1t0\n",
      "  Removed cbas-ridge-0.1t1\n",
      "  Removed cbas-ridge-0.1t2\n",
      "  Removed cbas-ridge-0.1t3\n",
      "  Removed cbas-ridge-0.1t4\n",
      "  Removed cbas-ridge-0.1t5\n",
      "  Removed cbas-ridge-0.1t6\n",
      "  Removed cbas-ridge-0.1t7\n",
      "  Removed cbas-ridge-0.1t8\n",
      "  Removed cbas-ridge-0.1t9\n",
      "  Removed cbas-ridge-0.1t10\n",
      "  Removed cbas-ridge-0.1t11\n",
      "  Removed cbas-ridge-0.1t12\n",
      "  Removed cbas-ridge-0.1t13\n",
      "  Removed cbas-ridge-0.1t14\n",
      "  Removed cbas-ridge-0.1t15\n",
      "  Removed cbas-ridge-0.1t16\n",
      "  Removed cbas-ridge-0.1t17\n",
      "  Removed cbas-ridge-0.1t18\n",
      "Iterations [0, 1, 2, 3, 4, 5, 6, 7, 8, 9, 10, 11, 12, 13, 14, 15, 16, 17, 18, 19] (interval 1) have mean consecutive diff in mean prediction of 0.001.\n",
      "Iterations [1, 3, 5, 7, 9, 11, 13, 15, 17, 19] (interval 2) have mean consecutive diff in mean prediction of 0.003.\n",
      "Iterations [2, 5, 8, 11, 14, 17, 19] (interval 3) have mean consecutive diff in mean prediction of 0.004.\n",
      "Iterations [3, 7, 11, 15, 19] (interval 4) have mean consecutive diff in mean prediction of 0.006.\n",
      "Iterations [4, 9, 14, 19] (interval 5) have mean consecutive diff in mean prediction of 0.009.\n",
      "Iterations [5, 11, 17, 19] (interval 6) have mean consecutive diff in mean prediction of 0.009.\n",
      "Iterations [6, 13, 19] (interval 7) have mean consecutive diff in mean prediction of 0.013.\n",
      "Iterations [7, 15, 19] (interval 8) have mean consecutive diff in mean prediction of 0.013.\n",
      "Iterations [8, 17, 19] (interval 9) have mean consecutive diff in mean prediction of 0.013.\n",
      "Iterations [9, 19] (interval 10) have mean consecutive diff in mean prediction of 0.020.\n",
      "Returning iteration 19 with mean prediction 0.311.\n",
      "Using the following iterations for dbas-ridge-0.1: [19].\n",
      "  Removed dbas-ridge-0.1t0\n",
      "  Removed dbas-ridge-0.1t1\n",
      "  Removed dbas-ridge-0.1t2\n",
      "  Removed dbas-ridge-0.1t3\n",
      "  Removed dbas-ridge-0.1t4\n",
      "  Removed dbas-ridge-0.1t5\n",
      "  Removed dbas-ridge-0.1t6\n",
      "  Removed dbas-ridge-0.1t7\n",
      "  Removed dbas-ridge-0.1t8\n",
      "  Removed dbas-ridge-0.1t9\n",
      "  Removed dbas-ridge-0.1t10\n",
      "  Removed dbas-ridge-0.1t11\n",
      "  Removed dbas-ridge-0.1t12\n",
      "  Removed dbas-ridge-0.1t13\n",
      "  Removed dbas-ridge-0.1t14\n",
      "  Removed dbas-ridge-0.1t15\n",
      "  Removed dbas-ridge-0.1t16\n",
      "  Removed dbas-ridge-0.1t17\n",
      "  Removed dbas-ridge-0.1t18\n",
      "Iterations [0, 1, 2, 3, 4, 5, 6, 7, 8, 9, 10, 11, 12, 13, 14, 15, 16, 17, 18, 19] (interval 1) have mean consecutive diff in mean prediction of 0.001.\n",
      "Iterations [1, 3, 5, 7, 9, 11, 13, 15, 17, 19] (interval 2) have mean consecutive diff in mean prediction of 0.001.\n",
      "Iterations [2, 5, 8, 11, 14, 17, 19] (interval 3) have mean consecutive diff in mean prediction of 0.001.\n",
      "Iterations [3, 7, 11, 15, 19] (interval 4) have mean consecutive diff in mean prediction of 0.001.\n",
      "Iterations [4, 9, 14, 19] (interval 5) have mean consecutive diff in mean prediction of 0.001.\n",
      "Iterations [5, 11, 17, 19] (interval 6) have mean consecutive diff in mean prediction of 0.000.\n",
      "Iterations [6, 13, 19] (interval 7) have mean consecutive diff in mean prediction of 0.001.\n",
      "Iterations [7, 15, 19] (interval 8) have mean consecutive diff in mean prediction of 0.001.\n",
      "Iterations [8, 17, 19] (interval 9) have mean consecutive diff in mean prediction of 0.001.\n",
      "Iterations [9, 19] (interval 10) have mean consecutive diff in mean prediction of 0.001.\n",
      "Returning iteration 19 with mean prediction 0.300.\n",
      "Using the following iterations for cbas-ridge-0.2: [19].\n",
      "  Removed cbas-ridge-0.2t0\n",
      "  Removed cbas-ridge-0.2t1\n",
      "  Removed cbas-ridge-0.2t2\n",
      "  Removed cbas-ridge-0.2t3\n",
      "  Removed cbas-ridge-0.2t4\n",
      "  Removed cbas-ridge-0.2t5\n",
      "  Removed cbas-ridge-0.2t6\n",
      "  Removed cbas-ridge-0.2t7\n",
      "  Removed cbas-ridge-0.2t8\n",
      "  Removed cbas-ridge-0.2t9\n",
      "  Removed cbas-ridge-0.2t10\n",
      "  Removed cbas-ridge-0.2t11\n",
      "  Removed cbas-ridge-0.2t12\n",
      "  Removed cbas-ridge-0.2t13\n",
      "  Removed cbas-ridge-0.2t14\n",
      "  Removed cbas-ridge-0.2t15\n",
      "  Removed cbas-ridge-0.2t16\n",
      "  Removed cbas-ridge-0.2t17\n",
      "  Removed cbas-ridge-0.2t18\n",
      "Iterations [0, 1, 2, 3, 4, 5, 6, 7, 8, 9, 10, 11, 12, 13, 14, 15, 16, 17, 18, 19] (interval 1) have mean consecutive diff in mean prediction of 0.006.\n",
      "Iterations [1, 3, 5, 7, 9, 11, 13, 15, 17, 19] (interval 2) have mean consecutive diff in mean prediction of 0.013.\n",
      "Iterations [2, 5, 8, 11, 14, 17, 19] (interval 3) have mean consecutive diff in mean prediction of 0.018.\n",
      "Iterations [3, 7, 11, 15, 19] (interval 4) have mean consecutive diff in mean prediction of 0.027.\n",
      "Iterations [4, 9, 14, 19] (interval 5) have mean consecutive diff in mean prediction of 0.036.\n",
      "Iterations [5, 11, 17, 19] (interval 6) have mean consecutive diff in mean prediction of 0.034.\n",
      "Iterations [6, 13, 19] (interval 7) have mean consecutive diff in mean prediction of 0.049.\n",
      "Iterations [7, 15, 19] (interval 8) have mean consecutive diff in mean prediction of 0.046.\n",
      "Iterations [8, 17, 19] (interval 9) have mean consecutive diff in mean prediction of 0.046.\n",
      "Iterations [9, 19] (interval 10) have mean consecutive diff in mean prediction of 0.086.\n",
      "Returning iteration 19 with mean prediction 0.408.\n",
      "Using the following iterations for dbas-ridge-0.2: [19].\n",
      "  Removed dbas-ridge-0.2t0\n",
      "  Removed dbas-ridge-0.2t1\n",
      "  Removed dbas-ridge-0.2t2\n",
      "  Removed dbas-ridge-0.2t3\n",
      "  Removed dbas-ridge-0.2t4\n",
      "  Removed dbas-ridge-0.2t5\n",
      "  Removed dbas-ridge-0.2t6\n",
      "  Removed dbas-ridge-0.2t7\n",
      "  Removed dbas-ridge-0.2t8\n",
      "  Removed dbas-ridge-0.2t9\n",
      "  Removed dbas-ridge-0.2t10\n",
      "  Removed dbas-ridge-0.2t11\n",
      "  Removed dbas-ridge-0.2t12\n",
      "  Removed dbas-ridge-0.2t13\n",
      "  Removed dbas-ridge-0.2t14\n",
      "  Removed dbas-ridge-0.2t15\n",
      "  Removed dbas-ridge-0.2t16\n",
      "  Removed dbas-ridge-0.2t17\n",
      "  Removed dbas-ridge-0.2t18\n",
      "Iterations [0, 1, 2, 3, 4, 5, 6, 7, 8, 9, 10, 11, 12, 13, 14, 15, 16, 17, 18, 19] (interval 1) have mean consecutive diff in mean prediction of 0.000.\n",
      "Iterations [1, 3, 5, 7, 9, 11, 13, 15, 17, 19] (interval 2) have mean consecutive diff in mean prediction of 0.000.\n",
      "Iterations [2, 5, 8, 11, 14, 17, 19] (interval 3) have mean consecutive diff in mean prediction of 0.000.\n",
      "Iterations [3, 7, 11, 15, 19] (interval 4) have mean consecutive diff in mean prediction of 0.001.\n",
      "Iterations [4, 9, 14, 19] (interval 5) have mean consecutive diff in mean prediction of 0.001.\n",
      "Iterations [5, 11, 17, 19] (interval 6) have mean consecutive diff in mean prediction of -0.000.\n",
      "Iterations [6, 13, 19] (interval 7) have mean consecutive diff in mean prediction of -0.000.\n",
      "Iterations [7, 15, 19] (interval 8) have mean consecutive diff in mean prediction of -0.000.\n",
      "Iterations [8, 17, 19] (interval 9) have mean consecutive diff in mean prediction of 0.000.\n",
      "Iterations [9, 19] (interval 10) have mean consecutive diff in mean prediction of -0.002.\n",
      "Returning iteration 19 with mean prediction 0.301.\n",
      "Using the following iterations for cbas-ridge-0.3: [19].\n",
      "  Removed cbas-ridge-0.3t0\n",
      "  Removed cbas-ridge-0.3t1\n",
      "  Removed cbas-ridge-0.3t2\n",
      "  Removed cbas-ridge-0.3t3\n",
      "  Removed cbas-ridge-0.3t4\n",
      "  Removed cbas-ridge-0.3t5\n",
      "  Removed cbas-ridge-0.3t6\n",
      "  Removed cbas-ridge-0.3t7\n",
      "  Removed cbas-ridge-0.3t8\n",
      "  Removed cbas-ridge-0.3t9\n",
      "  Removed cbas-ridge-0.3t10\n",
      "  Removed cbas-ridge-0.3t11\n",
      "  Removed cbas-ridge-0.3t12\n",
      "  Removed cbas-ridge-0.3t13\n",
      "  Removed cbas-ridge-0.3t14\n",
      "  Removed cbas-ridge-0.3t15\n",
      "  Removed cbas-ridge-0.3t16\n"
     ]
    },
    {
     "name": "stdout",
     "output_type": "stream",
     "text": [
      "  Removed cbas-ridge-0.3t17\n",
      "  Removed cbas-ridge-0.3t18\n",
      "Iterations [0, 1, 2, 3, 4, 5, 6, 7, 8, 9, 10, 11, 12, 13, 14, 15, 16, 17, 18, 19] (interval 1) have mean consecutive diff in mean prediction of 0.014.\n",
      "Iterations [1, 3, 5, 7, 9, 11, 13, 15, 17, 19] (interval 2) have mean consecutive diff in mean prediction of 0.028.\n",
      "Iterations [2, 5, 8, 11, 14, 17, 19] (interval 3) have mean consecutive diff in mean prediction of 0.040.\n",
      "Iterations [3, 7, 11, 15, 19] (interval 4) have mean consecutive diff in mean prediction of 0.057.\n",
      "Iterations [4, 9, 14, 19] (interval 5) have mean consecutive diff in mean prediction of 0.077.\n",
      "Iterations [5, 11, 17, 19] (interval 6) have mean consecutive diff in mean prediction of 0.077.\n",
      "Iterations [6, 13, 19] (interval 7) have mean consecutive diff in mean prediction of 0.112.\n",
      "Using the following iterations for dbas-ridge-0.3: [6, 13, 19].\n",
      "  Removed dbas-ridge-0.3t0\n",
      "  Removed dbas-ridge-0.3t1\n",
      "  Removed dbas-ridge-0.3t2\n",
      "  Removed dbas-ridge-0.3t3\n",
      "  Removed dbas-ridge-0.3t4\n",
      "  Removed dbas-ridge-0.3t5\n",
      "  Removed dbas-ridge-0.3t7\n",
      "  Removed dbas-ridge-0.3t8\n",
      "  Removed dbas-ridge-0.3t9\n",
      "  Removed dbas-ridge-0.3t10\n",
      "  Removed dbas-ridge-0.3t11\n",
      "  Removed dbas-ridge-0.3t12\n",
      "  Removed dbas-ridge-0.3t14\n",
      "  Removed dbas-ridge-0.3t15\n",
      "  Removed dbas-ridge-0.3t16\n",
      "  Removed dbas-ridge-0.3t17\n",
      "  Removed dbas-ridge-0.3t18\n",
      "Iterations [0, 1, 2, 3, 4, 5, 6, 7, 8, 9, 10, 11, 12, 13, 14, 15, 16, 17, 18, 19] (interval 1) have mean consecutive diff in mean prediction of 0.001.\n",
      "Iterations [1, 3, 5, 7, 9, 11, 13, 15, 17, 19] (interval 2) have mean consecutive diff in mean prediction of 0.001.\n",
      "Iterations [2, 5, 8, 11, 14, 17, 19] (interval 3) have mean consecutive diff in mean prediction of 0.001.\n",
      "Iterations [3, 7, 11, 15, 19] (interval 4) have mean consecutive diff in mean prediction of 0.001.\n",
      "Iterations [4, 9, 14, 19] (interval 5) have mean consecutive diff in mean prediction of 0.001.\n",
      "Iterations [5, 11, 17, 19] (interval 6) have mean consecutive diff in mean prediction of 0.001.\n",
      "Iterations [6, 13, 19] (interval 7) have mean consecutive diff in mean prediction of 0.001.\n",
      "Iterations [7, 15, 19] (interval 8) have mean consecutive diff in mean prediction of 0.001.\n",
      "Iterations [8, 17, 19] (interval 9) have mean consecutive diff in mean prediction of 0.000.\n",
      "Iterations [9, 19] (interval 10) have mean consecutive diff in mean prediction of 0.001.\n",
      "Returning iteration 19 with mean prediction 0.308.\n",
      "Using the following iterations for cbas-ridge-0.4: [19].\n",
      "  Removed cbas-ridge-0.4t0\n",
      "  Removed cbas-ridge-0.4t1\n",
      "  Removed cbas-ridge-0.4t2\n",
      "  Removed cbas-ridge-0.4t3\n",
      "  Removed cbas-ridge-0.4t4\n",
      "  Removed cbas-ridge-0.4t5\n",
      "  Removed cbas-ridge-0.4t6\n",
      "  Removed cbas-ridge-0.4t7\n",
      "  Removed cbas-ridge-0.4t8\n",
      "  Removed cbas-ridge-0.4t9\n",
      "  Removed cbas-ridge-0.4t10\n",
      "  Removed cbas-ridge-0.4t11\n",
      "  Removed cbas-ridge-0.4t12\n",
      "  Removed cbas-ridge-0.4t13\n",
      "  Removed cbas-ridge-0.4t14\n",
      "  Removed cbas-ridge-0.4t15\n",
      "  Removed cbas-ridge-0.4t16\n",
      "  Removed cbas-ridge-0.4t17\n",
      "  Removed cbas-ridge-0.4t18\n",
      "Iterations [0, 1, 2, 3, 4, 5, 6, 7, 8, 9, 10, 11, 12, 13, 14, 15, 16, 17, 18, 19] (interval 1) have mean consecutive diff in mean prediction of 0.018.\n",
      "Iterations [1, 3, 5, 7, 9, 11, 13, 15, 17, 19] (interval 2) have mean consecutive diff in mean prediction of 0.037.\n",
      "Iterations [2, 5, 8, 11, 14, 17, 19] (interval 3) have mean consecutive diff in mean prediction of 0.054.\n",
      "Iterations [3, 7, 11, 15, 19] (interval 4) have mean consecutive diff in mean prediction of 0.078.\n",
      "Iterations [4, 9, 14, 19] (interval 5) have mean consecutive diff in mean prediction of 0.100.\n",
      "Using the following iterations for dbas-ridge-0.4: [4, 9, 14, 19].\n",
      "  Removed dbas-ridge-0.4t0\n",
      "  Removed dbas-ridge-0.4t1\n",
      "  Removed dbas-ridge-0.4t2\n",
      "  Removed dbas-ridge-0.4t3\n",
      "  Removed dbas-ridge-0.4t5\n",
      "  Removed dbas-ridge-0.4t6\n",
      "  Removed dbas-ridge-0.4t7\n",
      "  Removed dbas-ridge-0.4t8\n",
      "  Removed dbas-ridge-0.4t10\n",
      "  Removed dbas-ridge-0.4t11\n",
      "  Removed dbas-ridge-0.4t12\n",
      "  Removed dbas-ridge-0.4t13\n",
      "  Removed dbas-ridge-0.4t15\n",
      "  Removed dbas-ridge-0.4t16\n",
      "  Removed dbas-ridge-0.4t17\n",
      "  Removed dbas-ridge-0.4t18\n",
      "Iterations [0, 1, 2, 3, 4, 5, 6, 7, 8, 9, 10, 11, 12, 13, 14, 15, 16, 17, 18, 19] (interval 1) have mean consecutive diff in mean prediction of 0.001.\n",
      "Iterations [1, 3, 5, 7, 9, 11, 13, 15, 17, 19] (interval 2) have mean consecutive diff in mean prediction of 0.001.\n",
      "Iterations [2, 5, 8, 11, 14, 17, 19] (interval 3) have mean consecutive diff in mean prediction of 0.001.\n",
      "Iterations [3, 7, 11, 15, 19] (interval 4) have mean consecutive diff in mean prediction of 0.001.\n",
      "Iterations [4, 9, 14, 19] (interval 5) have mean consecutive diff in mean prediction of 0.002.\n",
      "Iterations [5, 11, 17, 19] (interval 6) have mean consecutive diff in mean prediction of 0.001.\n",
      "Iterations [6, 13, 19] (interval 7) have mean consecutive diff in mean prediction of 0.002.\n",
      "Iterations [7, 15, 19] (interval 8) have mean consecutive diff in mean prediction of 0.001.\n",
      "Iterations [8, 17, 19] (interval 9) have mean consecutive diff in mean prediction of 0.001.\n",
      "Iterations [9, 19] (interval 10) have mean consecutive diff in mean prediction of 0.001.\n",
      "Returning iteration 19 with mean prediction 0.310.\n",
      "Using the following iterations for cbas-ridge-0.5: [19].\n",
      "  Removed cbas-ridge-0.5t0\n",
      "  Removed cbas-ridge-0.5t1\n",
      "  Removed cbas-ridge-0.5t2\n",
      "  Removed cbas-ridge-0.5t3\n",
      "  Removed cbas-ridge-0.5t4\n",
      "  Removed cbas-ridge-0.5t5\n",
      "  Removed cbas-ridge-0.5t6\n",
      "  Removed cbas-ridge-0.5t7\n",
      "  Removed cbas-ridge-0.5t8\n",
      "  Removed cbas-ridge-0.5t9\n",
      "  Removed cbas-ridge-0.5t10\n",
      "  Removed cbas-ridge-0.5t11\n",
      "  Removed cbas-ridge-0.5t12\n",
      "  Removed cbas-ridge-0.5t13\n",
      "  Removed cbas-ridge-0.5t14\n",
      "  Removed cbas-ridge-0.5t15\n",
      "  Removed cbas-ridge-0.5t16\n",
      "  Removed cbas-ridge-0.5t17\n",
      "  Removed cbas-ridge-0.5t18\n",
      "Iterations [0, 1, 2, 3, 4, 5, 6, 7, 8, 9, 10, 11, 12, 13, 14, 15, 16, 17, 18, 19] (interval 1) have mean consecutive diff in mean prediction of 0.023.\n",
      "Iterations [1, 3, 5, 7, 9, 11, 13, 15, 17, 19] (interval 2) have mean consecutive diff in mean prediction of 0.048.\n",
      "Iterations [2, 5, 8, 11, 14, 17, 19] (interval 3) have mean consecutive diff in mean prediction of 0.070.\n",
      "Iterations [3, 7, 11, 15, 19] (interval 4) have mean consecutive diff in mean prediction of 0.105.\n",
      "Using the following iterations for dbas-ridge-0.5: [3, 7, 11, 15, 19].\n",
      "  Removed dbas-ridge-0.5t0\n",
      "  Removed dbas-ridge-0.5t1\n",
      "  Removed dbas-ridge-0.5t2\n",
      "  Removed dbas-ridge-0.5t4\n",
      "  Removed dbas-ridge-0.5t5\n",
      "  Removed dbas-ridge-0.5t6\n",
      "  Removed dbas-ridge-0.5t8\n",
      "  Removed dbas-ridge-0.5t9\n",
      "  Removed dbas-ridge-0.5t10\n",
      "  Removed dbas-ridge-0.5t12\n",
      "  Removed dbas-ridge-0.5t13\n",
      "  Removed dbas-ridge-0.5t14\n",
      "  Removed dbas-ridge-0.5t16\n",
      "  Removed dbas-ridge-0.5t17\n",
      "  Removed dbas-ridge-0.5t18\n",
      "Iterations [0, 1, 2, 3, 4, 5, 6, 7, 8, 9, 10, 11, 12, 13, 14, 15, 16, 17, 18, 19] (interval 1) have mean consecutive diff in mean prediction of 0.001.\n",
      "Iterations [1, 3, 5, 7, 9, 11, 13, 15, 17, 19] (interval 2) have mean consecutive diff in mean prediction of 0.001.\n",
      "Iterations [2, 5, 8, 11, 14, 17, 19] (interval 3) have mean consecutive diff in mean prediction of 0.002.\n",
      "Iterations [3, 7, 11, 15, 19] (interval 4) have mean consecutive diff in mean prediction of 0.002.\n",
      "Iterations [4, 9, 14, 19] (interval 5) have mean consecutive diff in mean prediction of 0.001.\n",
      "Iterations [5, 11, 17, 19] (interval 6) have mean consecutive diff in mean prediction of 0.002.\n",
      "Iterations [6, 13, 19] (interval 7) have mean consecutive diff in mean prediction of 0.002.\n",
      "Iterations [7, 15, 19] (interval 8) have mean consecutive diff in mean prediction of 0.002.\n",
      "Iterations [8, 17, 19] (interval 9) have mean consecutive diff in mean prediction of 0.002.\n",
      "Iterations [9, 19] (interval 10) have mean consecutive diff in mean prediction of 0.004.\n",
      "Returning iteration 19 with mean prediction 0.319.\n",
      "Using the following iterations for cbas-ridge-0.6: [19].\n",
      "  Removed cbas-ridge-0.6t0\n",
      "  Removed cbas-ridge-0.6t1\n",
      "  Removed cbas-ridge-0.6t2\n",
      "  Removed cbas-ridge-0.6t3\n",
      "  Removed cbas-ridge-0.6t4\n",
      "  Removed cbas-ridge-0.6t5\n",
      "  Removed cbas-ridge-0.6t6\n",
      "  Removed cbas-ridge-0.6t7\n",
      "  Removed cbas-ridge-0.6t8\n",
      "  Removed cbas-ridge-0.6t9\n",
      "  Removed cbas-ridge-0.6t10\n",
      "  Removed cbas-ridge-0.6t11\n",
      "  Removed cbas-ridge-0.6t12\n",
      "  Removed cbas-ridge-0.6t13\n",
      "  Removed cbas-ridge-0.6t14\n",
      "  Removed cbas-ridge-0.6t15\n",
      "  Removed cbas-ridge-0.6t16\n",
      "  Removed cbas-ridge-0.6t17\n",
      "  Removed cbas-ridge-0.6t18\n",
      "No design data for dbas-ridge-0.6t0, exiting.\n",
      "Iterations [0, 1, 2, 3, 4, 5, 6, 7, 8, 9, 10, 11, 12, 13, 14, 15, 16, 17, 18, 19] (interval 1) have mean consecutive diff in mean prediction of 0.002.\n",
      "Iterations [1, 3, 5, 7, 9, 11, 13, 15, 17, 19] (interval 2) have mean consecutive diff in mean prediction of 0.003.\n",
      "Iterations [2, 5, 8, 11, 14, 17, 19] (interval 3) have mean consecutive diff in mean prediction of 0.003.\n",
      "Iterations [3, 7, 11, 15, 19] (interval 4) have mean consecutive diff in mean prediction of 0.004.\n",
      "Iterations [4, 9, 14, 19] (interval 5) have mean consecutive diff in mean prediction of 0.005.\n",
      "Iterations [5, 11, 17, 19] (interval 6) have mean consecutive diff in mean prediction of 0.004.\n",
      "Iterations [6, 13, 19] (interval 7) have mean consecutive diff in mean prediction of 0.004.\n",
      "Iterations [7, 15, 19] (interval 8) have mean consecutive diff in mean prediction of 0.004.\n",
      "Iterations [8, 17, 19] (interval 9) have mean consecutive diff in mean prediction of 0.003.\n",
      "Iterations [9, 19] (interval 10) have mean consecutive diff in mean prediction of 0.007.\n",
      "Returning iteration 19 with mean prediction 0.331.\n",
      "Using the following iterations for cbas-ridge-0.7: [19].\n",
      "  Removed cbas-ridge-0.7t0\n",
      "  Removed cbas-ridge-0.7t1\n",
      "  Removed cbas-ridge-0.7t2\n",
      "  Removed cbas-ridge-0.7t3\n",
      "  Removed cbas-ridge-0.7t4\n",
      "  Removed cbas-ridge-0.7t5\n",
      "  Removed cbas-ridge-0.7t6\n",
      "  Removed cbas-ridge-0.7t7\n",
      "  Removed cbas-ridge-0.7t8\n",
      "  Removed cbas-ridge-0.7t9\n",
      "  Removed cbas-ridge-0.7t10\n",
      "  Removed cbas-ridge-0.7t11\n",
      "  Removed cbas-ridge-0.7t12\n",
      "  Removed cbas-ridge-0.7t13\n",
      "  Removed cbas-ridge-0.7t14\n",
      "  Removed cbas-ridge-0.7t15\n",
      "  Removed cbas-ridge-0.7t16\n",
      "  Removed cbas-ridge-0.7t17\n",
      "  Removed cbas-ridge-0.7t18\n",
      "No design data for dbas-ridge-0.7t0, exiting.\n",
      "Iterations [0, 1, 2, 3, 4, 5, 6, 7, 8, 9, 10, 11, 12, 13, 14, 15, 16, 17, 18, 19] (interval 1) have mean consecutive diff in mean prediction of 0.003.\n",
      "Iterations [1, 3, 5, 7, 9, 11, 13, 15, 17, 19] (interval 2) have mean consecutive diff in mean prediction of 0.006.\n",
      "Iterations [2, 5, 8, 11, 14, 17, 19] (interval 3) have mean consecutive diff in mean prediction of 0.007.\n",
      "Iterations [3, 7, 11, 15, 19] (interval 4) have mean consecutive diff in mean prediction of 0.010.\n",
      "Iterations [4, 9, 14, 19] (interval 5) have mean consecutive diff in mean prediction of 0.011.\n",
      "Iterations [5, 11, 17, 19] (interval 6) have mean consecutive diff in mean prediction of 0.009.\n",
      "Iterations [6, 13, 19] (interval 7) have mean consecutive diff in mean prediction of 0.012.\n",
      "Iterations [7, 15, 19] (interval 8) have mean consecutive diff in mean prediction of 0.011.\n",
      "Iterations [8, 17, 19] (interval 9) have mean consecutive diff in mean prediction of 0.009.\n",
      "Iterations [9, 19] (interval 10) have mean consecutive diff in mean prediction of 0.015.\n",
      "Returning iteration 19 with mean prediction 0.361.\n",
      "Using the following iterations for cbas-ridge-0.8: [19].\n",
      "  Removed cbas-ridge-0.8t0\n",
      "  Removed cbas-ridge-0.8t1\n",
      "  Removed cbas-ridge-0.8t2\n",
      "  Removed cbas-ridge-0.8t3\n",
      "  Removed cbas-ridge-0.8t4\n",
      "  Removed cbas-ridge-0.8t5\n",
      "  Removed cbas-ridge-0.8t6\n",
      "  Removed cbas-ridge-0.8t7\n",
      "  Removed cbas-ridge-0.8t8\n",
      "  Removed cbas-ridge-0.8t9\n",
      "  Removed cbas-ridge-0.8t10\n",
      "  Removed cbas-ridge-0.8t11\n",
      "  Removed cbas-ridge-0.8t12\n",
      "  Removed cbas-ridge-0.8t13\n",
      "  Removed cbas-ridge-0.8t14\n",
      "  Removed cbas-ridge-0.8t15\n",
      "  Removed cbas-ridge-0.8t16\n",
      "  Removed cbas-ridge-0.8t17\n",
      "  Removed cbas-ridge-0.8t18\n",
      "No design data for dbas-ridge-0.8t0, exiting.\n",
      "Iterations [0, 1, 2, 3, 4, 5, 6, 7, 8, 9, 10, 11, 12, 13, 14, 15, 16, 17, 18, 19] (interval 1) have mean consecutive diff in mean prediction of 0.008.\n",
      "Iterations [1, 3, 5, 7, 9, 11, 13, 15, 17, 19] (interval 2) have mean consecutive diff in mean prediction of 0.015.\n",
      "Iterations [2, 5, 8, 11, 14, 17, 19] (interval 3) have mean consecutive diff in mean prediction of 0.020.\n",
      "Iterations [3, 7, 11, 15, 19] (interval 4) have mean consecutive diff in mean prediction of 0.027.\n",
      "Iterations [4, 9, 14, 19] (interval 5) have mean consecutive diff in mean prediction of 0.031.\n",
      "Iterations [5, 11, 17, 19] (interval 6) have mean consecutive diff in mean prediction of 0.029.\n",
      "Iterations [6, 13, 19] (interval 7) have mean consecutive diff in mean prediction of 0.036.\n",
      "Iterations [7, 15, 19] (interval 8) have mean consecutive diff in mean prediction of 0.029.\n",
      "Iterations [8, 17, 19] (interval 9) have mean consecutive diff in mean prediction of 0.026.\n",
      "Iterations [9, 19] (interval 10) have mean consecutive diff in mean prediction of 0.043.\n",
      "Returning iteration 19 with mean prediction 0.454.\n",
      "Using the following iterations for cbas-ridge-0.9: [19].\n",
      "  Removed cbas-ridge-0.9t0\n",
      "  Removed cbas-ridge-0.9t1\n",
      "  Removed cbas-ridge-0.9t2\n",
      "  Removed cbas-ridge-0.9t3\n",
      "  Removed cbas-ridge-0.9t4\n",
      "  Removed cbas-ridge-0.9t5\n",
      "  Removed cbas-ridge-0.9t6\n",
      "  Removed cbas-ridge-0.9t7\n",
      "  Removed cbas-ridge-0.9t8\n",
      "  Removed cbas-ridge-0.9t9\n",
      "  Removed cbas-ridge-0.9t10\n",
      "  Removed cbas-ridge-0.9t11\n",
      "  Removed cbas-ridge-0.9t12\n",
      "  Removed cbas-ridge-0.9t13\n",
      "  Removed cbas-ridge-0.9t14\n",
      "  Removed cbas-ridge-0.9t15\n",
      "  Removed cbas-ridge-0.9t16\n",
      "  Removed cbas-ridge-0.9t17\n",
      "  Removed cbas-ridge-0.9t18\n",
      "No design data for dbas-ridge-0.9t0, exiting.\n",
      "Design names:\n",
      "cbas-ridge-0.1t19\n",
      "cbas-ridge-0.2t19\n",
      "cbas-ridge-0.3t19\n",
      "cbas-ridge-0.4t19\n",
      "cbas-ridge-0.5t19\n",
      "cbas-ridge-0.6t19\n",
      "cbas-ridge-0.7t19\n",
      "cbas-ridge-0.8t19\n",
      "cbas-ridge-0.9t19\n",
      "dbas-ridge-0.1t19\n",
      "dbas-ridge-0.2t19\n",
      "dbas-ridge-0.3t6\n",
      "dbas-ridge-0.3t13\n",
      "dbas-ridge-0.3t19\n",
      "dbas-ridge-0.4t4\n",
      "dbas-ridge-0.4t9\n",
      "dbas-ridge-0.4t14\n",
      "dbas-ridge-0.4t19\n",
      "dbas-ridge-0.5t3\n",
      "dbas-ridge-0.5t7\n",
      "dbas-ridge-0.5t11\n",
      "dbas-ridge-0.5t15\n",
      "dbas-ridge-0.5t19\n",
      "adalead-ridge-0.5\n",
      "adalead-ridge-0.4\n",
      "adalead-ridge-0.3\n",
      "adalead-ridge-0.2\n",
      "adalead-ridge-0.1\n",
      "adalead-ridge-0.05\n",
      "adalead-ridge-0.01\n",
      "pex-ridge\n",
      "adalead-ff-0.5\n",
      "adalead-ff-0.4\n",
      "adalead-ff-0.3\n",
      "adalead-ff-0.2\n",
      "adalead-ff-0.1\n",
      "adalead-ff-0.05\n",
      "adalead-ff-0.01\n",
      "dbas-ff-0.1\n",
      "dbas-ff-0.2\n",
      "dbas-ff-0.3\n",
      "dbas-ff-0.4\n",
      "dbas-ff-0.5\n",
      "dbas-ff-0.6\n",
      "dbas-ff-0.7\n",
      "dbas-ff-0.8\n",
      "dbas-ff-0.9\n",
      "pex-ff\n",
      "adalead-cnn-0.5\n",
      "adalead-cnn-0.4\n",
      "adalead-cnn-0.3\n",
      "adalead-cnn-0.2\n",
      "adalead-cnn-0.1\n",
      "adalead-cnn-0.05\n",
      "adalead-cnn-0.01\n",
      "dbas-cnn-0.1\n",
      "dbas-cnn-0.2\n",
      "dbas-cnn-0.3\n",
      "dbas-cnn-0.4\n",
      "dbas-cnn-0.5\n",
      "dbas-cnn-0.6\n",
      "dbas-cnn-0.7\n",
      "dbas-cnn-0.8\n",
      "dbas-cnn-0.9\n",
      "pex-cnn\n",
      "train\n"
     ]
    }
   ],
   "source": [
    "# load labeled design sequences\n",
    "# (don't need viennaenv from this point on)\n",
    "reload(dre)\n",
    "\n",
    "design_pkl_fname = '/homefs/home/wongfanc/density-ratio-estimation/rna-results/designs-041124-copy.pkl'\n",
    "with open(design_pkl_fname, 'rb') as f:\n",
    "    name2designdata = pickle.load(f)\n",
    "    \n",
    "# prepare intermediate iterations for C/DbAS\n",
    "train_fname = '/homefs/home/wongfanc/density-ratio-estimation/rna-models/traindata-nsd0.02-040324.npz'\n",
    "design_pkl_fname = '/homefs/home/wongfanc/density-ratio-estimation/rna-results/designs-041124-copy.pkl'\n",
    "name2designdata = dre.prepare_name2designdata(design_pkl_fname, train_fname)"
   ]
  },
  {
   "cell_type": "code",
   "execution_count": 7,
   "id": "ef7fa93f",
   "metadata": {
    "scrolled": true
   },
   "outputs": [
    {
     "name": "stdout",
     "output_type": "stream",
     "text": [
      "Fitting MDRE for adalead-ridge-0.\\d, which has 7 design algorithms:\n",
      "train\n",
      "adalead-ridge-0.5\n",
      "adalead-ridge-0.4\n",
      "adalead-ridge-0.3\n",
      "adalead-ridge-0.2\n",
      "adalead-ridge-0.1\n",
      "adalead-ridge-0.05\n",
      "adalead-ridge-0.01\n",
      "One-hot-encoding all 8 categories of sequences...\n",
      "  Done. (4 s)\n"
     ]
    },
    {
     "name": "stderr",
     "output_type": "stream",
     "text": [
      "100%|█████████████████████████████████████████████████████████████████████████████████████████████| 500/500 [00:14<00:00, 33.77it/s]\n"
     ]
    },
    {
     "name": "stdout",
     "output_type": "stream",
     "text": [
      "Min train loss 0.84, min val loss 0.77\n",
      "\n",
      "Fitting MDRE for adalead-ff-0.\\d, which has 7 design algorithms:\n",
      "train\n",
      "adalead-ff-0.5\n",
      "adalead-ff-0.4\n",
      "adalead-ff-0.3\n",
      "adalead-ff-0.2\n",
      "adalead-ff-0.1\n",
      "adalead-ff-0.05\n",
      "adalead-ff-0.01\n",
      "One-hot-encoding all 8 categories of sequences...\n",
      "  Done. (4 s)\n"
     ]
    },
    {
     "name": "stderr",
     "output_type": "stream",
     "text": [
      "100%|█████████████████████████████████████████████████████████████████████████████████████████████| 500/500 [00:14<00:00, 34.13it/s]\n"
     ]
    },
    {
     "name": "stdout",
     "output_type": "stream",
     "text": [
      "Min train loss 0.82, min val loss 0.77\n",
      "\n",
      "Fitting MDRE for adalead-cnn-0.\\d, which has 7 design algorithms:\n",
      "train\n",
      "adalead-cnn-0.5\n",
      "adalead-cnn-0.4\n",
      "adalead-cnn-0.3\n",
      "adalead-cnn-0.2\n",
      "adalead-cnn-0.1\n",
      "adalead-cnn-0.05\n",
      "adalead-cnn-0.01\n",
      "One-hot-encoding all 8 categories of sequences...\n",
      "  Done. (4 s)\n"
     ]
    },
    {
     "name": "stderr",
     "output_type": "stream",
     "text": [
      "100%|█████████████████████████████████████████████████████████████████████████████████████████████| 500/500 [00:14<00:00, 35.41it/s]\n"
     ]
    },
    {
     "name": "stdout",
     "output_type": "stream",
     "text": [
      "Min train loss 0.81, min val loss 0.79\n",
      "\n",
      "Fitting MDRE for biswas-ridge-0.\\d, which has 4 design algorithms:\n",
      "train\n",
      "biswas-ridge-0.05\n",
      "biswas-ridge-0.03\n",
      "biswas-ridge-0.01\n",
      "biswas-ridge-0.005\n",
      "One-hot-encoding all 5 categories of sequences...\n",
      "  Done. (2 s)\n"
     ]
    },
    {
     "name": "stderr",
     "output_type": "stream",
     "text": [
      "100%|█████████████████████████████████████████████████████████████████████████████████████████████| 500/500 [00:08<00:00, 57.02it/s]\n"
     ]
    },
    {
     "name": "stdout",
     "output_type": "stream",
     "text": [
      "Min train loss 0.62, min val loss 0.64\n",
      "\n",
      "Fitting MDRE for biswas-ff-0.\\d, which has 4 design algorithms:\n",
      "train\n",
      "biswas-ff-0.05\n",
      "biswas-ff-0.03\n",
      "biswas-ff-0.01\n",
      "biswas-ff-0.005\n",
      "One-hot-encoding all 5 categories of sequences...\n",
      "  Done. (2 s)\n"
     ]
    },
    {
     "name": "stderr",
     "output_type": "stream",
     "text": [
      "100%|█████████████████████████████████████████████████████████████████████████████████████████████| 500/500 [00:08<00:00, 56.64it/s]\n"
     ]
    },
    {
     "name": "stdout",
     "output_type": "stream",
     "text": [
      "Min train loss 0.63, min val loss 0.66\n",
      "\n",
      "Fitting MDRE for biswas-cnn-0.\\d, which has 4 design algorithms:\n",
      "train\n",
      "biswas-cnn-0.05\n",
      "biswas-cnn-0.03\n",
      "biswas-cnn-0.01\n",
      "biswas-cnn-0.005\n",
      "One-hot-encoding all 5 categories of sequences...\n",
      "  Done. (2 s)\n"
     ]
    },
    {
     "name": "stderr",
     "output_type": "stream",
     "text": [
      "100%|█████████████████████████████████████████████████████████████████████████████████████████████| 500/500 [00:08<00:00, 58.03it/s]\n"
     ]
    },
    {
     "name": "stdout",
     "output_type": "stream",
     "text": [
      "Min train loss 0.67, min val loss 0.71\n",
      "\n",
      "Fitting MDRE for dbas-ff-0.\\d, which has 9 design algorithms:\n",
      "train\n",
      "dbas-ff-0.1\n",
      "dbas-ff-0.2\n",
      "dbas-ff-0.3\n",
      "dbas-ff-0.4\n",
      "dbas-ff-0.5\n",
      "dbas-ff-0.6\n",
      "dbas-ff-0.7\n",
      "dbas-ff-0.8\n",
      "dbas-ff-0.9\n",
      "One-hot-encoding all 10 categories of sequences...\n",
      "  Done. (6 s)\n"
     ]
    },
    {
     "name": "stderr",
     "output_type": "stream",
     "text": [
      "100%|█████████████████████████████████████████████████████████████████████████████████████████████| 500/500 [00:19<00:00, 26.11it/s]\n"
     ]
    },
    {
     "name": "stdout",
     "output_type": "stream",
     "text": [
      "Min train loss 1.58, min val loss 1.56\n",
      "\n",
      "Fitting MDRE for dbas-cnn-0.\\d, which has 9 design algorithms:\n",
      "train\n",
      "dbas-cnn-0.1\n",
      "dbas-cnn-0.2\n",
      "dbas-cnn-0.3\n",
      "dbas-cnn-0.4\n",
      "dbas-cnn-0.5\n",
      "dbas-cnn-0.6\n",
      "dbas-cnn-0.7\n",
      "dbas-cnn-0.8\n",
      "dbas-cnn-0.9\n",
      "One-hot-encoding all 10 categories of sequences...\n",
      "  Done. (6 s)\n"
     ]
    },
    {
     "name": "stderr",
     "output_type": "stream",
     "text": [
      "100%|█████████████████████████████████████████████████████████████████████████████████████████████| 500/500 [00:19<00:00, 26.03it/s]\n"
     ]
    },
    {
     "name": "stdout",
     "output_type": "stream",
     "text": [
      "Min train loss 1.68, min val loss 1.68\n",
      "\n",
      "Fitting MDRE for pex-ridge, which has 1 design algorithms:\n",
      "train\n",
      "pex-ridge\n",
      "One-hot-encoding all 2 categories of sequences...\n",
      "  Done. (0 s)\n"
     ]
    },
    {
     "name": "stderr",
     "output_type": "stream",
     "text": [
      "100%|████████████████████████████████████████████████████████████████████████████████████████████| 500/500 [00:02<00:00, 184.05it/s]\n"
     ]
    },
    {
     "name": "stdout",
     "output_type": "stream",
     "text": [
      "Min train loss 0.06, min val loss 0.30\n",
      "\n",
      "Fitting MDRE for pex-ff, which has 1 design algorithms:\n",
      "train\n",
      "pex-ff\n",
      "One-hot-encoding all 2 categories of sequences...\n",
      "  Done. (0 s)\n"
     ]
    },
    {
     "name": "stderr",
     "output_type": "stream",
     "text": [
      "100%|████████████████████████████████████████████████████████████████████████████████████████████| 500/500 [00:02<00:00, 188.98it/s]\n"
     ]
    },
    {
     "name": "stdout",
     "output_type": "stream",
     "text": [
      "Min train loss 0.06, min val loss 0.33\n",
      "\n",
      "Fitting MDRE for pex-cnn, which has 1 design algorithms:\n",
      "train\n",
      "pex-cnn\n",
      "One-hot-encoding all 2 categories of sequences...\n",
      "  Done. (0 s)\n"
     ]
    },
    {
     "name": "stderr",
     "output_type": "stream",
     "text": [
      "100%|████████████████████████████████████████████████████████████████████████████████████████████| 500/500 [00:02<00:00, 181.49it/s]\n"
     ]
    },
    {
     "name": "stdout",
     "output_type": "stream",
     "text": [
      "Min train loss 0.07, min val loss 0.31\n",
      "\n",
      "Fitting MDRE for dbas-ridge-0.1t\\d, which has 1 design algorithms:\n",
      "train\n",
      "dbas-ridge-0.1t19\n",
      "One-hot-encoding all 2 categories of sequences...\n",
      "  Done. (0 s)\n"
     ]
    },
    {
     "name": "stderr",
     "output_type": "stream",
     "text": [
      "100%|████████████████████████████████████████████████████████████████████████████████████████████| 500/500 [00:02<00:00, 185.61it/s]\n"
     ]
    },
    {
     "name": "stdout",
     "output_type": "stream",
     "text": [
      "Min train loss 0.27, min val loss 0.53\n",
      "\n",
      "Fitting MDRE for dbas-ridge-0.2t\\d, which has 1 design algorithms:\n",
      "train\n",
      "dbas-ridge-0.2t19\n",
      "One-hot-encoding all 2 categories of sequences...\n",
      "  Done. (0 s)\n"
     ]
    },
    {
     "name": "stderr",
     "output_type": "stream",
     "text": [
      "100%|████████████████████████████████████████████████████████████████████████████████████████████| 500/500 [00:02<00:00, 189.11it/s]\n"
     ]
    },
    {
     "name": "stdout",
     "output_type": "stream",
     "text": [
      "Min train loss 0.01, min val loss 0.04\n",
      "\n",
      "Fitting MDRE for dbas-ridge-0.3t\\d, which has 3 design algorithms:\n",
      "train\n",
      "dbas-ridge-0.3t6\n",
      "dbas-ridge-0.3t13\n",
      "dbas-ridge-0.3t19\n",
      "One-hot-encoding all 4 categories of sequences...\n",
      "  Done. (2 s)\n"
     ]
    },
    {
     "name": "stderr",
     "output_type": "stream",
     "text": [
      "100%|█████████████████████████████████████████████████████████████████████████████████████████████| 500/500 [00:06<00:00, 73.22it/s]\n"
     ]
    },
    {
     "name": "stdout",
     "output_type": "stream",
     "text": [
      "Min train loss 0.31, min val loss 0.37\n",
      "\n",
      "Fitting MDRE for dbas-ridge-0.4t\\d, which has 4 design algorithms:\n",
      "train\n",
      "dbas-ridge-0.4t4\n",
      "dbas-ridge-0.4t9\n",
      "dbas-ridge-0.4t14\n",
      "dbas-ridge-0.4t19\n",
      "One-hot-encoding all 5 categories of sequences...\n",
      "  Done. (2 s)\n"
     ]
    },
    {
     "name": "stderr",
     "output_type": "stream",
     "text": [
      "100%|█████████████████████████████████████████████████████████████████████████████████████████████| 500/500 [00:08<00:00, 56.65it/s]\n"
     ]
    },
    {
     "name": "stdout",
     "output_type": "stream",
     "text": [
      "Min train loss 0.37, min val loss 0.40\n",
      "\n",
      "Fitting MDRE for dbas-ridge-0.5t\\d, which has 5 design algorithms:\n",
      "train\n",
      "dbas-ridge-0.5t3\n",
      "dbas-ridge-0.5t7\n",
      "dbas-ridge-0.5t11\n",
      "dbas-ridge-0.5t15\n",
      "dbas-ridge-0.5t19\n",
      "One-hot-encoding all 6 categories of sequences...\n",
      "  Done. (3 s)\n"
     ]
    },
    {
     "name": "stderr",
     "output_type": "stream",
     "text": [
      "100%|█████████████████████████████████████████████████████████████████████████████████████████████| 500/500 [00:10<00:00, 49.01it/s]\n"
     ]
    },
    {
     "name": "stdout",
     "output_type": "stream",
     "text": [
      "Min train loss 0.41, min val loss 0.43\n",
      "\n",
      "Fitting MDRE for cbas-ridge-0.1t\\d, which has 1 design algorithms:\n",
      "train\n",
      "cbas-ridge-0.1t19\n",
      "One-hot-encoding all 2 categories of sequences...\n",
      "  Done. (0 s)\n"
     ]
    },
    {
     "name": "stderr",
     "output_type": "stream",
     "text": [
      "100%|████████████████████████████████████████████████████████████████████████████████████████████| 500/500 [00:02<00:00, 192.34it/s]\n"
     ]
    },
    {
     "name": "stdout",
     "output_type": "stream",
     "text": [
      "Min train loss 0.38, min val loss 0.64\n",
      "\n",
      "Fitting MDRE for cbas-ridge-0.2t\\d, which has 1 design algorithms:\n",
      "train\n",
      "cbas-ridge-0.2t19\n",
      "One-hot-encoding all 2 categories of sequences...\n",
      "  Done. (0 s)\n"
     ]
    },
    {
     "name": "stderr",
     "output_type": "stream",
     "text": [
      "100%|████████████████████████████████████████████████████████████████████████████████████████████| 500/500 [00:02<00:00, 186.62it/s]\n"
     ]
    },
    {
     "name": "stdout",
     "output_type": "stream",
     "text": [
      "Min train loss 0.34, min val loss 0.63\n",
      "\n",
      "Fitting MDRE for cbas-ridge-0.3t\\d, which has 1 design algorithms:\n",
      "train\n",
      "cbas-ridge-0.3t19\n",
      "One-hot-encoding all 2 categories of sequences...\n",
      "  Done. (0 s)\n"
     ]
    },
    {
     "name": "stderr",
     "output_type": "stream",
     "text": [
      "100%|████████████████████████████████████████████████████████████████████████████████████████████| 500/500 [00:02<00:00, 185.71it/s]\n"
     ]
    },
    {
     "name": "stdout",
     "output_type": "stream",
     "text": [
      "Min train loss 0.34, min val loss 0.63\n",
      "\n",
      "Fitting MDRE for cbas-ridge-0.4t\\d, which has 1 design algorithms:\n",
      "train\n",
      "cbas-ridge-0.4t19\n",
      "One-hot-encoding all 2 categories of sequences...\n",
      "  Done. (0 s)\n"
     ]
    },
    {
     "name": "stderr",
     "output_type": "stream",
     "text": [
      "100%|████████████████████████████████████████████████████████████████████████████████████████████| 500/500 [00:02<00:00, 184.16it/s]\n"
     ]
    },
    {
     "name": "stdout",
     "output_type": "stream",
     "text": [
      "Min train loss 0.29, min val loss 0.59\n",
      "\n",
      "Fitting MDRE for cbas-ridge-0.5t\\d, which has 1 design algorithms:\n",
      "train\n",
      "cbas-ridge-0.5t19\n",
      "One-hot-encoding all 2 categories of sequences...\n",
      "  Done. (0 s)\n"
     ]
    },
    {
     "name": "stderr",
     "output_type": "stream",
     "text": [
      "100%|████████████████████████████████████████████████████████████████████████████████████████████| 500/500 [00:02<00:00, 188.66it/s]\n"
     ]
    },
    {
     "name": "stdout",
     "output_type": "stream",
     "text": [
      "Min train loss 0.28, min val loss 0.54\n",
      "\n",
      "Fitting MDRE for cbas-ridge-0.6t\\d, which has 1 design algorithms:\n",
      "train\n",
      "cbas-ridge-0.6t19\n",
      "One-hot-encoding all 2 categories of sequences...\n",
      "  Done. (0 s)\n"
     ]
    },
    {
     "name": "stderr",
     "output_type": "stream",
     "text": [
      "100%|████████████████████████████████████████████████████████████████████████████████████████████| 500/500 [00:02<00:00, 186.27it/s]\n"
     ]
    },
    {
     "name": "stdout",
     "output_type": "stream",
     "text": [
      "Min train loss 0.24, min val loss 0.47\n",
      "\n",
      "Fitting MDRE for cbas-ridge-0.7t\\d, which has 1 design algorithms:\n",
      "train\n",
      "cbas-ridge-0.7t19\n",
      "One-hot-encoding all 2 categories of sequences...\n",
      "  Done. (0 s)\n"
     ]
    },
    {
     "name": "stderr",
     "output_type": "stream",
     "text": [
      "100%|████████████████████████████████████████████████████████████████████████████████████████████| 500/500 [00:02<00:00, 187.34it/s]\n"
     ]
    },
    {
     "name": "stdout",
     "output_type": "stream",
     "text": [
      "Min train loss 0.18, min val loss 0.39\n",
      "\n",
      "Fitting MDRE for cbas-ridge-0.8t\\d, which has 1 design algorithms:\n",
      "train\n",
      "cbas-ridge-0.8t19\n",
      "One-hot-encoding all 2 categories of sequences...\n",
      "  Done. (0 s)\n"
     ]
    },
    {
     "name": "stderr",
     "output_type": "stream",
     "text": [
      "100%|████████████████████████████████████████████████████████████████████████████████████████████| 500/500 [00:02<00:00, 184.79it/s]\n"
     ]
    },
    {
     "name": "stdout",
     "output_type": "stream",
     "text": [
      "Min train loss 0.08, min val loss 0.24\n",
      "\n",
      "Fitting MDRE for cbas-ridge-0.9t\\d, which has 1 design algorithms:\n",
      "train\n",
      "cbas-ridge-0.9t19\n",
      "One-hot-encoding all 2 categories of sequences...\n",
      "  Done. (0 s)\n"
     ]
    },
    {
     "name": "stderr",
     "output_type": "stream",
     "text": [
      "100%|████████████████████████████████████████████████████████████████████████████████████████████| 500/500 [00:02<00:00, 186.38it/s]"
     ]
    },
    {
     "name": "stdout",
     "output_type": "stream",
     "text": [
      "Min train loss 0.00, min val loss 0.03\n",
      "\n"
     ]
    },
    {
     "name": "stderr",
     "output_type": "stream",
     "text": [
      "\n"
     ]
    }
   ],
   "source": [
    "# check MultiMDRE runs smoothly on all design algorithms\n",
    "reload(dre)\n",
    "n_epoch = 500\n",
    "group_regex_strs = [\n",
    "    'adalead-ridge-0.\\d',\n",
    "    'adalead-ff-0.\\d',\n",
    "    'adalead-cnn-0.\\d',\n",
    "    'biswas-ridge-0.\\d',\n",
    "    'biswas-ff-0.\\d',\n",
    "    'biswas-cnn-0.\\d',\n",
    "    'dbas-ff-0.\\d',\n",
    "    'dbas-cnn-0.\\d',\n",
    "    'pex-ridge',\n",
    "    'pex-ff',\n",
    "    'pex-cnn',\n",
    "    'dbas-ridge-0.1t\\d',\n",
    "    'dbas-ridge-0.2t\\d',\n",
    "    'dbas-ridge-0.3t\\d',\n",
    "    'dbas-ridge-0.4t\\d',\n",
    "    'dbas-ridge-0.5t\\d',\n",
    "    'cbas-ridge-0.1t\\d',\n",
    "    'cbas-ridge-0.2t\\d',\n",
    "    'cbas-ridge-0.3t\\d',\n",
    "    'cbas-ridge-0.4t\\d',\n",
    "    'cbas-ridge-0.5t\\d',\n",
    "    'cbas-ridge-0.6t\\d',\n",
    "    'cbas-ridge-0.7t\\d',\n",
    "    'cbas-ridge-0.8t\\d',\n",
    "    'cbas-ridge-0.9t\\d'\n",
    "]\n",
    "device = torch.device('cuda')\n",
    "\n",
    "mdre = dre.MultiMDRE(\n",
    "    group_regex_strs,\n",
    "    device=device\n",
    ")\n",
    "mdre.fit(\n",
    "    name2designdata,\n",
    "    n_epoch=n_epoch,\n",
    "    verbose=True\n",
    ")"
   ]
  },
  {
   "cell_type": "code",
   "execution_count": null,
   "id": "345f841b",
   "metadata": {},
   "outputs": [
    {
     "name": "stdout",
     "output_type": "stream",
     "text": [
      "Testing 84 design names:\n",
      "  cbas-ridge-0.1t19\n",
      "  cbas-ridge-0.2t19\n",
      "  cbas-ridge-0.3t19\n",
      "  cbas-ridge-0.4t19\n",
      "  cbas-ridge-0.5t19\n",
      "  cbas-ridge-0.6t19\n",
      "  cbas-ridge-0.7t19\n",
      "  cbas-ridge-0.8t19\n",
      "  cbas-ridge-0.9t19\n",
      "  dbas-ridge-0.1t19\n",
      "  dbas-ridge-0.2t19\n",
      "  dbas-ridge-0.3t19\n",
      "  dbas-ridge-0.4t19\n",
      "  dbas-ridge-0.5t19\n",
      "  dbas-ridge-0.6t19\n",
      "  adalead-ridge-0.5\n",
      "  adalead-ridge-0.45\n",
      "  adalead-ridge-0.4\n",
      "  adalead-ridge-0.35\n",
      "  adalead-ridge-0.3\n",
      "  adalead-ridge-0.25\n",
      "  adalead-ridge-0.2\n",
      "  adalead-ridge-0.15\n",
      "  adalead-ridge-0.1\n",
      "  adalead-ridge-0.05\n",
      "  adalead-ridge-0.01\n",
      "  biswas-ridge-0.03\n",
      "  biswas-ridge-0.02\n",
      "  biswas-ridge-0.015\n",
      "  biswas-ridge-0.01\n",
      "  biswas-ridge-0.005\n",
      "  pex-ridge\n",
      "  adalead-ff-0.5\n",
      "  adalead-ff-0.45\n",
      "  adalead-ff-0.4\n",
      "  adalead-ff-0.35\n",
      "  adalead-ff-0.3\n",
      "  adalead-ff-0.25\n",
      "  adalead-ff-0.2\n",
      "  adalead-ff-0.15\n",
      "  adalead-ff-0.1\n",
      "  adalead-ff-0.05\n",
      "  adalead-ff-0.01\n",
      "  biswas-ff-0.03\n",
      "  biswas-ff-0.02\n",
      "  biswas-ff-0.015\n",
      "  biswas-ff-0.01\n",
      "  biswas-ff-0.005\n",
      "  pex-ff\n",
      "  dbas-ff-0.1\n",
      "  dbas-ff-0.2\n",
      "  dbas-ff-0.3\n",
      "  dbas-ff-0.4\n",
      "  dbas-ff-0.5\n",
      "  dbas-ff-0.6\n",
      "  dbas-ff-0.7\n",
      "  dbas-ff-0.8\n",
      "  dbas-ff-0.9\n",
      "  adalead-cnn-0.5\n",
      "  adalead-cnn-0.45\n",
      "  adalead-cnn-0.4\n",
      "  adalead-cnn-0.35\n",
      "  adalead-cnn-0.3\n",
      "  adalead-cnn-0.25\n",
      "  adalead-cnn-0.2\n",
      "  adalead-cnn-0.15\n",
      "  adalead-cnn-0.1\n",
      "  adalead-cnn-0.05\n",
      "  adalead-cnn-0.01\n",
      "  biswas-cnn-0.03\n",
      "  biswas-cnn-0.02\n",
      "  biswas-cnn-0.015\n",
      "  biswas-cnn-0.01\n",
      "  biswas-cnn-0.005\n",
      "  pex-cnn\n",
      "  dbas-cnn-0.1\n",
      "  dbas-cnn-0.2\n",
      "  dbas-cnn-0.3\n",
      "  dbas-cnn-0.4\n",
      "  dbas-cnn-0.5\n",
      "  dbas-cnn-0.6\n",
      "  dbas-cnn-0.7\n",
      "  dbas-cnn-0.8\n",
      "  dbas-cnn-0.9\n",
      "No design data for dbas-ridge-0.7t0, exiting.\n",
      "No design data for dbas-ridge-0.8t0, exiting.\n",
      "No design data for dbas-ridge-0.9t0, exiting.\n",
      "All design names in provided design data:\n",
      "cbas-ridge-0.1t19\n",
      "cbas-ridge-0.2t19\n",
      "cbas-ridge-0.3t19\n",
      "cbas-ridge-0.4t19\n",
      "cbas-ridge-0.5t19\n",
      "cbas-ridge-0.6t19\n",
      "cbas-ridge-0.7t19\n",
      "cbas-ridge-0.8t19\n",
      "cbas-ridge-0.9t19\n",
      "dbas-ridge-0.1t19\n",
      "dbas-ridge-0.2t19\n",
      "dbas-ridge-0.3t6\n",
      "dbas-ridge-0.3t13\n",
      "dbas-ridge-0.3t19\n",
      "dbas-ridge-0.4t4\n",
      "dbas-ridge-0.4t9\n",
      "dbas-ridge-0.4t14\n",
      "dbas-ridge-0.4t19\n",
      "dbas-ridge-0.5t3\n",
      "dbas-ridge-0.5t7\n",
      "dbas-ridge-0.5t11\n",
      "dbas-ridge-0.5t15\n",
      "dbas-ridge-0.5t19\n",
      "dbas-ridge-0.6t3\n",
      "dbas-ridge-0.6t7\n",
      "dbas-ridge-0.6t11\n",
      "dbas-ridge-0.6t15\n",
      "dbas-ridge-0.6t19\n",
      "adalead-ridge-0.5\n",
      "adalead-ridge-0.4\n",
      "adalead-ridge-0.3\n",
      "adalead-ridge-0.2\n",
      "adalead-ridge-0.1\n",
      "adalead-ridge-0.05\n",
      "adalead-ridge-0.01\n",
      "pex-ridge\n",
      "adalead-ff-0.5\n",
      "adalead-ff-0.4\n",
      "adalead-ff-0.3\n",
      "adalead-ff-0.2\n",
      "adalead-ff-0.1\n",
      "adalead-ff-0.05\n",
      "adalead-ff-0.01\n",
      "dbas-ff-0.1\n",
      "dbas-ff-0.2\n",
      "dbas-ff-0.3\n",
      "dbas-ff-0.4\n",
      "dbas-ff-0.5\n",
      "dbas-ff-0.6\n",
      "dbas-ff-0.7\n",
      "dbas-ff-0.8\n",
      "dbas-ff-0.9\n",
      "pex-ff\n",
      "adalead-cnn-0.5\n",
      "adalead-cnn-0.4\n",
      "adalead-cnn-0.3\n",
      "adalead-cnn-0.2\n",
      "adalead-cnn-0.1\n",
      "adalead-cnn-0.05\n",
      "adalead-cnn-0.01\n",
      "dbas-cnn-0.1\n",
      "dbas-cnn-0.2\n",
      "dbas-cnn-0.3\n",
      "dbas-cnn-0.4\n",
      "dbas-cnn-0.5\n",
      "dbas-cnn-0.6\n",
      "dbas-cnn-0.7\n",
      "dbas-cnn-0.8\n",
      "dbas-cnn-0.9\n",
      "pex-cnn\n",
      "adalead-ridge-0.45\n",
      "adalead-ridge-0.35\n",
      "adalead-ridge-0.25\n",
      "adalead-ridge-0.15\n",
      "adalead-ff-0.45\n",
      "adalead-ff-0.35\n",
      "adalead-ff-0.25\n",
      "adalead-ff-0.15\n",
      "adalead-cnn-0.45\n",
      "adalead-cnn-0.35\n",
      "adalead-cnn-0.25\n",
      "adalead-cnn-0.15\n",
      "biswas-ridge-0.03\n",
      "biswas-ridge-0.02\n",
      "biswas-ridge-0.01\n",
      "biswas-ridge-0.005\n",
      "biswas-ff-0.03\n",
      "biswas-ff-0.02\n",
      "biswas-ff-0.01\n",
      "biswas-ff-0.005\n",
      "biswas-cnn-0.03\n",
      "biswas-cnn-0.02\n",
      "biswas-cnn-0.01\n",
      "biswas-cnn-0.005\n",
      "biswas-ridge-0.015\n",
      "biswas-ff-0.015\n",
      "biswas-cnn-0.015\n",
      "train\n",
      "\n",
      "Fitting MDRE for adalead-ridge-0.\\d, which has 11 design algorithms:\n",
      "train\n",
      "adalead-ridge-0.5\n",
      "adalead-ridge-0.4\n",
      "adalead-ridge-0.3\n",
      "adalead-ridge-0.2\n",
      "adalead-ridge-0.1\n",
      "adalead-ridge-0.05\n",
      "adalead-ridge-0.01\n",
      "adalead-ridge-0.45\n",
      "adalead-ridge-0.35\n",
      "adalead-ridge-0.25\n",
      "adalead-ridge-0.15\n",
      "One-hot-encoding all 12 categories of sequences...\n",
      "  Done. (8 s)\n"
     ]
    },
    {
     "name": "stderr",
     "output_type": "stream",
     "text": [
      "100%|█████████████████████████████████████████████████████████████████████████████████████████████| 100/100 [00:09<00:00, 10.20it/s]\n"
     ]
    },
    {
     "name": "stdout",
     "output_type": "stream",
     "text": [
      "Min train loss 1.57, min val loss 1.54\n",
      "\n",
      "Fitting MDRE for adalead-ff-0.\\d, which has 11 design algorithms:\n",
      "train\n",
      "adalead-ff-0.5\n",
      "adalead-ff-0.4\n",
      "adalead-ff-0.3\n",
      "adalead-ff-0.2\n",
      "adalead-ff-0.1\n",
      "adalead-ff-0.05\n",
      "adalead-ff-0.01\n",
      "adalead-ff-0.45\n",
      "adalead-ff-0.35\n",
      "adalead-ff-0.25\n",
      "adalead-ff-0.15\n",
      "One-hot-encoding all 12 categories of sequences...\n",
      "  Done. (8 s)\n"
     ]
    },
    {
     "name": "stderr",
     "output_type": "stream",
     "text": [
      "100%|█████████████████████████████████████████████████████████████████████████████████████████████| 100/100 [00:09<00:00, 10.20it/s]\n"
     ]
    },
    {
     "name": "stdout",
     "output_type": "stream",
     "text": [
      "Min train loss 1.51, min val loss 1.48\n",
      "\n",
      "Fitting MDRE for adalead-cnn-0.\\d, which has 11 design algorithms:\n",
      "train\n",
      "adalead-cnn-0.5\n",
      "adalead-cnn-0.4\n",
      "adalead-cnn-0.3\n",
      "adalead-cnn-0.2\n",
      "adalead-cnn-0.1\n",
      "adalead-cnn-0.05\n",
      "adalead-cnn-0.01\n",
      "adalead-cnn-0.45\n",
      "adalead-cnn-0.35\n",
      "adalead-cnn-0.25\n",
      "adalead-cnn-0.15\n",
      "One-hot-encoding all 12 categories of sequences...\n",
      "  Done. (8 s)\n"
     ]
    },
    {
     "name": "stderr",
     "output_type": "stream",
     "text": [
      "100%|█████████████████████████████████████████████████████████████████████████████████████████████| 100/100 [00:09<00:00, 10.19it/s]\n"
     ]
    },
    {
     "name": "stdout",
     "output_type": "stream",
     "text": [
      "Min train loss 1.50, min val loss 1.46\n",
      "\n",
      "Fitting MDRE for biswas-ridge-0.\\d, which has 5 design algorithms:\n",
      "train\n",
      "biswas-ridge-0.03\n",
      "biswas-ridge-0.02\n",
      "biswas-ridge-0.01\n",
      "biswas-ridge-0.005\n",
      "biswas-ridge-0.015\n",
      "One-hot-encoding all 6 categories of sequences...\n",
      "  Done. (3 s)\n"
     ]
    },
    {
     "name": "stderr",
     "output_type": "stream",
     "text": [
      "100%|█████████████████████████████████████████████████████████████████████████████████████████████| 100/100 [00:04<00:00, 23.57it/s]\n"
     ]
    },
    {
     "name": "stdout",
     "output_type": "stream",
     "text": [
      "Min train loss 1.18, min val loss 1.18\n",
      "\n",
      "Fitting MDRE for biswas-ff-0.\\d, which has 5 design algorithms:\n",
      "train\n",
      "biswas-ff-0.03\n",
      "biswas-ff-0.02\n",
      "biswas-ff-0.01\n",
      "biswas-ff-0.005\n",
      "biswas-ff-0.015\n",
      "One-hot-encoding all 6 categories of sequences...\n",
      "  Done. (3 s)\n"
     ]
    },
    {
     "name": "stderr",
     "output_type": "stream",
     "text": [
      "100%|█████████████████████████████████████████████████████████████████████████████████████████████| 100/100 [00:04<00:00, 23.58it/s]\n"
     ]
    },
    {
     "name": "stdout",
     "output_type": "stream",
     "text": [
      "Min train loss 1.19, min val loss 1.18\n",
      "\n",
      "Fitting MDRE for biswas-cnn-0.\\d, which has 5 design algorithms:\n",
      "train\n",
      "biswas-cnn-0.03\n",
      "biswas-cnn-0.02\n",
      "biswas-cnn-0.01\n",
      "biswas-cnn-0.005\n",
      "biswas-cnn-0.015\n",
      "One-hot-encoding all 6 categories of sequences...\n",
      "  Done. (3 s)\n"
     ]
    },
    {
     "name": "stderr",
     "output_type": "stream",
     "text": [
      "100%|█████████████████████████████████████████████████████████████████████████████████████████████| 100/100 [00:04<00:00, 23.48it/s]\n"
     ]
    },
    {
     "name": "stdout",
     "output_type": "stream",
     "text": [
      "Min train loss 1.22, min val loss 1.22\n",
      "\n",
      "Fitting MDRE for dbas-ff-0.\\d, which has 9 design algorithms:\n",
      "train\n",
      "dbas-ff-0.1\n",
      "dbas-ff-0.2\n",
      "dbas-ff-0.3\n",
      "dbas-ff-0.4\n",
      "dbas-ff-0.5\n",
      "dbas-ff-0.6\n",
      "dbas-ff-0.7\n",
      "dbas-ff-0.8\n",
      "dbas-ff-0.9\n",
      "One-hot-encoding all 10 categories of sequences...\n",
      "  Done. (6 s)\n"
     ]
    },
    {
     "name": "stderr",
     "output_type": "stream",
     "text": [
      "100%|█████████████████████████████████████████████████████████████████████████████████████████████| 100/100 [00:07<00:00, 12.75it/s]\n"
     ]
    },
    {
     "name": "stdout",
     "output_type": "stream",
     "text": [
      "Min train loss 1.61, min val loss 1.56\n",
      "\n",
      "Fitting MDRE for dbas-cnn-0.\\d, which has 9 design algorithms:\n",
      "train\n",
      "dbas-cnn-0.1\n",
      "dbas-cnn-0.2\n",
      "dbas-cnn-0.3\n",
      "dbas-cnn-0.4\n",
      "dbas-cnn-0.5\n",
      "dbas-cnn-0.6\n",
      "dbas-cnn-0.7\n",
      "dbas-cnn-0.8\n",
      "dbas-cnn-0.9\n",
      "One-hot-encoding all 10 categories of sequences...\n",
      "  Done. (6 s)\n"
     ]
    },
    {
     "name": "stderr",
     "output_type": "stream",
     "text": [
      "100%|█████████████████████████████████████████████████████████████████████████████████████████████| 100/100 [00:07<00:00, 12.74it/s]\n"
     ]
    },
    {
     "name": "stdout",
     "output_type": "stream",
     "text": [
      "Min train loss 1.71, min val loss 1.67\n",
      "\n",
      "Fitting MDRE for pex-ridge, which has 1 design algorithms:\n",
      "train\n",
      "pex-ridge\n",
      "One-hot-encoding all 2 categories of sequences...\n",
      "  Done. (0 s)\n"
     ]
    },
    {
     "name": "stderr",
     "output_type": "stream",
     "text": [
      "100%|█████████████████████████████████████████████████████████████████████████████████████████████| 100/100 [00:01<00:00, 92.00it/s]\n"
     ]
    },
    {
     "name": "stdout",
     "output_type": "stream",
     "text": [
      "Min train loss 0.24, min val loss 0.28\n",
      "\n",
      "Fitting MDRE for pex-ff, which has 1 design algorithms:\n",
      "train\n",
      "pex-ff\n",
      "One-hot-encoding all 2 categories of sequences...\n",
      "  Done. (0 s)\n"
     ]
    },
    {
     "name": "stderr",
     "output_type": "stream",
     "text": [
      "100%|█████████████████████████████████████████████████████████████████████████████████████████████| 100/100 [00:01<00:00, 92.19it/s]\n"
     ]
    },
    {
     "name": "stdout",
     "output_type": "stream",
     "text": [
      "Min train loss 0.25, min val loss 0.28\n",
      "\n",
      "Fitting MDRE for pex-cnn, which has 1 design algorithms:\n",
      "train\n",
      "pex-cnn\n",
      "One-hot-encoding all 2 categories of sequences...\n",
      "  Done. (0 s)\n"
     ]
    },
    {
     "name": "stderr",
     "output_type": "stream",
     "text": [
      "100%|█████████████████████████████████████████████████████████████████████████████████████████████| 100/100 [00:01<00:00, 92.22it/s]\n"
     ]
    },
    {
     "name": "stdout",
     "output_type": "stream",
     "text": [
      "Min train loss 0.28, min val loss 0.31\n",
      "\n",
      "Fitting MDRE for dbas-ridge-0.1t\\d, which has 1 design algorithms:\n",
      "train\n",
      "dbas-ridge-0.1t19\n",
      "One-hot-encoding all 2 categories of sequences...\n",
      "  Done. (0 s)\n"
     ]
    },
    {
     "name": "stderr",
     "output_type": "stream",
     "text": [
      "100%|█████████████████████████████████████████████████████████████████████████████████████████████| 100/100 [00:01<00:00, 92.48it/s]\n"
     ]
    },
    {
     "name": "stdout",
     "output_type": "stream",
     "text": [
      "Min train loss 0.48, min val loss 0.51\n",
      "\n",
      "Fitting MDRE for dbas-ridge-0.2t\\d, which has 1 design algorithms:\n",
      "train\n",
      "dbas-ridge-0.2t19\n",
      "One-hot-encoding all 2 categories of sequences...\n",
      "  Done. (0 s)\n"
     ]
    },
    {
     "name": "stderr",
     "output_type": "stream",
     "text": [
      "100%|█████████████████████████████████████████████████████████████████████████████████████████████| 100/100 [00:01<00:00, 93.64it/s]\n"
     ]
    },
    {
     "name": "stdout",
     "output_type": "stream",
     "text": [
      "Min train loss 0.03, min val loss 0.04\n",
      "\n",
      "Fitting MDRE for dbas-ridge-0.3t\\d, which has 3 design algorithms:\n",
      "train\n",
      "dbas-ridge-0.3t6\n",
      "dbas-ridge-0.3t13\n",
      "dbas-ridge-0.3t19\n",
      "One-hot-encoding all 4 categories of sequences...\n",
      "  Done. (2 s)\n"
     ]
    },
    {
     "name": "stderr",
     "output_type": "stream",
     "text": [
      "100%|█████████████████████████████████████████████████████████████████████████████████████████████| 100/100 [00:02<00:00, 36.80it/s]\n"
     ]
    },
    {
     "name": "stdout",
     "output_type": "stream",
     "text": [
      "Min train loss 0.38, min val loss 0.37\n",
      "\n",
      "Fitting MDRE for dbas-ridge-0.4t\\d, which has 4 design algorithms:\n",
      "train\n",
      "dbas-ridge-0.4t4\n",
      "dbas-ridge-0.4t9\n",
      "dbas-ridge-0.4t14\n",
      "dbas-ridge-0.4t19\n",
      "One-hot-encoding all 5 categories of sequences...\n",
      "  Done. (3 s)\n"
     ]
    },
    {
     "name": "stderr",
     "output_type": "stream",
     "text": [
      "100%|█████████████████████████████████████████████████████████████████████████████████████████████| 100/100 [00:03<00:00, 28.55it/s]\n"
     ]
    },
    {
     "name": "stdout",
     "output_type": "stream",
     "text": [
      "Min train loss 0.41, min val loss 0.40\n",
      "\n",
      "Fitting MDRE for dbas-ridge-0.5t\\d, which has 5 design algorithms:\n",
      "train\n",
      "dbas-ridge-0.5t3\n",
      "dbas-ridge-0.5t7\n",
      "dbas-ridge-0.5t11\n",
      "dbas-ridge-0.5t15\n",
      "dbas-ridge-0.5t19\n",
      "One-hot-encoding all 6 categories of sequences...\n",
      "  Done. (3 s)\n"
     ]
    },
    {
     "name": "stderr",
     "output_type": "stream",
     "text": [
      "100%|█████████████████████████████████████████████████████████████████████████████████████████████| 100/100 [00:04<00:00, 23.53it/s]\n"
     ]
    },
    {
     "name": "stdout",
     "output_type": "stream",
     "text": [
      "Min train loss 0.46, min val loss 0.43\n",
      "\n",
      "Fitting MDRE for dbas-ridge-0.6t\\d, which has 5 design algorithms:\n",
      "train\n",
      "dbas-ridge-0.6t3\n",
      "dbas-ridge-0.6t7\n",
      "dbas-ridge-0.6t11\n",
      "dbas-ridge-0.6t15\n",
      "dbas-ridge-0.6t19\n",
      "One-hot-encoding all 6 categories of sequences...\n",
      "  Done. (3 s)\n"
     ]
    },
    {
     "name": "stderr",
     "output_type": "stream",
     "text": [
      "100%|█████████████████████████████████████████████████████████████████████████████████████████████| 100/100 [00:04<00:00, 23.53it/s]\n"
     ]
    },
    {
     "name": "stdout",
     "output_type": "stream",
     "text": [
      "Min train loss 0.32, min val loss 0.30\n",
      "\n",
      "Fitting MDRE for cbas-ridge-0.1t\\d, which has 1 design algorithms:\n",
      "train\n",
      "cbas-ridge-0.1t19\n",
      "One-hot-encoding all 2 categories of sequences...\n",
      "  Done. (0 s)\n"
     ]
    },
    {
     "name": "stderr",
     "output_type": "stream",
     "text": [
      "100%|█████████████████████████████████████████████████████████████████████████████████████████████| 100/100 [00:01<00:00, 92.32it/s]\n"
     ]
    },
    {
     "name": "stdout",
     "output_type": "stream",
     "text": [
      "Min train loss 0.57, min val loss 0.63\n",
      "\n",
      "Fitting MDRE for cbas-ridge-0.2t\\d, which has 1 design algorithms:\n",
      "train\n",
      "cbas-ridge-0.2t19\n",
      "One-hot-encoding all 2 categories of sequences...\n",
      "  Done. (0 s)\n"
     ]
    },
    {
     "name": "stderr",
     "output_type": "stream",
     "text": [
      "100%|█████████████████████████████████████████████████████████████████████████████████████████████| 100/100 [00:01<00:00, 92.55it/s]\n"
     ]
    },
    {
     "name": "stdout",
     "output_type": "stream",
     "text": [
      "Min train loss 0.56, min val loss 0.62\n",
      "\n",
      "Fitting MDRE for cbas-ridge-0.3t\\d, which has 1 design algorithms:\n",
      "train\n",
      "cbas-ridge-0.3t19\n",
      "One-hot-encoding all 2 categories of sequences...\n",
      "  Done. (0 s)\n"
     ]
    },
    {
     "name": "stderr",
     "output_type": "stream",
     "text": [
      "100%|█████████████████████████████████████████████████████████████████████████████████████████████| 100/100 [00:01<00:00, 92.37it/s]\n"
     ]
    },
    {
     "name": "stdout",
     "output_type": "stream",
     "text": [
      "Min train loss 0.55, min val loss 0.60\n",
      "\n",
      "Fitting MDRE for cbas-ridge-0.4t\\d, which has 1 design algorithms:\n",
      "train\n",
      "cbas-ridge-0.4t19\n",
      "One-hot-encoding all 2 categories of sequences...\n",
      "  Done. (0 s)\n"
     ]
    },
    {
     "name": "stderr",
     "output_type": "stream",
     "text": [
      "100%|█████████████████████████████████████████████████████████████████████████████████████████████| 100/100 [00:01<00:00, 92.64it/s]\n"
     ]
    },
    {
     "name": "stdout",
     "output_type": "stream",
     "text": [
      "Min train loss 0.51, min val loss 0.57\n",
      "\n",
      "Fitting MDRE for cbas-ridge-0.5t\\d, which has 1 design algorithms:\n",
      "train\n",
      "cbas-ridge-0.5t19\n",
      "One-hot-encoding all 2 categories of sequences...\n",
      "  Done. (0 s)\n"
     ]
    },
    {
     "name": "stderr",
     "output_type": "stream",
     "text": [
      "100%|█████████████████████████████████████████████████████████████████████████████████████████████| 100/100 [00:01<00:00, 92.20it/s]\n"
     ]
    },
    {
     "name": "stdout",
     "output_type": "stream",
     "text": [
      "Min train loss 0.48, min val loss 0.55\n",
      "\n",
      "Fitting MDRE for cbas-ridge-0.6t\\d, which has 1 design algorithms:\n",
      "train\n",
      "cbas-ridge-0.6t19\n",
      "One-hot-encoding all 2 categories of sequences...\n",
      "  Done. (0 s)\n"
     ]
    },
    {
     "name": "stderr",
     "output_type": "stream",
     "text": [
      "100%|█████████████████████████████████████████████████████████████████████████████████████████████| 100/100 [00:01<00:00, 92.55it/s]\n"
     ]
    },
    {
     "name": "stdout",
     "output_type": "stream",
     "text": [
      "Min train loss 0.44, min val loss 0.49\n",
      "\n",
      "Fitting MDRE for cbas-ridge-0.7t\\d, which has 1 design algorithms:\n",
      "train\n",
      "cbas-ridge-0.7t19\n",
      "One-hot-encoding all 2 categories of sequences...\n",
      "  Done. (0 s)\n"
     ]
    },
    {
     "name": "stderr",
     "output_type": "stream",
     "text": [
      "100%|█████████████████████████████████████████████████████████████████████████████████████████████| 100/100 [00:01<00:00, 92.55it/s]\n"
     ]
    },
    {
     "name": "stdout",
     "output_type": "stream",
     "text": [
      "Min train loss 0.37, min val loss 0.41\n",
      "\n",
      "Fitting MDRE for cbas-ridge-0.8t\\d, which has 1 design algorithms:\n",
      "train\n",
      "cbas-ridge-0.8t19\n",
      "One-hot-encoding all 2 categories of sequences...\n",
      "  Done. (0 s)\n"
     ]
    },
    {
     "name": "stderr",
     "output_type": "stream",
     "text": [
      "100%|█████████████████████████████████████████████████████████████████████████████████████████████| 100/100 [00:01<00:00, 92.81it/s]\n"
     ]
    },
    {
     "name": "stdout",
     "output_type": "stream",
     "text": [
      "Min train loss 0.22, min val loss 0.24\n",
      "\n",
      "Fitting MDRE for cbas-ridge-0.9t\\d, which has 1 design algorithms:\n",
      "train\n",
      "cbas-ridge-0.9t19\n",
      "One-hot-encoding all 2 categories of sequences...\n",
      "  Done. (0 s)\n"
     ]
    },
    {
     "name": "stderr",
     "output_type": "stream",
     "text": [
      "100%|█████████████████████████████████████████████████████████████████████████████████████████████| 100/100 [00:01<00:00, 93.72it/s]\n"
     ]
    },
    {
     "name": "stdout",
     "output_type": "stream",
     "text": [
      "Min train loss 0.02, min val loss 0.03\n",
      "\n",
      "Done running 1 / 50 trials (173 s).\n",
      "Saved to /homefs/home/wongfanc/density-ratio-estimation/rna-results/selection-v2-042924.csv (173 s).\n",
      "\n",
      "Done running 2 / 50 trials (345 s).\n",
      "Saved to /homefs/home/wongfanc/density-ratio-estimation/rna-results/selection-v2-042924.csv (345 s).\n",
      "\n",
      "Done running 3 / 50 trials (516 s).\n",
      "Saved to /homefs/home/wongfanc/density-ratio-estimation/rna-results/selection-v2-042924.csv (516 s).\n",
      "\n",
      "Done running 4 / 50 trials (687 s).\n",
      "Saved to /homefs/home/wongfanc/density-ratio-estimation/rna-results/selection-v2-042924.csv (687 s).\n",
      "\n",
      "Done running 5 / 50 trials (858 s).\n",
      "Saved to /homefs/home/wongfanc/density-ratio-estimation/rna-results/selection-v2-042924.csv (858 s).\n",
      "\n",
      "Done running 6 / 50 trials (1027 s).\n",
      "Saved to /homefs/home/wongfanc/density-ratio-estimation/rna-results/selection-v2-042924.csv (1028 s).\n",
      "\n",
      "Done running 7 / 50 trials (1196 s).\n",
      "Saved to /homefs/home/wongfanc/density-ratio-estimation/rna-results/selection-v2-042924.csv (1197 s).\n",
      "\n",
      "Done running 8 / 50 trials (1365 s).\n",
      "Saved to /homefs/home/wongfanc/density-ratio-estimation/rna-results/selection-v2-042924.csv (1366 s).\n",
      "\n",
      "Done running 9 / 50 trials (1536 s).\n",
      "Saved to /homefs/home/wongfanc/density-ratio-estimation/rna-results/selection-v2-042924.csv (1536 s).\n",
      "\n",
      "Done running 10 / 50 trials (1705 s).\n",
      "Saved to /homefs/home/wongfanc/density-ratio-estimation/rna-results/selection-v2-042924.csv (1706 s).\n",
      "\n",
      "Done running 11 / 50 trials (1874 s).\n",
      "Saved to /homefs/home/wongfanc/density-ratio-estimation/rna-results/selection-v2-042924.csv (1875 s).\n",
      "\n",
      "Done running 12 / 50 trials (2047 s).\n",
      "Saved to /homefs/home/wongfanc/density-ratio-estimation/rna-results/selection-v2-042924.csv (2047 s).\n",
      "\n",
      "Done running 13 / 50 trials (2216 s).\n",
      "Saved to /homefs/home/wongfanc/density-ratio-estimation/rna-results/selection-v2-042924.csv (2217 s).\n",
      "\n",
      "Done running 14 / 50 trials (2389 s).\n",
      "Saved to /homefs/home/wongfanc/density-ratio-estimation/rna-results/selection-v2-042924.csv (2390 s).\n",
      "\n",
      "Done running 15 / 50 trials (2563 s).\n",
      "Saved to /homefs/home/wongfanc/density-ratio-estimation/rna-results/selection-v2-042924.csv (2563 s).\n",
      "\n",
      "Done running 16 / 50 trials (2735 s).\n",
      "Saved to /homefs/home/wongfanc/density-ratio-estimation/rna-results/selection-v2-042924.csv (2736 s).\n",
      "\n",
      "Done running 17 / 50 trials (2906 s).\n",
      "Saved to /homefs/home/wongfanc/density-ratio-estimation/rna-results/selection-v2-042924.csv (2906 s).\n",
      "\n",
      "Done running 18 / 50 trials (3079 s).\n",
      "Saved to /homefs/home/wongfanc/density-ratio-estimation/rna-results/selection-v2-042924.csv (3079 s).\n",
      "\n",
      "Done running 19 / 50 trials (3249 s).\n",
      "Saved to /homefs/home/wongfanc/density-ratio-estimation/rna-results/selection-v2-042924.csv (3250 s).\n",
      "\n",
      "Done running 20 / 50 trials (3421 s).\n",
      "Saved to /homefs/home/wongfanc/density-ratio-estimation/rna-results/selection-v2-042924.csv (3421 s).\n",
      "\n",
      "Done running 21 / 50 trials (3595 s).\n",
      "Saved to /homefs/home/wongfanc/density-ratio-estimation/rna-results/selection-v2-042924.csv (3595 s).\n",
      "\n",
      "Done running 22 / 50 trials (3770 s).\n",
      "Saved to /homefs/home/wongfanc/density-ratio-estimation/rna-results/selection-v2-042924.csv (3771 s).\n",
      "\n",
      "Done running 23 / 50 trials (3945 s).\n",
      "Saved to /homefs/home/wongfanc/density-ratio-estimation/rna-results/selection-v2-042924.csv (3946 s).\n",
      "\n",
      "Done running 24 / 50 trials (4119 s).\n",
      "Saved to /homefs/home/wongfanc/density-ratio-estimation/rna-results/selection-v2-042924.csv (4120 s).\n",
      "\n",
      "Done running 25 / 50 trials (4294 s).\n",
      "Saved to /homefs/home/wongfanc/density-ratio-estimation/rna-results/selection-v2-042924.csv (4295 s).\n",
      "\n",
      "Done running 26 / 50 trials (4470 s).\n",
      "Saved to /homefs/home/wongfanc/density-ratio-estimation/rna-results/selection-v2-042924.csv (4470 s).\n",
      "\n",
      "Done running 27 / 50 trials (4645 s).\n",
      "Saved to /homefs/home/wongfanc/density-ratio-estimation/rna-results/selection-v2-042924.csv (4646 s).\n",
      "\n",
      "Done running 28 / 50 trials (4821 s).\n",
      "Saved to /homefs/home/wongfanc/density-ratio-estimation/rna-results/selection-v2-042924.csv (4822 s).\n",
      "\n"
     ]
    }
   ],
   "source": [
    "# run selection experiments!\n",
    "reload(dre)\n",
    "reload(rna)\n",
    "\n",
    "# ----- build menu of design algorithm names -----\n",
    "adalead_thresholds = [0.5, 0.45, 0.4, 0.35, 0.3, 0.25, 0.2, 0.15, 0.1, 0.05, 0.01]\n",
    "biswas_temperatures = [0.03, 0.02, 0.015, 0.01, 0.005]\n",
    "cbas_dbas_quantiles = np.arange(0.1, 0.91, 0.1)\n",
    "\n",
    "design_names = []\n",
    "for q in cbas_dbas_quantiles:\n",
    "    q = round(q, 2)\n",
    "    design_names.append(f'cbas-ridge-{q}t19')\n",
    "    \n",
    "for q in cbas_dbas_quantiles[: 6]:\n",
    "    q = round(q, 2)\n",
    "    design_names.append(f'dbas-ridge-{q}t19')\n",
    "    \n",
    "for model_name in ['ridge', 'ff', 'cnn']:\n",
    "    \n",
    "    \n",
    "    for thresh in adalead_thresholds:\n",
    "        thresh = round(thresh, 4)\n",
    "        design_names.append(f'adalead-{model_name}-{thresh}')\n",
    "        \n",
    "    for temp in biswas_temperatures:\n",
    "        temp = round(temp, 4)\n",
    "        design_names.append(f'biswas-{model_name}-{temp}') \n",
    "    \n",
    "    design_names.append(f'pex-{model_name}') \n",
    "        \n",
    "    if model_name != 'ridge':\n",
    "        for q in cbas_dbas_quantiles:\n",
    "            q = round(q, 2)\n",
    "            design_names.append(f'dbas-{model_name}-{q}')\n",
    "            \n",
    "print(f'Testing {len(design_names)} design names:')\n",
    "for name in design_names:\n",
    "    print(f'  {name}')\n",
    "    \n",
    "# 'adalead-ridge-0.[0-9]5$',\n",
    "# 'adalead-ridge-0.[0-9][1]?$',\n",
    "# 'adalead-ff-0.[0-9]5$',\n",
    "# 'adalead-ff-0.[0-9][1]?$',\n",
    "# 'adalead-cnn-0.[0-9]5$',\n",
    "# 'adalead-cnn-0.[0-9][1]?$',\n",
    "\n",
    "mdre_group_regex_strs = [\n",
    "    'adalead-ridge-0.\\d',\n",
    "    'adalead-ff-0.\\d',\n",
    "    'adalead-cnn-0.\\d',\n",
    "    'biswas-ridge-0.\\d',\n",
    "    'biswas-ff-0.\\d',\n",
    "    'biswas-cnn-0.\\d',\n",
    "    'dbas-ff-0.\\d',\n",
    "    'dbas-cnn-0.\\d',\n",
    "    'pex-ridge',\n",
    "    'pex-ff',\n",
    "    'pex-cnn',\n",
    "    'dbas-ridge-0.1t\\d',\n",
    "    'dbas-ridge-0.2t\\d',\n",
    "    'dbas-ridge-0.3t\\d',\n",
    "    'dbas-ridge-0.4t\\d',\n",
    "    'dbas-ridge-0.5t\\d',\n",
    "    'dbas-ridge-0.6t\\d',\n",
    "    'cbas-ridge-0.1t\\d',\n",
    "    'cbas-ridge-0.2t\\d',\n",
    "    'cbas-ridge-0.3t\\d',\n",
    "    'cbas-ridge-0.4t\\d',\n",
    "    'cbas-ridge-0.5t\\d',\n",
    "    'cbas-ridge-0.6t\\d',\n",
    "    'cbas-ridge-0.7t\\d',\n",
    "    'cbas-ridge-0.8t\\d',\n",
    "    'cbas-ridge-0.9t\\d'\n",
    "]\n",
    "    \n",
    "\n",
    "# where to save results!\n",
    "results_csv_fname = '/homefs/home/wongfanc/density-ratio-estimation/rna-results/selection-v2-042924.csv'\n",
    "design_pkl_fname = '/homefs/home/wongfanc/density-ratio-estimation/rna-results/designs-041124-copy.pkl'\n",
    "model_and_data_fname_no_ftype = 'nsd0.02-040324'\n",
    "cal_pkl_fname = '/homefs/home/wongfanc/density-ratio-estimation/rna-data/calibration-pm0.08-nsd0.02_041524_2.pkl'\n",
    "target_values = np.arange(0.25, 0.601, 0.001)\n",
    "n_trial = 50\n",
    "n_mdre_hidden = 500\n",
    "n_mdre_epoch = 100\n",
    "device = torch.device('cuda')\n",
    "\n",
    "df = rna.run_selection_experiments(\n",
    "    design_names,\n",
    "    design_pkl_fname,\n",
    "    model_and_data_fname_no_ftype,\n",
    "    cal_pkl_fname,\n",
    "    mdre_group_regex_strs,\n",
    "    target_values,\n",
    "    n_trial,\n",
    "    n_mdre_hidden=n_mdre_hidden,\n",
    "    n_mdre_epoch=n_mdre_epoch,\n",
    "    results_csv_fname=results_csv_fname,\n",
    "    device=device,\n",
    ")"
   ]
  },
  {
   "cell_type": "code",
   "execution_count": null,
   "id": "b76999bb",
   "metadata": {},
   "outputs": [],
   "source": [
    "# generate, label, and save calibration data for selection experiments\n",
    "# (need viennaenv)\n",
    "\n",
    "n_trial = 800\n",
    "n_cal = 5000\n",
    "noise_sd = 0.02\n",
    "p_mutation = 4 / 50\n",
    "data_path = '/homefs/home/wongfanc/density-ratio-estimation/rna-data/'\n",
    "fname = os.path.join(data_path, 'calibration-pm{:.2f}-nsd{:.2f}_041524_2.pkl'.format(p_mutation, noise_sd))\n",
    "\n",
    "landscape = rna.RNABinding(noise_sd=noise_sd)\n",
    "calibration_data = []\n",
    "t0 = time()\n",
    "for t in range(n_trial):\n",
    "    calseqs_n, ycal_n = landscape.get_training_data(n_cal, p_mutation)\n",
    "    calibration_data.append((calseqs_n, ycal_n))\n",
    "    with open(fname, 'wb') as f:\n",
    "        pickle.dump(calibration_data, f)\n",
    "    print(f'trial {t + 1} / {n_trial} ({int(time() - t0)} s)\\n')"
   ]
  }
 ],
 "metadata": {
  "kernelspec": {
   "display_name": "Python [conda env:torchenv] *",
   "language": "python",
   "name": "conda-env-torchenv-py"
  },
  "language_info": {
   "codemirror_mode": {
    "name": "ipython",
    "version": 3
   },
   "file_extension": ".py",
   "mimetype": "text/x-python",
   "name": "python",
   "nbconvert_exporter": "python",
   "pygments_lexer": "ipython3",
   "version": "3.11.5"
  }
 },
 "nbformat": 4,
 "nbformat_minor": 5
}
