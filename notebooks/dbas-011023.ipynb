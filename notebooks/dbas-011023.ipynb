{
 "cells": [
  {
   "cell_type": "code",
   "execution_count": 1,
   "id": "b9f87ea4",
   "metadata": {},
   "outputs": [],
   "source": [
    "from importlib import reload\n",
    "import os\n",
    "from time import time\n",
    "\n",
    "import sys\n",
    "sys.path.append('/homefs/home/wongfanc/CbAS/src')\n",
    "\n",
    "import numpy as np\n",
    "import scipy as sc\n",
    "import pandas as pd\n",
    "import random\n",
    "\n",
    "import matplotlib.pyplot as plt\n",
    "import seaborn as sns\n",
    "import matplotlib"
   ]
  },
  {
   "cell_type": "code",
   "execution_count": 2,
   "id": "ea2c7e0d",
   "metadata": {},
   "outputs": [
    {
     "name": "stdout",
     "output_type": "stream",
     "text": [
      "WARNING:tensorflow:From /homefs/home/wongfanc/miniconda3/envs/cbas_env/lib/python3.7/site-packages/tensorflow_core/python/compat/v2_compat.py:65: disable_resource_variables (from tensorflow.python.ops.variable_scope) is deprecated and will be removed in a future version.\n",
      "Instructions for updating:\n",
      "non-resource variables are not supported in the long term\n"
     ]
    }
   ],
   "source": [
    "import run_gfp_tests\n",
    "import util\n",
    "import gfp_gp"
   ]
  },
  {
   "cell_type": "code",
   "execution_count": 5,
   "id": "396021ae",
   "metadata": {},
   "outputs": [
    {
     "data": {
      "image/png": "[encoded data removed]",
      "text/plain": [
       "<Figure size 432x288 with 1 Axes>"
      ]
     },
     "metadata": {
      "needs_background": "light"
     },
     "output_type": "display_data"
    }
   ],
   "source": [
    "plt.hist(y_train, alpha=0.5);\n",
    "plt.hist(gt_train, alpha=0.5);"
   ]
  },
  {
   "cell_type": "code",
   "execution_count": 6,
   "id": "1f0a9c87",
   "metadata": {},
   "outputs": [
    {
     "name": "stdout",
     "output_type": "stream",
     "text": [
      "ERROR! Session/line number was not unique in database. History logging moved to new session 276\n",
      "Train on 5000 samples\n",
      "Epoch 1/10\n",
      "5000/5000 - 10s - loss: 52.3194 - decoder_loss: 39.8452 - kl_reshape_loss: 12.4742\n",
      "Epoch 2/10\n",
      "5000/5000 - 12s - loss: 29.0590 - decoder_loss: 24.3467 - kl_reshape_loss: 4.7124\n",
      "Epoch 3/10\n",
      "5000/5000 - 18s - loss: 26.5649 - decoder_loss: 23.3883 - kl_reshape_loss: 3.1767\n",
      "Epoch 4/10\n",
      "5000/5000 - 12s - loss: 24.9011 - decoder_loss: 22.7659 - kl_reshape_loss: 2.1352\n",
      "Epoch 5/10\n",
      "5000/5000 - 13s - loss: 23.4321 - decoder_loss: 22.3810 - kl_reshape_loss: 1.0511\n",
      "Epoch 6/10\n",
      "5000/5000 - 13s - loss: 22.6442 - decoder_loss: 22.1666 - kl_reshape_loss: 0.4777\n",
      "Epoch 7/10\n",
      "5000/5000 - 18s - loss: 22.0709 - decoder_loss: 21.9791 - kl_reshape_loss: 0.0919\n",
      "Epoch 8/10\n",
      "5000/5000 - 19s - loss: 22.0057 - decoder_loss: 21.9276 - kl_reshape_loss: 0.0781\n",
      "Epoch 9/10\n",
      "5000/5000 - 17s - loss: 21.9416 - decoder_loss: 21.8401 - kl_reshape_loss: 0.1015\n",
      "Epoch 10/10\n",
      "5000/5000 - 18s - loss: 21.9128 - decoder_loss: 21.7826 - kl_reshape_loss: 0.1303\n"
     ]
    }
   ],
   "source": [
    "reload(run_gfp_tests)\n",
    "reload(util)\n",
    "\n",
    "X_train, y_train, gt_train = util.get_experimental_X_y(random_state=0, train_size=5000)\n",
    "vae_0 = util.build_vae(latent_dim=20,\n",
    "          n_tokens=20, \n",
    "          seq_length=X_train.shape[1],\n",
    "          enc1_units=50)\n",
    "vae_0.fit([X_train], [X_train, np.zeros(X_train.shape[0])],\n",
    "          epochs=10,\n",
    "          batch_size=10,\n",
    "          verbose=2)"
   ]
  },
  {
   "cell_type": "code",
   "execution_count": null,
   "id": "e754136a",
   "metadata": {},
   "outputs": [],
   "source": [
    "y_model = gfp_gp.SequenceGP(load=True, load_prefix='/homefs/home/wongfanc/CbAS/data/gfp_gp')"
   ]
  },
  {
   "cell_type": "code",
   "execution_count": 19,
   "id": "c38e1908",
   "metadata": {
    "scrolled": true
   },
   "outputs": [
    {
     "name": "stdout",
     "output_type": "stream",
     "text": [
      "Number of Kstar elements filled: 10000 / 500000\n",
      "Number of Kstar elements filled: 20000 / 500000\n",
      "Number of Kstar elements filled: 30000 / 500000\n",
      "Number of Kstar elements filled: 40000 / 500000\n",
      "Number of Kstar elements filled: 50000 / 500000\n",
      "Number of Kstar elements filled: 60000 / 500000\n",
      "Number of Kstar elements filled: 70000 / 500000\n",
      "Number of Kstar elements filled: 80000 / 500000\n",
      "Number of Kstar elements filled: 90000 / 500000\n",
      "Number of Kstar elements filled: 100000 / 500000\n",
      "Number of Kstar elements filled: 110000 / 500000\n",
      "Number of Kstar elements filled: 120000 / 500000\n",
      "Number of Kstar elements filled: 130000 / 500000\n",
      "Number of Kstar elements filled: 140000 / 500000\n",
      "Number of Kstar elements filled: 150000 / 500000\n",
      "Number of Kstar elements filled: 160000 / 500000\n",
      "Number of Kstar elements filled: 170000 / 500000\n",
      "Number of Kstar elements filled: 180000 / 500000\n",
      "Number of Kstar elements filled: 190000 / 500000\n",
      "Number of Kstar elements filled: 200000 / 500000\n",
      "Number of Kstar elements filled: 210000 / 500000\n",
      "Number of Kstar elements filled: 220000 / 500000\n",
      "Number of Kstar elements filled: 230000 / 500000\n",
      "Number of Kstar elements filled: 240000 / 500000\n",
      "Number of Kstar elements filled: 250000 / 500000\n",
      "Number of Kstar elements filled: 260000 / 500000\n",
      "Number of Kstar elements filled: 270000 / 500000\n",
      "Number of Kstar elements filled: 280000 / 500000\n",
      "Number of Kstar elements filled: 290000 / 500000\n",
      "Number of Kstar elements filled: 300000 / 500000\n",
      "Number of Kstar elements filled: 310000 / 500000\n",
      "Number of Kstar elements filled: 320000 / 500000\n",
      "Number of Kstar elements filled: 330000 / 500000\n",
      "Number of Kstar elements filled: 340000 / 500000\n",
      "Number of Kstar elements filled: 350000 / 500000\n",
      "Number of Kstar elements filled: 360000 / 500000\n",
      "Number of Kstar elements filled: 370000 / 500000\n",
      "Number of Kstar elements filled: 380000 / 500000\n",
      "Number of Kstar elements filled: 390000 / 500000\n",
      "Number of Kstar elements filled: 400000 / 500000\n",
      "Number of Kstar elements filled: 410000 / 500000\n",
      "Number of Kstar elements filled: 420000 / 500000\n",
      "Number of Kstar elements filled: 430000 / 500000\n",
      "Number of Kstar elements filled: 440000 / 500000\n",
      "Number of Kstar elements filled: 450000 / 500000\n",
      "Number of Kstar elements filled: 460000 / 500000\n",
      "Number of Kstar elements filled: 470000 / 500000\n",
      "Number of Kstar elements filled: 480000 / 500000\n",
      "Number of Kstar elements filled: 490000 / 500000\n",
      "Number of Kstar elements filled: 500000 / 500000\n"
     ]
    }
   ],
   "source": [
    "samples = 500\n",
    "zt = np.random.randn(samples, 20)\n",
    "Xt_p = vae_0.decoder_.predict(zt)\n",
    "Xt = util.get_samples(Xt_p)\n",
    "Xt_aa = np.argmax(Xt, axis=-1)\n",
    "ygen_n = y_model.predict(Xt_aa, print_every=10000)"
   ]
  },
  {
   "cell_type": "code",
   "execution_count": 17,
   "id": "ec2f2d6e",
   "metadata": {},
   "outputs": [
    {
     "data": {
      "image/png": "[encoded data removed]",
      "text/plain": [
       "<Figure size 432x288 with 1 Axes>"
      ]
     },
     "metadata": {
      "needs_background": "light"
     },
     "output_type": "display_data"
    }
   ],
   "source": [
    "plt.hist(y_train, alpha=0.5, density=True);\n",
    "plt.hist(ygen_n, alpha=0.5, density=True);"
   ]
  },
  {
   "cell_type": "code",
   "execution_count": 23,
   "id": "ce5b9208",
   "metadata": {},
   "outputs": [
    {
     "name": "stdout",
     "output_type": "stream",
     "text": [
      "(250, 237, 20)\n",
      "Train on 250 samples\n",
      "Epoch 1/10\n",
      "250/250 - 0s - loss: 15.2244 - decoder_loss: 15.0584 - kl_reshape_loss: 0.1659\n",
      "Epoch 2/10\n",
      "250/250 - 0s - loss: 15.0523 - decoder_loss: 14.8624 - kl_reshape_loss: 0.1899\n",
      "Epoch 3/10\n",
      "250/250 - 1s - loss: 15.1140 - decoder_loss: 14.9085 - kl_reshape_loss: 0.2055\n",
      "Epoch 4/10\n",
      "250/250 - 0s - loss: 15.0710 - decoder_loss: 14.8503 - kl_reshape_loss: 0.2207\n",
      "Epoch 5/10\n",
      "250/250 - 0s - loss: 15.0135 - decoder_loss: 14.7623 - kl_reshape_loss: 0.2512\n",
      "Epoch 6/10\n",
      "250/250 - 1s - loss: 15.0166 - decoder_loss: 14.7691 - kl_reshape_loss: 0.2476\n",
      "Epoch 7/10\n",
      "250/250 - 1s - loss: 14.9998 - decoder_loss: 14.7160 - kl_reshape_loss: 0.2838\n",
      "Epoch 8/10\n",
      "250/250 - 0s - loss: 14.9188 - decoder_loss: 14.6192 - kl_reshape_loss: 0.2996\n",
      "Epoch 9/10\n",
      "250/250 - 1s - loss: 15.0782 - decoder_loss: 14.7608 - kl_reshape_loss: 0.3174\n",
      "Epoch 10/10\n",
      "250/250 - 1s - loss: 14.8230 - decoder_loss: 14.5007 - kl_reshape_loss: 0.3223\n"
     ]
    }
   ],
   "source": [
    "idx = np.where(ygen_n >= np.quantile(ygen_n, 0.5))[0]\n",
    "X_train2 = Xt[idx]\n",
    "weights = np.ones(X_train2.shape[0])\n",
    "print(X_train2.shape)\n",
    "\n",
    "vae_0.fit([X_train2], [X_train2, np.zeros(X_train2.shape[0])],\n",
    "    epochs=10,\n",
    "    batch_size=10,\n",
    "    shuffle=False,\n",
    "    sample_weight=[weights, weights],\n",
    "    verbose=2)"
   ]
  },
  {
   "cell_type": "code",
   "execution_count": 28,
   "id": "88e56a6e",
   "metadata": {
    "scrolled": true
   },
   "outputs": [
    {
     "name": "stdout",
     "output_type": "stream",
     "text": [
      "Number of Kstar elements filled: 100000 / 500000\n",
      "Number of Kstar elements filled: 200000 / 500000\n",
      "Number of Kstar elements filled: 300000 / 500000\n",
      "Number of Kstar elements filled: 400000 / 500000\n",
      "Number of Kstar elements filled: 500000 / 500000\n"
     ]
    }
   ],
   "source": [
    "samples = 500\n",
    "zt = np.random.randn(samples, 20)\n",
    "Xt_p2 = vae_0.decoder_.predict(zt)\n",
    "Xt2 = util.get_samples(Xt_p2)\n",
    "Xt_aa2 = np.argmax(Xt2, axis=-1)\n",
    "ygen_n2 = y_model.predict(Xt_aa2, print_every=100000)"
   ]
  },
  {
   "cell_type": "code",
   "execution_count": 31,
   "id": "12eabc26",
   "metadata": {},
   "outputs": [
    {
     "data": {
      "image/png": "[encoded data removed]",
      "text/plain": [
       "<Figure size 432x288 with 1 Axes>"
      ]
     },
     "metadata": {
      "needs_background": "light"
     },
     "output_type": "display_data"
    }
   ],
   "source": [
    "plt.hist(y_train, alpha=0.5, density=True, label='train');\n",
    "plt.hist(ygen_n, alpha=0.5, density=True, label='gen');\n",
    "plt.hist(ygen_n2, alpha=0.5, density=True, label='gen after fitting to >= median');\n",
    "plt.xlabel('GP label');\n",
    "plt.legend();"
   ]
  }
 ],
 "metadata": {
  "kernelspec": {
   "display_name": "Python [conda env:cbas_env]",
   "language": "python",
   "name": "conda-env-cbas_env-py"
  },
  "language_info": {
   "codemirror_mode": {
    "name": "ipython",
    "version": 3
   },
   "file_extension": ".py",
   "mimetype": "text/x-python",
   "name": "python",
   "nbconvert_exporter": "python",
   "pygments_lexer": "ipython3",
   "version": "3.7.9"
  }
 },
 "nbformat": 4,
 "nbformat_minor": 5
}
