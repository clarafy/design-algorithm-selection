{
 "cells": [
  {
   "cell_type": "code",
   "execution_count": 1,
   "id": "045d6ba2",
   "metadata": {},
   "outputs": [
    {
     "name": "stdout",
     "output_type": "stream",
     "text": [
      "True\n"
     ]
    },
    {
     "name": "stderr",
     "output_type": "stream",
     "text": [
      "2024-01-30 00:30:23.633332: E external/local_xla/xla/stream_executor/cuda/cuda_dnn.cc:9261] Unable to register cuDNN factory: Attempting to register factory for plugin cuDNN when one has already been registered\n",
      "2024-01-30 00:30:23.633409: E external/local_xla/xla/stream_executor/cuda/cuda_fft.cc:607] Unable to register cuFFT factory: Attempting to register factory for plugin cuFFT when one has already been registered\n",
      "2024-01-30 00:30:23.634706: E external/local_xla/xla/stream_executor/cuda/cuda_blas.cc:1515] Unable to register cuBLAS factory: Attempting to register factory for plugin cuBLAS when one has already been registered\n",
      "2024-01-30 00:30:23.643179: I tensorflow/core/platform/cpu_feature_guard.cc:182] This TensorFlow binary is optimized to use available CPU instructions in performance-critical operations.\n",
      "To enable the following instructions: AVX2 FMA, in other operations, rebuild TensorFlow with the appropriate compiler flags.\n",
      "2024-01-30 00:30:25.606533: W tensorflow/compiler/tf2tensorrt/utils/py_utils.cc:38] TF-TRT Warning: Could not find TensorRT\n"
     ]
    },
    {
     "data": {
      "application/javascript": [
       "if (!(\"Notification\" in window)) {\n",
       "    alert(\"This browser does not support desktop notifications, so the %%notify magic will not work.\");\n",
       "} else if (Notification.permission !== 'granted' && Notification.permission !== 'denied') {\n",
       "    Notification.requestPermission(function (permission) {\n",
       "        if(!('permission' in Notification)) {\n",
       "            Notification.permission = permission;\n",
       "        }\n",
       "    })\n",
       "}\n"
      ],
      "text/plain": [
       "<IPython.core.display.Javascript object>"
      ]
     },
     "metadata": {},
     "output_type": "display_data"
    }
   ],
   "source": [
    "from importlib import reload\n",
    "import os\n",
    "from time import time\n",
    "import copy\n",
    "\n",
    "import sys\n",
    "sys.path.append('/homefs/home/wongfanc/density-ratio-estimation/')\n",
    "\n",
    "import numpy as np\n",
    "import scipy as sc\n",
    "import pandas as pd\n",
    "from sklearn.decomposition import PCA\n",
    "import random\n",
    "\n",
    "import torch\n",
    "print(torch.cuda.is_available())\n",
    "\n",
    "import pprint\n",
    "import editdistance\n",
    "\n",
    "import utils\n",
    "import tdre\n",
    "import shifts\n",
    "import designdata as dd\n",
    "import calibrate as cal\n",
    "\n",
    "import flexs\n",
    "import flexs.utils.sequence_utils as s_utils\n",
    "\n",
    "import matplotlib.pyplot as plt\n",
    "import seaborn as sns\n",
    "import matplotlib\n",
    "\n",
    "import jupyternotify\n",
    "ip = get_ipython()\n",
    "ip.register_magics(jupyternotify.JupyterNotifyMagics)"
   ]
  },
  {
   "cell_type": "code",
   "execution_count": 2,
   "id": "4c2cf599",
   "metadata": {},
   "outputs": [
    {
     "name": "stderr",
     "output_type": "stream",
     "text": [
      "/homefs/home/wongfanc/miniconda3/envs/torchenv/lib/python3.11/site-packages/torch/nn/utils/weight_norm.py:30: UserWarning: torch.nn.utils.weight_norm is deprecated in favor of torch.nn.utils.parametrizations.weight_norm.\n",
      "  warnings.warn(\"torch.nn.utils.weight_norm is deprecated in favor of torch.nn.utils.parametrizations.weight_norm.\")\n"
     ]
    }
   ],
   "source": [
    "from flexs.landscapes import GPGFPBrightness, BertGFPBrightness\n",
    "gp = GPGFPBrightness(load=True, c=10)\n",
    "bert = BertGFPBrightness()"
   ]
  },
  {
   "cell_type": "code",
   "execution_count": 6,
   "id": "7e509a08",
   "metadata": {},
   "outputs": [],
   "source": [
    "n_mutation = 5\n",
    "p_mut = n_mutation / len(bert.gfp_wt_sequence)\n",
    "n_mutant = 10\n",
    "wt_mutants = [s_utils.generate_random_mutant(bert.gfp_wt_sequence, p_mut, s_utils.AAS) for _ in range(n_mutant)]"
   ]
  },
  {
   "cell_type": "code",
   "execution_count": 2,
   "id": "33dc2af0",
   "metadata": {},
   "outputs": [
    {
     "name": "stdout",
     "output_type": "stream",
     "text": [
      "1.0\n",
      "Number of Kstar elements filled: 2000 / 10000\n",
      "Number of Kstar elements filled: 4000 / 10000\n",
      "Number of Kstar elements filled: 6000 / 10000\n",
      "Number of Kstar elements filled: 8000 / 10000\n",
      "Number of Kstar elements filled: 10000 / 10000\n"
     ]
    },
    {
     "data": {
      "text/plain": [
       "array([[7.8666957 ],\n",
       "       [7.86669495],\n",
       "       [7.86669535],\n",
       "       [7.86669695],\n",
       "       [7.86669483],\n",
       "       [7.86669608],\n",
       "       [7.86669518],\n",
       "       [7.86669511],\n",
       "       [7.86669763],\n",
       "       [7.86669552]])"
      ]
     },
     "execution_count": 2,
     "metadata": {},
     "output_type": "execute_result"
    }
   ],
   "source": [
    "from flexs.landscapes import GPGFPBrightness, BertGFPBrightness\n",
    "gp = GPGFPBrightness(load=True, c=0)  # to change HPs, need to retrain\n",
    "rand_idx = np.random.choice(1000, 10)\n",
    "predtrain_n = gp.predict(gp.X_[rand_idx], print_every=2000)\n",
    "predtrain_n"
   ]
  },
  {
   "cell_type": "code",
   "execution_count": 5,
   "id": "866af280",
   "metadata": {},
   "outputs": [
    {
     "data": {
      "image/png": "[encoded data removed]",
      "text/plain": [
       "<Figure size 640x480 with 1 Axes>"
      ]
     },
     "metadata": {},
     "output_type": "display_data"
    }
   ],
   "source": [
    "# plt.hist(gp.y_.flatten(), alpha=0.5, density=True, label='train labels');\n",
    "plt.hist(predtrain_n.flatten(), alpha=0.5, density=True, label='train predictions');\n",
    "\n",
    "\n",
    "# ys = gp.get_fitness([bert.gfp_wt_sequence, bert.starts['ed_10_wt'], bert.starts['ed_18_wt']])\n",
    "# plt.axvline(ys[0], linestyle='--', label='WT')\n",
    "# plt.axvline(ys[1], linestyle='--', label='ed_10_wt')\n",
    "# plt.axvline(ys[2], linestyle='--', label='ed_18_wt')\n",
    "\n",
    "# plt.hist(ytest_n, alpha=0.5, density=True, label='{}-mutants of GFP WT'.format(n_mutation))\n",
    "\n",
    "plt.legend()\n",
    "plt.xlabel('brightness');"
   ]
  }
 ],
 "metadata": {
  "kernelspec": {
   "display_name": "Python [conda env:torchenv] *",
   "language": "python",
   "name": "conda-env-torchenv-py"
  },
  "language_info": {
   "codemirror_mode": {
    "name": "ipython",
    "version": 3
   },
   "file_extension": ".py",
   "mimetype": "text/x-python",
   "name": "python",
   "nbconvert_exporter": "python",
   "pygments_lexer": "ipython3",
   "version": "3.11.5"
  }
 },
 "nbformat": 4,
 "nbformat_minor": 5
}
