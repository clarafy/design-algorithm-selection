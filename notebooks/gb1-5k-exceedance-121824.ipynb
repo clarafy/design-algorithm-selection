{
 "cells": [
  {
   "cell_type": "code",
   "execution_count": 1,
   "id": "5bbe189c",
   "metadata": {},
   "outputs": [
    {
     "name": "stderr",
     "output_type": "stream",
     "text": [
      "2025-01-08 18:55:54.108838: E external/local_xla/xla/stream_executor/cuda/cuda_dnn.cc:9261] Unable to register cuDNN factory: Attempting to register factory for plugin cuDNN when one has already been registered\n",
      "2025-01-08 18:55:54.108869: E external/local_xla/xla/stream_executor/cuda/cuda_fft.cc:607] Unable to register cuFFT factory: Attempting to register factory for plugin cuFFT when one has already been registered\n",
      "2025-01-08 18:55:54.109908: E external/local_xla/xla/stream_executor/cuda/cuda_blas.cc:1515] Unable to register cuBLAS factory: Attempting to register factory for plugin cuBLAS when one has already been registered\n",
      "2025-01-08 18:55:54.116212: I tensorflow/core/platform/cpu_feature_guard.cc:182] This TensorFlow binary is optimized to use available CPU instructions in performance-critical operations.\n",
      "To enable the following instructions: AVX2 AVX512F FMA, in other operations, rebuild TensorFlow with the appropriate compiler flags.\n",
      "2025-01-08 18:55:55.750756: W tensorflow/compiler/tf2tensorrt/utils/py_utils.cc:38] TF-TRT Warning: Could not find TensorRT\n"
     ]
    }
   ],
   "source": [
    "import os\n",
    "import sys\n",
    "module_path = os.path.abspath(os.path.join('..'))\n",
    "if module_path not in sys.path:\n",
    "    sys.path.append(module_path)\n",
    "    \n",
    "from importlib import reload\n",
    "from time import time \n",
    "\n",
    "import numpy as np\n",
    "import scipy as sc\n",
    "import pandas as pd\n",
    "import torch\n",
    "\n",
    "import gb1\n",
    "import models\n",
    "from utils import str2onehot\n",
    "\n",
    "import matplotlib.pyplot as plt\n",
    "import matplotlib as mpl\n",
    "plt.rcParams[\"font.size\"] = 12\n",
    "\n",
    "import seaborn as sns\n",
    "sns.set_style('whitegrid')\n",
    "\n",
    "MODEL_PATH = '/data/wongfanc/gb1-models/'"
   ]
  },
  {
   "cell_type": "code",
   "execution_count": 6,
   "id": "7af0804a",
   "metadata": {},
   "outputs": [],
   "source": [
    "# load training sequences\n",
    "fname = '/data/wongfanc/gb1-models/gb1-h10-5k-030123-train-idx.npz'\n",
    "d = np.load(fname)\n",
    "train_idx = d['train_idx'][: 5000]\n",
    "\n",
    "df = pd.read_csv('../data/gb1-with-variance.csv')\n",
    "seq_n = list(df['Variants'].str.lower())\n",
    "y_n = df['log_fitness'].to_numpy()\n",
    "\n",
    "trainseq_n = [seq_n[i] for i in train_idx]\n",
    "ytrain_n = np.array([y_n[i] for i in train_idx])"
   ]
  },
  {
   "cell_type": "code",
   "execution_count": 27,
   "id": "14118c10",
   "metadata": {},
   "outputs": [
    {
     "name": "stdout",
     "output_type": "stream",
     "text": [
      "One-hot encoded sequences to shape = (5000, 4, 21) (0 sec)\n",
      "4500 training data points with 34.0 positive, 500 validation data points with 5.0 positive.\n"
     ]
    },
    {
     "name": "stderr",
     "output_type": "stream",
     "text": [
      "100%|████████████████████████████████████████████████████████| 8/8 [00:00<00:00, 44.71it/s]\n",
      "100%|█████████████████████████████████████████████████████| 71/71 [00:00<00:00, 188.40it/s]\n"
     ]
    },
    {
     "name": "stdout",
     "output_type": "stream",
     "text": [
      "Epoch 0. Train loss: 0.69. Val loss: 0.69. 0 sec.\n"
     ]
    },
    {
     "name": "stderr",
     "output_type": "stream",
     "text": [
      "100%|████████████████████████████████████████████████████████| 8/8 [00:00<00:00, 47.84it/s]\n",
      "100%|█████████████████████████████████████████████████████| 71/71 [00:00<00:00, 188.78it/s]\n"
     ]
    },
    {
     "name": "stdout",
     "output_type": "stream",
     "text": [
      "Epoch 1. Train loss: 0.65. Val loss: 0.68. 0 sec.\n"
     ]
    },
    {
     "name": "stderr",
     "output_type": "stream",
     "text": [
      "100%|████████████████████████████████████████████████████████| 8/8 [00:00<00:00, 47.33it/s]\n",
      "100%|█████████████████████████████████████████████████████| 71/71 [00:00<00:00, 177.96it/s]\n"
     ]
    },
    {
     "name": "stdout",
     "output_type": "stream",
     "text": [
      "Epoch 2. Train loss: 0.54. Val loss: 0.63. 0 sec.\n"
     ]
    },
    {
     "name": "stderr",
     "output_type": "stream",
     "text": [
      "100%|████████████████████████████████████████████████████████| 8/8 [00:00<00:00, 48.49it/s]\n",
      "100%|█████████████████████████████████████████████████████| 71/71 [00:00<00:00, 186.34it/s]\n"
     ]
    },
    {
     "name": "stdout",
     "output_type": "stream",
     "text": [
      "Epoch 3. Train loss: 0.40. Val loss: 0.52. 0 sec.\n"
     ]
    },
    {
     "name": "stderr",
     "output_type": "stream",
     "text": [
      "100%|████████████████████████████████████████████████████████| 8/8 [00:00<00:00, 48.64it/s]\n",
      "100%|█████████████████████████████████████████████████████| 71/71 [00:00<00:00, 176.48it/s]\n"
     ]
    },
    {
     "name": "stdout",
     "output_type": "stream",
     "text": [
      "Epoch 4. Train loss: 0.30. Val loss: 0.44. 0 sec.\n"
     ]
    },
    {
     "name": "stderr",
     "output_type": "stream",
     "text": [
      "100%|████████████████████████████████████████████████████████| 8/8 [00:00<00:00, 49.10it/s]\n",
      "100%|█████████████████████████████████████████████████████| 71/71 [00:00<00:00, 195.13it/s]\n"
     ]
    },
    {
     "name": "stdout",
     "output_type": "stream",
     "text": [
      "Epoch 5. Train loss: 0.21. Val loss: 0.38. 0 sec.\n"
     ]
    },
    {
     "name": "stderr",
     "output_type": "stream",
     "text": [
      "100%|████████████████████████████████████████████████████████| 8/8 [00:00<00:00, 44.80it/s]\n",
      "100%|█████████████████████████████████████████████████████| 71/71 [00:00<00:00, 182.11it/s]\n"
     ]
    },
    {
     "name": "stdout",
     "output_type": "stream",
     "text": [
      "Epoch 6. Train loss: 0.14. Val loss: 0.35. 0 sec.\n"
     ]
    },
    {
     "name": "stderr",
     "output_type": "stream",
     "text": [
      "100%|████████████████████████████████████████████████████████| 8/8 [00:00<00:00, 47.83it/s]\n",
      "100%|█████████████████████████████████████████████████████| 71/71 [00:00<00:00, 189.45it/s]\n"
     ]
    },
    {
     "name": "stdout",
     "output_type": "stream",
     "text": [
      "Epoch 7. Train loss: 0.10. Val loss: 0.33. 0 sec.\n"
     ]
    },
    {
     "name": "stderr",
     "output_type": "stream",
     "text": [
      "100%|████████████████████████████████████████████████████████| 8/8 [00:00<00:00, 41.93it/s]\n",
      "100%|█████████████████████████████████████████████████████| 71/71 [00:00<00:00, 192.10it/s]\n"
     ]
    },
    {
     "name": "stdout",
     "output_type": "stream",
     "text": [
      "Epoch 8. Train loss: 0.08. Val loss: 0.34. 0 sec.\n"
     ]
    },
    {
     "name": "stderr",
     "output_type": "stream",
     "text": [
      "100%|████████████████████████████████████████████████████████| 8/8 [00:00<00:00, 48.14it/s]\n",
      "100%|█████████████████████████████████████████████████████| 71/71 [00:00<00:00, 191.82it/s]\n"
     ]
    },
    {
     "name": "stdout",
     "output_type": "stream",
     "text": [
      "Epoch 9. Train loss: 0.07. Val loss: 0.37. 0 sec.\n"
     ]
    },
    {
     "data": {
      "image/png": "[encoded data removed]",
      "text/plain": [
       "<Figure size 400x300 with 1 Axes>"
      ]
     },
     "metadata": {},
     "output_type": "display_data"
    }
   ],
   "source": [
    "reload(models)\n",
    "exceedance_threshold = 1.1\n",
    "n_epoch = 10\n",
    "\n",
    "predictor = models.FeedForwardClassifier(\n",
    "    exceedance_threshold,\n",
    "    4,\n",
    "    gb1.AA,\n",
    "    10,\n",
    "    n_model=3,\n",
    "    device=torch.device(0)\n",
    ")\n",
    "loss_tx2 = predictor.fit(trainseq_n, ytrain_n, n_epoch=n_epoch)\n",
    "\n",
    "plt.figure(figsize=(4, 3))\n",
    "plt.plot(loss_tx2[:, 0])\n",
    "plt.plot(loss_tx2[:, 1])\n",
    "plt.xticks(range(n_epoch))\n",
    "plt.ylim([0, 0.8])\n",
    "plt.xlabel('epoch');\n",
    "plt.ylabel('weighted BCE loss');\n",
    "plt.legend(['train', 'val']);"
   ]
  },
  {
   "cell_type": "code",
   "execution_count": 19,
   "id": "c202e203",
   "metadata": {},
   "outputs": [],
   "source": [
    "# load design distributions\n",
    "temperatures = np.arange(0.2, 0.701, 0.005)  # np.arange(0.2, 0.701, 0.005) in 03.08 results\n",
    "temp2theta = {\n",
    "    round(t, 4): np.load('/data/wongfanc/gb1-models/gb1-h10-5k-t{:.4f}-030123.npz'.format(t))['theta_lxa']\n",
    "    for t in temperatures\n",
    "}\n",
    "\n",
    "# true means of design distributions\n",
    "# temp2mean = gb1.get_true_mean_label_from_theta(temp2theta, verbose=True)\n",
    "# print('Max achievable mean label: {:.4f}'.format(np.max(list(temp2mean.values()))))"
   ]
  },
  {
   "cell_type": "code",
   "execution_count": 22,
   "id": "a61fdf26",
   "metadata": {},
   "outputs": [
    {
     "data": {
      "text/plain": [
       "0.0078"
      ]
     },
     "execution_count": 22,
     "metadata": {},
     "output_type": "execute_result"
    }
   ],
   "source": [
    "# oh.\n",
    "np.mean(ytrain_n >= exceedance_threshold)"
   ]
  },
  {
   "cell_type": "code",
   "execution_count": 20,
   "id": "760c5807",
   "metadata": {},
   "outputs": [
    {
     "name": "stdout",
     "output_type": "stream",
     "text": [
      "Selection quantity is probability of exceeding 1.1.\n",
      "Range of provided target values: [0.000, 1.000].\n",
      "\n",
      "Loaded 1000000 design sequences from /data/wongfanc/gb1-results/gb1-h10-5k-030123-samples-t0.2000.npz.\n"
     ]
    },
    {
     "name": "stderr",
     "output_type": "stream",
     "text": [
      "\n",
      "KeyboardInterrupt\n",
      "\n"
     ]
    }
   ],
   "source": [
    "# 12.19.24: nope not doing this with binary classifier\n",
    "reload(models)\n",
    "reload(gb1)\n",
    "\n",
    "target_values = np.arange(0.0, 1.01, 0.02)\n",
    "n_cal = 5000\n",
    "n_trial = 500\n",
    "pp_csv_fname = '/data/wongfanc/gb1-results/gb1-pp-exceed{:.4f}-121924.csv'.format(exceedance_threshold)\n",
    "save_design_samples = False\n",
    "load_design_samples = True\n",
    "\n",
    "design_samples_fname_prefix = 'gb1-h10-5k-030123-samples'\n",
    "\n",
    "df = gb1.run_pp_exceedance_selection_experiments(\n",
    "    predictor,\n",
    "    exceedance_threshold,\n",
    "    temp2theta,\n",
    "    target_values,\n",
    "    n_cal=n_cal,\n",
    "    n_trial=n_trial,\n",
    "    pp_csv_fname=pp_csv_fname,\n",
    "    design_samples_fname_prefix=design_samples_fname_prefix,\n",
    "    load_design_samples=True\n",
    ")"
   ]
  },
  {
   "cell_type": "markdown",
   "id": "1d2ed33d",
   "metadata": {},
   "source": [
    "# 01.08.25"
   ]
  },
  {
   "cell_type": "code",
   "execution_count": null,
   "id": "158e6f62",
   "metadata": {},
   "outputs": [],
   "source": []
  }
 ],
 "metadata": {
  "kernelspec": {
   "display_name": "Python [conda env:torchenv] *",
   "language": "python",
   "name": "conda-env-torchenv-py"
  },
  "language_info": {
   "codemirror_mode": {
    "name": "ipython",
    "version": 3
   },
   "file_extension": ".py",
   "mimetype": "text/x-python",
   "name": "python",
   "nbconvert_exporter": "python",
   "pygments_lexer": "ipython3",
   "version": "3.11.5"
  }
 },
 "nbformat": 4,
 "nbformat_minor": 5
}
