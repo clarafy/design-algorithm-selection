{
 "cells": [
  {
   "cell_type": "code",
   "execution_count": 1,
   "id": "98964d81",
   "metadata": {},
   "outputs": [
    {
     "name": "stderr",
     "output_type": "stream",
     "text": [
      "2024-03-25 18:39:12.215946: E external/local_xla/xla/stream_executor/cuda/cuda_dnn.cc:9261] Unable to register cuDNN factory: Attempting to register factory for plugin cuDNN when one has already been registered\n",
      "2024-03-25 18:39:12.216003: E external/local_xla/xla/stream_executor/cuda/cuda_fft.cc:607] Unable to register cuFFT factory: Attempting to register factory for plugin cuFFT when one has already been registered\n",
      "2024-03-25 18:39:12.217305: E external/local_xla/xla/stream_executor/cuda/cuda_blas.cc:1515] Unable to register cuBLAS factory: Attempting to register factory for plugin cuBLAS when one has already been registered\n",
      "2024-03-25 18:39:12.226418: I tensorflow/core/platform/cpu_feature_guard.cc:182] This TensorFlow binary is optimized to use available CPU instructions in performance-critical operations.\n",
      "To enable the following instructions: AVX2 AVX512F FMA, in other operations, rebuild TensorFlow with the appropriate compiler flags.\n",
      "2024-03-25 18:39:14.058027: W tensorflow/compiler/tf2tensorrt/utils/py_utils.cc:38] TF-TRT Warning: Could not find TensorRT\n"
     ]
    }
   ],
   "source": [
    "import os\n",
    "import sys\n",
    "module_path = os.path.abspath(os.path.join('..'))\n",
    "if module_path not in sys.path:\n",
    "    sys.path.append(module_path)\n",
    "    \n",
    "from importlib import reload\n",
    "from time import time \n",
    "\n",
    "import numpy as np\n",
    "import scipy as sc\n",
    "import pandas as pd\n",
    "import torch\n",
    "\n",
    "import gb1\n",
    "import models\n",
    "from utils import str2onehot\n",
    "\n",
    "import matplotlib.pyplot as plt\n",
    "import matplotlib as mpl\n",
    "plt.rcParams[\"font.size\"] = 12\n",
    "\n",
    "import seaborn as sns\n",
    "sns.set_style('whitegrid')\n",
    "\n",
    "MODEL_PATH = '/homefs/home/wongfanc/density-ratio-estimation/rna-models/'"
   ]
  },
  {
   "cell_type": "markdown",
   "id": "1f52ec8e",
   "metadata": {},
   "source": [
    "# test out DRE"
   ]
  },
  {
   "cell_type": "code",
   "execution_count": null,
   "id": "21e4d221",
   "metadata": {},
   "outputs": [],
   "source": []
  },
  {
   "cell_type": "markdown",
   "id": "f91390ae",
   "metadata": {},
   "source": [
    "# load landscape and models"
   ]
  },
  {
   "cell_type": "code",
   "execution_count": null,
   "id": "9523f306",
   "metadata": {},
   "outputs": [],
   "source": []
  },
  {
   "cell_type": "markdown",
   "id": "b397c053",
   "metadata": {},
   "source": [
    "# load pre-generated designs"
   ]
  },
  {
   "cell_type": "code",
   "execution_count": null,
   "id": "5765ab0c",
   "metadata": {},
   "outputs": [],
   "source": []
  },
  {
   "cell_type": "markdown",
   "id": "d793999b",
   "metadata": {},
   "source": [
    "# run selection experiments"
   ]
  },
  {
   "cell_type": "code",
   "execution_count": null,
   "id": "5af8611b",
   "metadata": {},
   "outputs": [],
   "source": []
  }
 ],
 "metadata": {
  "kernelspec": {
   "display_name": "Python [conda env:torchenv] *",
   "language": "python",
   "name": "conda-env-torchenv-py"
  },
  "language_info": {
   "codemirror_mode": {
    "name": "ipython",
    "version": 3
   },
   "file_extension": ".py",
   "mimetype": "text/x-python",
   "name": "python",
   "nbconvert_exporter": "python",
   "pygments_lexer": "ipython3",
   "version": "3.11.5"
  }
 },
 "nbformat": 4,
 "nbformat_minor": 5
}
