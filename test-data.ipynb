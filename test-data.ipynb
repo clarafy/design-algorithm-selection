{
 "cells": [
  {
   "cell_type": "code",
   "execution_count": 1,
   "id": "33d43c37",
   "metadata": {},
   "outputs": [
    {
     "name": "stdout",
     "output_type": "stream",
     "text": [
      "True\n"
     ]
    },
    {
     "name": "stderr",
     "output_type": "stream",
     "text": [
      "2023-11-10 19:15:36.231903: I tensorflow/tsl/cuda/cudart_stub.cc:28] Could not find cuda drivers on your machine, GPU will not be used.\n",
      "2023-11-10 19:15:36.281333: E tensorflow/compiler/xla/stream_executor/cuda/cuda_dnn.cc:9342] Unable to register cuDNN factory: Attempting to register factory for plugin cuDNN when one has already been registered\n",
      "2023-11-10 19:15:36.281365: E tensorflow/compiler/xla/stream_executor/cuda/cuda_fft.cc:609] Unable to register cuFFT factory: Attempting to register factory for plugin cuFFT when one has already been registered\n",
      "2023-11-10 19:15:36.281398: E tensorflow/compiler/xla/stream_executor/cuda/cuda_blas.cc:1518] Unable to register cuBLAS factory: Attempting to register factory for plugin cuBLAS when one has already been registered\n",
      "2023-11-10 19:15:36.290683: I tensorflow/core/platform/cpu_feature_guard.cc:182] This TensorFlow binary is optimized to use available CPU instructions in performance-critical operations.\n",
      "To enable the following instructions: AVX2 FMA, in other operations, rebuild TensorFlow with the appropriate compiler flags.\n",
      "2023-11-10 19:15:56.112616: W tensorflow/compiler/tf2tensorrt/utils/py_utils.cc:38] TF-TRT Warning: Could not find TensorRT\n"
     ]
    }
   ],
   "source": [
    "from importlib import reload\n",
    "\n",
    "import numpy as np\n",
    "import scipy as sc\n",
    "import pandas as pd\n",
    "import editdistance\n",
    "\n",
    "import torch\n",
    "print(torch.cuda.is_available())\n",
    "\n",
    "import utils\n",
    "import shifts\n",
    "import viennarna_shifts as vshifts\n",
    "import tdre\n",
    "\n",
    "import flexs\n",
    "import flexs.utils.sequence_utils as s_utils\n",
    "\n",
    "import matplotlib.pyplot as plt\n",
    "import seaborn as sns\n",
    "sns.set_style('whitegrid')"
   ]
  },
  {
   "cell_type": "code",
   "execution_count": 4,
   "id": "3aeec958",
   "metadata": {},
   "outputs": [],
   "source": [
    "landscape_name = 'L14_RNA1'\n",
    "seed_idx = 1\n",
    "seq_len = 14\n",
    "n = 3\n",
    "hp_name = 'sashimi'\n",
    "hp_vals = [2, 3]\n",
    "explorer_kwarg_name2vals = {hp_name: hp_vals}\n",
    "save_fname_dir = 'test_data'\n",
    "save_fname_prefix = '{}/{}'.format(save_fname_dir, landscape_name)\n",
    "\n",
    "trainseqs_n = n * [''.join(seq_len * ['U'])]\n",
    "ytrain_n = np.zeros([n])\n",
    "calseqs_n = n * [''.join(seq_len * ['G'])]\n",
    "ycal_n = np.ones([n])\n",
    "predcal_n = 1.1 * np.ones([n])\n",
    "\n",
    "for val in hp_vals:\n",
    "    fname = '{}-seed{}-n{}-{}{}.npz'.format(save_fname_prefix, seed_idx, n, hp_name, val)\n",
    "    testseq = ''.join(seq_len * [s_utils.RNAA[val]])\n",
    "    testseqs_n = n * [testseq]\n",
    "    ytest_n = val * np.ones([n])\n",
    "    predtest_n = (val + 0.1) * np.ones([n])\n",
    "    np.savez(\n",
    "        fname,\n",
    "        yseed=0,\n",
    "        trainseqs_n=trainseqs_n,\n",
    "        ytrain_n=ytrain_n,\n",
    "        calseqs_n=calseqs_n,\n",
    "        ycal_n=ycal_n,\n",
    "        predcal_n=predcal_n,\n",
    "        testseqs_n=testseqs_n,\n",
    "        ytest_n=ytest_n,\n",
    "        predtest_n=predtest_n\n",
    "    )"
   ]
  }
 ],
 "metadata": {
  "kernelspec": {
   "display_name": "Python [conda env:torchenv] *",
   "language": "python",
   "name": "conda-env-torchenv-py"
  },
  "language_info": {
   "codemirror_mode": {
    "name": "ipython",
    "version": 3
   },
   "file_extension": ".py",
   "mimetype": "text/x-python",
   "name": "python",
   "nbconvert_exporter": "python",
   "pygments_lexer": "ipython3",
   "version": "3.11.5"
  }
 },
 "nbformat": 4,
 "nbformat_minor": 5
}
